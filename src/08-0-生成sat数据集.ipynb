{
 "cells": [
  {
   "cell_type": "code",
   "execution_count": 1,
   "id": "f497af05-5ad0-45ad-932b-3a9c43c58151",
   "metadata": {},
   "outputs": [],
   "source": [
    "import shutil\n",
    "import os\n",
    "\n",
    "def load_file_by_extension(file_dir, extension):\n",
    "    L = []\n",
    "    for root, dirs, files in os.walk(file_dir):\n",
    "        for file in files:\n",
    "            if os.path.splitext(file)[1] == f'.{extension}': \n",
    "                L.append(file) \n",
    "        return L \n",
    "\n",
    "def check_output_folder(output_folder):\n",
    "    if not os.path.isdir(output_folder):\n",
    "        print('warning: the folder{} is not exist'.format(output_folder))\n",
    "        # create srt_folder\n",
    "        os.makedirs(output_folder)\n",
    "        print('create folder', output_folder)\n",
    "        \n",
    "def dataset_copy(root_path, video_source, dir_put):\n",
    "    save_path = f'{root_path}/{video_source}/' \n",
    "    videos_source_dir  = f'{save_path}/scene_chunks/videos'\n",
    "    labels_source_dir  = f'{save_path}/scene_chunks/labels'\n",
    "    if not os.path.exists(videos_source_dir):\n",
    "        print( f\"视频源文件夹不存在: {videos_source_dir}\")\n",
    "        return\n",
    "    if not os.path.exists(labels_source_dir):\n",
    "        print( f\"视频源文件夹不存在: {labels_source_dir}\")\n",
    "        return\n",
    "\n",
    "    \n",
    "    videos_files = load_file_by_extension(videos_source_dir, 'mp4')\n",
    "    labels_files = load_file_by_extension(labels_source_dir, 'txt')\n",
    "\n",
    "    # 定义目标文件夹路径\n",
    "    videos_output_dir = os.path.join(dir_put, 'videos')\n",
    "    labels_output_dir = os.path.join(dir_put, 'labels')\n",
    "    \n",
    "    check_output_folder(videos_output_dir)\n",
    "    check_output_folder(labels_output_dir)\n",
    "\n",
    "    for i, filename in enumerate(videos_files):\n",
    "     \n",
    "        # Copy video to output directory\n",
    "        video_path = f'{videos_source_dir}/{filename}' \n",
    "        output_video_path = f'{videos_output_dir}/{video_source}_{filename}' \n",
    "        shutil.copy(video_path, output_video_path)\n",
    "         \n",
    "    for i, filename in enumerate(labels_files):\n",
    "     \n",
    "        # Copy video to output directory\n",
    "        label_path = f'{labels_source_dir}/{filename}' \n",
    "        output_lable_path = f'{labels_output_dir}/{video_source}_{filename}' \n",
    "        shutil.copy(label_path, output_lable_path)\n",
    "         \n",
    "\n",
    " "
   ]
  },
  {
   "cell_type": "code",
   "execution_count": 2,
   "id": "1b429201-eb5f-4dc3-86a7-ab8a2243e104",
   "metadata": {},
   "outputs": [
    {
     "name": "stdout",
     "output_type": "stream",
     "text": [
      "warning: the folder/mnt/ceph/develop/jiawei/lora_dataset/lora_dataset_test_tom_and_jerry/videos is not exist\n",
      "create folder /mnt/ceph/develop/jiawei/lora_dataset/lora_dataset_test_tom_and_jerry/videos\n",
      "warning: the folder/mnt/ceph/develop/jiawei/lora_dataset/lora_dataset_test_tom_and_jerry/labels is not exist\n",
      "create folder /mnt/ceph/develop/jiawei/lora_dataset/lora_dataset_test_tom_and_jerry/labels\n"
     ]
    }
   ],
   "source": [
    "import os\n",
    "\n",
    "dir_put = '/mnt/ceph/develop/jiawei/lora_dataset/lora_dataset_test_tom_and_jerry'\n",
    "root_path = '/mnt/ceph/develop/jiawei/lora_dataset/speech_data/猫和老鼠_只有人物/'\n",
    "for root, dirs, files in os.walk(root_path):\n",
    "    # 如果你只想获取下一层的子目录，可以在这里筛选\n",
    "    if root == root_path:\n",
    "        # root_dir 下的直接子目录就是 dirs 中的项\n",
    "        for dir in dirs:\n",
    "            dataset_copy(root_path,dir,dir_put)\n",
    "    "
   ]
  },
  {
   "cell_type": "code",
   "execution_count": null,
   "id": "827422b5-266e-4cb9-801b-037472b3a227",
   "metadata": {},
   "outputs": [],
   "source": []
  }
 ],
 "metadata": {
  "kernelspec": {
   "display_name": "Python 3 (ipykernel)",
   "language": "python",
   "name": "python3"
  },
  "language_info": {
   "codemirror_mode": {
    "name": "ipython",
    "version": 3
   },
   "file_extension": ".py",
   "mimetype": "text/x-python",
   "name": "python",
   "nbconvert_exporter": "python",
   "pygments_lexer": "ipython3",
   "version": "3.10.14"
  }
 },
 "nbformat": 4,
 "nbformat_minor": 5
}
