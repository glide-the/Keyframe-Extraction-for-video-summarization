{
 "cells": [
  {
   "cell_type": "code",
   "execution_count": 7,
   "id": "10369ebb-3e06-4169-8257-a14e435530d9",
   "metadata": {},
   "outputs": [],
   "source": [
    "import shutil\n",
    "import os\n",
    "import uuid\n",
    "\n",
    "def check_output_folder(output_folder):\n",
    "    if not os.path.isdir(output_folder):\n",
    "        print('warning: the folder{} is not exist'.format(output_folder))\n",
    "        # create srt_folder\n",
    "        os.makedirs(output_folder)\n",
    "        print('create folder', output_folder)\n",
    "\n",
    "def load_file_by_extension(file_dir, extension):\n",
    "    L = []\n",
    "    for root, dirs, files in os.walk(file_dir):\n",
    "        for file in files:\n",
    "            if os.path.splitext(file)[1] == f'.{extension}':  \n",
    "                L.append(file) \n",
    "        return L \n",
    "\n",
    "def video_dataset_to_hf(video_source_path, output_dir):\n",
    " \n",
    "  \n",
    "    videos_output_dir = f'{video_source_path}/videos'\n",
    "    labels_output_dir = f'{video_source_path}/labels'\n",
    "    videos_files = load_file_by_extension(videos_output_dir, 'mp4')\n",
    "    labels_files = load_file_by_extension(labels_output_dir, 'txt')\n",
    "\n",
    "    print(f\"load videos_files: {len(videos_files)}\")\n",
    "\n",
    "    prompts_file = f'{output_dir}/captions.txt'\n",
    "    videos_file = f'{output_dir}/videos.txt'\n",
    "\n",
    "    instance_videos = []\n",
    "    instance_prompts = []\n",
    "    videos_dir = f'{output_dir}/videos'\n",
    "    check_output_folder(videos_dir)\n",
    "    for i, filename in enumerate(videos_files):\n",
    "        video_path = f'{videos_output_dir}/{filename}' \n",
    "        label_filename = os.path.splitext(filename)[0] + '.txt'\n",
    "        label_path = f'{labels_output_dir}/{label_filename}'\n",
    "\n",
    "        if os.path.exists(video_path) and os.path.exists(label_path):\n",
    "            uuid4 = uuid.uuid4()\n",
    "\n",
    "            # Copy video to output directory\n",
    "            output_video_path = f'{videos_dir}/{uuid4}_{filename}' \n",
    "            shutil.copy(video_path, output_video_path)\n",
    "            instance_videos.append(f'videos/{uuid4}_{filename}')\n",
    "\n",
    "            # Read and append prompt\n",
    "            with open(label_path, \"r\", encoding=\"utf-8\") as file:\n",
    "                prompt_data = [line.strip() for line in file.readlines() if len(line.strip()) > 0]\n",
    "                instance_prompts.append(\"\".join(prompt_data))\n",
    "\n",
    "    # Write instance_videos to videos_file\n",
    "    with open(videos_file, \"a\", encoding=\"utf-8\") as vf:\n",
    "        for video in instance_videos:\n",
    "            vf.write(video + '\\n')\n",
    "\n",
    "    # Write instance_prompts to prompts_file\n",
    "    with open(prompts_file, \"a\", encoding=\"utf-8\") as pf:\n",
    "        for prompt in instance_prompts:\n",
    "            pf.write(prompt + '\\n')\n",
    "\n",
    "    print(f\"Copied {len(instance_videos)} videos and saved corresponding prompts.\")\n"
   ]
  },
  {
   "cell_type": "code",
   "execution_count": 8,
   "id": "ba061003-b18e-439a-adc8-d46d24638187",
   "metadata": {},
   "outputs": [
    {
     "name": "stdout",
     "output_type": "stream",
     "text": [
      "load videos_files: 212\n",
      "warning: the folder/mnt/ceph/develop/jiawei/lora_dataset/Dance-VideoGeneration-Dataset/videos is not exist\n",
      "create folder /mnt/ceph/develop/jiawei/lora_dataset/Dance-VideoGeneration-Dataset/videos\n",
      "Copied 212 videos and saved corresponding prompts.\n"
     ]
    }
   ],
   "source": [
    "\n",
    "dir_put = '/mnt/ceph/develop/jiawei/lora_dataset/Dance-VideoGeneration-Dataset'\n",
    "\n",
    "video_dataset_to_hf('/mnt/ceph/develop/jiawei/lora_dataset/cogvideox_blibli_lora_dataset',dir_put )"
   ]
  },
  {
   "cell_type": "code",
   "execution_count": 9,
   "id": "5d58464b-040c-4db1-a3cd-eaaababbdeb0",
   "metadata": {},
   "outputs": [
    {
     "data": {
      "text/plain": [
       "DatasetDict({\n",
       "    train: Dataset({\n",
       "        features: ['text', 'video'],\n",
       "        num_rows: 212\n",
       "    })\n",
       "})"
      ]
     },
     "execution_count": 9,
     "metadata": {},
     "output_type": "execute_result"
    }
   ],
   "source": [
    "import os\n",
    "from datasets import Dataset, DatasetDict\n",
    " \n",
    "# 定义数据集路径\n",
    "\n",
    "dataset_dir = '/mnt/ceph/develop/jiawei/lora_dataset/Dance-VideoGeneration-Dataset' \n",
    "captions_file = os.path.join(dataset_dir, 'captions.txt')\n",
    "videos_file = os.path.join(dataset_dir, 'videos.txt')\n",
    "\n",
    "# 读取 captions.txt\n",
    "with open(captions_file, 'r', encoding='utf-8') as f:\n",
    "    captions = f.readlines()\n",
    "\n",
    "# 读取 videos.txt\n",
    "with open(videos_file, 'r', encoding='utf-8') as f:\n",
    "    video_paths = f.readlines()\n",
    "\n",
    "# 清理换行符\n",
    "captions = [caption.strip() for caption in captions]\n",
    "video_paths = [video_path.strip() for video_path in video_paths]\n",
    "\n",
    "# 确保两个文件长度一致\n",
    "assert len(captions) == len(video_paths), f\"captions.txt { len(captions)} 和 {len(video_paths)}videos.txt 的行数不匹配\"\n",
    "\n",
    "# 创建数据集 (你可以根据需要添加更多的特征，例如视频路径等)\n",
    "data = {\n",
    "    'text': captions,\n",
    "    'video': video_paths\n",
    "}\n",
    "\n",
    "# 创建 Hugging Face Dataset\n",
    "dataset = Dataset.from_dict(data)\n",
    "\n",
    "# 创建 DatasetDict（假设这是训练数据集）\n",
    "dataset_dict = DatasetDict({\n",
    "    'train': dataset\n",
    "})\n",
    "dataset_dict"
   ]
  },
  {
   "cell_type": "code",
   "execution_count": null,
   "id": "2158ca69-c7d3-4fc1-9318-0ea7e058fa80",
   "metadata": {},
   "outputs": [],
   "source": []
  }
 ],
 "metadata": {
  "kernelspec": {
   "display_name": "Python 3 (ipykernel)",
   "language": "python",
   "name": "python3"
  },
  "language_info": {
   "codemirror_mode": {
    "name": "ipython",
    "version": 3
   },
   "file_extension": ".py",
   "mimetype": "text/x-python",
   "name": "python",
   "nbconvert_exporter": "python",
   "pygments_lexer": "ipython3",
   "version": "3.10.14"
  }
 },
 "nbformat": 4,
 "nbformat_minor": 5
}
