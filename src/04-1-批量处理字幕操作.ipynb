{
 "cells": [
  {
   "cell_type": "code",
   "execution_count": 2,
   "id": "097f8592-81f5-4f3c-82fe-fce9c316ddd9",
   "metadata": {},
   "outputs": [
    {
     "name": "stderr",
     "output_type": "stream",
     "text": [
      "/mnt/ceph/develop/jiawei/conda_env/keyframe_extra/lib/python3.10/site-packages/whisper/timing.py:58: NumbaDeprecationWarning: \u001b[1mThe 'nopython' keyword argument was not supplied to the 'numba.jit' decorator. The implicit default value for this argument is currently False, but it will be changed to True in Numba 0.59.0. See https://numba.readthedocs.io/en/stable/reference/deprecation.html#deprecation-of-object-mode-fall-back-behaviour-when-using-jit for details.\u001b[0m\n",
      "  def backtrace(trace: np.ndarray):\n"
     ]
    }
   ],
   "source": [
    "\n",
    "import sys\n",
    "sys.path.append('/mnt/ceph/develop/jiawei/lora_dataset/Chat-Haruhi-Suzumiya')\n",
    "\n",
    "from yuki_builder.run_whisper import Video2Subtitles"
   ]
  },
  {
   "cell_type": "code",
   "execution_count": 8,
   "id": "90ae34b5-6a89-4940-b547-168ae7b364a0",
   "metadata": {},
   "outputs": [
    {
     "name": "stdout",
     "output_type": "stream",
     "text": [
      "---loading model in your local path or downloading now---\n"
     ]
    }
   ],
   "source": [
    "\n",
    "v2s = Video2Subtitles()\n",
    "\n",
    "def to_str(root_path, dir):\n",
    "    input_file = f'{root_path}/{dir}/{dir}.mp4'\n",
    "    srt_folder = f'{root_path}/{dir}/str'\n",
    "    print('input_file:'+input_file)\n",
    "    print('srt_folder:'+srt_folder)\n",
    "    result = v2s.transcribe(input_file, srt_folder)\n",
    "    print(result)\n"
   ]
  },
  {
   "cell_type": "code",
   "execution_count": 4,
   "id": "b258da72-bea8-4cb0-8fcb-a1580cf57887",
   "metadata": {
    "scrolled": true
   },
   "outputs": [
    {
     "name": "stdout",
     "output_type": "stream",
     "text": [
      "input_file:/mnt/ceph/develop/jiawei/lora_dataset/speech_data/B站//test1/test1.mp4\n",
      "srt_folder:/mnt/ceph/develop/jiawei/lora_dataset/speech_data/B站//test1/str\n",
      "[00:01.420 --> 00:04.460] 太阳暖洋洋 天气好清凉\n",
      "[00:04.460 --> 00:07.200] 给你一个微笑 带出时日阳光\n",
      "[00:07.200 --> 00:10.240] 雨季细润润 无形化怒放\n",
      "[00:10.240 --> 00:12.760] 四处都装满爱的芬芳\n",
      "\n",
      "subtitle_file: /mnt/ceph/develop/jiawei/lora_dataset/speech_data/B站//test1/str/test1.srt \n",
      "\n",
      "/mnt/ceph/develop/jiawei/lora_dataset/speech_data/B站//test1/str/test1.srt\n",
      "input_file:/mnt/ceph/develop/jiawei/lora_dataset/speech_data/B站//test2/test2.mp4\n",
      "srt_folder:/mnt/ceph/develop/jiawei/lora_dataset/speech_data/B站//test2/str\n",
      "[00:00.000 --> 00:03.980] 谁懂啊,在CP慢展上现场吸猪了。\n",
      "[00:04.180 --> 00:07.120] 在气温上次的展台遇到了霍克猪猪。\n",
      "\n",
      "subtitle_file: /mnt/ceph/develop/jiawei/lora_dataset/speech_data/B站//test2/str/test2.srt \n",
      "\n",
      "/mnt/ceph/develop/jiawei/lora_dataset/speech_data/B站//test2/str/test2.srt\n"
     ]
    }
   ],
   "source": [
    "import os\n",
    "\n",
    "root_path = '/mnt/ceph/develop/jiawei/lora_dataset/speech_data/B站/'\n",
    "for root, dirs, files in os.walk(root_path):\n",
    "    # 如果你只想获取下一层的子目录，可以在这里筛选\n",
    "    if root == root_path:\n",
    "        # root_dir 下的直接子目录就是 dirs 中的项\n",
    "        for dir in dirs:\n",
    "            to_str(root_path,dir)\n",
    "    "
   ]
  },
  {
   "cell_type": "code",
   "execution_count": 5,
   "id": "0cdbc6a9-4775-4f26-a4a4-01b3cd05d927",
   "metadata": {},
   "outputs": [],
   "source": [
    "from yuki_builder.srt2csv import convert \n",
    "\n",
    "import pathlib\n",
    "\n",
    "\n",
    "def srt2csv(input_srt,output_folder):\n",
    "    # checking if srt_folder is a folder\n",
    "    if not os.path.isdir(output_folder):\n",
    "        print('warning: the folder{} is not exist'.format(output_folder))\n",
    "        # create srt_folder\n",
    "        os.makedirs(output_folder)\n",
    "        print('create folder', output_folder)\n",
    "     \n",
    "    if not os.path.isfile(input_srt):\n",
    "        print('Error: The input file {} is not exist'.format(input_srt))\n",
    "        return\n",
    "    \n",
    "    # checking if input_srt is a srt_file\n",
    "    if not (pathlib.Path(input_srt).suffix == '.srt' or pathlib.Path(input_srt).suffix == '.ass'):\n",
    "        print('Error: The input file {} must be a .srt or .ass file'.format(input_srt))\n",
    "        return\n",
    "    convert(input_srt, output_folder, True)\n",
    "\n",
    "\n",
    "def to_srt2csv(root_path, dir):\n",
    "    input_file = f'{root_path}/{dir}/str/{dir}.srt'\n",
    "    srt_folder = f'{root_path}/{dir}/str'\n",
    "    print('input_file:'+input_file)\n",
    "    print('srt_folder:'+srt_folder)\n",
    "    srt2csv(input_file, srt_folder)\n"
   ]
  },
  {
   "cell_type": "code",
   "execution_count": 7,
   "id": "318d477d-f1ca-4481-83c6-ac32361ba3cb",
   "metadata": {},
   "outputs": [
    {
     "name": "stdout",
     "output_type": "stream",
     "text": [
      "input_file:/mnt/ceph/develop/jiawei/lora_dataset/speech_data/B站//test1/str/test1.srt\n",
      "srt_folder:/mnt/ceph/develop/jiawei/lora_dataset/speech_data/B站//test1/str\n",
      "input_file:/mnt/ceph/develop/jiawei/lora_dataset/speech_data/B站//test2/str/test2.srt\n",
      "srt_folder:/mnt/ceph/develop/jiawei/lora_dataset/speech_data/B站//test2/str\n"
     ]
    }
   ],
   "source": [
    "import os\n",
    "\n",
    "root_path = '/mnt/ceph/develop/jiawei/lora_dataset/speech_data/B站/'\n",
    "for root, dirs, files in os.walk(root_path):\n",
    "    # 如果你只想获取下一层的子目录，可以在这里筛选\n",
    "    if root == root_path:\n",
    "        # root_dir 下的直接子目录就是 dirs 中的项\n",
    "        for dir in dirs:\n",
    "            to_srt2csv(root_path,dir)\n",
    "    "
   ]
  },
  {
   "cell_type": "code",
   "execution_count": null,
   "id": "00c17569-a164-4bea-b60b-013874de34cf",
   "metadata": {},
   "outputs": [],
   "source": []
  }
 ],
 "metadata": {
  "kernelspec": {
   "display_name": "Python 3 (ipykernel)",
   "language": "python",
   "name": "python3"
  },
  "language_info": {
   "codemirror_mode": {
    "name": "ipython",
    "version": 3
   },
   "file_extension": ".py",
   "mimetype": "text/x-python",
   "name": "python",
   "nbconvert_exporter": "python",
   "pygments_lexer": "ipython3",
   "version": "3.10.14"
  }
 },
 "nbformat": 4,
 "nbformat_minor": 5
}
