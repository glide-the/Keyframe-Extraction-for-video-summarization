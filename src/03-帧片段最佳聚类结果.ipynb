{
 "cells": [
  {
   "cell_type": "code",
   "execution_count": 1,
   "id": "8112c2fc-295a-40c1-805b-423a7934041e",
   "metadata": {},
   "outputs": [],
   "source": [
    "import sys\n",
    "sys.path.append('/mnt/ceph/develop/jiawei/lora_dataset/Keyframe-Extraction-for-video-summarization/src')\n",
    "\n",
    "from extraction.Keyframe_extraction import scen_keyframe_extraction"
   ]
  },
  {
   "cell_type": "code",
   "execution_count": 2,
   "id": "4fe780dc-4d19-4635-9969-7bea7a1cfb87",
   "metadata": {},
   "outputs": [],
   "source": [
    "def k_means_keyframe(root_path,video_source):\n",
    "    scenes_path=f'{root_path}/{video_source}/{video_source}.mp4.scenes.txt'\n",
    "    features_path=f'{root_path}/{video_source}/keyframe-features/features.pkl'\n",
    "    video_path=f'{root_path}/{video_source}/{video_source}.mp4'\n",
    "    save_path = f'{root_path}/{video_source}/'\n",
    "    folder_path=f'{video_source}-features-result-cuda'\n",
    "    print(f\"scenes_path:{scenes_path}\")\n",
    "    print(f\"features_path:{features_path}\")\n",
    "    print(f\"video_path:{video_path}\")\n",
    "    print(f\"save_path:{save_path}\")\n",
    "    print(f\"folder_path:{folder_path}\") \n",
    "    \n",
    "    \n",
    "    scen_keyframe_extraction(scenes_path=scenes_path,\n",
    "                            features_path=features_path,\n",
    "                            video_path=video_path,\n",
    "                            save_path=save_path,\n",
    "                            folder_path=folder_path)\n"
   ]
  },
  {
   "cell_type": "code",
   "execution_count": 3,
   "id": "d90334ac-b33c-406f-8aad-aadd13ea028b",
   "metadata": {
    "scrolled": true
   },
   "outputs": [
    {
     "name": "stdout",
     "output_type": "stream",
     "text": [
      "scenes_path:/mnt/ceph/develop/jiawei/lora_dataset/speech_data/B站/test_1/test_1.mp4.scenes.txt\n",
      "features_path:/mnt/ceph/develop/jiawei/lora_dataset/speech_data/B站/test_1/keyframe-features/features.pkl\n",
      "video_path:/mnt/ceph/develop/jiawei/lora_dataset/speech_data/B站/test_1/test_1.mp4\n",
      "save_path:/mnt/ceph/develop/jiawei/lora_dataset/speech_data/B站/test_1/\n",
      "folder_path:test_1-features-result-cuda\n",
      "0 65\n",
      "\n",
      "['0', '65']\n",
      "66 133\n",
      "\n",
      "['66', '133']\n",
      "134 197\n",
      "\n",
      "['134', '197']\n",
      "198 270\n",
      "\n",
      "['198', '270']\n",
      "271 346\n",
      "\n",
      "['271', '346']\n",
      "347 410\n",
      "\n",
      "['347', '410']\n",
      "411 472\n",
      "\n",
      "['411', '472']\n",
      "473 520\n",
      "\n",
      "['473', '520']\n",
      "521 591\n",
      "\n",
      "['521', '591']\n",
      "592 722\n",
      "\n",
      "['592', '722']\n",
      "723 757\n",
      "\n",
      "['723', '757']\n",
      "758 992\n",
      "\n",
      "['758', '992']\n",
      "993 1175\n",
      "\n",
      "['993', '1175']\n",
      "1176 1334\n",
      "\n",
      "['1176', '1334']\n",
      "1335 1365\n",
      "\n",
      "['1335', '1365']\n",
      "1366 1690\n",
      "\n",
      "['1366', '1690']\n",
      "1691 1696\n",
      "\n",
      "['1691', '1696']\n",
      "1697 1758\n",
      "\n",
      "['1697', '1758']\n",
      "1759 1959\n",
      "\n",
      "['1759', '1959']\n",
      "1960 2053\n",
      "\n",
      "['1960', '2053']\n",
      "2054 2183\n",
      "\n",
      "['2054', '2183']\n",
      "2184 2389\n",
      "\n",
      "['2184', '2389']\n",
      "2390 2567\n",
      "\n",
      "['2390', '2567']\n",
      "2568 2686\n",
      "\n",
      "['2568', '2686']\n",
      "2687 2865\n",
      "\n",
      "['2687', '2865']\n",
      "2866 2915\n",
      "\n",
      "['2866', '2915']\n",
      "2916 3098\n",
      "\n",
      "['2916', '3098']\n",
      "3099 3106\n",
      "\n",
      "['3099', '3106']\n",
      "3107 3226\n",
      "\n",
      "['3107', '3226']\n",
      "3227 3351\n",
      "\n",
      "['3227', '3351']\n",
      "3352 3364\n",
      "\n",
      "['3352', '3364']\n",
      "3365 3482\n",
      "\n",
      "['3365', '3482']\n",
      "3483 3576\n",
      "\n",
      "['3483', '3576']\n",
      "3577 3684\n",
      "\n",
      "['3577', '3684']\n",
      "3685 3782\n",
      "\n",
      "['3685', '3782']\n",
      "3783 3894\n",
      "\n",
      "['3783', '3894']\n",
      "3895 4010\n",
      "\n",
      "['3895', '4010']\n",
      "4011 4021\n",
      "\n",
      "['4011', '4021']\n",
      "4022 4104\n",
      "\n",
      "['4022', '4104']\n",
      "4105 4151\n",
      "\n",
      "['4105', '4151']\n",
      "4152 4225\n",
      "\n",
      "['4152', '4225']\n",
      "4226 4284\n",
      "\n",
      "['4226', '4284']\n",
      "4285 4294\n",
      "\n",
      "['4285', '4294']\n",
      "4295 4419\n",
      "\n",
      "['4295', '4419']\n",
      "4420 4425\n",
      "\n",
      "['4420', '4425']\n",
      "4426 4566\n",
      "\n",
      "['4426', '4566']\n",
      "4567 4653\n",
      "\n",
      "['4567', '4653']\n",
      "4654 4714\n",
      "\n",
      "['4654', '4714']\n",
      "4715 4772\n",
      "\n",
      "['4715', '4772']\n",
      "4773 4827\n",
      "\n",
      "['4773', '4827']\n",
      "4828 4883\n",
      "\n",
      "['4828', '4883']\n",
      "4884 4930\n",
      "\n",
      "['4884', '4930']\n",
      "4931 4970\n",
      "\n",
      "['4931', '4970']\n",
      "4971 5009\n",
      "\n",
      "['4971', '5009']\n",
      "5010 5052\n",
      "\n",
      "['5010', '5052']\n",
      "5053 5093\n",
      "\n",
      "['5053', '5093']\n",
      "5094 5226\n",
      "\n",
      "['5094', '5226']\n",
      "5227 5294\n",
      "\n",
      "['5227', '5294']\n",
      "5295 5377\n",
      "\n",
      "['5295', '5377']\n",
      "(5378, 768)\n",
      "0 65\n",
      "(65, 768)\n",
      "8\n",
      "In the process of initializing the center\n"
     ]
    },
    {
     "name": "stderr",
     "output_type": "stream",
     "text": [
      "kmeans_init 8: 0, 65 - sse_min: 44.420936584472656,  sse: 44.420936584472656 - center[0].shape: torch.Size([768]), device: cuda:0: 100%|█| 65/6\n",
      "kmeans_init 8: 1, 65 - sse_min: 13.577487707138062,  sse: 13.577487707138062 - center[0].shape: torch.Size([768]), device: cuda:0: 100%|█| 65/6\n",
      "kmeans_init 8: 2, 65 - sse_min: 9.485660806298256,  sse: 9.485660806298256 - center[0].shape: torch.Size([768]), device: cuda:0: 100%|█| 65/65 \n",
      "100%|████████████████████████████████████████████████████████████████████████████████████████████████████████| 65/65 [00:00<00:00, 1612.14it/s]\n",
      "100%|████████████████████████████████████████████████████████████████████████████████████████████████████████| 65/65 [00:00<00:00, 1366.76it/s]\n",
      "100%|████████████████████████████████████████████████████████████████████████████████████████████████████████| 65/65 [00:00<00:00, 1269.14it/s]\n",
      "100%|████████████████████████████████████████████████████████████████████████████████████████████████████████| 65/65 [00:00<00:00, 1159.32it/s]\n",
      "100%|████████████████████████████████████████████████████████████████████████████████████████████████████████| 65/65 [00:00<00:00, 1076.56it/s]\n"
     ]
    },
    {
     "name": "stdout",
     "output_type": "stream",
     "text": [
      "(8, 768)\n",
      "best_k:3\n",
      "best_clusters:[2 2 2 1 0 0 0 0 0 0 0 0 0 0 1 0 0 0 0 0 0 0 0 0 0 1 0 0 0 0 0 0 0 0 0 0 1\n",
      " 0 0 0 0 0 0 0 0 0 0 1 0 0 0 0 0 0 0 0 0 0 1 0 0 0 0 0 0]\n",
      "best_centers:(Length: 3)\n",
      "best_avg_sc:0.7503164382358373\n",
      "best_center_index:[43, 3, 0]\n",
      "0 0.9999136 3\n",
      "[3, 43]\n",
      "66 133\n",
      "(67, 768)\n",
      "8\n",
      "In the process of initializing the center\n"
     ]
    },
    {
     "name": "stderr",
     "output_type": "stream",
     "text": [
      "kmeans_init 8: 0, 67 - sse_min: 18.341773986816406,  sse: 18.341773986816406 - center[0].shape: torch.Size([768]), device: cuda:0: 100%|█| 67/6\n",
      "kmeans_init 8: 1, 67 - sse_min: 17.06085968017578,  sse: 17.06085968017578 - center[0].shape: torch.Size([768]), device: cuda:0: 100%|█| 67/67 \n",
      "kmeans_init 8: 2, 67 - sse_min: 13.011493176221848,  sse: 13.011493176221848 - center[0].shape: torch.Size([768]), device: cuda:0: 100%|█| 67/6\n",
      "kmeans_init 8: 3, 67 - sse_min: 11.454274386167526,  sse: 11.454274386167526 - center[0].shape: torch.Size([768]), device: cuda:0: 100%|█| 67/6\n",
      "kmeans_init 8: 4, 67 - sse_min: 10.531733244657516,  sse: 10.531733244657516 - center[0].shape: torch.Size([768]), device: cuda:0: 100%|█| 67/6\n",
      "kmeans_init 8: 5, 67 - sse_min: 9.823122531175613,  sse: 9.823122531175613 - center[0].shape: torch.Size([768]), device: cuda:0: 100%|█| 67/67 \n",
      "kmeans_init 8: 6, 67 - sse_min: 9.13427272439003,  sse: 9.13427272439003 - center[0].shape: torch.Size([768]), device: cuda:0: 100%|█| 67/67 [0\n",
      "kmeans_init 8: 7, 67 - sse_min: 8.466224610805511,  sse: 8.466224610805511 - center[0].shape: torch.Size([768]), device: cuda:0: 100%|█| 67/67 \n"
     ]
    },
    {
     "name": "stdout",
     "output_type": "stream",
     "text": [
      "(8, 768)\n",
      "best_k:3\n",
      "best_clusters:[0 0 0 1 0 0 0 0 0 0 0 0 0 0 1 0 0 0 0 0 0 0 0 0 0 1 0 0 0 0 0 0 0 0 0 0 1\n",
      " 0 0 0 0 0 0 0 0 0 0 2 1 0 0 0 0 0 0 0 0 0 0 1 0 0 0 0 0 0 0]\n",
      "best_centers:(Length: 3)\n",
      "best_avg_sc:0.6592850156072486\n",
      "best_center_index:[1, 14, 47]\n",
      "80 1.0000001 67\n",
      "113 1.0000002 67\n",
      "[67]\n",
      "134 197\n",
      "(63, 768)\n",
      "7\n",
      "In the process of initializing the center\n"
     ]
    },
    {
     "name": "stderr",
     "output_type": "stream",
     "text": [
      "kmeans_init 7: 0, 63 - sse_min: 20.718067169189453,  sse: 20.718067169189453 - center[0].shape: torch.Size([768]), device: cuda:0: 100%|█| 63/6\n",
      "kmeans_init 7: 1, 63 - sse_min: 15.336652040481567,  sse: 15.336652040481567 - center[0].shape: torch.Size([768]), device: cuda:0: 100%|█| 63/6\n",
      "kmeans_init 7: 2, 63 - sse_min: 11.283795833587646,  sse: 11.283795833587646 - center[0].shape: torch.Size([768]), device: cuda:0: 100%|█| 63/6\n",
      "kmeans_init 7: 3, 63 - sse_min: 10.098634541034698,  sse: 10.098634541034698 - center[0].shape: torch.Size([768]), device: cuda:0: 100%|█| 63/6\n",
      "kmeans_init 7: 4, 63 - sse_min: 9.04454094171524,  sse: 9.04454094171524 - center[0].shape: torch.Size([768]), device: cuda:0: 100%|█| 63/63 [0\n",
      "kmeans_init 7: 5, 63 - sse_min: 8.605766922235489,  sse: 8.605766922235489 - center[0].shape: torch.Size([768]), device: cuda:0: 100%|█| 63/63 \n",
      "kmeans_init 7: 6, 63 - sse_min: 7.785760909318924,  sse: 7.785760909318924 - center[0].shape: torch.Size([768]), device: cuda:0: 100%|█| 63/63 \n"
     ]
    },
    {
     "name": "stdout",
     "output_type": "stream",
     "text": [
      "(7, 768)\n",
      "best_k:2\n",
      "best_clusters:[0 0 1 0 0 0 0 0 0 0 0 0 0 1 0 0 0 0 0 0 0 0 0 0 1 0 0 0 0 0 0 0 0 0 0 1 0\n",
      " 0 0 0 0 0 0 0 0 0 1 0 0 0 0 0 0 0 0 0 0 1 0 0 0 0 0]\n",
      "best_centers:(Length: 2)\n",
      "best_avg_sc:0.6664661835974713\n",
      "best_center_index:[38, 24]\n",
      "158 0.9737608 172\n",
      "[172]\n",
      "198 270\n",
      "(72, 768)\n",
      "8\n",
      "In the process of initializing the center\n"
     ]
    },
    {
     "name": "stderr",
     "output_type": "stream",
     "text": [
      "kmeans_init 8: 0, 72 - sse_min: 28.965682983398438,  sse: 28.965682983398438 - center[0].shape: torch.Size([768]), device: cuda:0: 100%|█| 72/7\n",
      "kmeans_init 8: 1, 72 - sse_min: 14.066776275634766,  sse: 14.066776275634766 - center[0].shape: torch.Size([768]), device: cuda:0: 100%|█| 72/7\n",
      "kmeans_init 8: 2, 72 - sse_min: 9.176448047161102,  sse: 9.176448047161102 - center[0].shape: torch.Size([768]), device: cuda:0: 100%|█| 72/72 \n",
      "kmeans_init 8: 3, 72 - sse_min: 8.522934317588806,  sse: 8.522934317588806 - center[0].shape: torch.Size([768]), device: cuda:0: 100%|█| 72/72 \n",
      "kmeans_init 8: 4, 72 - sse_min: 7.640019655227661,  sse: 7.640019655227661 - center[0].shape: torch.Size([768]), device: cuda:0: 100%|█| 72/72 \n",
      "kmeans_init 8: 5, 72 - sse_min: 6.804591178894043,  sse: 6.804591178894043 - center[0].shape: torch.Size([768]), device: cuda:0: 100%|█| 72/72 \n",
      "kmeans_init 8: 6, 72 - sse_min: 6.106278643012047,  sse: 6.106278643012047 - center[0].shape: torch.Size([768]), device: cuda:0: 100%|█| 72/72 \n",
      "kmeans_init 8: 7, 72 - sse_min: 5.590690836310387,  sse: 5.590690836310387 - center[0].shape: torch.Size([768]), device: cuda:0: 100%|█| 72/72 \n"
     ]
    },
    {
     "name": "stdout",
     "output_type": "stream",
     "text": [
      "(8, 768)\n",
      "best_k:2\n",
      "best_clusters:[0 0 0 0 1 0 0 0 0 0 0 0 0 0 0 1 0 0 0 0 0 0 0 0 0 0 1 1 0 0 0 0 0 0 0 0 0\n",
      " 0 1 0 0 0 0 0 0 0 0 0 0 1 0 0 0 0 0 0 0 0 0 0 1 0 0 0 0 0 0 0 0 0 0 1]\n",
      "best_centers:(Length: 2)\n",
      "best_avg_sc:0.7266082154408517\n",
      "best_center_index:[45, 71]\n",
      "[243, 269]\n",
      "271 346\n",
      "(75, 768)\n",
      "8\n",
      "In the process of initializing the center\n"
     ]
    },
    {
     "name": "stderr",
     "output_type": "stream",
     "text": [
      "kmeans_init 8: 0, 75 - sse_min: 20.911300659179688,  sse: 20.911300659179688 - center[0].shape: torch.Size([768]), device: cuda:0: 100%|█| 75/7\n",
      "kmeans_init 8: 1, 75 - sse_min: 16.095884323120117,  sse: 16.095884323120117 - center[0].shape: torch.Size([768]), device: cuda:0: 100%|█| 75/7\n",
      "kmeans_init 8: 2, 75 - sse_min: 11.732133388519287,  sse: 11.732133388519287 - center[0].shape: torch.Size([768]), device: cuda:0: 100%|█| 75/7\n",
      "kmeans_init 8: 3, 75 - sse_min: 10.360908031463623,  sse: 10.360908031463623 - center[0].shape: torch.Size([768]), device: cuda:0: 100%|█| 75/7\n",
      "kmeans_init 8: 4, 75 - sse_min: 9.989503737539053,  sse: 9.989503737539053 - center[0].shape: torch.Size([768]), device: cuda:0: 100%|█| 75/75 \n",
      "kmeans_init 8: 5, 75 - sse_min: 8.889931675046682,  sse: 8.889931675046682 - center[0].shape: torch.Size([768]), device: cuda:0: 100%|█| 75/75 \n",
      "kmeans_init 8: 6, 75 - sse_min: 8.168080862611532,  sse: 8.168080862611532 - center[0].shape: torch.Size([768]), device: cuda:0: 100%|█| 75/75 \n",
      "kmeans_init 8: 7, 75 - sse_min: 7.53487890586257,  sse: 7.53487890586257 - center[0].shape: torch.Size([768]), device: cuda:0: 100%|█| 75/75 [0\n"
     ]
    },
    {
     "name": "stdout",
     "output_type": "stream",
     "text": [
      "(8, 768)\n",
      "best_k:3\n",
      "best_clusters:[0 0 0 0 0 0 0 0 0 1 0 0 0 0 0 0 0 0 0 0 1 0 0 0 0 0 0 0 0 0 0 1 0 0 0 0 0\n",
      " 0 0 0 0 0 1 0 0 0 0 0 0 0 0 0 0 1 0 0 0 0 0 0 0 0 0 0 2 1 0 0 0 0 0 0 0 0\n",
      " 0]\n",
      "best_centers:(Length: 3)\n",
      "best_avg_sc:0.7459400202119613\n",
      "best_center_index:[22, 31, 64]\n",
      "302 0.98216593 293\n",
      "335 0.97254467 293\n",
      "[293]\n",
      "347 410\n",
      "(63, 768)\n",
      "7\n",
      "In the process of initializing the center\n"
     ]
    },
    {
     "name": "stderr",
     "output_type": "stream",
     "text": [
      "kmeans_init 7: 0, 63 - sse_min: 42.70140838623047,  sse: 42.70140838623047 - center[0].shape: torch.Size([768]), device: cuda:0: 100%|█| 63/63 \n",
      "kmeans_init 7: 1, 63 - sse_min: 22.29978695139289,  sse: 22.29978695139289 - center[0].shape: torch.Size([768]), device: cuda:0: 100%|█| 63/63 \n",
      "kmeans_init 7: 2, 63 - sse_min: 6.349719908088446,  sse: 6.349719908088446 - center[0].shape: torch.Size([768]), device: cuda:0: 100%|█| 63/63 \n",
      "kmeans_init 7: 3, 63 - sse_min: 4.629521109163761,  sse: 4.629521109163761 - center[0].shape: torch.Size([768]), device: cuda:0: 100%|█| 63/63 \n",
      "100%|████████████████████████████████████████████████████████████████████████████████████████████████████████| 63/63 [00:00<00:00, 1454.74it/s]\n",
      "100%|████████████████████████████████████████████████████████████████████████████████████████████████████████| 63/63 [00:00<00:00, 1298.26it/s]\n",
      "100%|████████████████████████████████████████████████████████████████████████████████████████████████████████| 63/63 [00:00<00:00, 1183.01it/s]\n"
     ]
    },
    {
     "name": "stdout",
     "output_type": "stream",
     "text": [
      "(7, 768)\n",
      "best_k:5\n",
      "best_clusters:[3 1 1 1 1 1 1 1 1 1 1 3 1 1 1 1 1 1 1 1 1 1 3 1 1 1 1 1 0 0 0 0 0 2 0 0 0\n",
      " 0 0 0 0 0 0 0 2 0 0 0 0 0 0 0 0 0 0 2 0 0 0 0 0 0 4]\n",
      "best_centers:(Length: 5)\n",
      "best_avg_sc:0.8531547663917076\n",
      "best_center_index:[29, 13, 44, 0, 62]\n",
      "[347]\n",
      "411 472\n",
      "(61, 768)\n",
      "7\n",
      "In the process of initializing the center\n"
     ]
    },
    {
     "name": "stderr",
     "output_type": "stream",
     "text": [
      "kmeans_init 7: 0, 61 - sse_min: 13.847148895263672,  sse: 13.847148895263672 - center[0].shape: torch.Size([768]), device: cuda:0: 100%|█| 61/6\n",
      "kmeans_init 7: 1, 61 - sse_min: 11.018070936203003,  sse: 11.018070936203003 - center[0].shape: torch.Size([768]), device: cuda:0: 100%|█| 61/6\n",
      "kmeans_init 7: 2, 61 - sse_min: 7.5592687129974365,  sse: 7.5592687129974365 - center[0].shape: torch.Size([768]), device: cuda:0: 100%|█| 61/6\n",
      "kmeans_init 7: 3, 61 - sse_min: 7.134494930505753,  sse: 7.134494930505753 - center[0].shape: torch.Size([768]), device: cuda:0: 100%|█| 61/61 \n",
      "kmeans_init 7: 4, 61 - sse_min: 6.609701782464981,  sse: 6.609701782464981 - center[0].shape: torch.Size([768]), device: cuda:0: 100%|█| 61/61 \n",
      "kmeans_init 7: 5, 61 - sse_min: 6.1066247331909835,  sse: 6.1066247331909835 - center[0].shape: torch.Size([768]), device: cuda:0: 100%|█| 61/6\n",
      "kmeans_init 7: 6, 61 - sse_min: 5.616022955160588,  sse: 5.616022955160588 - center[0].shape: torch.Size([768]), device: cuda:0: 100%|█| 61/61 \n"
     ]
    },
    {
     "name": "stdout",
     "output_type": "stream",
     "text": [
      "(7, 768)\n",
      "best_k:2\n",
      "best_clusters:[0 0 1 0 0 0 0 0 0 0 0 0 0 1 0 0 0 0 0 0 0 0 0 0 1 0 0 0 0 0 0 0 0 0 0 1 1\n",
      " 0 0 0 0 0 0 0 0 0 0 1 0 0 0 0 0 0 0 0 0 0 1 0 0]\n",
      "best_centers:(Length: 2)\n",
      "best_avg_sc:0.7600441283057999\n",
      "best_center_index:[29, 2]\n",
      "[413, 440]\n",
      "473 520\n",
      "(47, 768)\n",
      "6\n",
      "In the process of initializing the center\n"
     ]
    },
    {
     "name": "stderr",
     "output_type": "stream",
     "text": [
      "kmeans_init 6: 0, 47 - sse_min: 8.74583625793457,  sse: 8.74583625793457 - center[0].shape: torch.Size([768]), device: cuda:0: 100%|█| 47/47 [0\n",
      "kmeans_init 6: 1, 47 - sse_min: 7.15504789352417,  sse: 7.15504789352417 - center[0].shape: torch.Size([768]), device: cuda:0: 100%|█| 47/47 [0\n",
      "kmeans_init 6: 2, 47 - sse_min: 4.75093337893486,  sse: 4.75093337893486 - center[0].shape: torch.Size([768]), device: cuda:0: 100%|█| 47/47 [0\n",
      "kmeans_init 6: 3, 47 - sse_min: 4.3956858813762665,  sse: 4.3956858813762665 - center[0].shape: torch.Size([768]), device: cuda:0: 100%|█| 47/4\n",
      "kmeans_init 6: 4, 47 - sse_min: 3.7542509138584137,  sse: 3.7542509138584137 - center[0].shape: torch.Size([768]), device: cuda:0: 100%|█| 47/4\n",
      "kmeans_init 6: 5, 47 - sse_min: 3.4416299015283585,  sse: 3.4416299015283585 - center[0].shape: torch.Size([768]), device: cuda:0: 100%|█| 47/4\n"
     ]
    },
    {
     "name": "stdout",
     "output_type": "stream",
     "text": [
      "(6, 768)\n",
      "best_k:2\n",
      "best_clusters:[0 0 0 0 0 0 0 1 0 0 0 0 0 0 0 0 0 0 1 0 0 0 0 0 0 0 0 0 0 1 0 0 0 0 0 0 0\n",
      " 0 0 0 1 0 0 0 0 0 0]\n",
      "best_centers:(Length: 2)\n",
      "best_avg_sc:0.7925328500626794\n",
      "best_center_index:[24, 18]\n",
      "491 0.9996255 497\n",
      "[497]\n",
      "521 591\n",
      "(70, 768)\n",
      "8\n",
      "In the process of initializing the center\n"
     ]
    },
    {
     "name": "stderr",
     "output_type": "stream",
     "text": [
      "kmeans_init 8: 0, 70 - sse_min: 24.102447509765625,  sse: 24.102447509765625 - center[0].shape: torch.Size([768]), device: cuda:0: 100%|█| 70/7\n",
      "kmeans_init 8: 1, 70 - sse_min: 20.249914169311523,  sse: 20.249914169311523 - center[0].shape: torch.Size([768]), device: cuda:0: 100%|█| 70/7\n",
      "kmeans_init 8: 2, 70 - sse_min: 12.14580324292183,  sse: 12.14580324292183 - center[0].shape: torch.Size([768]), device: cuda:0: 100%|█| 70/70 \n",
      "kmeans_init 8: 3, 70 - sse_min: 8.917012006044388,  sse: 8.917012006044388 - center[0].shape: torch.Size([768]), device: cuda:0: 100%|█| 70/70 \n",
      "kmeans_init 8: 4, 70 - sse_min: 7.6756216287612915,  sse: 7.6756216287612915 - center[0].shape: torch.Size([768]), device: cuda:0: 100%|█| 70/7\n",
      "kmeans_init 8: 5, 70 - sse_min: 7.450870215892792,  sse: 7.450870215892792 - center[0].shape: torch.Size([768]), device: cuda:0: 100%|█| 70/70 \n",
      "kmeans_init 8: 6, 70 - sse_min: 6.893638491630554,  sse: 6.893638491630554 - center[0].shape: torch.Size([768]), device: cuda:0: 100%|█| 70/70 \n",
      "kmeans_init 8: 7, 70 - sse_min: 6.425489395856857,  sse: 6.425489395856857 - center[0].shape: torch.Size([768]), device: cuda:0: 100%|█| 70/70 \n"
     ]
    },
    {
     "name": "stdout",
     "output_type": "stream",
     "text": [
      "(8, 768)\n",
      "best_k:5\n",
      "best_clusters:[0 0 0 2 0 0 0 0 0 0 0 0 0 0 2 0 0 0 0 0 0 0 0 0 0 2 0 0 0 0 0 0 0 0 0 0 4\n",
      " 2 0 0 0 3 3 3 3 3 1 1 2 1 1 1 1 1 1 1 1 1 1 2 1 1 1 1 1 1 1 1 1 1]\n",
      "best_centers:(Length: 5)\n",
      "best_avg_sc:0.6509825705218619\n",
      "best_center_index:[21, 54, 14, 44, 36]\n",
      "575 0.94364744 542\n",
      "535 0.9946158 542\n",
      "565 0.9558357 542\n",
      "557 0.9550863 542\n",
      "[542]\n",
      "592 722\n",
      "(130, 768)\n",
      "11\n",
      "In the process of initializing the center\n"
     ]
    },
    {
     "name": "stderr",
     "output_type": "stream",
     "text": [
      "kmeans_init 11: 0, 130 - sse_min: 26.33183479309082,  sse: 26.33183479309082 - center[0].shape: torch.Size([768]), device: cuda:0: 100%|█| 130/\n",
      "kmeans_init 11: 1, 130 - sse_min: 22.841632843017578,  sse: 22.841632843017578 - center[0].shape: torch.Size([768]), device: cuda:0: 100%|█| 13\n",
      "kmeans_init 11: 2, 130 - sse_min: 17.632384061813354,  sse: 17.632384061813354 - center[0].shape: torch.Size([768]), device: cuda:0: 100%|█| 13\n",
      "kmeans_init 11: 3, 130 - sse_min: 16.50284242630005,  sse: 16.50284242630005 - center[0].shape: torch.Size([768]), device: cuda:0: 100%|█| 130/\n",
      "kmeans_init 11: 4, 130 - sse_min: 15.422635704278946,  sse: 15.422635704278946 - center[0].shape: torch.Size([768]), device: cuda:0: 100%|█| 13\n",
      "kmeans_init 11: 5, 130 - sse_min: 14.976419657468796,  sse: 14.976419657468796 - center[0].shape: torch.Size([768]), device: cuda:0: 100%|█| 13\n",
      "kmeans_init 11: 6, 130 - sse_min: 14.242167919874191,  sse: 14.242167919874191 - center[0].shape: torch.Size([768]), device: cuda:0: 100%|█| 13\n",
      "kmeans_init 11: 7, 130 - sse_min: 13.644693225622177,  sse: 13.644693225622177 - center[0].shape: torch.Size([768]), device: cuda:0: 100%|█| 13\n",
      "kmeans_init 11: 8, 130 - sse_min: 13.0615174472332,  sse: 13.0615174472332 - center[0].shape: torch.Size([768]), device: cuda:0: 100%|█| 130/13\n",
      "kmeans_init 11: 9, 130 - sse_min: 12.535649105906487,  sse: 12.535649105906487 - center[0].shape: torch.Size([768]), device: cuda:0: 100%|█| 13\n",
      "kmeans_init 11: 10, 130 - sse_min: 12.104972526431084,  sse: 12.104972526431084 - center[0].shape: torch.Size([768]), device: cuda:0: 100%|█| 1\n"
     ]
    },
    {
     "name": "stdout",
     "output_type": "stream",
     "text": [
      "(11, 768)\n",
      "best_k:3\n",
      "best_clusters:[0 0 0 0 0 0 0 0 0 0 1 0 0 0 0 0 0 0 0 0 0 1 0 0 0 0 0 0 0 0 0 0 1 0 0 0 0\n",
      " 0 0 0 0 0 0 1 0 0 0 0 0 0 0 0 0 0 1 0 0 0 0 0 0 0 0 0 0 1 0 0 0 0 0 0 0 0\n",
      " 0 0 2 1 0 0 0 0 0 0 0 0 0 0 1 0 0 0 0 0 0 0 0 0 0 1 0 0 0 0 0 0 0 0 0 0 1\n",
      " 0 0 0 0 0 0 0 0 0 0 1 0 0 0 0 0 0 0 0]\n",
      "best_centers:(Length: 3)\n",
      "best_avg_sc:0.7363731491457977\n",
      "best_center_index:[105, 99, 76]\n",
      "691 0.99482024 697\n",
      "668 0.9845954 697\n",
      "[697]\n",
      "723 757\n",
      "(34, 768)\n",
      "5\n",
      "In the process of initializing the center\n"
     ]
    },
    {
     "name": "stderr",
     "output_type": "stream",
     "text": [
      "kmeans_init 5: 0, 34 - sse_min: 5.574987411499023,  sse: 5.574987411499023 - center[0].shape: torch.Size([768]), device: cuda:0: 100%|█| 34/34 \n",
      "kmeans_init 5: 1, 34 - sse_min: 4.6530537605285645,  sse: 4.6530537605285645 - center[0].shape: torch.Size([768]), device: cuda:0: 100%|█| 34/3\n",
      "kmeans_init 5: 2, 34 - sse_min: 2.830760180950165,  sse: 2.830760180950165 - center[0].shape: torch.Size([768]), device: cuda:0: 100%|█| 34/34 \n",
      "kmeans_init 5: 3, 34 - sse_min: 2.4425206780433655,  sse: 2.4425206780433655 - center[0].shape: torch.Size([768]), device: cuda:0: 100%|█| 34/3\n",
      "kmeans_init 5: 4, 34 - sse_min: 2.1470797061920166,  sse: 2.1470797061920166 - center[0].shape: torch.Size([768]), device: cuda:0: 100%|█| 34/3\n"
     ]
    },
    {
     "name": "stdout",
     "output_type": "stream",
     "text": [
      "(5, 768)\n",
      "best_k:2\n",
      "best_clusters:[0 1 0 0 0 0 0 0 0 0 0 0 1 0 0 0 0 0 0 0 0 0 0 1 0 0 0 0 0 0 0 0 0 0]\n",
      "best_centers:(Length: 2)\n",
      "best_avg_sc:0.8481620059631144\n",
      "best_center_index:[14, 1]\n",
      "724 0.95435596 737\n",
      "[737]\n",
      "758 992\n",
      "(234, 768)\n",
      "15\n",
      "In the process of initializing the center\n"
     ]
    },
    {
     "name": "stderr",
     "output_type": "stream",
     "text": [
      "kmeans_init 15: 0, 234 - sse_min: 115.37477111816406,  sse: 115.37477111816406 - center[0].shape: torch.Size([768]), device: cuda:0: 100%|█| 23\n",
      "kmeans_init 15: 1, 234 - sse_min: 63.169281005859375,  sse: 63.169281005859375 - center[0].shape: torch.Size([768]), device: cuda:0: 100%|█| 23\n",
      "kmeans_init 15: 2, 234 - sse_min: 48.58102798461914,  sse: 48.58102798461914 - center[0].shape: torch.Size([768]), device: cuda:0: 100%|█| 234/\n",
      "kmeans_init 15: 3, 234 - sse_min: 37.94330084323883,  sse: 37.94330084323883 - center[0].shape: torch.Size([768]), device: cuda:0: 100%|█| 234/\n",
      "kmeans_init 15: 4, 234 - sse_min: 37.67958941310644,  sse: 37.67958941310644 - center[0].shape: torch.Size([768]), device: cuda:0: 100%|█| 234/\n",
      "kmeans_init 15: 5, 234 - sse_min: 33.93771246634424,  sse: 33.93771246634424 - center[0].shape: torch.Size([768]), device: cuda:0: 100%|█| 234/\n",
      "kmeans_init 15: 6, 234 - sse_min: 30.990410720929503,  sse: 30.990410720929503 - center[0].shape: torch.Size([768]), device: cuda:0: 100%|█| 23\n",
      "kmeans_init 15: 7, 234 - sse_min: 29.230271017178893,  sse: 29.230271017178893 - center[0].shape: torch.Size([768]), device: cuda:0: 100%|█| 23\n",
      "kmeans_init 15: 8, 234 - sse_min: 27.918269192799926,  sse: 27.918269192799926 - center[0].shape: torch.Size([768]), device: cuda:0: 100%|█| 23\n",
      "kmeans_init 15: 9, 234 - sse_min: 26.757407700642943,  sse: 26.757407700642943 - center[0].shape: torch.Size([768]), device: cuda:0: 100%|█| 23\n",
      "kmeans_init 15: 10, 234 - sse_min: 25.735622419044375,  sse: 25.735622419044375 - center[0].shape: torch.Size([768]), device: cuda:0: 100%|█| 2\n",
      "kmeans_init 15: 11, 234 - sse_min: 24.94368733279407,  sse: 24.94368733279407 - center[0].shape: torch.Size([768]), device: cuda:0: 100%|█| 234\n",
      "kmeans_init 15: 12, 234 - sse_min: 24.21688307635486,  sse: 24.21688307635486 - center[0].shape: torch.Size([768]), device: cuda:0: 100%|█| 234\n",
      "kmeans_init 15: 13, 234 - sse_min: 23.53304965607822,  sse: 23.53304965607822 - center[0].shape: torch.Size([768]), device: cuda:0: 100%|█| 234\n",
      "kmeans_init 15: 14, 234 - sse_min: 22.858565164729953,  sse: 22.858565164729953 - center[0].shape: torch.Size([768]), device: cuda:0: 100%|█| 2\n"
     ]
    },
    {
     "name": "stdout",
     "output_type": "stream",
     "text": [
      "(15, 768)\n",
      "best_k:4\n",
      "best_clusters:[0 0 0 0 0 0 0 0 0 0 1 0 2 2 2 2 2 2 0 0 0 3 1 0 0 0 0 0 0 0 0 0 0 1 0 0 0\n",
      " 0 0 0 0 0 0 0 1 0 0 0 0 0 0 0 0 0 0 1 0 0 0 0 0 0 0 0 0 0 1 0 0 0 0 0 0 0\n",
      " 0 0 0 1 0 0 0 0 0 0 0 0 0 0 1 0 0 0 0 0 0 0 0 0 0 1 0 0 0 0 0 0 0 0 0 0 1\n",
      " 0 0 0 0 0 0 0 0 0 0 1 0 0 0 0 0 0 0 0 0 0 3 1 0 0 0 0 0 0 0 0 0 0 1 0 0 0\n",
      " 0 0 0 0 0 0 0 1 0 0 0 0 0 0 0 0 0 0 1 0 0 0 0 0 0 0 0 0 0 1 0 0 0 0 0 0 0\n",
      " 0 0 0 1 0 0 0 0 0 0 0 0 0 0 1 0 0 0 0 0 0 0 0 0 0 1 0 0 0 0 0 0 0 0 0 0 1\n",
      " 0 0 0 0 0 0 0 0 0 0 1 0]\n",
      "best_centers:(Length: 4)\n",
      "best_avg_sc:0.5978642085358903\n",
      "best_center_index:[226, 166, 16, 21]\n",
      "779 0.9987803 774\n",
      "[774, 924, 984]\n",
      "993 1175\n",
      "(182, 768)\n",
      "13\n",
      "In the process of initializing the center\n"
     ]
    },
    {
     "name": "stderr",
     "output_type": "stream",
     "text": [
      "kmeans_init 13: 0, 182 - sse_min: 99.42153930664062,  sse: 99.42153930664062 - center[0].shape: torch.Size([768]), device: cuda:0: 100%|█| 182/\n",
      "kmeans_init 13: 1, 182 - sse_min: 51.26965141296387,  sse: 51.26965141296387 - center[0].shape: torch.Size([768]), device: cuda:0: 100%|█| 182/\n",
      "kmeans_init 13: 2, 182 - sse_min: 49.82406187057495,  sse: 49.82406187057495 - center[0].shape: torch.Size([768]), device: cuda:0: 100%|█| 182/\n",
      "kmeans_init 13: 3, 182 - sse_min: 43.70109415054321,  sse: 43.70109415054321 - center[0].shape: torch.Size([768]), device: cuda:0: 100%|█| 182/\n",
      "kmeans_init 13: 4, 182 - sse_min: 39.516366481781006,  sse: 39.516366481781006 - center[0].shape: torch.Size([768]), device: cuda:0: 100%|█| 18\n",
      "kmeans_init 13: 5, 182 - sse_min: 35.62778854370117,  sse: 35.62778854370117 - center[0].shape: torch.Size([768]), device: cuda:0: 100%|█| 182/\n",
      "kmeans_init 13: 6, 182 - sse_min: 32.2401123046875,  sse: 32.2401123046875 - center[0].shape: torch.Size([768]), device: cuda:0: 100%|█| 182/18\n",
      "kmeans_init 13: 7, 182 - sse_min: 30.275442361831665,  sse: 30.275442361831665 - center[0].shape: torch.Size([768]), device: cuda:0: 100%|█| 18\n",
      "kmeans_init 13: 8, 182 - sse_min: 28.76198720932007,  sse: 28.76198720932007 - center[0].shape: torch.Size([768]), device: cuda:0: 100%|█| 182/\n",
      "kmeans_init 13: 9, 182 - sse_min: 27.268088221549988,  sse: 27.268088221549988 - center[0].shape: torch.Size([768]), device: cuda:0: 100%|█| 18\n",
      "kmeans_init 13: 10, 182 - sse_min: 25.860104203224182,  sse: 25.860104203224182 - center[0].shape: torch.Size([768]), device: cuda:0: 100%|█| 1\n",
      "kmeans_init 13: 11, 182 - sse_min: 24.716949582099915,  sse: 24.716949582099915 - center[0].shape: torch.Size([768]), device: cuda:0: 100%|█| 1\n",
      "kmeans_init 13: 12, 182 - sse_min: 23.602547764778137,  sse: 23.602547764778137 - center[0].shape: torch.Size([768]), device: cuda:0: 100%|█| 1\n"
     ]
    },
    {
     "name": "stdout",
     "output_type": "stream",
     "text": [
      "(13, 768)\n",
      "best_k:5\n",
      "best_clusters:[1 1 1 1 1 1 1 1 4 3 1 1 1 1 1 1 1 1 1 1 3 1 1 1 1 1 1 1 1 1 1 3 1 1 1 1 1\n",
      " 1 1 1 1 1 3 1 1 1 1 1 1 1 1 1 1 3 1 1 1 1 1 1 1 1 1 1 3 1 1 1 1 1 1 1 1 1\n",
      " 1 3 0 0 0 0 0 0 0 0 0 0 3 0 0 0 0 0 0 0 0 0 0 2 0 0 0 0 0 0 0 0 0 0 2 0 0\n",
      " 0 0 0 0 0 0 0 0 4 4 2 0 0 0 0 0 0 0 0 0 0 2 0 0 0 0 0 0 0 0 0 0 2 0 0 0 0\n",
      " 0 0 0 0 0 0 2 0 0 0 0 0 0 0 0 0 0 2 0 0 0 0 0 0 0 0 0 0 2 0 0 0 3 1]\n",
      "best_centers:(Length: 5)\n",
      "best_avg_sc:0.6376118534885333\n",
      "best_center_index:[146, 36, 132, 20, 8]\n",
      "1013 0.99507254 1029\n",
      "1001 0.9925229 1029\n",
      "[1029, 1125, 1139]\n",
      "1176 1334\n",
      "(158, 768)\n",
      "12\n",
      "In the process of initializing the center\n"
     ]
    },
    {
     "name": "stderr",
     "output_type": "stream",
     "text": [
      "kmeans_init 12: 0, 158 - sse_min: 54.545589447021484,  sse: 54.545589447021484 - center[0].shape: torch.Size([768]), device: cuda:0: 100%|█| 15\n",
      "kmeans_init 12: 1, 158 - sse_min: 46.67820358276367,  sse: 46.67820358276367 - center[0].shape: torch.Size([768]), device: cuda:0: 100%|█| 158/\n",
      "kmeans_init 12: 2, 158 - sse_min: 37.226781129837036,  sse: 37.226781129837036 - center[0].shape: torch.Size([768]), device: cuda:0: 100%|█| 15\n",
      "kmeans_init 12: 3, 158 - sse_min: 30.309887170791626,  sse: 30.309887170791626 - center[0].shape: torch.Size([768]), device: cuda:0: 100%|█| 15\n",
      "kmeans_init 12: 4, 158 - sse_min: 28.521308302879333,  sse: 28.521308302879333 - center[0].shape: torch.Size([768]), device: cuda:0: 100%|█| 15\n",
      "kmeans_init 12: 5, 158 - sse_min: 25.78972351551056,  sse: 25.78972351551056 - center[0].shape: torch.Size([768]), device: cuda:0: 100%|█| 158/\n",
      "kmeans_init 12: 6, 158 - sse_min: 24.665512204170227,  sse: 24.665512204170227 - center[0].shape: torch.Size([768]), device: cuda:0: 100%|█| 15\n",
      "kmeans_init 12: 7, 158 - sse_min: 23.74478590488434,  sse: 23.74478590488434 - center[0].shape: torch.Size([768]), device: cuda:0: 100%|█| 158/\n",
      "kmeans_init 12: 8, 158 - sse_min: 23.185235127806664,  sse: 23.185235127806664 - center[0].shape: torch.Size([768]), device: cuda:0: 100%|█| 15\n",
      "kmeans_init 12: 9, 158 - sse_min: 22.481616124510765,  sse: 22.481616124510765 - center[0].shape: torch.Size([768]), device: cuda:0: 100%|█| 15\n",
      "kmeans_init 12: 10, 158 - sse_min: 21.84529286623001,  sse: 21.84529286623001 - center[0].shape: torch.Size([768]), device: cuda:0: 100%|█| 158\n",
      "kmeans_init 12: 11, 158 - sse_min: 21.21185690164566,  sse: 21.21185690164566 - center[0].shape: torch.Size([768]), device: cuda:0: 100%|█| 158\n"
     ]
    },
    {
     "name": "stdout",
     "output_type": "stream",
     "text": [
      "(12, 768)\n",
      "best_k:3\n",
      "best_clusters:[0 0 0 0 1 0 0 0 0 0 0 0 0 0 0 1 0 0 0 0 0 0 0 0 0 0 1 0 0 0 0 0 0 0 0 0 0\n",
      " 1 0 0 0 0 0 0 0 0 0 0 1 1 0 0 0 0 0 0 0 0 0 0 1 0 0 0 0 0 0 0 0 0 0 1 0 0\n",
      " 0 0 0 0 0 0 0 0 1 0 0 0 0 0 0 0 0 0 0 1 0 0 0 0 0 0 0 0 0 0 1 0 0 0 0 0 0\n",
      " 0 0 0 0 1 0 0 0 0 0 0 0 0 0 0 1 0 0 0 0 0 0 0 0 0 0 1 0 0 0 0 2 2 2 2 2 2\n",
      " 1 2 2 2 2 2 2 2 2 2]\n",
      "best_centers:(Length: 3)\n",
      "best_avg_sc:0.6341477084895485\n",
      "best_center_index:[92, 60, 145]\n",
      "1236 0.97649145 1268\n",
      "[1268, 1321]\n",
      "1335 1365\n",
      "(30, 768)\n",
      "5\n",
      "In the process of initializing the center\n"
     ]
    },
    {
     "name": "stderr",
     "output_type": "stream",
     "text": [
      "kmeans_init 5: 0, 30 - sse_min: 18.918615341186523,  sse: 18.918615341186523 - center[0].shape: torch.Size([768]), device: cuda:0: 100%|█| 30/3\n",
      "kmeans_init 5: 1, 30 - sse_min: 7.672257661819458,  sse: 7.672257661819458 - center[0].shape: torch.Size([768]), device: cuda:0: 100%|█| 30/30 \n",
      "kmeans_init 5: 2, 30 - sse_min: 6.401828467845917,  sse: 6.401828467845917 - center[0].shape: torch.Size([768]), device: cuda:0: 100%|█| 30/30 \n",
      "kmeans_init 5: 3, 30 - sse_min: 5.530287683010101,  sse: 5.530287683010101 - center[0].shape: torch.Size([768]), device: cuda:0: 100%|█| 30/30 \n",
      "kmeans_init 5: 4, 30 - sse_min: 4.816540539264679,  sse: 4.816540539264679 - center[0].shape: torch.Size([768]), device: cuda:0: 100%|█| 30/30 \n"
     ]
    },
    {
     "name": "stdout",
     "output_type": "stream",
     "text": [
      "(5, 768)\n",
      "best_k:2\n",
      "best_clusters:[1 1 0 0 0 0 0 0 0 0 0 0 1 0 0 0 0 0 0 0 0 0 0 1 0 0 0 0 0 0]\n",
      "best_centers:(Length: 2)\n",
      "best_avg_sc:0.5961733733297475\n",
      "best_center_index:[22, 12]\n",
      "[]\n",
      "1366 1690\n",
      "(324, 768)\n",
      "18\n",
      "In the process of initializing the center\n"
     ]
    },
    {
     "name": "stderr",
     "output_type": "stream",
     "text": [
      "kmeans_init 18: 0, 324 - sse_min: 143.44432067871094,  sse: 143.44432067871094 - center[0].shape: torch.Size([768]), device: cuda:0: 100%|█| 32\n",
      "kmeans_init 18: 1, 324 - sse_min: 117.91544342041016,  sse: 117.91544342041016 - center[0].shape: torch.Size([768]), device: cuda:0: 100%|█| 32\n",
      "kmeans_init 18: 2, 324 - sse_min: 102.61556053161621,  sse: 102.61556053161621 - center[0].shape: torch.Size([768]), device: cuda:0: 100%|█| 32\n",
      "kmeans_init 18: 3, 324 - sse_min: 88.35443687438965,  sse: 88.35443687438965 - center[0].shape: torch.Size([768]), device: cuda:0: 100%|█| 324/\n",
      "kmeans_init 18: 4, 324 - sse_min: 81.8166332244873,  sse: 81.8166332244873 - center[0].shape: torch.Size([768]), device: cuda:0: 100%|█| 324/32\n",
      "kmeans_init 18: 5, 324 - sse_min: 77.8983383178711,  sse: 77.8983383178711 - center[0].shape: torch.Size([768]), device: cuda:0: 100%|█| 324/32\n",
      "kmeans_init 18: 6, 324 - sse_min: 74.22360897064209,  sse: 74.22360897064209 - center[0].shape: torch.Size([768]), device: cuda:0: 100%|█| 324/\n",
      "kmeans_init 18: 7, 324 - sse_min: 70.62563180923462,  sse: 70.62563180923462 - center[0].shape: torch.Size([768]), device: cuda:0: 100%|█| 324/\n",
      "kmeans_init 18: 8, 324 - sse_min: 68.26134490966797,  sse: 68.26134490966797 - center[0].shape: torch.Size([768]), device: cuda:0: 100%|█| 324/\n",
      "kmeans_init 18: 9, 324 - sse_min: 65.92616176605225,  sse: 65.92616176605225 - center[0].shape: torch.Size([768]), device: cuda:0: 100%|█| 324/\n",
      "kmeans_init 18: 10, 324 - sse_min: 63.8024787902832,  sse: 63.8024787902832 - center[0].shape: torch.Size([768]), device: cuda:0: 100%|█| 324/3\n",
      "kmeans_init 18: 11, 324 - sse_min: 62.130173206329346,  sse: 62.130173206329346 - center[0].shape: torch.Size([768]), device: cuda:0: 100%|█| 3\n",
      "kmeans_init 18: 12, 324 - sse_min: 60.47480058670044,  sse: 60.47480058670044 - center[0].shape: torch.Size([768]), device: cuda:0: 100%|█| 324\n",
      "kmeans_init 18: 13, 324 - sse_min: 58.828728675842285,  sse: 58.828728675842285 - center[0].shape: torch.Size([768]), device: cuda:0: 100%|█| 3\n",
      "kmeans_init 18: 14, 324 - sse_min: 57.40781578421593,  sse: 57.40781578421593 - center[0].shape: torch.Size([768]), device: cuda:0: 100%|█| 324\n",
      "kmeans_init 18: 15, 324 - sse_min: 56.65508595108986,  sse: 56.65508595108986 - center[0].shape: torch.Size([768]), device: cuda:0: 100%|█| 324\n",
      "kmeans_init 18: 16, 324 - sse_min: 55.44869628548622,  sse: 55.44869628548622 - center[0].shape: torch.Size([768]), device: cuda:0: 100%|█| 324\n",
      "kmeans_init 18: 17, 324 - sse_min: 54.25015702843666,  sse: 54.25015702843666 - center[0].shape: torch.Size([768]), device: cuda:0: 100%|█| 324\n"
     ]
    },
    {
     "name": "stdout",
     "output_type": "stream",
     "text": [
      "(18, 768)\n",
      "best_k:2\n",
      "best_clusters:[0 0 0 1 0 0 0 0 0 0 0 0 0 0 1 0 0 0 0 0 0 0 0 0 0 1 0 0 0 0 0 0 0 0 0 0 1\n",
      " 0 0 0 0 0 0 0 0 0 0 1 0 0 0 0 0 0 0 0 0 0 1 0 0 0 0 0 0 0 0 0 0 1 0 0 0 0\n",
      " 0 0 0 0 0 0 1 1 0 0 0 0 0 0 0 0 0 0 1 0 0 0 0 0 0 0 0 0 0 1 0 0 0 0 0 0 0\n",
      " 0 0 0 1 0 0 0 0 0 0 0 0 0 0 1 0 0 0 0 0 0 0 0 0 0 1 0 0 0 0 0 0 0 0 0 0 1\n",
      " 0 0 0 0 0 0 0 0 0 0 1 0 0 0 0 0 0 0 0 0 0 1 0 0 0 0 0 0 0 0 0 0 1 0 0 0 0\n",
      " 0 0 0 0 0 0 1 1 0 0 0 0 0 0 0 0 0 0 1 0 0 0 0 0 0 0 0 0 0 1 0 0 0 0 0 0 0\n",
      " 0 0 0 1 0 0 0 0 0 0 0 0 0 0 1 0 0 0 0 0 0 0 0 0 0 1 0 0 0 0 0 0 0 0 0 0 1\n",
      " 0 0 0 0 0 0 0 0 0 0 1 0 0 0 0 0 0 0 0 0 0 1 0 0 0 0 0 0 0 0 0 0 1 0 0 0 0\n",
      " 0 0 0 0 0 0 1 1 0 0 0 0 0 0 0 0 0 0 1 0 0 0 0 0 0 0 0 0]\n",
      "best_centers:(Length: 2)\n",
      "best_avg_sc:0.49794368403568495\n",
      "best_center_index:[145, 136]\n",
      "1502 0.9978964 1511\n",
      "[1511]\n",
      "1691 1696\n",
      "(5, 768)\n",
      "2\n",
      "In the process of initializing the center\n"
     ]
    },
    {
     "name": "stderr",
     "output_type": "stream",
     "text": [
      "kmeans_init 2: 0, 5 - sse_min: 2.842411518096924,  sse: 2.842411518096924 - center[0].shape: torch.Size([768]), device: cuda:0: 100%|█| 5/5 [00\n",
      "kmeans_init 2: 1, 5 - sse_min: 0.3288700580596924,  sse: 0.3288700580596924 - center[0].shape: torch.Size([768]), device: cuda:0: 100%|█| 5/5 ["
     ]
    },
    {
     "name": "stdout",
     "output_type": "stream",
     "text": [
      "(2, 768)\n",
      "best_k:2\n",
      "best_clusters:None\n",
      "best_centers is None, cannot determine its length.\n",
      "best_avg_sc:-1\n",
      "best_center_index:None\n",
      "final_index：[3, 43, 67, 172, 243, 269, 293, 347, 413, 440, 497, 542, 697, 737, 774, 924, 984, 1029, 1125, 1139, 1268, 1321, 1511, 0]\n",
      "save_frames:/mnt/ceph/develop/jiawei/lora_dataset/speech_data/B站/test_1/test_1-features-result-cuda/0.jpg\n",
      "save_frames:/mnt/ceph/develop/jiawei/lora_dataset/speech_data/B站/test_1/test_1-features-result-cuda/3.jpg\n",
      "save_frames:/mnt/ceph/develop/jiawei/lora_dataset/speech_data/B站/test_1/test_1-features-result-cuda/43.jpg\n"
     ]
    },
    {
     "name": "stderr",
     "output_type": "stream",
     "text": [
      "\n"
     ]
    },
    {
     "name": "stdout",
     "output_type": "stream",
     "text": [
      "save_frames:/mnt/ceph/develop/jiawei/lora_dataset/speech_data/B站/test_1/test_1-features-result-cuda/67.jpg\n",
      "save_frames:/mnt/ceph/develop/jiawei/lora_dataset/speech_data/B站/test_1/test_1-features-result-cuda/172.jpg\n",
      "save_frames:/mnt/ceph/develop/jiawei/lora_dataset/speech_data/B站/test_1/test_1-features-result-cuda/243.jpg\n",
      "save_frames:/mnt/ceph/develop/jiawei/lora_dataset/speech_data/B站/test_1/test_1-features-result-cuda/269.jpg\n",
      "save_frames:/mnt/ceph/develop/jiawei/lora_dataset/speech_data/B站/test_1/test_1-features-result-cuda/293.jpg\n",
      "save_frames:/mnt/ceph/develop/jiawei/lora_dataset/speech_data/B站/test_1/test_1-features-result-cuda/347.jpg\n",
      "save_frames:/mnt/ceph/develop/jiawei/lora_dataset/speech_data/B站/test_1/test_1-features-result-cuda/413.jpg\n",
      "save_frames:/mnt/ceph/develop/jiawei/lora_dataset/speech_data/B站/test_1/test_1-features-result-cuda/440.jpg\n",
      "save_frames:/mnt/ceph/develop/jiawei/lora_dataset/speech_data/B站/test_1/test_1-features-result-cuda/497.jpg\n",
      "save_frames:/mnt/ceph/develop/jiawei/lora_dataset/speech_data/B站/test_1/test_1-features-result-cuda/542.jpg\n",
      "save_frames:/mnt/ceph/develop/jiawei/lora_dataset/speech_data/B站/test_1/test_1-features-result-cuda/697.jpg\n",
      "save_frames:/mnt/ceph/develop/jiawei/lora_dataset/speech_data/B站/test_1/test_1-features-result-cuda/737.jpg\n",
      "save_frames:/mnt/ceph/develop/jiawei/lora_dataset/speech_data/B站/test_1/test_1-features-result-cuda/774.jpg\n",
      "save_frames:/mnt/ceph/develop/jiawei/lora_dataset/speech_data/B站/test_1/test_1-features-result-cuda/924.jpg\n",
      "save_frames:/mnt/ceph/develop/jiawei/lora_dataset/speech_data/B站/test_1/test_1-features-result-cuda/984.jpg\n",
      "save_frames:/mnt/ceph/develop/jiawei/lora_dataset/speech_data/B站/test_1/test_1-features-result-cuda/1029.jpg\n",
      "save_frames:/mnt/ceph/develop/jiawei/lora_dataset/speech_data/B站/test_1/test_1-features-result-cuda/1125.jpg\n",
      "save_frames:/mnt/ceph/develop/jiawei/lora_dataset/speech_data/B站/test_1/test_1-features-result-cuda/1139.jpg\n",
      "save_frames:/mnt/ceph/develop/jiawei/lora_dataset/speech_data/B站/test_1/test_1-features-result-cuda/1268.jpg\n",
      "save_frames:/mnt/ceph/develop/jiawei/lora_dataset/speech_data/B站/test_1/test_1-features-result-cuda/1321.jpg\n",
      "save_frames:/mnt/ceph/develop/jiawei/lora_dataset/speech_data/B站/test_1/test_1-features-result-cuda/1511.jpg\n"
     ]
    }
   ],
   "source": [
    "k_means_keyframe('/mnt/ceph/develop/jiawei/lora_dataset/speech_data/B站','test_1')"
   ]
  },
  {
   "cell_type": "code",
   "execution_count": 4,
   "id": "cc949269-ed5c-458a-976f-e6b028c35d29",
   "metadata": {
    "scrolled": true
   },
   "outputs": [
    {
     "name": "stdout",
     "output_type": "stream",
     "text": [
      "scenes_path:/mnt/ceph/develop/jiawei/lora_dataset/speech_data/B站//test_1/test_1.mp4.scenes.txt\n",
      "features_path:/mnt/ceph/develop/jiawei/lora_dataset/speech_data/B站//test_1/keyframe-features/features.pkl\n",
      "video_path:/mnt/ceph/develop/jiawei/lora_dataset/speech_data/B站//test_1/test_1.mp4\n",
      "save_path:/mnt/ceph/develop/jiawei/lora_dataset/speech_data/B站//test_1/\n",
      "folder_path:test_1-features-result-cuda\n",
      "0 65\n",
      "\n",
      "['0', '65']\n",
      "66 133\n",
      "\n",
      "['66', '133']\n",
      "134 197\n",
      "\n",
      "['134', '197']\n",
      "198 270\n",
      "\n",
      "['198', '270']\n",
      "271 346\n",
      "\n",
      "['271', '346']\n",
      "347 410\n",
      "\n",
      "['347', '410']\n",
      "411 472\n",
      "\n",
      "['411', '472']\n",
      "473 520\n",
      "\n",
      "['473', '520']\n",
      "521 591\n",
      "\n",
      "['521', '591']\n",
      "592 722\n",
      "\n",
      "['592', '722']\n",
      "723 757\n",
      "\n",
      "['723', '757']\n",
      "758 992\n",
      "\n",
      "['758', '992']\n",
      "993 1175\n",
      "\n",
      "['993', '1175']\n",
      "1176 1334\n",
      "\n",
      "['1176', '1334']\n",
      "1335 1365\n",
      "\n",
      "['1335', '1365']\n",
      "1366 1690\n",
      "\n",
      "['1366', '1690']\n",
      "1691 1696\n",
      "\n",
      "['1691', '1696']\n",
      "1697 1758\n",
      "\n",
      "['1697', '1758']\n",
      "1759 1959\n",
      "\n",
      "['1759', '1959']\n",
      "1960 2053\n",
      "\n",
      "['1960', '2053']\n",
      "2054 2183\n",
      "\n",
      "['2054', '2183']\n",
      "2184 2389\n",
      "\n",
      "['2184', '2389']\n",
      "2390 2567\n",
      "\n",
      "['2390', '2567']\n",
      "2568 2686\n",
      "\n",
      "['2568', '2686']\n",
      "2687 2865\n",
      "\n",
      "['2687', '2865']\n",
      "2866 2915\n",
      "\n",
      "['2866', '2915']\n",
      "2916 3098\n",
      "\n",
      "['2916', '3098']\n",
      "3099 3106\n",
      "\n",
      "['3099', '3106']\n",
      "3107 3226\n",
      "\n",
      "['3107', '3226']\n",
      "3227 3351\n",
      "\n",
      "['3227', '3351']\n",
      "3352 3364\n",
      "\n",
      "['3352', '3364']\n",
      "3365 3482\n",
      "\n",
      "['3365', '3482']\n",
      "3483 3576\n",
      "\n",
      "['3483', '3576']\n",
      "3577 3684\n",
      "\n",
      "['3577', '3684']\n",
      "3685 3782\n",
      "\n",
      "['3685', '3782']\n",
      "3783 3894\n",
      "\n",
      "['3783', '3894']\n",
      "3895 4010\n",
      "\n",
      "['3895', '4010']\n",
      "4011 4021\n",
      "\n",
      "['4011', '4021']\n",
      "4022 4104\n",
      "\n",
      "['4022', '4104']\n",
      "4105 4151\n",
      "\n",
      "['4105', '4151']\n",
      "4152 4225\n",
      "\n",
      "['4152', '4225']\n",
      "4226 4284\n",
      "\n",
      "['4226', '4284']\n",
      "4285 4294\n",
      "\n",
      "['4285', '4294']\n",
      "4295 4419\n",
      "\n",
      "['4295', '4419']\n",
      "4420 4425\n",
      "\n",
      "['4420', '4425']\n",
      "4426 4566\n",
      "\n",
      "['4426', '4566']\n",
      "4567 4653\n",
      "\n",
      "['4567', '4653']\n",
      "4654 4714\n",
      "\n",
      "['4654', '4714']\n",
      "4715 4772\n",
      "\n",
      "['4715', '4772']\n",
      "4773 4827\n",
      "\n",
      "['4773', '4827']\n",
      "4828 4883\n",
      "\n",
      "['4828', '4883']\n",
      "4884 4930\n",
      "\n",
      "['4884', '4930']\n",
      "4931 4970\n",
      "\n",
      "['4931', '4970']\n",
      "4971 5009\n",
      "\n",
      "['4971', '5009']\n",
      "5010 5052\n",
      "\n",
      "['5010', '5052']\n",
      "5053 5093\n",
      "\n",
      "['5053', '5093']\n",
      "5094 5226\n",
      "\n",
      "['5094', '5226']\n",
      "5227 5294\n",
      "\n",
      "['5227', '5294']\n",
      "5295 5377\n",
      "\n",
      "['5295', '5377']\n",
      "(5378, 768)\n",
      "0 65\n",
      "(65, 768)\n",
      "8\n",
      "In the process of initializing the center\n"
     ]
    },
    {
     "name": "stderr",
     "output_type": "stream",
     "text": [
      "kmeans_init 8: 0, 65 - sse_min: 44.420936584472656,  sse: 44.420936584472656 - center[0].shape: torch.Size([768]), device: cuda:0: 100%|█| 65/6\n",
      "kmeans_init 8: 1, 65 - sse_min: 13.577487707138062,  sse: 13.577487707138062 - center[0].shape: torch.Size([768]), device: cuda:0: 100%|█| 65/6\n",
      "kmeans_init 8: 2, 65 - sse_min: 9.485660806298256,  sse: 9.485660806298256 - center[0].shape: torch.Size([768]), device: cuda:0: 100%|█| 65/65 \n",
      "100%|████████████████████████████████████████████████████████████████████████████████████████████████████████| 65/65 [00:00<00:00, 1633.39it/s]\n",
      "100%|████████████████████████████████████████████████████████████████████████████████████████████████████████| 65/65 [00:00<00:00, 1422.97it/s]\n",
      "100%|████████████████████████████████████████████████████████████████████████████████████████████████████████| 65/65 [00:00<00:00, 1272.03it/s]\n",
      "100%|████████████████████████████████████████████████████████████████████████████████████████████████████████| 65/65 [00:00<00:00, 1171.68it/s]\n",
      "100%|████████████████████████████████████████████████████████████████████████████████████████████████████████| 65/65 [00:00<00:00, 1079.93it/s]\n"
     ]
    },
    {
     "name": "stdout",
     "output_type": "stream",
     "text": [
      "(8, 768)\n",
      "best_k:3\n",
      "best_clusters:[2 2 2 1 0 0 0 0 0 0 0 0 0 0 1 0 0 0 0 0 0 0 0 0 0 1 0 0 0 0 0 0 0 0 0 0 1\n",
      " 0 0 0 0 0 0 0 0 0 0 1 0 0 0 0 0 0 0 0 0 0 1 0 0 0 0 0 0]\n",
      "best_centers:(Length: 3)\n",
      "best_avg_sc:0.7503164382358373\n",
      "best_center_index:[43, 3, 0]\n",
      "0 0.9999136 3\n",
      "[3, 43]\n",
      "66 133\n",
      "(67, 768)\n",
      "8\n",
      "In the process of initializing the center\n"
     ]
    },
    {
     "name": "stderr",
     "output_type": "stream",
     "text": [
      "kmeans_init 8: 0, 67 - sse_min: 18.341773986816406,  sse: 18.341773986816406 - center[0].shape: torch.Size([768]), device: cuda:0: 100%|█| 67/6\n",
      "kmeans_init 8: 1, 67 - sse_min: 17.06085968017578,  sse: 17.06085968017578 - center[0].shape: torch.Size([768]), device: cuda:0: 100%|█| 67/67 \n",
      "kmeans_init 8: 2, 67 - sse_min: 13.011493176221848,  sse: 13.011493176221848 - center[0].shape: torch.Size([768]), device: cuda:0: 100%|█| 67/6\n",
      "kmeans_init 8: 3, 67 - sse_min: 11.454274386167526,  sse: 11.454274386167526 - center[0].shape: torch.Size([768]), device: cuda:0: 100%|█| 67/6\n",
      "kmeans_init 8: 4, 67 - sse_min: 10.531733244657516,  sse: 10.531733244657516 - center[0].shape: torch.Size([768]), device: cuda:0: 100%|█| 67/6\n",
      "kmeans_init 8: 5, 67 - sse_min: 9.823122531175613,  sse: 9.823122531175613 - center[0].shape: torch.Size([768]), device: cuda:0: 100%|█| 67/67 \n",
      "kmeans_init 8: 6, 67 - sse_min: 9.13427272439003,  sse: 9.13427272439003 - center[0].shape: torch.Size([768]), device: cuda:0: 100%|█| 67/67 [0\n",
      "kmeans_init 8: 7, 67 - sse_min: 8.466224610805511,  sse: 8.466224610805511 - center[0].shape: torch.Size([768]), device: cuda:0: 100%|█| 67/67 \n"
     ]
    },
    {
     "name": "stdout",
     "output_type": "stream",
     "text": [
      "(8, 768)\n",
      "best_k:3\n",
      "best_clusters:[0 0 0 1 0 0 0 0 0 0 0 0 0 0 1 0 0 0 0 0 0 0 0 0 0 1 0 0 0 0 0 0 0 0 0 0 1\n",
      " 0 0 0 0 0 0 0 0 0 0 2 1 0 0 0 0 0 0 0 0 0 0 1 0 0 0 0 0 0 0]\n",
      "best_centers:(Length: 3)\n",
      "best_avg_sc:0.6592850156072486\n",
      "best_center_index:[1, 14, 47]\n",
      "80 1.0000001 67\n",
      "113 1.0000002 67\n",
      "[67]\n",
      "134 197\n",
      "(63, 768)\n",
      "7\n",
      "In the process of initializing the center\n"
     ]
    },
    {
     "name": "stderr",
     "output_type": "stream",
     "text": [
      "kmeans_init 7: 0, 63 - sse_min: 20.718067169189453,  sse: 20.718067169189453 - center[0].shape: torch.Size([768]), device: cuda:0: 100%|█| 63/6\n",
      "kmeans_init 7: 1, 63 - sse_min: 15.336652040481567,  sse: 15.336652040481567 - center[0].shape: torch.Size([768]), device: cuda:0: 100%|█| 63/6\n",
      "kmeans_init 7: 2, 63 - sse_min: 11.283795833587646,  sse: 11.283795833587646 - center[0].shape: torch.Size([768]), device: cuda:0: 100%|█| 63/6\n",
      "kmeans_init 7: 3, 63 - sse_min: 10.098634541034698,  sse: 10.098634541034698 - center[0].shape: torch.Size([768]), device: cuda:0: 100%|█| 63/6\n",
      "kmeans_init 7: 4, 63 - sse_min: 9.04454094171524,  sse: 9.04454094171524 - center[0].shape: torch.Size([768]), device: cuda:0: 100%|█| 63/63 [0\n",
      "kmeans_init 7: 5, 63 - sse_min: 8.605766922235489,  sse: 8.605766922235489 - center[0].shape: torch.Size([768]), device: cuda:0: 100%|█| 63/63 \n",
      "kmeans_init 7: 6, 63 - sse_min: 7.785760909318924,  sse: 7.785760909318924 - center[0].shape: torch.Size([768]), device: cuda:0: 100%|█| 63/63 \n"
     ]
    },
    {
     "name": "stdout",
     "output_type": "stream",
     "text": [
      "(7, 768)\n",
      "best_k:2\n",
      "best_clusters:[0 0 1 0 0 0 0 0 0 0 0 0 0 1 0 0 0 0 0 0 0 0 0 0 1 0 0 0 0 0 0 0 0 0 0 1 0\n",
      " 0 0 0 0 0 0 0 0 0 1 0 0 0 0 0 0 0 0 0 0 1 0 0 0 0 0]\n",
      "best_centers:(Length: 2)\n",
      "best_avg_sc:0.6664661835974713\n",
      "best_center_index:[38, 24]\n",
      "158 0.9737608 172\n",
      "[172]\n",
      "198 270\n",
      "(72, 768)\n",
      "8\n",
      "In the process of initializing the center\n"
     ]
    },
    {
     "name": "stderr",
     "output_type": "stream",
     "text": [
      "kmeans_init 8: 0, 72 - sse_min: 28.965682983398438,  sse: 28.965682983398438 - center[0].shape: torch.Size([768]), device: cuda:0: 100%|█| 72/7\n",
      "kmeans_init 8: 1, 72 - sse_min: 14.066776275634766,  sse: 14.066776275634766 - center[0].shape: torch.Size([768]), device: cuda:0: 100%|█| 72/7\n",
      "kmeans_init 8: 2, 72 - sse_min: 9.176448047161102,  sse: 9.176448047161102 - center[0].shape: torch.Size([768]), device: cuda:0: 100%|█| 72/72 \n",
      "kmeans_init 8: 3, 72 - sse_min: 8.522934317588806,  sse: 8.522934317588806 - center[0].shape: torch.Size([768]), device: cuda:0: 100%|█| 72/72 \n",
      "kmeans_init 8: 4, 72 - sse_min: 7.640019655227661,  sse: 7.640019655227661 - center[0].shape: torch.Size([768]), device: cuda:0: 100%|█| 72/72 \n",
      "kmeans_init 8: 5, 72 - sse_min: 6.804591178894043,  sse: 6.804591178894043 - center[0].shape: torch.Size([768]), device: cuda:0: 100%|█| 72/72 \n",
      "kmeans_init 8: 6, 72 - sse_min: 6.106278643012047,  sse: 6.106278643012047 - center[0].shape: torch.Size([768]), device: cuda:0: 100%|█| 72/72 \n",
      "kmeans_init 8: 7, 72 - sse_min: 5.590690836310387,  sse: 5.590690836310387 - center[0].shape: torch.Size([768]), device: cuda:0: 100%|█| 72/72 \n"
     ]
    },
    {
     "name": "stdout",
     "output_type": "stream",
     "text": [
      "(8, 768)\n",
      "best_k:2\n",
      "best_clusters:[0 0 0 0 1 0 0 0 0 0 0 0 0 0 0 1 0 0 0 0 0 0 0 0 0 0 1 1 0 0 0 0 0 0 0 0 0\n",
      " 0 1 0 0 0 0 0 0 0 0 0 0 1 0 0 0 0 0 0 0 0 0 0 1 0 0 0 0 0 0 0 0 0 0 1]\n",
      "best_centers:(Length: 2)\n",
      "best_avg_sc:0.7266082154408517\n",
      "best_center_index:[45, 71]\n",
      "[243, 269]\n",
      "271 346\n",
      "(75, 768)\n",
      "8\n",
      "In the process of initializing the center\n"
     ]
    },
    {
     "name": "stderr",
     "output_type": "stream",
     "text": [
      "kmeans_init 8: 0, 75 - sse_min: 20.911300659179688,  sse: 20.911300659179688 - center[0].shape: torch.Size([768]), device: cuda:0: 100%|█| 75/7\n",
      "kmeans_init 8: 1, 75 - sse_min: 16.095884323120117,  sse: 16.095884323120117 - center[0].shape: torch.Size([768]), device: cuda:0: 100%|█| 75/7\n",
      "kmeans_init 8: 2, 75 - sse_min: 11.732133388519287,  sse: 11.732133388519287 - center[0].shape: torch.Size([768]), device: cuda:0: 100%|█| 75/7\n",
      "kmeans_init 8: 3, 75 - sse_min: 10.360908031463623,  sse: 10.360908031463623 - center[0].shape: torch.Size([768]), device: cuda:0: 100%|█| 75/7\n",
      "kmeans_init 8: 4, 75 - sse_min: 9.989503737539053,  sse: 9.989503737539053 - center[0].shape: torch.Size([768]), device: cuda:0: 100%|█| 75/75 \n",
      "kmeans_init 8: 5, 75 - sse_min: 8.889931675046682,  sse: 8.889931675046682 - center[0].shape: torch.Size([768]), device: cuda:0: 100%|█| 75/75 \n",
      "kmeans_init 8: 6, 75 - sse_min: 8.168080862611532,  sse: 8.168080862611532 - center[0].shape: torch.Size([768]), device: cuda:0: 100%|█| 75/75 \n",
      "kmeans_init 8: 7, 75 - sse_min: 7.53487890586257,  sse: 7.53487890586257 - center[0].shape: torch.Size([768]), device: cuda:0: 100%|█| 75/75 [0\n"
     ]
    },
    {
     "name": "stdout",
     "output_type": "stream",
     "text": [
      "(8, 768)\n",
      "best_k:3\n",
      "best_clusters:[0 0 0 0 0 0 0 0 0 1 0 0 0 0 0 0 0 0 0 0 1 0 0 0 0 0 0 0 0 0 0 1 0 0 0 0 0\n",
      " 0 0 0 0 0 1 0 0 0 0 0 0 0 0 0 0 1 0 0 0 0 0 0 0 0 0 0 2 1 0 0 0 0 0 0 0 0\n",
      " 0]\n",
      "best_centers:(Length: 3)\n",
      "best_avg_sc:0.7459400202119613\n",
      "best_center_index:[22, 31, 64]\n",
      "302 0.98216593 293\n",
      "335 0.97254467 293\n",
      "[293]\n",
      "347 410\n",
      "(63, 768)\n",
      "7\n",
      "In the process of initializing the center\n"
     ]
    },
    {
     "name": "stderr",
     "output_type": "stream",
     "text": [
      "kmeans_init 7: 0, 63 - sse_min: 42.70140838623047,  sse: 42.70140838623047 - center[0].shape: torch.Size([768]), device: cuda:0: 100%|█| 63/63 \n",
      "kmeans_init 7: 1, 63 - sse_min: 22.29978695139289,  sse: 22.29978695139289 - center[0].shape: torch.Size([768]), device: cuda:0: 100%|█| 63/63 \n",
      "kmeans_init 7: 2, 63 - sse_min: 6.349719908088446,  sse: 6.349719908088446 - center[0].shape: torch.Size([768]), device: cuda:0: 100%|█| 63/63 \n",
      "kmeans_init 7: 3, 63 - sse_min: 4.629521109163761,  sse: 4.629521109163761 - center[0].shape: torch.Size([768]), device: cuda:0: 100%|█| 63/63 \n",
      "100%|████████████████████████████████████████████████████████████████████████████████████████████████████████| 63/63 [00:00<00:00, 1473.26it/s]\n",
      "100%|████████████████████████████████████████████████████████████████████████████████████████████████████████| 63/63 [00:00<00:00, 1319.67it/s]\n",
      "100%|████████████████████████████████████████████████████████████████████████████████████████████████████████| 63/63 [00:00<00:00, 1188.65it/s]\n"
     ]
    },
    {
     "name": "stdout",
     "output_type": "stream",
     "text": [
      "(7, 768)\n",
      "best_k:5\n",
      "best_clusters:[3 1 1 1 1 1 1 1 1 1 1 3 1 1 1 1 1 1 1 1 1 1 3 1 1 1 1 1 0 0 0 0 0 2 0 0 0\n",
      " 0 0 0 0 0 0 0 2 0 0 0 0 0 0 0 0 0 0 2 0 0 0 0 0 0 4]\n",
      "best_centers:(Length: 5)\n",
      "best_avg_sc:0.8531547663917076\n",
      "best_center_index:[29, 13, 44, 0, 62]\n",
      "[347]\n",
      "411 472\n",
      "(61, 768)\n",
      "7\n",
      "In the process of initializing the center\n"
     ]
    },
    {
     "name": "stderr",
     "output_type": "stream",
     "text": [
      "kmeans_init 7: 0, 61 - sse_min: 13.847148895263672,  sse: 13.847148895263672 - center[0].shape: torch.Size([768]), device: cuda:0: 100%|█| 61/6\n",
      "kmeans_init 7: 1, 61 - sse_min: 11.018070936203003,  sse: 11.018070936203003 - center[0].shape: torch.Size([768]), device: cuda:0: 100%|█| 61/6\n",
      "kmeans_init 7: 2, 61 - sse_min: 7.5592687129974365,  sse: 7.5592687129974365 - center[0].shape: torch.Size([768]), device: cuda:0: 100%|█| 61/6\n",
      "kmeans_init 7: 3, 61 - sse_min: 7.134494930505753,  sse: 7.134494930505753 - center[0].shape: torch.Size([768]), device: cuda:0: 100%|█| 61/61 \n",
      "kmeans_init 7: 4, 61 - sse_min: 6.609701782464981,  sse: 6.609701782464981 - center[0].shape: torch.Size([768]), device: cuda:0: 100%|█| 61/61 \n",
      "kmeans_init 7: 5, 61 - sse_min: 6.1066247331909835,  sse: 6.1066247331909835 - center[0].shape: torch.Size([768]), device: cuda:0: 100%|█| 61/6\n",
      "kmeans_init 7: 6, 61 - sse_min: 5.616022955160588,  sse: 5.616022955160588 - center[0].shape: torch.Size([768]), device: cuda:0: 100%|█| 61/61 \n"
     ]
    },
    {
     "name": "stdout",
     "output_type": "stream",
     "text": [
      "(7, 768)\n",
      "best_k:2\n",
      "best_clusters:[0 0 1 0 0 0 0 0 0 0 0 0 0 1 0 0 0 0 0 0 0 0 0 0 1 0 0 0 0 0 0 0 0 0 0 1 1\n",
      " 0 0 0 0 0 0 0 0 0 0 1 0 0 0 0 0 0 0 0 0 0 1 0 0]\n",
      "best_centers:(Length: 2)\n",
      "best_avg_sc:0.7600441283057999\n",
      "best_center_index:[29, 2]\n",
      "[413, 440]\n",
      "473 520\n",
      "(47, 768)\n",
      "6\n",
      "In the process of initializing the center\n"
     ]
    },
    {
     "name": "stderr",
     "output_type": "stream",
     "text": [
      "kmeans_init 6: 0, 47 - sse_min: 8.74583625793457,  sse: 8.74583625793457 - center[0].shape: torch.Size([768]), device: cuda:0: 100%|█| 47/47 [0\n",
      "kmeans_init 6: 1, 47 - sse_min: 7.15504789352417,  sse: 7.15504789352417 - center[0].shape: torch.Size([768]), device: cuda:0: 100%|█| 47/47 [0\n",
      "kmeans_init 6: 2, 47 - sse_min: 4.75093337893486,  sse: 4.75093337893486 - center[0].shape: torch.Size([768]), device: cuda:0: 100%|█| 47/47 [0\n",
      "kmeans_init 6: 3, 47 - sse_min: 4.3956858813762665,  sse: 4.3956858813762665 - center[0].shape: torch.Size([768]), device: cuda:0: 100%|█| 47/4\n",
      "kmeans_init 6: 4, 47 - sse_min: 3.7542509138584137,  sse: 3.7542509138584137 - center[0].shape: torch.Size([768]), device: cuda:0: 100%|█| 47/4\n",
      "kmeans_init 6: 5, 47 - sse_min: 3.4416299015283585,  sse: 3.4416299015283585 - center[0].shape: torch.Size([768]), device: cuda:0: 100%|█| 47/4\n"
     ]
    },
    {
     "name": "stdout",
     "output_type": "stream",
     "text": [
      "(6, 768)\n",
      "best_k:2\n",
      "best_clusters:[0 0 0 0 0 0 0 1 0 0 0 0 0 0 0 0 0 0 1 0 0 0 0 0 0 0 0 0 0 1 0 0 0 0 0 0 0\n",
      " 0 0 0 1 0 0 0 0 0 0]\n",
      "best_centers:(Length: 2)\n",
      "best_avg_sc:0.7925328500626794\n",
      "best_center_index:[24, 18]\n",
      "491 0.9996255 497\n",
      "[497]\n",
      "521 591\n",
      "(70, 768)\n",
      "8\n",
      "In the process of initializing the center\n"
     ]
    },
    {
     "name": "stderr",
     "output_type": "stream",
     "text": [
      "kmeans_init 8: 0, 70 - sse_min: 24.102447509765625,  sse: 24.102447509765625 - center[0].shape: torch.Size([768]), device: cuda:0: 100%|█| 70/7\n",
      "kmeans_init 8: 1, 70 - sse_min: 20.249914169311523,  sse: 20.249914169311523 - center[0].shape: torch.Size([768]), device: cuda:0: 100%|█| 70/7\n",
      "kmeans_init 8: 2, 70 - sse_min: 12.14580324292183,  sse: 12.14580324292183 - center[0].shape: torch.Size([768]), device: cuda:0: 100%|█| 70/70 \n",
      "kmeans_init 8: 3, 70 - sse_min: 8.917012006044388,  sse: 8.917012006044388 - center[0].shape: torch.Size([768]), device: cuda:0: 100%|█| 70/70 \n",
      "kmeans_init 8: 4, 70 - sse_min: 7.6756216287612915,  sse: 7.6756216287612915 - center[0].shape: torch.Size([768]), device: cuda:0: 100%|█| 70/7\n",
      "kmeans_init 8: 5, 70 - sse_min: 7.450870215892792,  sse: 7.450870215892792 - center[0].shape: torch.Size([768]), device: cuda:0: 100%|█| 70/70 \n",
      "kmeans_init 8: 6, 70 - sse_min: 6.893638491630554,  sse: 6.893638491630554 - center[0].shape: torch.Size([768]), device: cuda:0: 100%|█| 70/70 \n",
      "kmeans_init 8: 7, 70 - sse_min: 6.425489395856857,  sse: 6.425489395856857 - center[0].shape: torch.Size([768]), device: cuda:0: 100%|█| 70/70 \n"
     ]
    },
    {
     "name": "stdout",
     "output_type": "stream",
     "text": [
      "(8, 768)\n",
      "best_k:5\n",
      "best_clusters:[0 0 0 2 0 0 0 0 0 0 0 0 0 0 2 0 0 0 0 0 0 0 0 0 0 2 0 0 0 0 0 0 0 0 0 0 4\n",
      " 2 0 0 0 3 3 3 3 3 1 1 2 1 1 1 1 1 1 1 1 1 1 2 1 1 1 1 1 1 1 1 1 1]\n",
      "best_centers:(Length: 5)\n",
      "best_avg_sc:0.6509825705218619\n",
      "best_center_index:[21, 54, 14, 44, 36]\n",
      "575 0.94364744 542\n",
      "535 0.9946158 542\n",
      "565 0.9558357 542\n",
      "557 0.9550863 542\n",
      "[542]\n",
      "592 722\n",
      "(130, 768)\n",
      "11\n",
      "In the process of initializing the center\n"
     ]
    },
    {
     "name": "stderr",
     "output_type": "stream",
     "text": [
      "kmeans_init 11: 0, 130 - sse_min: 26.33183479309082,  sse: 26.33183479309082 - center[0].shape: torch.Size([768]), device: cuda:0: 100%|█| 130/\n",
      "kmeans_init 11: 1, 130 - sse_min: 22.841632843017578,  sse: 22.841632843017578 - center[0].shape: torch.Size([768]), device: cuda:0: 100%|█| 13\n",
      "kmeans_init 11: 2, 130 - sse_min: 17.632384061813354,  sse: 17.632384061813354 - center[0].shape: torch.Size([768]), device: cuda:0: 100%|█| 13\n",
      "kmeans_init 11: 3, 130 - sse_min: 16.50284242630005,  sse: 16.50284242630005 - center[0].shape: torch.Size([768]), device: cuda:0: 100%|█| 130/\n",
      "kmeans_init 11: 4, 130 - sse_min: 15.422635704278946,  sse: 15.422635704278946 - center[0].shape: torch.Size([768]), device: cuda:0: 100%|█| 13\n",
      "kmeans_init 11: 5, 130 - sse_min: 14.976419657468796,  sse: 14.976419657468796 - center[0].shape: torch.Size([768]), device: cuda:0: 100%|█| 13\n",
      "kmeans_init 11: 6, 130 - sse_min: 14.242167919874191,  sse: 14.242167919874191 - center[0].shape: torch.Size([768]), device: cuda:0: 100%|█| 13\n",
      "kmeans_init 11: 7, 130 - sse_min: 13.644693225622177,  sse: 13.644693225622177 - center[0].shape: torch.Size([768]), device: cuda:0: 100%|█| 13\n",
      "kmeans_init 11: 8, 130 - sse_min: 13.0615174472332,  sse: 13.0615174472332 - center[0].shape: torch.Size([768]), device: cuda:0: 100%|█| 130/13\n",
      "kmeans_init 11: 9, 130 - sse_min: 12.535649105906487,  sse: 12.535649105906487 - center[0].shape: torch.Size([768]), device: cuda:0: 100%|█| 13\n",
      "kmeans_init 11: 10, 130 - sse_min: 12.104972526431084,  sse: 12.104972526431084 - center[0].shape: torch.Size([768]), device: cuda:0: 100%|█| 1\n"
     ]
    },
    {
     "name": "stdout",
     "output_type": "stream",
     "text": [
      "(11, 768)\n",
      "best_k:3\n",
      "best_clusters:[0 0 0 0 0 0 0 0 0 0 1 0 0 0 0 0 0 0 0 0 0 1 0 0 0 0 0 0 0 0 0 0 1 0 0 0 0\n",
      " 0 0 0 0 0 0 1 0 0 0 0 0 0 0 0 0 0 1 0 0 0 0 0 0 0 0 0 0 1 0 0 0 0 0 0 0 0\n",
      " 0 0 2 1 0 0 0 0 0 0 0 0 0 0 1 0 0 0 0 0 0 0 0 0 0 1 0 0 0 0 0 0 0 0 0 0 1\n",
      " 0 0 0 0 0 0 0 0 0 0 1 0 0 0 0 0 0 0 0]\n",
      "best_centers:(Length: 3)\n",
      "best_avg_sc:0.7363731491457977\n",
      "best_center_index:[105, 99, 76]\n",
      "691 0.99482024 697\n",
      "668 0.9845954 697\n",
      "[697]\n",
      "723 757\n",
      "(34, 768)\n",
      "5\n",
      "In the process of initializing the center\n"
     ]
    },
    {
     "name": "stderr",
     "output_type": "stream",
     "text": [
      "kmeans_init 5: 0, 34 - sse_min: 5.574987411499023,  sse: 5.574987411499023 - center[0].shape: torch.Size([768]), device: cuda:0: 100%|█| 34/34 \n",
      "kmeans_init 5: 1, 34 - sse_min: 4.6530537605285645,  sse: 4.6530537605285645 - center[0].shape: torch.Size([768]), device: cuda:0: 100%|█| 34/3\n",
      "kmeans_init 5: 2, 34 - sse_min: 2.830760180950165,  sse: 2.830760180950165 - center[0].shape: torch.Size([768]), device: cuda:0: 100%|█| 34/34 \n",
      "kmeans_init 5: 3, 34 - sse_min: 2.4425206780433655,  sse: 2.4425206780433655 - center[0].shape: torch.Size([768]), device: cuda:0: 100%|█| 34/3\n",
      "kmeans_init 5: 4, 34 - sse_min: 2.1470797061920166,  sse: 2.1470797061920166 - center[0].shape: torch.Size([768]), device: cuda:0: 100%|█| 34/3\n"
     ]
    },
    {
     "name": "stdout",
     "output_type": "stream",
     "text": [
      "(5, 768)\n",
      "best_k:2\n",
      "best_clusters:[0 1 0 0 0 0 0 0 0 0 0 0 1 0 0 0 0 0 0 0 0 0 0 1 0 0 0 0 0 0 0 0 0 0]\n",
      "best_centers:(Length: 2)\n",
      "best_avg_sc:0.8481620059631144\n",
      "best_center_index:[14, 1]\n",
      "724 0.95435596 737\n",
      "[737]\n",
      "758 992\n",
      "(234, 768)\n",
      "15\n",
      "In the process of initializing the center\n"
     ]
    },
    {
     "name": "stderr",
     "output_type": "stream",
     "text": [
      "kmeans_init 15: 0, 234 - sse_min: 115.37477111816406,  sse: 115.37477111816406 - center[0].shape: torch.Size([768]), device: cuda:0: 100%|█| 23\n",
      "kmeans_init 15: 1, 234 - sse_min: 63.169281005859375,  sse: 63.169281005859375 - center[0].shape: torch.Size([768]), device: cuda:0: 100%|█| 23\n",
      "kmeans_init 15: 2, 234 - sse_min: 48.58102798461914,  sse: 48.58102798461914 - center[0].shape: torch.Size([768]), device: cuda:0: 100%|█| 234/\n",
      "kmeans_init 15: 3, 234 - sse_min: 37.94330084323883,  sse: 37.94330084323883 - center[0].shape: torch.Size([768]), device: cuda:0: 100%|█| 234/\n",
      "kmeans_init 15: 4, 234 - sse_min: 37.67958941310644,  sse: 37.67958941310644 - center[0].shape: torch.Size([768]), device: cuda:0: 100%|█| 234/\n",
      "kmeans_init 15: 5, 234 - sse_min: 33.93771246634424,  sse: 33.93771246634424 - center[0].shape: torch.Size([768]), device: cuda:0: 100%|█| 234/\n",
      "kmeans_init 15: 6, 234 - sse_min: 30.990410720929503,  sse: 30.990410720929503 - center[0].shape: torch.Size([768]), device: cuda:0: 100%|█| 23\n",
      "kmeans_init 15: 7, 234 - sse_min: 29.230271017178893,  sse: 29.230271017178893 - center[0].shape: torch.Size([768]), device: cuda:0: 100%|█| 23\n",
      "kmeans_init 15: 8, 234 - sse_min: 27.918269192799926,  sse: 27.918269192799926 - center[0].shape: torch.Size([768]), device: cuda:0: 100%|█| 23\n",
      "kmeans_init 15: 9, 234 - sse_min: 26.757407700642943,  sse: 26.757407700642943 - center[0].shape: torch.Size([768]), device: cuda:0: 100%|█| 23\n",
      "kmeans_init 15: 10, 234 - sse_min: 25.735622419044375,  sse: 25.735622419044375 - center[0].shape: torch.Size([768]), device: cuda:0: 100%|█| 2\n",
      "kmeans_init 15: 11, 234 - sse_min: 24.94368733279407,  sse: 24.94368733279407 - center[0].shape: torch.Size([768]), device: cuda:0: 100%|█| 234\n",
      "kmeans_init 15: 12, 234 - sse_min: 24.21688307635486,  sse: 24.21688307635486 - center[0].shape: torch.Size([768]), device: cuda:0: 100%|█| 234\n",
      "kmeans_init 15: 13, 234 - sse_min: 23.53304965607822,  sse: 23.53304965607822 - center[0].shape: torch.Size([768]), device: cuda:0: 100%|█| 234\n",
      "kmeans_init 15: 14, 234 - sse_min: 22.858565164729953,  sse: 22.858565164729953 - center[0].shape: torch.Size([768]), device: cuda:0: 100%|█| 2\n"
     ]
    },
    {
     "name": "stdout",
     "output_type": "stream",
     "text": [
      "(15, 768)\n",
      "best_k:4\n",
      "best_clusters:[0 0 0 0 0 0 0 0 0 0 1 0 2 2 2 2 2 2 0 0 0 3 1 0 0 0 0 0 0 0 0 0 0 1 0 0 0\n",
      " 0 0 0 0 0 0 0 1 0 0 0 0 0 0 0 0 0 0 1 0 0 0 0 0 0 0 0 0 0 1 0 0 0 0 0 0 0\n",
      " 0 0 0 1 0 0 0 0 0 0 0 0 0 0 1 0 0 0 0 0 0 0 0 0 0 1 0 0 0 0 0 0 0 0 0 0 1\n",
      " 0 0 0 0 0 0 0 0 0 0 1 0 0 0 0 0 0 0 0 0 0 3 1 0 0 0 0 0 0 0 0 0 0 1 0 0 0\n",
      " 0 0 0 0 0 0 0 1 0 0 0 0 0 0 0 0 0 0 1 0 0 0 0 0 0 0 0 0 0 1 0 0 0 0 0 0 0\n",
      " 0 0 0 1 0 0 0 0 0 0 0 0 0 0 1 0 0 0 0 0 0 0 0 0 0 1 0 0 0 0 0 0 0 0 0 0 1\n",
      " 0 0 0 0 0 0 0 0 0 0 1 0]\n",
      "best_centers:(Length: 4)\n",
      "best_avg_sc:0.5978642085358903\n",
      "best_center_index:[226, 166, 16, 21]\n",
      "779 0.9987803 774\n",
      "[774, 924, 984]\n",
      "993 1175\n",
      "(182, 768)\n",
      "13\n",
      "In the process of initializing the center\n"
     ]
    },
    {
     "name": "stderr",
     "output_type": "stream",
     "text": [
      "kmeans_init 13: 0, 182 - sse_min: 99.42153930664062,  sse: 99.42153930664062 - center[0].shape: torch.Size([768]), device: cuda:0: 100%|█| 182/\n",
      "kmeans_init 13: 1, 182 - sse_min: 51.26965141296387,  sse: 51.26965141296387 - center[0].shape: torch.Size([768]), device: cuda:0: 100%|█| 182/\n",
      "kmeans_init 13: 2, 182 - sse_min: 49.82406187057495,  sse: 49.82406187057495 - center[0].shape: torch.Size([768]), device: cuda:0: 100%|█| 182/\n",
      "kmeans_init 13: 3, 182 - sse_min: 43.70109415054321,  sse: 43.70109415054321 - center[0].shape: torch.Size([768]), device: cuda:0: 100%|█| 182/\n",
      "kmeans_init 13: 4, 182 - sse_min: 39.516366481781006,  sse: 39.516366481781006 - center[0].shape: torch.Size([768]), device: cuda:0: 100%|█| 18\n",
      "kmeans_init 13: 5, 182 - sse_min: 35.62778854370117,  sse: 35.62778854370117 - center[0].shape: torch.Size([768]), device: cuda:0: 100%|█| 182/\n",
      "kmeans_init 13: 6, 182 - sse_min: 32.2401123046875,  sse: 32.2401123046875 - center[0].shape: torch.Size([768]), device: cuda:0: 100%|█| 182/18\n",
      "kmeans_init 13: 7, 182 - sse_min: 30.275442361831665,  sse: 30.275442361831665 - center[0].shape: torch.Size([768]), device: cuda:0: 100%|█| 18\n",
      "kmeans_init 13: 8, 182 - sse_min: 28.76198720932007,  sse: 28.76198720932007 - center[0].shape: torch.Size([768]), device: cuda:0: 100%|█| 182/\n",
      "kmeans_init 13: 9, 182 - sse_min: 27.268088221549988,  sse: 27.268088221549988 - center[0].shape: torch.Size([768]), device: cuda:0: 100%|█| 18\n",
      "kmeans_init 13: 10, 182 - sse_min: 25.860104203224182,  sse: 25.860104203224182 - center[0].shape: torch.Size([768]), device: cuda:0: 100%|█| 1\n",
      "kmeans_init 13: 11, 182 - sse_min: 24.716949582099915,  sse: 24.716949582099915 - center[0].shape: torch.Size([768]), device: cuda:0: 100%|█| 1\n",
      "kmeans_init 13: 12, 182 - sse_min: 23.602547764778137,  sse: 23.602547764778137 - center[0].shape: torch.Size([768]), device: cuda:0: 100%|█| 1\n"
     ]
    },
    {
     "name": "stdout",
     "output_type": "stream",
     "text": [
      "(13, 768)\n",
      "best_k:5\n",
      "best_clusters:[1 1 1 1 1 1 1 1 4 3 1 1 1 1 1 1 1 1 1 1 3 1 1 1 1 1 1 1 1 1 1 3 1 1 1 1 1\n",
      " 1 1 1 1 1 3 1 1 1 1 1 1 1 1 1 1 3 1 1 1 1 1 1 1 1 1 1 3 1 1 1 1 1 1 1 1 1\n",
      " 1 3 0 0 0 0 0 0 0 0 0 0 3 0 0 0 0 0 0 0 0 0 0 2 0 0 0 0 0 0 0 0 0 0 2 0 0\n",
      " 0 0 0 0 0 0 0 0 4 4 2 0 0 0 0 0 0 0 0 0 0 2 0 0 0 0 0 0 0 0 0 0 2 0 0 0 0\n",
      " 0 0 0 0 0 0 2 0 0 0 0 0 0 0 0 0 0 2 0 0 0 0 0 0 0 0 0 0 2 0 0 0 3 1]\n",
      "best_centers:(Length: 5)\n",
      "best_avg_sc:0.6376118534885333\n",
      "best_center_index:[146, 36, 132, 20, 8]\n",
      "1013 0.99507254 1029\n",
      "1001 0.9925229 1029\n",
      "[1029, 1125, 1139]\n",
      "1176 1334\n",
      "(158, 768)\n",
      "12\n",
      "In the process of initializing the center\n"
     ]
    },
    {
     "name": "stderr",
     "output_type": "stream",
     "text": [
      "kmeans_init 12: 0, 158 - sse_min: 54.545589447021484,  sse: 54.545589447021484 - center[0].shape: torch.Size([768]), device: cuda:0: 100%|█| 15\n",
      "kmeans_init 12: 1, 158 - sse_min: 46.67820358276367,  sse: 46.67820358276367 - center[0].shape: torch.Size([768]), device: cuda:0: 100%|█| 158/\n",
      "kmeans_init 12: 2, 158 - sse_min: 37.226781129837036,  sse: 37.226781129837036 - center[0].shape: torch.Size([768]), device: cuda:0: 100%|█| 15\n",
      "kmeans_init 12: 3, 158 - sse_min: 30.309887170791626,  sse: 30.309887170791626 - center[0].shape: torch.Size([768]), device: cuda:0: 100%|█| 15\n",
      "kmeans_init 12: 4, 158 - sse_min: 28.521308302879333,  sse: 28.521308302879333 - center[0].shape: torch.Size([768]), device: cuda:0: 100%|█| 15\n",
      "kmeans_init 12: 5, 158 - sse_min: 25.78972351551056,  sse: 25.78972351551056 - center[0].shape: torch.Size([768]), device: cuda:0: 100%|█| 158/\n",
      "kmeans_init 12: 6, 158 - sse_min: 24.665512204170227,  sse: 24.665512204170227 - center[0].shape: torch.Size([768]), device: cuda:0: 100%|█| 15\n",
      "kmeans_init 12: 7, 158 - sse_min: 23.74478590488434,  sse: 23.74478590488434 - center[0].shape: torch.Size([768]), device: cuda:0: 100%|█| 158/\n",
      "kmeans_init 12: 8, 158 - sse_min: 23.185235127806664,  sse: 23.185235127806664 - center[0].shape: torch.Size([768]), device: cuda:0: 100%|█| 15\n",
      "kmeans_init 12: 9, 158 - sse_min: 22.481616124510765,  sse: 22.481616124510765 - center[0].shape: torch.Size([768]), device: cuda:0: 100%|█| 15\n",
      "kmeans_init 12: 10, 158 - sse_min: 21.84529286623001,  sse: 21.84529286623001 - center[0].shape: torch.Size([768]), device: cuda:0: 100%|█| 158\n",
      "kmeans_init 12: 11, 158 - sse_min: 21.21185690164566,  sse: 21.21185690164566 - center[0].shape: torch.Size([768]), device: cuda:0: 100%|█| 158\n"
     ]
    },
    {
     "name": "stdout",
     "output_type": "stream",
     "text": [
      "(12, 768)\n",
      "best_k:3\n",
      "best_clusters:[0 0 0 0 1 0 0 0 0 0 0 0 0 0 0 1 0 0 0 0 0 0 0 0 0 0 1 0 0 0 0 0 0 0 0 0 0\n",
      " 1 0 0 0 0 0 0 0 0 0 0 1 1 0 0 0 0 0 0 0 0 0 0 1 0 0 0 0 0 0 0 0 0 0 1 0 0\n",
      " 0 0 0 0 0 0 0 0 1 0 0 0 0 0 0 0 0 0 0 1 0 0 0 0 0 0 0 0 0 0 1 0 0 0 0 0 0\n",
      " 0 0 0 0 1 0 0 0 0 0 0 0 0 0 0 1 0 0 0 0 0 0 0 0 0 0 1 0 0 0 0 2 2 2 2 2 2\n",
      " 1 2 2 2 2 2 2 2 2 2]\n",
      "best_centers:(Length: 3)\n",
      "best_avg_sc:0.6341477084895485\n",
      "best_center_index:[92, 60, 145]\n",
      "1236 0.97649145 1268\n",
      "[1268, 1321]\n",
      "1335 1365\n",
      "(30, 768)\n",
      "5\n",
      "In the process of initializing the center\n"
     ]
    },
    {
     "name": "stderr",
     "output_type": "stream",
     "text": [
      "kmeans_init 5: 0, 30 - sse_min: 18.918615341186523,  sse: 18.918615341186523 - center[0].shape: torch.Size([768]), device: cuda:0: 100%|█| 30/3\n",
      "kmeans_init 5: 1, 30 - sse_min: 7.672257661819458,  sse: 7.672257661819458 - center[0].shape: torch.Size([768]), device: cuda:0: 100%|█| 30/30 \n",
      "kmeans_init 5: 2, 30 - sse_min: 6.401828467845917,  sse: 6.401828467845917 - center[0].shape: torch.Size([768]), device: cuda:0: 100%|█| 30/30 \n",
      "kmeans_init 5: 3, 30 - sse_min: 5.530287683010101,  sse: 5.530287683010101 - center[0].shape: torch.Size([768]), device: cuda:0: 100%|█| 30/30 \n",
      "kmeans_init 5: 4, 30 - sse_min: 4.816540539264679,  sse: 4.816540539264679 - center[0].shape: torch.Size([768]), device: cuda:0: 100%|█| 30/30 \n"
     ]
    },
    {
     "name": "stdout",
     "output_type": "stream",
     "text": [
      "(5, 768)\n",
      "best_k:2\n",
      "best_clusters:[1 1 0 0 0 0 0 0 0 0 0 0 1 0 0 0 0 0 0 0 0 0 0 1 0 0 0 0 0 0]\n",
      "best_centers:(Length: 2)\n",
      "best_avg_sc:0.5961733733297475\n",
      "best_center_index:[22, 12]\n",
      "[]\n",
      "1366 1690\n",
      "(324, 768)\n",
      "18\n",
      "In the process of initializing the center\n"
     ]
    },
    {
     "name": "stderr",
     "output_type": "stream",
     "text": [
      "kmeans_init 18: 0, 324 - sse_min: 143.44432067871094,  sse: 143.44432067871094 - center[0].shape: torch.Size([768]), device: cuda:0: 100%|█| 32\n",
      "kmeans_init 18: 1, 324 - sse_min: 117.91544342041016,  sse: 117.91544342041016 - center[0].shape: torch.Size([768]), device: cuda:0: 100%|█| 32\n",
      "kmeans_init 18: 2, 324 - sse_min: 102.61556053161621,  sse: 102.61556053161621 - center[0].shape: torch.Size([768]), device: cuda:0: 100%|█| 32\n",
      "kmeans_init 18: 3, 324 - sse_min: 88.35443687438965,  sse: 88.35443687438965 - center[0].shape: torch.Size([768]), device: cuda:0: 100%|█| 324/\n",
      "kmeans_init 18: 4, 324 - sse_min: 81.8166332244873,  sse: 81.8166332244873 - center[0].shape: torch.Size([768]), device: cuda:0: 100%|█| 324/32\n",
      "kmeans_init 18: 5, 324 - sse_min: 77.8983383178711,  sse: 77.8983383178711 - center[0].shape: torch.Size([768]), device: cuda:0: 100%|█| 324/32\n",
      "kmeans_init 18: 6, 324 - sse_min: 74.22360897064209,  sse: 74.22360897064209 - center[0].shape: torch.Size([768]), device: cuda:0: 100%|█| 324/\n",
      "kmeans_init 18: 7, 324 - sse_min: 70.62563180923462,  sse: 70.62563180923462 - center[0].shape: torch.Size([768]), device: cuda:0: 100%|█| 324/\n",
      "kmeans_init 18: 8, 324 - sse_min: 68.26134490966797,  sse: 68.26134490966797 - center[0].shape: torch.Size([768]), device: cuda:0: 100%|█| 324/\n",
      "kmeans_init 18: 9, 324 - sse_min: 65.92616176605225,  sse: 65.92616176605225 - center[0].shape: torch.Size([768]), device: cuda:0: 100%|█| 324/\n",
      "kmeans_init 18: 10, 324 - sse_min: 63.8024787902832,  sse: 63.8024787902832 - center[0].shape: torch.Size([768]), device: cuda:0: 100%|█| 324/3\n",
      "kmeans_init 18: 11, 324 - sse_min: 62.130173206329346,  sse: 62.130173206329346 - center[0].shape: torch.Size([768]), device: cuda:0: 100%|█| 3\n",
      "kmeans_init 18: 12, 324 - sse_min: 60.47480058670044,  sse: 60.47480058670044 - center[0].shape: torch.Size([768]), device: cuda:0: 100%|█| 324\n",
      "kmeans_init 18: 13, 324 - sse_min: 58.828728675842285,  sse: 58.828728675842285 - center[0].shape: torch.Size([768]), device: cuda:0: 100%|█| 3\n",
      "kmeans_init 18: 14, 324 - sse_min: 57.40781578421593,  sse: 57.40781578421593 - center[0].shape: torch.Size([768]), device: cuda:0: 100%|█| 324\n",
      "kmeans_init 18: 15, 324 - sse_min: 56.65508595108986,  sse: 56.65508595108986 - center[0].shape: torch.Size([768]), device: cuda:0: 100%|█| 324\n",
      "kmeans_init 18: 16, 324 - sse_min: 55.44869628548622,  sse: 55.44869628548622 - center[0].shape: torch.Size([768]), device: cuda:0: 100%|█| 324\n",
      "kmeans_init 18: 17, 324 - sse_min: 54.25015702843666,  sse: 54.25015702843666 - center[0].shape: torch.Size([768]), device: cuda:0: 100%|█| 324\n"
     ]
    },
    {
     "name": "stdout",
     "output_type": "stream",
     "text": [
      "(18, 768)\n",
      "best_k:2\n",
      "best_clusters:[0 0 0 1 0 0 0 0 0 0 0 0 0 0 1 0 0 0 0 0 0 0 0 0 0 1 0 0 0 0 0 0 0 0 0 0 1\n",
      " 0 0 0 0 0 0 0 0 0 0 1 0 0 0 0 0 0 0 0 0 0 1 0 0 0 0 0 0 0 0 0 0 1 0 0 0 0\n",
      " 0 0 0 0 0 0 1 1 0 0 0 0 0 0 0 0 0 0 1 0 0 0 0 0 0 0 0 0 0 1 0 0 0 0 0 0 0\n",
      " 0 0 0 1 0 0 0 0 0 0 0 0 0 0 1 0 0 0 0 0 0 0 0 0 0 1 0 0 0 0 0 0 0 0 0 0 1\n",
      " 0 0 0 0 0 0 0 0 0 0 1 0 0 0 0 0 0 0 0 0 0 1 0 0 0 0 0 0 0 0 0 0 1 0 0 0 0\n",
      " 0 0 0 0 0 0 1 1 0 0 0 0 0 0 0 0 0 0 1 0 0 0 0 0 0 0 0 0 0 1 0 0 0 0 0 0 0\n",
      " 0 0 0 1 0 0 0 0 0 0 0 0 0 0 1 0 0 0 0 0 0 0 0 0 0 1 0 0 0 0 0 0 0 0 0 0 1\n",
      " 0 0 0 0 0 0 0 0 0 0 1 0 0 0 0 0 0 0 0 0 0 1 0 0 0 0 0 0 0 0 0 0 1 0 0 0 0\n",
      " 0 0 0 0 0 0 1 1 0 0 0 0 0 0 0 0 0 0 1 0 0 0 0 0 0 0 0 0]\n",
      "best_centers:(Length: 2)\n",
      "best_avg_sc:0.49794368403568495\n",
      "best_center_index:[145, 136]\n",
      "1502 0.9978964 1511\n",
      "[1511]\n",
      "1691 1696\n",
      "(5, 768)\n",
      "2\n",
      "In the process of initializing the center\n"
     ]
    },
    {
     "name": "stderr",
     "output_type": "stream",
     "text": [
      "kmeans_init 2: 0, 5 - sse_min: 2.842411518096924,  sse: 2.842411518096924 - center[0].shape: torch.Size([768]), device: cuda:0: 100%|█| 5/5 [00\n",
      "kmeans_init 2: 1, 5 - sse_min: 0.3288700580596924,  sse: 0.3288700580596924 - center[0].shape: torch.Size([768]), device: cuda:0: 100%|█| 5/5 ["
     ]
    },
    {
     "name": "stdout",
     "output_type": "stream",
     "text": [
      "(2, 768)\n",
      "best_k:2\n",
      "best_clusters:None\n",
      "best_centers is None, cannot determine its length.\n",
      "best_avg_sc:-1\n",
      "best_center_index:None\n",
      "final_index：[3, 43, 67, 172, 243, 269, 293, 347, 413, 440, 497, 542, 697, 737, 774, 924, 984, 1029, 1125, 1139, 1268, 1321, 1511, 0]\n",
      "save_frames:/mnt/ceph/develop/jiawei/lora_dataset/speech_data/B站//test_1/test_1-features-result-cuda/0.jpg\n",
      "save_frames:/mnt/ceph/develop/jiawei/lora_dataset/speech_data/B站//test_1/test_1-features-result-cuda/3.jpg\n"
     ]
    },
    {
     "name": "stderr",
     "output_type": "stream",
     "text": [
      "\n"
     ]
    },
    {
     "name": "stdout",
     "output_type": "stream",
     "text": [
      "save_frames:/mnt/ceph/develop/jiawei/lora_dataset/speech_data/B站//test_1/test_1-features-result-cuda/43.jpg\n",
      "save_frames:/mnt/ceph/develop/jiawei/lora_dataset/speech_data/B站//test_1/test_1-features-result-cuda/67.jpg\n",
      "save_frames:/mnt/ceph/develop/jiawei/lora_dataset/speech_data/B站//test_1/test_1-features-result-cuda/172.jpg\n",
      "save_frames:/mnt/ceph/develop/jiawei/lora_dataset/speech_data/B站//test_1/test_1-features-result-cuda/243.jpg\n",
      "save_frames:/mnt/ceph/develop/jiawei/lora_dataset/speech_data/B站//test_1/test_1-features-result-cuda/269.jpg\n",
      "save_frames:/mnt/ceph/develop/jiawei/lora_dataset/speech_data/B站//test_1/test_1-features-result-cuda/293.jpg\n",
      "save_frames:/mnt/ceph/develop/jiawei/lora_dataset/speech_data/B站//test_1/test_1-features-result-cuda/347.jpg\n",
      "save_frames:/mnt/ceph/develop/jiawei/lora_dataset/speech_data/B站//test_1/test_1-features-result-cuda/413.jpg\n",
      "save_frames:/mnt/ceph/develop/jiawei/lora_dataset/speech_data/B站//test_1/test_1-features-result-cuda/440.jpg\n",
      "save_frames:/mnt/ceph/develop/jiawei/lora_dataset/speech_data/B站//test_1/test_1-features-result-cuda/497.jpg\n",
      "save_frames:/mnt/ceph/develop/jiawei/lora_dataset/speech_data/B站//test_1/test_1-features-result-cuda/542.jpg\n",
      "save_frames:/mnt/ceph/develop/jiawei/lora_dataset/speech_data/B站//test_1/test_1-features-result-cuda/697.jpg\n",
      "save_frames:/mnt/ceph/develop/jiawei/lora_dataset/speech_data/B站//test_1/test_1-features-result-cuda/737.jpg\n",
      "save_frames:/mnt/ceph/develop/jiawei/lora_dataset/speech_data/B站//test_1/test_1-features-result-cuda/774.jpg\n",
      "save_frames:/mnt/ceph/develop/jiawei/lora_dataset/speech_data/B站//test_1/test_1-features-result-cuda/924.jpg\n",
      "save_frames:/mnt/ceph/develop/jiawei/lora_dataset/speech_data/B站//test_1/test_1-features-result-cuda/984.jpg\n",
      "save_frames:/mnt/ceph/develop/jiawei/lora_dataset/speech_data/B站//test_1/test_1-features-result-cuda/1029.jpg\n",
      "save_frames:/mnt/ceph/develop/jiawei/lora_dataset/speech_data/B站//test_1/test_1-features-result-cuda/1125.jpg\n",
      "save_frames:/mnt/ceph/develop/jiawei/lora_dataset/speech_data/B站//test_1/test_1-features-result-cuda/1139.jpg\n",
      "save_frames:/mnt/ceph/develop/jiawei/lora_dataset/speech_data/B站//test_1/test_1-features-result-cuda/1268.jpg\n",
      "save_frames:/mnt/ceph/develop/jiawei/lora_dataset/speech_data/B站//test_1/test_1-features-result-cuda/1321.jpg\n",
      "save_frames:/mnt/ceph/develop/jiawei/lora_dataset/speech_data/B站//test_1/test_1-features-result-cuda/1511.jpg\n",
      "scenes_path:/mnt/ceph/develop/jiawei/lora_dataset/speech_data/B站//test_10/test_10.mp4.scenes.txt\n",
      "features_path:/mnt/ceph/develop/jiawei/lora_dataset/speech_data/B站//test_10/keyframe-features/features.pkl\n",
      "video_path:/mnt/ceph/develop/jiawei/lora_dataset/speech_data/B站//test_10/test_10.mp4\n",
      "save_path:/mnt/ceph/develop/jiawei/lora_dataset/speech_data/B站//test_10/\n",
      "folder_path:test_10-features-result-cuda\n",
      "0 315\n",
      "\n",
      "['0', '315']\n",
      "(314, 768)\n",
      "0 315\n",
      "(314, 768)\n",
      "17\n",
      "In the process of initializing the center\n"
     ]
    },
    {
     "name": "stderr",
     "output_type": "stream",
     "text": [
      "kmeans_init 17: 0, 314 - sse_min: 69.47547912597656,  sse: 69.47547912597656 - center[0].shape: torch.Size([768]), device: cuda:0: 100%|█| 314/\n",
      "kmeans_init 17: 1, 314 - sse_min: 47.583683490753174,  sse: 47.583683490753174 - center[0].shape: torch.Size([768]), device: cuda:0: 100%|█| 31\n",
      "kmeans_init 17: 2, 314 - sse_min: 45.55477595329285,  sse: 45.55477595329285 - center[0].shape: torch.Size([768]), device: cuda:0: 100%|█| 314/\n",
      "kmeans_init 17: 3, 314 - sse_min: 43.54140758514404,  sse: 43.54140758514404 - center[0].shape: torch.Size([768]), device: cuda:0: 100%|█| 314/\n",
      "kmeans_init 17: 4, 314 - sse_min: 41.88845372200012,  sse: 41.88845372200012 - center[0].shape: torch.Size([768]), device: cuda:0: 100%|█| 314/\n",
      "kmeans_init 17: 5, 314 - sse_min: 40.32087993621826,  sse: 40.32087993621826 - center[0].shape: torch.Size([768]), device: cuda:0: 100%|█| 314/\n",
      "kmeans_init 17: 6, 314 - sse_min: 38.83217668533325,  sse: 38.83217668533325 - center[0].shape: torch.Size([768]), device: cuda:0: 100%|█| 314/\n",
      "kmeans_init 17: 7, 314 - sse_min: 37.83631817996502,  sse: 37.83631817996502 - center[0].shape: torch.Size([768]), device: cuda:0: 100%|█| 314/\n",
      "kmeans_init 17: 8, 314 - sse_min: 37.01965896785259,  sse: 37.01965896785259 - center[0].shape: torch.Size([768]), device: cuda:0: 100%|█| 314/\n",
      "kmeans_init 17: 9, 314 - sse_min: 36.2193259447813,  sse: 36.2193259447813 - center[0].shape: torch.Size([768]), device: cuda:0: 100%|█| 314/31\n",
      "kmeans_init 17: 10, 314 - sse_min: 35.49470965564251,  sse: 35.49470965564251 - center[0].shape: torch.Size([768]), device: cuda:0: 100%|█| 314\n",
      "kmeans_init 17: 11, 314 - sse_min: 34.8136030882597,  sse: 34.8136030882597 - center[0].shape: torch.Size([768]), device: cuda:0: 100%|█| 314/3\n",
      "kmeans_init 17: 12, 314 - sse_min: 34.24726991355419,  sse: 34.24726991355419 - center[0].shape: torch.Size([768]), device: cuda:0: 100%|█| 314\n",
      "kmeans_init 17: 13, 314 - sse_min: 33.69406692683697,  sse: 33.69406692683697 - center[0].shape: torch.Size([768]), device: cuda:0: 100%|█| 314\n",
      "kmeans_init 17: 14, 314 - sse_min: 33.168538108468056,  sse: 33.168538108468056 - center[0].shape: torch.Size([768]), device: cuda:0: 100%|█| 3\n",
      "kmeans_init 17: 15, 314 - sse_min: 32.646966233849525,  sse: 32.646966233849525 - center[0].shape: torch.Size([768]), device: cuda:0: 100%|█| 3\n",
      "kmeans_init 17: 16, 314 - sse_min: 32.13569916784763,  sse: 32.13569916784763 - center[0].shape: torch.Size([768]), device: cuda:0: 100%|█| 314\n"
     ]
    },
    {
     "name": "stdout",
     "output_type": "stream",
     "text": [
      "(17, 768)\n",
      "best_k:2\n",
      "best_clusters:[0 0 0 0 0 0 0 0 0 0 0 0 0 0 0 0 0 0 0 0 0 0 0 0 0 0 0 0 0 0 0 0 0 0 0 0 0\n",
      " 0 0 0 0 0 0 0 0 0 0 0 0 0 0 0 0 0 0 0 0 0 0 0 0 0 0 0 0 0 0 0 0 0 0 0 0 0\n",
      " 0 0 0 0 0 0 0 0 0 0 0 0 0 0 0 0 0 0 0 0 0 0 0 0 0 0 0 0 0 0 0 0 0 0 0 0 0\n",
      " 0 0 0 0 0 0 0 0 0 0 0 0 0 0 0 0 0 0 0 0 0 0 0 0 0 0 0 0 0 0 0 0 0 0 0 0 0\n",
      " 0 0 0 0 0 0 0 0 0 0 0 0 0 0 0 0 0 0 0 0 0 0 0 0 0 0 0 0 0 0 0 0 0 0 0 0 0\n",
      " 0 0 0 0 0 0 0 0 0 0 0 0 0 0 0 0 0 0 0 0 0 0 0 0 0 0 0 0 0 0 0 0 1 1 1 1 1\n",
      " 1 0 0 1 1 1 1 1 1 1 1 1 1 0 1 1 1 1 0 0 0 0 0 0 0 0 0 0 0 0 0 0 0 0 0 0 0\n",
      " 0 0 0 0 0 0 0 0 0 0 0 0 0 0 0 0 0 0 0 0 0 0 0 0 0 0 0 0 0 0 0 0 0 0 0 0 0\n",
      " 0 0 0 0 0 0 0 0 0 0 0 0 0 0 0 0 0 0]\n",
      "best_centers:(Length: 2)\n",
      "best_avg_sc:0.3143068458780535\n",
      "best_center_index:[122, 227]\n",
      "227 0.9908503 122\n",
      "[122]\n",
      "final_index：[122]\n",
      "save_frames:/mnt/ceph/develop/jiawei/lora_dataset/speech_data/B站//test_10/test_10-features-result-cuda/122.jpg\n",
      "scenes_path:/mnt/ceph/develop/jiawei/lora_dataset/speech_data/B站//test_11/test_11.mp4.scenes.txt\n",
      "features_path:/mnt/ceph/develop/jiawei/lora_dataset/speech_data/B站//test_11/keyframe-features/features.pkl\n",
      "video_path:/mnt/ceph/develop/jiawei/lora_dataset/speech_data/B站//test_11/test_11.mp4\n",
      "save_path:/mnt/ceph/develop/jiawei/lora_dataset/speech_data/B站//test_11/\n",
      "folder_path:test_11-features-result-cuda\n",
      "0 8\n",
      "\n",
      "['0', '8']\n",
      "10 298\n",
      "\n",
      "['10', '298']\n",
      "(297, 768)\n",
      "0 8\n",
      "(8, 768)\n",
      "2\n",
      "In the process of initializing the center\n"
     ]
    },
    {
     "name": "stderr",
     "output_type": "stream",
     "text": [
      "kmeans_init 2: 0, 8 - sse_min: 4.5956926345825195,  sse: 4.5956926345825195 - center[0].shape: torch.Size([768]), device: cuda:0: 100%|█| 8/8 [\n",
      "kmeans_init 2: 1, 8 - sse_min: 1.097808063030243,  sse: 1.097808063030243 - center[0].shape: torch.Size([768]), device: cuda:0: 100%|█| 8/8 [00"
     ]
    },
    {
     "name": "stdout",
     "output_type": "stream",
     "text": [
      "(2, 768)\n",
      "best_k:2\n",
      "best_clusters:None\n",
      "best_centers is None, cannot determine its length.\n",
      "best_avg_sc:-1\n",
      "best_center_index:None\n",
      "final_index：[0]\n",
      "save_frames:/mnt/ceph/develop/jiawei/lora_dataset/speech_data/B站//test_11/test_11-features-result-cuda/0.jpg\n"
     ]
    },
    {
     "name": "stderr",
     "output_type": "stream",
     "text": [
      "\n"
     ]
    },
    {
     "name": "stdout",
     "output_type": "stream",
     "text": [
      "scenes_path:/mnt/ceph/develop/jiawei/lora_dataset/speech_data/B站//test_12/test_12.mp4.scenes.txt\n",
      "features_path:/mnt/ceph/develop/jiawei/lora_dataset/speech_data/B站//test_12/keyframe-features/features.pkl\n",
      "video_path:/mnt/ceph/develop/jiawei/lora_dataset/speech_data/B站//test_12/test_12.mp4\n",
      "save_path:/mnt/ceph/develop/jiawei/lora_dataset/speech_data/B站//test_12/\n",
      "folder_path:test_12-features-result-cuda\n",
      "0 59\n",
      "\n",
      "['0', '59']\n",
      "60 112\n",
      "\n",
      "['60', '112']\n",
      "113 165\n",
      "\n",
      "['113', '165']\n",
      "166 219\n",
      "\n",
      "['166', '219']\n",
      "220 388\n",
      "\n",
      "['220', '388']\n",
      "(388, 768)\n",
      "0 59\n",
      "(59, 768)\n",
      "7\n",
      "In the process of initializing the center\n"
     ]
    },
    {
     "name": "stderr",
     "output_type": "stream",
     "text": [
      "kmeans_init 7: 0, 59 - sse_min: 28.453269958496094,  sse: 28.453269958496094 - center[0].shape: torch.Size([768]), device: cuda:0: 100%|█| 59/5\n",
      "kmeans_init 7: 1, 59 - sse_min: 12.517634630203247,  sse: 12.517634630203247 - center[0].shape: torch.Size([768]), device: cuda:0: 100%|█| 59/5\n",
      "kmeans_init 7: 2, 59 - sse_min: 11.70462965965271,  sse: 11.70462965965271 - center[0].shape: torch.Size([768]), device: cuda:0: 100%|█| 59/59 \n",
      "kmeans_init 7: 3, 59 - sse_min: 8.415164530277252,  sse: 8.415164530277252 - center[0].shape: torch.Size([768]), device: cuda:0: 100%|█| 59/59 \n",
      "kmeans_init 7: 4, 59 - sse_min: 6.601719556376338,  sse: 6.601719556376338 - center[0].shape: torch.Size([768]), device: cuda:0: 100%|█| 59/59 \n",
      "kmeans_init 7: 5, 59 - sse_min: 5.830257711932063,  sse: 5.830257711932063 - center[0].shape: torch.Size([768]), device: cuda:0: 100%|█| 59/59 \n",
      "kmeans_init 7: 6, 59 - sse_min: 5.32914918474853,  sse: 5.32914918474853 - center[0].shape: torch.Size([768]), device: cuda:0: 100%|█| 59/59 [0\n"
     ]
    },
    {
     "name": "stdout",
     "output_type": "stream",
     "text": [
      "(7, 768)\n",
      "best_k:5\n",
      "best_clusters:[1 1 1 2 2 2 2 2 2 2 2 2 2 1 2 2 3 3 3 3 4 4 4 0 1 0 0 0 0 0 0 0 0 0 0 1 0\n",
      " 0 0 0 0 0 0 0 0 0 1 0 0 0 0 0 0 0 0 0 0 1 0]\n",
      "best_centers:(Length: 5)\n",
      "best_avg_sc:0.6093390886608406\n",
      "best_center_index:[50, 13, 7, 17, 21]\n",
      "7 0.9987294 13\n",
      "17 0.9996834 13\n",
      "21 0.9994687 13\n",
      "[13, 50]\n",
      "60 112\n",
      "(52, 768)\n",
      "7\n",
      "In the process of initializing the center\n"
     ]
    },
    {
     "name": "stderr",
     "output_type": "stream",
     "text": [
      "kmeans_init 7: 0, 52 - sse_min: 19.312278747558594,  sse: 19.312278747558594 - center[0].shape: torch.Size([768]), device: cuda:0: 100%|█| 52/5\n",
      "kmeans_init 7: 1, 52 - sse_min: 14.127412796020508,  sse: 14.127412796020508 - center[0].shape: torch.Size([768]), device: cuda:0: 100%|█| 52/5\n",
      "kmeans_init 7: 2, 52 - sse_min: 11.158819317817688,  sse: 11.158819317817688 - center[0].shape: torch.Size([768]), device: cuda:0: 100%|█| 52/5\n",
      "kmeans_init 7: 3, 52 - sse_min: 9.208805903792381,  sse: 9.208805903792381 - center[0].shape: torch.Size([768]), device: cuda:0: 100%|█| 52/52 \n",
      "kmeans_init 7: 4, 52 - sse_min: 7.519510731101036,  sse: 7.519510731101036 - center[0].shape: torch.Size([768]), device: cuda:0: 100%|█| 52/52 \n",
      "kmeans_init 7: 5, 52 - sse_min: 7.24942110478878,  sse: 7.24942110478878 - center[0].shape: torch.Size([768]), device: cuda:0: 100%|█| 52/52 [0\n",
      "kmeans_init 7: 6, 52 - sse_min: 6.565654918551445,  sse: 6.565654918551445 - center[0].shape: torch.Size([768]), device: cuda:0: 100%|█| 52/52 \n"
     ]
    },
    {
     "name": "stdout",
     "output_type": "stream",
     "text": [
      "(7, 768)\n",
      "best_k:3\n",
      "best_clusters:[0 0 0 0 1 1 1 1 2 1 1 1 1 1 0 0 0 0 0 2 0 0 0 0 0 0 0 0 0 0 2 0 0 0 0 0 0\n",
      " 0 0 0 0 2 0 0 0 0 0 0 0 0 0 0]\n",
      "best_centers:(Length: 3)\n",
      "best_avg_sc:0.5579399029219723\n",
      "best_center_index:[28, 11, 19]\n",
      "79 0.979076 88\n",
      "[71, 88]\n",
      "113 165\n",
      "(52, 768)\n",
      "7\n",
      "In the process of initializing the center\n"
     ]
    },
    {
     "name": "stderr",
     "output_type": "stream",
     "text": [
      "kmeans_init 7: 0, 52 - sse_min: 24.79709243774414,  sse: 24.79709243774414 - center[0].shape: torch.Size([768]), device: cuda:0: 100%|█| 52/52 \n",
      "kmeans_init 7: 1, 52 - sse_min: 11.552431285381317,  sse: 11.552431285381317 - center[0].shape: torch.Size([768]), device: cuda:0: 100%|█| 52/5\n",
      "kmeans_init 7: 2, 52 - sse_min: 9.115760028362274,  sse: 9.115760028362274 - center[0].shape: torch.Size([768]), device: cuda:0: 100%|█| 52/52 \n",
      "kmeans_init 7: 3, 52 - sse_min: 8.913755109533668,  sse: 8.913755109533668 - center[0].shape: torch.Size([768]), device: cuda:0: 100%|█| 52/52 \n",
      "kmeans_init 7: 4, 52 - sse_min: 7.777952393516898,  sse: 7.777952393516898 - center[0].shape: torch.Size([768]), device: cuda:0: 100%|█| 52/52 \n",
      "kmeans_init 7: 5, 52 - sse_min: 6.774359544739127,  sse: 6.774359544739127 - center[0].shape: torch.Size([768]), device: cuda:0: 100%|█| 52/52 \n",
      "kmeans_init 7: 6, 52 - sse_min: 5.9292605724185705,  sse: 5.9292605724185705 - center[0].shape: torch.Size([768]), device: cuda:0: 100%|█| 52/5\n"
     ]
    },
    {
     "name": "stdout",
     "output_type": "stream",
     "text": [
      "(7, 768)\n",
      "best_k:2\n",
      "best_clusters:[1 0 0 0 0 0 0 0 0 0 0 1 0 0 0 0 0 0 0 0 0 0 1 0 0 0 0 0 0 0 0 0 0 1 0 0 0\n",
      " 0 0 0 0 0 0 0 1 0 0 0 0 0 0 0]\n",
      "best_centers:(Length: 2)\n",
      "best_avg_sc:0.4918414017481382\n",
      "best_center_index:[47, 33]\n",
      "[146, 160]\n",
      "166 219\n",
      "(53, 768)\n",
      "7\n",
      "In the process of initializing the center\n"
     ]
    },
    {
     "name": "stderr",
     "output_type": "stream",
     "text": [
      "kmeans_init 7: 0, 53 - sse_min: 15.895329475402832,  sse: 15.895329475402832 - center[0].shape: torch.Size([768]), device: cuda:0: 100%|█| 53/5\n",
      "kmeans_init 7: 1, 53 - sse_min: 10.875444889068604,  sse: 10.875444889068604 - center[0].shape: torch.Size([768]), device: cuda:0: 100%|█| 53/5\n",
      "kmeans_init 7: 2, 53 - sse_min: 10.131323337554932,  sse: 10.131323337554932 - center[0].shape: torch.Size([768]), device: cuda:0: 100%|█| 53/5\n",
      "kmeans_init 7: 3, 53 - sse_min: 7.915278643369675,  sse: 7.915278643369675 - center[0].shape: torch.Size([768]), device: cuda:0: 100%|█| 53/53 \n",
      "kmeans_init 7: 4, 53 - sse_min: 7.025871247053146,  sse: 7.025871247053146 - center[0].shape: torch.Size([768]), device: cuda:0: 100%|█| 53/53 \n",
      "kmeans_init 7: 5, 53 - sse_min: 6.35903725028038,  sse: 6.35903725028038 - center[0].shape: torch.Size([768]), device: cuda:0: 100%|█| 53/53 [0\n",
      "kmeans_init 7: 6, 53 - sse_min: 5.7311000525951385,  sse: 5.7311000525951385 - center[0].shape: torch.Size([768]), device: cuda:0: 100%|█| 53/5\n"
     ]
    },
    {
     "name": "stdout",
     "output_type": "stream",
     "text": [
      "(7, 768)\n",
      "best_k:3\n",
      "best_clusters:[1 1 2 1 1 1 1 1 1 1 1 1 1 2 1 1 1 1 1 1 1 1 1 1 2 1 0 0 0 0 0 0 0 0 0 2 0\n",
      " 0 0 0 0 0 0 0 0 0 2 0 0 0 0 0 0]\n",
      "best_centers:(Length: 3)\n",
      "best_avg_sc:0.5129217694769188\n",
      "best_center_index:[43, 7, 13]\n",
      "[173, 179, 209]\n",
      "220 388\n",
      "(168, 768)\n",
      "12\n",
      "In the process of initializing the center\n"
     ]
    },
    {
     "name": "stderr",
     "output_type": "stream",
     "text": [
      "kmeans_init 12: 0, 168 - sse_min: 64.56254577636719,  sse: 64.56254577636719 - center[0].shape: torch.Size([768]), device: cuda:0: 100%|█| 168/\n",
      "kmeans_init 12: 1, 168 - sse_min: 56.12684524059296,  sse: 56.12684524059296 - center[0].shape: torch.Size([768]), device: cuda:0: 100%|█| 168/\n",
      "kmeans_init 12: 2, 168 - sse_min: 45.74957454204559,  sse: 45.74957454204559 - center[0].shape: torch.Size([768]), device: cuda:0: 100%|█| 168/\n",
      "kmeans_init 12: 3, 168 - sse_min: 38.43948757648468,  sse: 38.43948757648468 - center[0].shape: torch.Size([768]), device: cuda:0: 100%|█| 168/\n",
      "kmeans_init 12: 4, 168 - sse_min: 36.45456886291504,  sse: 36.45456886291504 - center[0].shape: torch.Size([768]), device: cuda:0: 100%|█| 168/\n",
      "kmeans_init 12: 5, 168 - sse_min: 35.027496099472046,  sse: 35.027496099472046 - center[0].shape: torch.Size([768]), device: cuda:0: 100%|█| 16\n",
      "kmeans_init 12: 6, 168 - sse_min: 33.55212998390198,  sse: 33.55212998390198 - center[0].shape: torch.Size([768]), device: cuda:0: 100%|█| 168/\n",
      "kmeans_init 12: 7, 168 - sse_min: 32.114200830459595,  sse: 32.114200830459595 - center[0].shape: torch.Size([768]), device: cuda:0: 100%|█| 16\n",
      "kmeans_init 12: 8, 168 - sse_min: 30.893143892288208,  sse: 30.893143892288208 - center[0].shape: torch.Size([768]), device: cuda:0: 100%|█| 16\n",
      "kmeans_init 12: 9, 168 - sse_min: 29.701397210359573,  sse: 29.701397210359573 - center[0].shape: torch.Size([768]), device: cuda:0: 100%|█| 16\n",
      "kmeans_init 12: 10, 168 - sse_min: 28.75691917538643,  sse: 28.75691917538643 - center[0].shape: torch.Size([768]), device: cuda:0: 100%|█| 168\n",
      "kmeans_init 12: 11, 168 - sse_min: 27.897932797670364,  sse: 27.897932797670364 - center[0].shape: torch.Size([768]), device: cuda:0: 100%|█| 1\n"
     ]
    },
    {
     "name": "stdout",
     "output_type": "stream",
     "text": [
      "(12, 768)\n",
      "best_k:3\n",
      "best_clusters:[0 0 0 1 1 2 2 0 0 0 0 0 0 0 0 1 0 0 0 0 2 2 2 2 2 2 1 2 2 2 2 2 2 2 2 2 2\n",
      " 1 2 2 2 2 2 2 2 2 2 2 1 2 2 2 2 2 2 2 2 2 2 1 2 2 2 2 2 2 0 0 0 0 1 0 0 0\n",
      " 0 0 0 0 0 0 0 1 0 0 0 0 0 0 0 0 0 0 1 0 0 0 0 0 0 0 0 1 1 1 1 1 1 1 1 1 1\n",
      " 1 1 1 1 1 1 1 1 1 1 1 1 2 1 2 0 0 0 0 0 0 0 0 0 1 0 0 0 0 0 0 0 0 0 0 1 0\n",
      " 0 0 0 0 0 0 0 0 0 1 0 0 0 0 0 0 0 0 0 0]\n",
      "best_centers:(Length: 3)\n",
      "best_avg_sc:0.40134774575892507\n",
      "best_center_index:[144, 59, 33]\n",
      "[253, 279, 364]\n",
      "final_index：[13, 50, 71, 88, 146, 160, 173, 179, 209, 253, 279, 364]\n",
      "save_frames:/mnt/ceph/develop/jiawei/lora_dataset/speech_data/B站//test_12/test_12-features-result-cuda/13.jpg\n",
      "save_frames:/mnt/ceph/develop/jiawei/lora_dataset/speech_data/B站//test_12/test_12-features-result-cuda/50.jpg\n",
      "save_frames:/mnt/ceph/develop/jiawei/lora_dataset/speech_data/B站//test_12/test_12-features-result-cuda/71.jpg\n",
      "save_frames:/mnt/ceph/develop/jiawei/lora_dataset/speech_data/B站//test_12/test_12-features-result-cuda/88.jpg\n",
      "save_frames:/mnt/ceph/develop/jiawei/lora_dataset/speech_data/B站//test_12/test_12-features-result-cuda/146.jpg\n",
      "save_frames:/mnt/ceph/develop/jiawei/lora_dataset/speech_data/B站//test_12/test_12-features-result-cuda/160.jpg\n",
      "save_frames:/mnt/ceph/develop/jiawei/lora_dataset/speech_data/B站//test_12/test_12-features-result-cuda/173.jpg\n",
      "save_frames:/mnt/ceph/develop/jiawei/lora_dataset/speech_data/B站//test_12/test_12-features-result-cuda/179.jpg\n",
      "save_frames:/mnt/ceph/develop/jiawei/lora_dataset/speech_data/B站//test_12/test_12-features-result-cuda/209.jpg\n",
      "save_frames:/mnt/ceph/develop/jiawei/lora_dataset/speech_data/B站//test_12/test_12-features-result-cuda/253.jpg\n",
      "save_frames:/mnt/ceph/develop/jiawei/lora_dataset/speech_data/B站//test_12/test_12-features-result-cuda/279.jpg\n",
      "save_frames:/mnt/ceph/develop/jiawei/lora_dataset/speech_data/B站//test_12/test_12-features-result-cuda/364.jpg\n",
      "scenes_path:/mnt/ceph/develop/jiawei/lora_dataset/speech_data/B站//test_13/test_13.mp4.scenes.txt\n",
      "features_path:/mnt/ceph/develop/jiawei/lora_dataset/speech_data/B站//test_13/keyframe-features/features.pkl\n",
      "video_path:/mnt/ceph/develop/jiawei/lora_dataset/speech_data/B站//test_13/test_13.mp4\n",
      "save_path:/mnt/ceph/develop/jiawei/lora_dataset/speech_data/B站//test_13/\n",
      "folder_path:test_13-features-result-cuda\n",
      "0 57\n",
      "\n",
      "['0', '57']\n",
      "58 115\n",
      "\n",
      "['58', '115']\n",
      "116 178\n",
      "\n",
      "['116', '178']\n",
      "179 240\n",
      "\n",
      "['179', '240']\n",
      "(240, 768)\n",
      "0 57\n",
      "(57, 768)\n",
      "7\n",
      "In the process of initializing the center\n"
     ]
    },
    {
     "name": "stderr",
     "output_type": "stream",
     "text": [
      "kmeans_init 7: 0, 57 - sse_min: 31.264509201049805,  sse: 31.264509201049805 - center[0].shape: torch.Size([768]), device: cuda:0: 100%|█| 57/5\n",
      "kmeans_init 7: 1, 57 - sse_min: 11.731613576412201,  sse: 11.731613576412201 - center[0].shape: torch.Size([768]), device: cuda:0: 100%|█| 57/5\n",
      "kmeans_init 7: 2, 57 - sse_min: 5.247403085231781,  sse: 5.247403085231781 - center[0].shape: torch.Size([768]), device: cuda:0: 100%|█| 57/57 \n",
      "kmeans_init 7: 3, 57 - sse_min: 4.818516606464982,  sse: 4.818516606464982 - center[0].shape: torch.Size([768]), device: cuda:0: 100%|█| 57/57 \n",
      "kmeans_init 7: 4, 57 - sse_min: 4.293607736006379,  sse: 4.293607736006379 - center[0].shape: torch.Size([768]), device: cuda:0: 100%|█| 57/57 \n",
      "kmeans_init 7: 5, 57 - sse_min: 3.920523786917329,  sse: 3.920523786917329 - center[0].shape: torch.Size([768]), device: cuda:0: 100%|█| 57/57 \n",
      "100%|████████████████████████████████████████████████████████████████████████████████████████████████████████| 57/57 [00:00<00:00, 1181.82it/s]\n"
     ]
    },
    {
     "name": "stdout",
     "output_type": "stream",
     "text": [
      "(7, 768)\n",
      "best_k:3\n",
      "best_clusters:[2 2 2 1 1 1 1 1 1 1 1 1 1 2 1 1 1 1 1 0 0 0 0 0 2 0 0 0 0 0 0 0 0 0 0 2 0\n",
      " 0 0 0 0 0 0 0 0 0 2 0 0 0 0 0 0 0 0 0 0]\n",
      "best_centers:(Length: 3)\n",
      "best_avg_sc:0.7953192254382349\n",
      "best_center_index:[33, 6, 35]\n",
      "6 0.999452 33\n",
      "35 0.9999003 33\n",
      "[33]\n",
      "58 115\n",
      "(57, 768)\n",
      "7\n",
      "In the process of initializing the center\n"
     ]
    },
    {
     "name": "stderr",
     "output_type": "stream",
     "text": [
      "kmeans_init 7: 0, 57 - sse_min: 21.09703826904297,  sse: 21.09703826904297 - center[0].shape: torch.Size([768]), device: cuda:0: 100%|█| 57/57 \n",
      "kmeans_init 7: 1, 57 - sse_min: 18.244812548160553,  sse: 18.244812548160553 - center[0].shape: torch.Size([768]), device: cuda:0: 100%|█| 57/5\n",
      "kmeans_init 7: 2, 57 - sse_min: 8.600701868534088,  sse: 8.600701868534088 - center[0].shape: torch.Size([768]), device: cuda:0: 100%|█| 57/57 \n",
      "kmeans_init 7: 3, 57 - sse_min: 5.198255181312561,  sse: 5.198255181312561 - center[0].shape: torch.Size([768]), device: cuda:0: 100%|█| 57/57 \n",
      "kmeans_init 7: 4, 57 - sse_min: 4.6386120319366455,  sse: 4.6386120319366455 - center[0].shape: torch.Size([768]), device: cuda:0: 100%|█| 57/5\n",
      "kmeans_init 7: 5, 57 - sse_min: 4.445655107498169,  sse: 4.445655107498169 - center[0].shape: torch.Size([768]), device: cuda:0: 100%|█| 57/57 \n",
      "kmeans_init 7: 6, 57 - sse_min: 4.173909962177277,  sse: 4.173909962177277 - center[0].shape: torch.Size([768]), device: cuda:0: 100%|█| 57/57 \n"
     ]
    },
    {
     "name": "stdout",
     "output_type": "stream",
     "text": [
      "(7, 768)\n",
      "best_k:3\n",
      "best_clusters:[0 0 0 0 0 0 0 0 0 0 2 0 0 0 0 0 0 0 0 0 0 2 0 0 0 0 0 0 0 0 1 1 2 1 1 1 1\n",
      " 1 1 1 1 1 1 2 1 1 1 1 1 1 1 1 1 1 2 2 1]\n",
      "best_centers:(Length: 3)\n",
      "best_avg_sc:0.7880953477024876\n",
      "best_center_index:[13, 39, 32]\n",
      "97 0.9958105 71\n",
      "90 0.99782175 71\n",
      "[71]\n",
      "116 178\n",
      "(62, 768)\n",
      "7\n",
      "In the process of initializing the center\n"
     ]
    },
    {
     "name": "stderr",
     "output_type": "stream",
     "text": [
      "kmeans_init 7: 0, 62 - sse_min: 21.309913635253906,  sse: 21.309913635253906 - center[0].shape: torch.Size([768]), device: cuda:0: 100%|█| 62/6\n",
      "kmeans_init 7: 1, 62 - sse_min: 19.40731978416443,  sse: 19.40731978416443 - center[0].shape: torch.Size([768]), device: cuda:0: 100%|█| 62/62 \n",
      "kmeans_init 7: 2, 62 - sse_min: 5.87847638130188,  sse: 5.87847638130188 - center[0].shape: torch.Size([768]), device: cuda:0: 100%|█| 62/62 [0\n",
      "kmeans_init 7: 3, 62 - sse_min: 5.3266236782073975,  sse: 5.3266236782073975 - center[0].shape: torch.Size([768]), device: cuda:0: 100%|█| 62/6\n",
      "kmeans_init 7: 4, 62 - sse_min: 4.855651140213013,  sse: 4.855651140213013 - center[0].shape: torch.Size([768]), device: cuda:0: 100%|█| 62/62 \n",
      "kmeans_init 7: 5, 62 - sse_min: 4.589064568281174,  sse: 4.589064568281174 - center[0].shape: torch.Size([768]), device: cuda:0: 100%|█| 62/62 \n",
      "kmeans_init 7: 6, 62 - sse_min: 4.3583084642887115,  sse: 4.3583084642887115 - center[0].shape: torch.Size([768]), device: cuda:0: 100%|█| 62/6\n"
     ]
    },
    {
     "name": "stdout",
     "output_type": "stream",
     "text": [
      "(7, 768)\n",
      "best_k:2\n",
      "best_clusters:[0 0 0 0 0 0 0 0 1 0 0 0 0 0 0 0 0 0 0 1 0 0 0 0 0 0 0 0 0 0 1 0 0 0 0 0 0\n",
      " 0 0 0 0 1 1 1 1 1 1 1 1 1 1 1 1 1 1 1 1 1 1 1 1 1]\n",
      "best_centers:(Length: 2)\n",
      "best_avg_sc:0.8065095920879153\n",
      "best_center_index:[13, 49]\n",
      "165 0.9996693 129\n",
      "[129]\n",
      "179 240\n",
      "(61, 768)\n",
      "7\n",
      "In the process of initializing the center\n"
     ]
    },
    {
     "name": "stderr",
     "output_type": "stream",
     "text": [
      "kmeans_init 7: 0, 61 - sse_min: 24.675472259521484,  sse: 24.675472259521484 - center[0].shape: torch.Size([768]), device: cuda:0: 100%|█| 61/6\n",
      "kmeans_init 7: 1, 61 - sse_min: 6.41051983833313,  sse: 6.41051983833313 - center[0].shape: torch.Size([768]), device: cuda:0: 100%|█| 61/61 [0\n",
      "kmeans_init 7: 2, 61 - sse_min: 6.271922469139099,  sse: 6.271922469139099 - center[0].shape: torch.Size([768]), device: cuda:0: 100%|█| 61/61 \n",
      "kmeans_init 7: 3, 61 - sse_min: 5.477352738380432,  sse: 5.477352738380432 - center[0].shape: torch.Size([768]), device: cuda:0: 100%|█| 61/61 \n",
      "kmeans_init 7: 4, 61 - sse_min: 4.988227725028992,  sse: 4.988227725028992 - center[0].shape: torch.Size([768]), device: cuda:0: 100%|█| 61/61 \n",
      "kmeans_init 7: 5, 61 - sse_min: 4.511203289031982,  sse: 4.511203289031982 - center[0].shape: torch.Size([768]), device: cuda:0: 100%|█| 61/61 \n",
      "kmeans_init 7: 6, 61 - sse_min: 4.301497519016266,  sse: 4.301497519016266 - center[0].shape: torch.Size([768]), device: cuda:0: 100%|█| 61/61 \n"
     ]
    },
    {
     "name": "stdout",
     "output_type": "stream",
     "text": [
      "(7, 768)\n",
      "best_k:2\n",
      "best_clusters:[1 1 1 1 1 1 1 1 1 1 1 1 1 1 0 0 0 1 0 0 0 0 0 0 0 0 0 0 1 0 0 0 0 0 0 0 0\n",
      " 0 0 1 0 0 0 0 0 0 0 0 0 0 1 0 0 0 0 0 0 0 0 0 0]\n",
      "best_centers:(Length: 2)\n",
      "best_avg_sc:0.7723567793088114\n",
      "best_center_index:[16, 1]\n",
      "180 0.9993876 195\n",
      "[195]\n",
      "final_index：[33, 71, 129, 195]\n",
      "save_frames:/mnt/ceph/develop/jiawei/lora_dataset/speech_data/B站//test_13/test_13-features-result-cuda/33.jpg\n",
      "save_frames:/mnt/ceph/develop/jiawei/lora_dataset/speech_data/B站//test_13/test_13-features-result-cuda/71.jpg\n",
      "save_frames:/mnt/ceph/develop/jiawei/lora_dataset/speech_data/B站//test_13/test_13-features-result-cuda/129.jpg\n",
      "save_frames:/mnt/ceph/develop/jiawei/lora_dataset/speech_data/B站//test_13/test_13-features-result-cuda/195.jpg\n",
      "scenes_path:/mnt/ceph/develop/jiawei/lora_dataset/speech_data/B站//test_14/test_14.mp4.scenes.txt\n",
      "features_path:/mnt/ceph/develop/jiawei/lora_dataset/speech_data/B站//test_14/keyframe-features/features.pkl\n",
      "video_path:/mnt/ceph/develop/jiawei/lora_dataset/speech_data/B站//test_14/test_14.mp4\n",
      "save_path:/mnt/ceph/develop/jiawei/lora_dataset/speech_data/B站//test_14/\n",
      "folder_path:test_14-features-result-cuda\n",
      "0 93\n",
      "\n",
      "['0', '93']\n",
      "94 161\n",
      "\n",
      "['94', '161']\n",
      "162 168\n",
      "\n",
      "['162', '168']\n",
      "(168, 768)\n",
      "0 93\n",
      "(93, 768)\n",
      "9\n",
      "In the process of initializing the center\n"
     ]
    },
    {
     "name": "stderr",
     "output_type": "stream",
     "text": [
      "kmeans_init 9: 0, 93 - sse_min: 30.339553833007812,  sse: 30.339553833007812 - center[0].shape: torch.Size([768]), device: cuda:0: 100%|█| 93/9\n",
      "kmeans_init 9: 1, 93 - sse_min: 13.013869762420654,  sse: 13.013869762420654 - center[0].shape: torch.Size([768]), device: cuda:0: 100%|█| 93/9\n",
      "kmeans_init 9: 2, 93 - sse_min: 10.86940586566925,  sse: 10.86940586566925 - center[0].shape: torch.Size([768]), device: cuda:0: 100%|█| 93/93 \n",
      "kmeans_init 9: 3, 93 - sse_min: 8.494519591331482,  sse: 8.494519591331482 - center[0].shape: torch.Size([768]), device: cuda:0: 100%|█| 93/93 \n",
      "kmeans_init 9: 4, 93 - sse_min: 7.083155512809753,  sse: 7.083155512809753 - center[0].shape: torch.Size([768]), device: cuda:0: 100%|█| 93/93 \n",
      "kmeans_init 9: 5, 93 - sse_min: 6.401247888803482,  sse: 6.401247888803482 - center[0].shape: torch.Size([768]), device: cuda:0: 100%|█| 93/93 \n",
      "kmeans_init 9: 6, 93 - sse_min: 6.036920934915543,  sse: 6.036920934915543 - center[0].shape: torch.Size([768]), device: cuda:0: 100%|█| 93/93 \n",
      "kmeans_init 9: 7, 93 - sse_min: 5.687878280878067,  sse: 5.687878280878067 - center[0].shape: torch.Size([768]), device: cuda:0: 100%|█| 93/93 \n",
      "kmeans_init 9: 8, 93 - sse_min: 5.384278357028961,  sse: 5.384278357028961 - center[0].shape: torch.Size([768]), device: cuda:0: 100%|█| 93/93 \n"
     ]
    },
    {
     "name": "stdout",
     "output_type": "stream",
     "text": [
      "(9, 768)\n",
      "best_k:5\n",
      "best_clusters:[1 1 1 1 1 1 1 1 1 1 1 1 1 1 1 1 1 1 1 1 1 1 1 0 1 0 0 0 0 0 0 0 0 0 0 1 0\n",
      " 0 0 0 0 0 0 0 0 0 1 0 0 0 0 0 0 0 0 0 0 1 0 0 0 0 0 0 0 0 0 2 1 2 2 2 2 2\n",
      " 2 4 3 1 1 1 1 1 1 1 1 1 1 1 1 1 1 1 1]\n",
      "best_centers:(Length: 5)\n",
      "best_avg_sc:0.6706387851866139\n",
      "best_center_index:[39, 68, 71, 76, 75]\n",
      "71 0.99996454 68\n",
      "76 0.9999059 68\n",
      "75 0.9999186 68\n",
      "[39, 68]\n",
      "94 161\n",
      "(67, 768)\n",
      "8\n",
      "In the process of initializing the center\n"
     ]
    },
    {
     "name": "stderr",
     "output_type": "stream",
     "text": [
      "kmeans_init 8: 0, 67 - sse_min: 23.399499893188477,  sse: 23.399499893188477 - center[0].shape: torch.Size([768]), device: cuda:0: 100%|█| 67/6\n",
      "kmeans_init 8: 1, 67 - sse_min: 7.337343692779541,  sse: 7.337343692779541 - center[0].shape: torch.Size([768]), device: cuda:0: 100%|█| 67/67 \n",
      "kmeans_init 8: 2, 67 - sse_min: 7.112902402877808,  sse: 7.112902402877808 - center[0].shape: torch.Size([768]), device: cuda:0: 100%|█| 67/67 \n",
      "kmeans_init 8: 3, 67 - sse_min: 6.335572004318237,  sse: 6.335572004318237 - center[0].shape: torch.Size([768]), device: cuda:0: 100%|█| 67/67 \n",
      "kmeans_init 8: 4, 67 - sse_min: 5.686649262905121,  sse: 5.686649262905121 - center[0].shape: torch.Size([768]), device: cuda:0: 100%|█| 67/67 \n",
      "kmeans_init 8: 5, 67 - sse_min: 5.052574455738068,  sse: 5.052574455738068 - center[0].shape: torch.Size([768]), device: cuda:0: 100%|█| 67/67 \n",
      "kmeans_init 8: 6, 67 - sse_min: 4.43067729473114,  sse: 4.43067729473114 - center[0].shape: torch.Size([768]), device: cuda:0: 100%|█| 67/67 [0\n",
      "kmeans_init 8: 7, 67 - sse_min: 3.995723083615303,  sse: 3.995723083615303 - center[0].shape: torch.Size([768]), device: cuda:0: 100%|█| 67/67 \n"
     ]
    },
    {
     "name": "stdout",
     "output_type": "stream",
     "text": [
      "(8, 768)\n",
      "best_k:3\n",
      "best_clusters:[1 1 1 1 1 1 1 1 1 1 1 1 1 1 1 1 1 0 0 1 0 0 0 0 0 0 0 0 0 0 1 0 0 0 0 0 0\n",
      " 0 0 0 0 1 0 0 0 0 0 0 0 0 0 0 1 0 0 0 0 0 0 0 0 2 1 1 1 1 1]\n",
      "best_centers:(Length: 3)\n",
      "best_avg_sc:0.6836167689172772\n",
      "best_center_index:[40, 5, 61]\n",
      "[99, 134, 155]\n",
      "162 168\n",
      "(6, 768)\n",
      "2\n",
      "In the process of initializing the center\n"
     ]
    },
    {
     "name": "stderr",
     "output_type": "stream",
     "text": [
      "kmeans_init 2: 0, 6 - sse_min: 0.6597176790237427,  sse: 0.6597176790237427 - center[0].shape: torch.Size([768]), device: cuda:0: 100%|█| 6/6 [\n",
      "kmeans_init 2: 1, 6 - sse_min: 0.24223487079143524,  sse: 0.24223487079143524 - center[0].shape: torch.Size([768]), device: cuda:0: 100%|█| 6/6"
     ]
    },
    {
     "name": "stdout",
     "output_type": "stream",
     "text": [
      "(2, 768)\n",
      "best_k:2\n",
      "best_clusters:None\n",
      "best_centers is None, cannot determine its length.\n",
      "best_avg_sc:-1\n",
      "best_center_index:None\n",
      "final_index：[39, 68, 99, 134, 155, 0]\n",
      "save_frames:/mnt/ceph/develop/jiawei/lora_dataset/speech_data/B站//test_14/test_14-features-result-cuda/0.jpg\n",
      "save_frames:/mnt/ceph/develop/jiawei/lora_dataset/speech_data/B站//test_14/test_14-features-result-cuda/39.jpg\n"
     ]
    },
    {
     "name": "stderr",
     "output_type": "stream",
     "text": [
      "\n"
     ]
    },
    {
     "name": "stdout",
     "output_type": "stream",
     "text": [
      "save_frames:/mnt/ceph/develop/jiawei/lora_dataset/speech_data/B站//test_14/test_14-features-result-cuda/68.jpg\n",
      "save_frames:/mnt/ceph/develop/jiawei/lora_dataset/speech_data/B站//test_14/test_14-features-result-cuda/99.jpg\n",
      "save_frames:/mnt/ceph/develop/jiawei/lora_dataset/speech_data/B站//test_14/test_14-features-result-cuda/134.jpg\n",
      "save_frames:/mnt/ceph/develop/jiawei/lora_dataset/speech_data/B站//test_14/test_14-features-result-cuda/155.jpg\n",
      "scenes_path:/mnt/ceph/develop/jiawei/lora_dataset/speech_data/B站//test_15/test_15.mp4.scenes.txt\n",
      "features_path:/mnt/ceph/develop/jiawei/lora_dataset/speech_data/B站//test_15/keyframe-features/features.pkl\n",
      "video_path:/mnt/ceph/develop/jiawei/lora_dataset/speech_data/B站//test_15/test_15.mp4\n",
      "save_path:/mnt/ceph/develop/jiawei/lora_dataset/speech_data/B站//test_15/\n",
      "folder_path:test_15-features-result-cuda\n",
      "0 89\n",
      "\n",
      "['0', '89']\n",
      "90 226\n",
      "\n",
      "['90', '226']\n",
      "(226, 768)\n",
      "0 89\n",
      "(89, 768)\n",
      "9\n",
      "In the process of initializing the center\n"
     ]
    },
    {
     "name": "stderr",
     "output_type": "stream",
     "text": [
      "kmeans_init 9: 0, 89 - sse_min: 69.68358612060547,  sse: 69.68358612060547 - center[0].shape: torch.Size([768]), device: cuda:0: 100%|█| 89/89 \n",
      "kmeans_init 9: 1, 89 - sse_min: 23.32990598678589,  sse: 23.32990598678589 - center[0].shape: torch.Size([768]), device: cuda:0: 100%|█| 89/89 \n",
      "kmeans_init 9: 2, 89 - sse_min: 20.213427782058716,  sse: 20.213427782058716 - center[0].shape: torch.Size([768]), device: cuda:0: 100%|█| 89/8\n",
      "kmeans_init 9: 3, 89 - sse_min: 17.637675046920776,  sse: 17.637675046920776 - center[0].shape: torch.Size([768]), device: cuda:0: 100%|█| 89/8\n",
      "kmeans_init 9: 4, 89 - sse_min: 15.102201700210571,  sse: 15.102201700210571 - center[0].shape: torch.Size([768]), device: cuda:0: 100%|█| 89/8\n",
      "kmeans_init 9: 5, 89 - sse_min: 14.08927597105503,  sse: 14.08927597105503 - center[0].shape: torch.Size([768]), device: cuda:0: 100%|█| 89/89 \n",
      "kmeans_init 9: 6, 89 - sse_min: 13.122619286179543,  sse: 13.122619286179543 - center[0].shape: torch.Size([768]), device: cuda:0: 100%|█| 89/8\n",
      "100%|████████████████████████████████████████████████████████████████████████████████████████████████████████| 89/89 [00:00<00:00, 1050.09it/s]\n",
      "100%|█████████████████████████████████████████████████████████████████████████████████████████████████████████| 89/89 [00:00<00:00, 968.98it/s]\n"
     ]
    },
    {
     "name": "stdout",
     "output_type": "stream",
     "text": [
      "(9, 768)\n",
      "best_k:2\n",
      "best_clusters:[1 1 1 0 0 0 0 0 0 0 0 0 0 1 0 0 0 0 0 0 0 0 0 0 1 0 0 0 0 0 0 0 0 0 0 1 0\n",
      " 0 0 0 0 0 0 0 0 0 1 0 0 0 0 0 0 0 0 0 0 1 0 0 0 0 0 0 0 0 0 0 1 0 0 0 0 0\n",
      " 0 0 0 0 0 1 0 0 0 0 0 0 0 0 0]\n",
      "best_centers:(Length: 2)\n",
      "best_avg_sc:0.6617482971911478\n",
      "best_center_index:[20, 24]\n",
      "24 1.0 20\n",
      "[20]\n",
      "90 226\n",
      "(136, 768)\n",
      "11\n",
      "In the process of initializing the center\n"
     ]
    },
    {
     "name": "stderr",
     "output_type": "stream",
     "text": [
      "kmeans_init 11: 0, 136 - sse_min: 91.29446411132812,  sse: 91.29446411132812 - center[0].shape: torch.Size([768]), device: cuda:0: 100%|█| 136/\n",
      "kmeans_init 11: 1, 136 - sse_min: 55.37004852294922,  sse: 55.37004852294922 - center[0].shape: torch.Size([768]), device: cuda:0: 100%|█| 136/\n",
      "kmeans_init 11: 2, 136 - sse_min: 34.134013175964355,  sse: 34.134013175964355 - center[0].shape: torch.Size([768]), device: cuda:0: 100%|█| 13\n",
      "kmeans_init 11: 3, 136 - sse_min: 32.58159685134888,  sse: 32.58159685134888 - center[0].shape: torch.Size([768]), device: cuda:0: 100%|█| 136/\n",
      "kmeans_init 11: 4, 136 - sse_min: 29.37353801727295,  sse: 29.37353801727295 - center[0].shape: torch.Size([768]), device: cuda:0: 100%|█| 136/\n",
      "kmeans_init 11: 5, 136 - sse_min: 27.310736417770386,  sse: 27.310736417770386 - center[0].shape: torch.Size([768]), device: cuda:0: 100%|█| 13\n",
      "kmeans_init 11: 6, 136 - sse_min: 25.63848477602005,  sse: 25.63848477602005 - center[0].shape: torch.Size([768]), device: cuda:0: 100%|█| 136/\n",
      "kmeans_init 11: 7, 136 - sse_min: 24.156936466693878,  sse: 24.156936466693878 - center[0].shape: torch.Size([768]), device: cuda:0: 100%|█| 13\n",
      "kmeans_init 11: 8, 136 - sse_min: 22.94043391942978,  sse: 22.94043391942978 - center[0].shape: torch.Size([768]), device: cuda:0: 100%|█| 136/\n",
      "kmeans_init 11: 9, 136 - sse_min: 21.766339421272278,  sse: 21.766339421272278 - center[0].shape: torch.Size([768]), device: cuda:0: 100%|█| 13\n",
      "kmeans_init 11: 10, 136 - sse_min: 20.82344162464142,  sse: 20.82344162464142 - center[0].shape: torch.Size([768]), device: cuda:0: 100%|█| 136\n"
     ]
    },
    {
     "name": "stdout",
     "output_type": "stream",
     "text": [
      "(11, 768)\n",
      "best_k:3\n",
      "best_clusters:[2 0 0 0 0 0 0 0 0 0 0 2 0 0 0 0 0 0 0 0 0 0 2 2 0 0 0 0 0 0 0 0 0 0 2 0 0\n",
      " 0 0 0 0 0 0 0 0 2 0 0 0 0 0 0 2 2 2 2 2 2 2 2 2 2 2 2 2 2 2 2 2 2 2 2 2 2\n",
      " 2 2 2 2 2 1 1 2 1 1 1 1 1 1 1 1 1 1 2 1 1 1 1 1 1 1 1 1 1 2 1 1 1 1 1 1 1\n",
      " 1 1 1 2 1 1 1 1 1 1 1 1 1 0 2 0 0 0 0 0 0 0 0 0 0]\n",
      "best_centers:(Length: 3)\n",
      "best_avg_sc:0.6229254344776979\n",
      "best_center_index:[7, 97, 63]\n",
      "153 0.9659027 97\n",
      "[97, 187]\n",
      "final_index：[20, 97, 187]\n",
      "save_frames:/mnt/ceph/develop/jiawei/lora_dataset/speech_data/B站//test_15/test_15-features-result-cuda/20.jpg\n",
      "save_frames:/mnt/ceph/develop/jiawei/lora_dataset/speech_data/B站//test_15/test_15-features-result-cuda/97.jpg\n",
      "save_frames:/mnt/ceph/develop/jiawei/lora_dataset/speech_data/B站//test_15/test_15-features-result-cuda/187.jpg\n",
      "scenes_path:/mnt/ceph/develop/jiawei/lora_dataset/speech_data/B站//test_16/test_16.mp4.scenes.txt\n",
      "features_path:/mnt/ceph/develop/jiawei/lora_dataset/speech_data/B站//test_16/keyframe-features/features.pkl\n",
      "video_path:/mnt/ceph/develop/jiawei/lora_dataset/speech_data/B站//test_16/test_16.mp4\n",
      "save_path:/mnt/ceph/develop/jiawei/lora_dataset/speech_data/B站//test_16/\n",
      "folder_path:test_16-features-result-cuda\n",
      "0 8\n",
      "\n",
      "['0', '8']\n",
      "10 107\n",
      "\n",
      "['10', '107']\n",
      "108 172\n",
      "\n",
      "['108', '172']\n",
      "173 230\n",
      "\n",
      "['173', '230']\n",
      "231 351\n",
      "\n",
      "['231', '351']\n",
      "352 409\n",
      "\n",
      "['352', '409']\n",
      "410 461\n",
      "\n",
      "['410', '461']\n",
      "462 528\n",
      "\n",
      "['462', '528']\n",
      "529 586\n",
      "\n",
      "['529', '586']\n",
      "587 711\n",
      "\n",
      "['587', '711']\n",
      "712 719\n",
      "\n",
      "['712', '719']\n",
      "(718, 768)\n",
      "0 8\n",
      "(8, 768)\n",
      "2\n",
      "In the process of initializing the center\n"
     ]
    },
    {
     "name": "stderr",
     "output_type": "stream",
     "text": [
      "kmeans_init 2: 0, 8 - sse_min: 4.797053337097168,  sse: 4.797053337097168 - center[0].shape: torch.Size([768]), device: cuda:0: 100%|█| 8/8 [00\n",
      "kmeans_init 2: 1, 8 - sse_min: 1.257749080657959,  sse: 1.257749080657959 - center[0].shape: torch.Size([768]), device: cuda:0: 100%|█| 8/8 [00"
     ]
    },
    {
     "name": "stdout",
     "output_type": "stream",
     "text": [
      "(2, 768)\n",
      "best_k:2\n",
      "best_clusters:None\n",
      "best_centers is None, cannot determine its length.\n",
      "best_avg_sc:-1\n",
      "best_center_index:None\n",
      "final_index：[0]\n",
      "save_frames:/mnt/ceph/develop/jiawei/lora_dataset/speech_data/B站//test_16/test_16-features-result-cuda/0.jpg\n"
     ]
    },
    {
     "name": "stderr",
     "output_type": "stream",
     "text": [
      "\n"
     ]
    },
    {
     "name": "stdout",
     "output_type": "stream",
     "text": [
      "scenes_path:/mnt/ceph/develop/jiawei/lora_dataset/speech_data/B站//test_17/test_17.mp4.scenes.txt\n",
      "features_path:/mnt/ceph/develop/jiawei/lora_dataset/speech_data/B站//test_17/keyframe-features/features.pkl\n",
      "video_path:/mnt/ceph/develop/jiawei/lora_dataset/speech_data/B站//test_17/test_17.mp4\n",
      "save_path:/mnt/ceph/develop/jiawei/lora_dataset/speech_data/B站//test_17/\n",
      "folder_path:test_17-features-result-cuda\n",
      "0 283\n",
      "\n",
      "['0', '283']\n",
      "(282, 768)\n",
      "0 283\n",
      "(282, 768)\n",
      "16\n",
      "In the process of initializing the center\n"
     ]
    },
    {
     "name": "stderr",
     "output_type": "stream",
     "text": [
      "kmeans_init 16: 0, 282 - sse_min: 118.28034973144531,  sse: 118.28034973144531 - center[0].shape: torch.Size([768]), device: cuda:0: 100%|█| 28\n",
      "kmeans_init 16: 1, 282 - sse_min: 48.24174952507019,  sse: 48.24174952507019 - center[0].shape: torch.Size([768]), device: cuda:0: 100%|█| 282/\n",
      "kmeans_init 16: 2, 282 - sse_min: 46.28310254216194,  sse: 46.28310254216194 - center[0].shape: torch.Size([768]), device: cuda:0: 100%|█| 282/\n",
      "kmeans_init 16: 3, 282 - sse_min: 43.36985257267952,  sse: 43.36985257267952 - center[0].shape: torch.Size([768]), device: cuda:0: 100%|█| 282/\n",
      "kmeans_init 16: 4, 282 - sse_min: 41.134013682603836,  sse: 41.134013682603836 - center[0].shape: torch.Size([768]), device: cuda:0: 100%|█| 28\n",
      "kmeans_init 16: 5, 282 - sse_min: 39.30310109257698,  sse: 39.30310109257698 - center[0].shape: torch.Size([768]), device: cuda:0: 100%|█| 282/\n",
      "kmeans_init 16: 6, 282 - sse_min: 37.741104036569595,  sse: 37.741104036569595 - center[0].shape: torch.Size([768]), device: cuda:0: 100%|█| 28\n",
      "kmeans_init 16: 7, 282 - sse_min: 36.624147802591324,  sse: 36.624147802591324 - center[0].shape: torch.Size([768]), device: cuda:0: 100%|█| 28\n",
      "kmeans_init 16: 8, 282 - sse_min: 35.724189192056656,  sse: 35.724189192056656 - center[0].shape: torch.Size([768]), device: cuda:0: 100%|█| 28\n",
      "kmeans_init 16: 9, 282 - sse_min: 34.87383809685707,  sse: 34.87383809685707 - center[0].shape: torch.Size([768]), device: cuda:0: 100%|█| 282/\n",
      "kmeans_init 16: 10, 282 - sse_min: 34.07320347428322,  sse: 34.07320347428322 - center[0].shape: torch.Size([768]), device: cuda:0: 100%|█| 282\n",
      "kmeans_init 16: 11, 282 - sse_min: 33.31086227297783,  sse: 33.31086227297783 - center[0].shape: torch.Size([768]), device: cuda:0: 100%|█| 282\n",
      "kmeans_init 16: 12, 282 - sse_min: 33.121570348739624,  sse: 33.121570348739624 - center[0].shape: torch.Size([768]), device: cuda:0: 100%|█| 2\n",
      "kmeans_init 16: 13, 282 - sse_min: 32.40341925621033,  sse: 32.40341925621033 - center[0].shape: torch.Size([768]), device: cuda:0: 100%|█| 282\n",
      "kmeans_init 16: 14, 282 - sse_min: 31.74742865562439,  sse: 31.74742865562439 - center[0].shape: torch.Size([768]), device: cuda:0: 100%|█| 282\n",
      "kmeans_init 16: 15, 282 - sse_min: 31.13077473640442,  sse: 31.13077473640442 - center[0].shape: torch.Size([768]), device: cuda:0: 100%|█| 282\n"
     ]
    },
    {
     "name": "stdout",
     "output_type": "stream",
     "text": [
      "(16, 768)\n",
      "best_k:2\n",
      "best_clusters:[1 1 1 0 0 0 0 0 0 0 0 0 0 1 0 0 0 0 0 0 0 0 0 0 1 0 0 0 0 0 0 0 0 0 0 1 0\n",
      " 0 0 0 0 0 0 0 0 0 1 0 0 0 0 0 0 0 0 0 0 1 0 0 0 0 0 0 0 0 0 0 1 0 0 0 0 0\n",
      " 0 0 0 0 0 1 0 0 0 0 0 0 0 0 0 0 1 0 0 0 0 0 0 0 0 0 0 1 0 0 0 0 0 0 0 0 0\n",
      " 0 1 1 0 0 0 0 0 0 0 0 0 0 1 0 0 0 0 0 0 0 0 0 0 1 0 0 0 0 0 0 0 0 0 0 1 0\n",
      " 0 0 0 0 0 0 0 0 0 1 0 0 0 0 0 0 0 0 0 0 1 0 0 0 0 0 0 0 0 0 0 1 0 0 0 0 0\n",
      " 0 0 0 0 0 1 0 0 0 0 0 0 0 0 0 0 1 0 0 1 1 0 0 0 0 0 0 0 0 0 0 1 0 0 0 0 0\n",
      " 0 0 0 0 0 1 0 0 0 0 0 0 0 0 0 0 1 0 0 0 0 0 0 0 0 0 0 1 0 0 0 0 0 0 0 0 0\n",
      " 0 1 0 0 0 0 0 0 0 0 0 0 1 0 0 0 0 0 0 0 0 0 0]\n",
      "best_centers:(Length: 2)\n",
      "best_avg_sc:0.44488074107824266\n",
      "best_center_index:[143, 46]\n",
      "[46, 143]\n",
      "final_index：[46, 143]\n",
      "save_frames:/mnt/ceph/develop/jiawei/lora_dataset/speech_data/B站//test_17/test_17-features-result-cuda/46.jpg\n",
      "save_frames:/mnt/ceph/develop/jiawei/lora_dataset/speech_data/B站//test_17/test_17-features-result-cuda/143.jpg\n",
      "scenes_path:/mnt/ceph/develop/jiawei/lora_dataset/speech_data/B站//test_18/test_18.mp4.scenes.txt\n",
      "features_path:/mnt/ceph/develop/jiawei/lora_dataset/speech_data/B站//test_18/keyframe-features/features.pkl\n",
      "video_path:/mnt/ceph/develop/jiawei/lora_dataset/speech_data/B站//test_18/test_18.mp4\n",
      "save_path:/mnt/ceph/develop/jiawei/lora_dataset/speech_data/B站//test_18/\n",
      "folder_path:test_18-features-result-cuda\n",
      "0 54\n",
      "\n",
      "['0', '54']\n",
      "55 106\n",
      "\n",
      "['55', '106']\n",
      "107 224\n",
      "\n",
      "['107', '224']\n",
      "225 311\n",
      "\n",
      "['225', '311']\n",
      "(311, 768)\n",
      "0 54\n",
      "(54, 768)\n",
      "7\n",
      "In the process of initializing the center\n"
     ]
    },
    {
     "name": "stderr",
     "output_type": "stream",
     "text": [
      "kmeans_init 7: 0, 54 - sse_min: 36.374664306640625,  sse: 36.374664306640625 - center[0].shape: torch.Size([768]), device: cuda:0: 100%|█| 54/5\n",
      "kmeans_init 7: 1, 54 - sse_min: 10.584511179476976,  sse: 10.584511179476976 - center[0].shape: torch.Size([768]), device: cuda:0: 100%|█| 54/5\n",
      "kmeans_init 7: 2, 54 - sse_min: 10.571314382366836,  sse: 10.571314382366836 - center[0].shape: torch.Size([768]), device: cuda:0: 100%|█| 54/5\n",
      "kmeans_init 7: 3, 54 - sse_min: 8.074982452206314,  sse: 8.074982452206314 - center[0].shape: torch.Size([768]), device: cuda:0: 100%|█| 54/54 \n",
      "kmeans_init 7: 4, 54 - sse_min: 6.805352020077407,  sse: 6.805352020077407 - center[0].shape: torch.Size([768]), device: cuda:0: 100%|█| 54/54 \n",
      "kmeans_init 7: 5, 54 - sse_min: 5.952050971798599,  sse: 5.952050971798599 - center[0].shape: torch.Size([768]), device: cuda:0: 100%|█| 54/54 \n",
      "kmeans_init 7: 6, 54 - sse_min: 5.2803434589877725,  sse: 5.2803434589877725 - center[0].shape: torch.Size([768]), device: cuda:0: 100%|█| 54/5\n"
     ]
    },
    {
     "name": "stdout",
     "output_type": "stream",
     "text": [
      "(7, 768)\n",
      "best_k:2\n",
      "best_clusters:[1 1 1 0 0 0 0 0 0 0 0 0 0 1 0 0 0 0 0 0 0 0 0 0 1 0 0 0 0 0 0 0 0 0 0 1 0\n",
      " 0 0 0 0 0 0 0 0 0 1 0 0 0 0 0 0 0]\n",
      "best_centers:(Length: 2)\n",
      "best_avg_sc:0.6493628226367129\n",
      "best_center_index:[33, 35]\n",
      "[]\n",
      "55 106\n",
      "(51, 768)\n",
      "7\n",
      "In the process of initializing the center\n"
     ]
    },
    {
     "name": "stderr",
     "output_type": "stream",
     "text": [
      "kmeans_init 7: 0, 51 - sse_min: 10.057178497314453,  sse: 10.057178497314453 - center[0].shape: torch.Size([768]), device: cuda:0: 100%|█| 51/5\n",
      "kmeans_init 7: 1, 51 - sse_min: 8.176690399646759,  sse: 8.176690399646759 - center[0].shape: torch.Size([768]), device: cuda:0: 100%|█| 51/51 \n",
      "kmeans_init 7: 2, 51 - sse_min: 4.237729482818395,  sse: 4.237729482818395 - center[0].shape: torch.Size([768]), device: cuda:0: 100%|█| 51/51 \n",
      "kmeans_init 7: 3, 51 - sse_min: 3.556807227898389,  sse: 3.556807227898389 - center[0].shape: torch.Size([768]), device: cuda:0: 100%|█| 51/51 \n",
      "kmeans_init 7: 4, 51 - sse_min: 2.9811700065620244,  sse: 2.9811700065620244 - center[0].shape: torch.Size([768]), device: cuda:0: 100%|█| 51/5\n",
      "kmeans_init 7: 5, 51 - sse_min: 2.6064892043359578,  sse: 2.6064892043359578 - center[0].shape: torch.Size([768]), device: cuda:0: 100%|█| 51/5\n",
      "kmeans_init 7: 6, 51 - sse_min: 2.23539885180071,  sse: 2.23539885180071 - center[0].shape: torch.Size([768]), device: cuda:0: 100%|█| 51/51 [0\n"
     ]
    },
    {
     "name": "stdout",
     "output_type": "stream",
     "text": [
      "(7, 768)\n",
      "best_k:2\n",
      "best_clusters:[0 0 1 0 0 0 0 0 0 0 0 0 0 1 0 0 0 0 0 0 0 0 0 0 1 0 0 0 0 0 0 0 0 0 0 1 0\n",
      " 0 0 0 0 0 0 0 0 0 1 0 0 0 0]\n",
      "best_centers:(Length: 2)\n",
      "best_avg_sc:0.8666584427311894\n",
      "best_center_index:[36, 2]\n",
      "57 0.984129 91\n",
      "[91]\n",
      "107 224\n",
      "(117, 768)\n",
      "10\n",
      "In the process of initializing the center\n"
     ]
    },
    {
     "name": "stderr",
     "output_type": "stream",
     "text": [
      "kmeans_init 10: 0, 117 - sse_min: 46.53649139404297,  sse: 46.53649139404297 - center[0].shape: torch.Size([768]), device: cuda:0: 100%|█| 117/\n",
      "kmeans_init 10: 1, 117 - sse_min: 26.02366876602173,  sse: 26.02366876602173 - center[0].shape: torch.Size([768]), device: cuda:0: 100%|█| 117/\n",
      "kmeans_init 10: 2, 117 - sse_min: 24.639405608177185,  sse: 24.639405608177185 - center[0].shape: torch.Size([768]), device: cuda:0: 100%|█| 11\n",
      "kmeans_init 10: 3, 117 - sse_min: 16.037705540657043,  sse: 16.037705540657043 - center[0].shape: torch.Size([768]), device: cuda:0: 100%|█| 11\n",
      "kmeans_init 10: 4, 117 - sse_min: 14.1426020860672,  sse: 14.1426020860672 - center[0].shape: torch.Size([768]), device: cuda:0: 100%|█| 117/11\n",
      "kmeans_init 10: 5, 117 - sse_min: 12.782646277919412,  sse: 12.782646277919412 - center[0].shape: torch.Size([768]), device: cuda:0: 100%|█| 11\n",
      "kmeans_init 10: 6, 117 - sse_min: 11.519949773326516,  sse: 11.519949773326516 - center[0].shape: torch.Size([768]), device: cuda:0: 100%|█| 11\n",
      "kmeans_init 10: 7, 117 - sse_min: 10.726925691589713,  sse: 10.726925691589713 - center[0].shape: torch.Size([768]), device: cuda:0: 100%|█| 11\n",
      "kmeans_init 10: 8, 117 - sse_min: 10.180096765980124,  sse: 10.180096765980124 - center[0].shape: torch.Size([768]), device: cuda:0: 100%|█| 11\n",
      "kmeans_init 10: 9, 117 - sse_min: 9.623995503410697,  sse: 9.623995503410697 - center[0].shape: torch.Size([768]), device: cuda:0: 100%|█| 117/\n"
     ]
    },
    {
     "name": "stdout",
     "output_type": "stream",
     "text": [
      "(10, 768)\n",
      "best_k:4\n",
      "best_clusters:[1 1 1 1 1 2 2 1 1 1 1 1 1 1 1 1 1 2 1 1 1 1 1 1 1 1 1 1 2 1 1 1 1 1 1 0 0\n",
      " 3 3 2 0 0 0 0 0 0 0 0 0 0 2 0 0 0 0 0 0 0 0 0 0 2 0 0 0 0 0 0 0 0 0 0 2 0\n",
      " 0 0 0 0 0 0 0 0 0 2 0 0 0 0 0 0 0 0 0 0 2 0 0 0 0 0 0 0 0 0 0 2 0 0 0 0 0\n",
      " 0 0 0 0 0 2]\n",
      "best_centers:(Length: 4)\n",
      "best_avg_sc:0.6620351995751768\n",
      "best_center_index:[58, 21, 6, 37]\n",
      "113 0.9832995 165\n",
      "144 0.9982609 165\n",
      "[128, 165]\n",
      "225 311\n",
      "(86, 768)\n",
      "9\n",
      "In the process of initializing the center\n"
     ]
    },
    {
     "name": "stderr",
     "output_type": "stream",
     "text": [
      "kmeans_init 9: 0, 86 - sse_min: 46.558650970458984,  sse: 46.558650970458984 - center[0].shape: torch.Size([768]), device: cuda:0: 100%|█| 86/8\n",
      "kmeans_init 9: 1, 86 - sse_min: 30.37315845489502,  sse: 30.37315845489502 - center[0].shape: torch.Size([768]), device: cuda:0: 100%|█| 86/86 \n",
      "kmeans_init 9: 2, 86 - sse_min: 9.761460419744253,  sse: 9.761460419744253 - center[0].shape: torch.Size([768]), device: cuda:0: 100%|█| 86/86 \n",
      "kmeans_init 9: 3, 86 - sse_min: 9.262422006577253,  sse: 9.262422006577253 - center[0].shape: torch.Size([768]), device: cuda:0: 100%|█| 86/86 \n",
      "kmeans_init 9: 4, 86 - sse_min: 5.979553621262312,  sse: 5.979553621262312 - center[0].shape: torch.Size([768]), device: cuda:0: 100%|█| 86/86 \n",
      "kmeans_init 9: 5, 86 - sse_min: 5.27445999905467,  sse: 5.27445999905467 - center[0].shape: torch.Size([768]), device: cuda:0: 100%|█| 86/86 [0\n",
      "kmeans_init 9: 6, 86 - sse_min: 4.718200860545039,  sse: 4.718200860545039 - center[0].shape: torch.Size([768]), device: cuda:0: 100%|█| 86/86 \n",
      "kmeans_init 9: 7, 86 - sse_min: 4.333315817639232,  sse: 4.333315817639232 - center[0].shape: torch.Size([768]), device: cuda:0: 100%|█| 86/86 \n",
      "kmeans_init 9: 8, 86 - sse_min: 3.953414808958769,  sse: 3.953414808958769 - center[0].shape: torch.Size([768]), device: cuda:0: 100%|█| 86/86 \n"
     ]
    },
    {
     "name": "stdout",
     "output_type": "stream",
     "text": [
      "(9, 768)\n",
      "best_k:4\n",
      "best_clusters:[2 2 2 2 2 2 2 2 2 2 1 2 1 1 1 1 1 1 1 1 1 1 1 1 1 1 1 1 1 1 1 1 1 1 1 1 3\n",
      " 3 3 3 3 3 1 3 3 3 3 0 0 0 0 0 0 1 0 0 0 0 0 0 0 0 0 0 1 0 0 0 0 0 0 0 0 0\n",
      " 0 1 0 0 0 0 0 0 0 0 0 0]\n",
      "best_centers:(Length: 4)\n",
      "best_avg_sc:0.7920693991058763\n",
      "best_center_index:[66, 10, 7, 39]\n",
      "264 0.98896295 291\n",
      "[232, 235, 291]\n",
      "final_index：[91, 128, 165, 232, 235, 291]\n",
      "save_frames:/mnt/ceph/develop/jiawei/lora_dataset/speech_data/B站//test_18/test_18-features-result-cuda/91.jpg\n",
      "save_frames:/mnt/ceph/develop/jiawei/lora_dataset/speech_data/B站//test_18/test_18-features-result-cuda/128.jpg\n",
      "save_frames:/mnt/ceph/develop/jiawei/lora_dataset/speech_data/B站//test_18/test_18-features-result-cuda/165.jpg\n",
      "save_frames:/mnt/ceph/develop/jiawei/lora_dataset/speech_data/B站//test_18/test_18-features-result-cuda/232.jpg\n",
      "save_frames:/mnt/ceph/develop/jiawei/lora_dataset/speech_data/B站//test_18/test_18-features-result-cuda/235.jpg\n",
      "save_frames:/mnt/ceph/develop/jiawei/lora_dataset/speech_data/B站//test_18/test_18-features-result-cuda/291.jpg\n",
      "scenes_path:/mnt/ceph/develop/jiawei/lora_dataset/speech_data/B站//test_19/test_19.mp4.scenes.txt\n",
      "features_path:/mnt/ceph/develop/jiawei/lora_dataset/speech_data/B站//test_19/keyframe-features/features.pkl\n",
      "video_path:/mnt/ceph/develop/jiawei/lora_dataset/speech_data/B站//test_19/test_19.mp4\n",
      "save_path:/mnt/ceph/develop/jiawei/lora_dataset/speech_data/B站//test_19/\n",
      "folder_path:test_19-features-result-cuda\n",
      "0 30\n",
      "\n",
      "['0', '30']\n",
      "31 189\n",
      "\n",
      "['31', '189']\n",
      "190 194\n",
      "\n",
      "['190', '194']\n",
      "(194, 768)\n",
      "0 30\n",
      "(30, 768)\n",
      "5\n",
      "In the process of initializing the center\n"
     ]
    },
    {
     "name": "stderr",
     "output_type": "stream",
     "text": [
      "kmeans_init 5: 0, 30 - sse_min: 13.165051460266113,  sse: 13.165051460266113 - center[0].shape: torch.Size([768]), device: cuda:0: 100%|█| 30/3\n",
      "kmeans_init 5: 1, 30 - sse_min: 6.727578163146973,  sse: 6.727578163146973 - center[0].shape: torch.Size([768]), device: cuda:0: 100%|█| 30/30 \n",
      "kmeans_init 5: 2, 30 - sse_min: 6.6310248374938965,  sse: 6.6310248374938965 - center[0].shape: torch.Size([768]), device: cuda:0: 100%|█| 30/3\n",
      "kmeans_init 5: 3, 30 - sse_min: 5.229054570198059,  sse: 5.229054570198059 - center[0].shape: torch.Size([768]), device: cuda:0: 100%|█| 30/30 \n",
      "kmeans_init 5: 4, 30 - sse_min: 4.012133717536926,  sse: 4.012133717536926 - center[0].shape: torch.Size([768]), device: cuda:0: 100%|█| 30/30 \n"
     ]
    },
    {
     "name": "stdout",
     "output_type": "stream",
     "text": [
      "(5, 768)\n",
      "best_k:2\n",
      "best_clusters:[0 0 0 0 0 0 0 0 0 0 0 0 0 0 0 1 1 0 0 0 0 0 0 0 0 0 0 0 0 0]\n",
      "best_centers:(Length: 2)\n",
      "best_avg_sc:0.6163917587643938\n",
      "best_center_index:[22, 15]\n",
      "15 0.9768414 22\n",
      "[22]\n",
      "31 189\n",
      "(158, 768)\n",
      "12\n",
      "In the process of initializing the center\n"
     ]
    },
    {
     "name": "stderr",
     "output_type": "stream",
     "text": [
      "kmeans_init 12: 0, 158 - sse_min: 50.179710388183594,  sse: 50.179710388183594 - center[0].shape: torch.Size([768]), device: cuda:0: 100%|█| 15\n",
      "kmeans_init 12: 1, 158 - sse_min: 43.33304977416992,  sse: 43.33304977416992 - center[0].shape: torch.Size([768]), device: cuda:0: 100%|█| 158/\n",
      "kmeans_init 12: 2, 158 - sse_min: 33.57004404067993,  sse: 33.57004404067993 - center[0].shape: torch.Size([768]), device: cuda:0: 100%|█| 158/\n",
      "kmeans_init 12: 3, 158 - sse_min: 27.91383409500122,  sse: 27.91383409500122 - center[0].shape: torch.Size([768]), device: cuda:0: 100%|█| 158/\n",
      "kmeans_init 12: 4, 158 - sse_min: 24.6077823638916,  sse: 24.6077823638916 - center[0].shape: torch.Size([768]), device: cuda:0: 100%|█| 158/15\n",
      "kmeans_init 12: 5, 158 - sse_min: 22.087910890579224,  sse: 22.087910890579224 - center[0].shape: torch.Size([768]), device: cuda:0: 100%|█| 15\n",
      "kmeans_init 12: 6, 158 - sse_min: 21.900088489055634,  sse: 21.900088489055634 - center[0].shape: torch.Size([768]), device: cuda:0: 100%|█| 15\n",
      "kmeans_init 12: 7, 158 - sse_min: 20.914295613765717,  sse: 20.914295613765717 - center[0].shape: torch.Size([768]), device: cuda:0: 100%|█| 15\n",
      "kmeans_init 12: 8, 158 - sse_min: 19.988227128982544,  sse: 19.988227128982544 - center[0].shape: torch.Size([768]), device: cuda:0: 100%|█| 15\n",
      "kmeans_init 12: 9, 158 - sse_min: 19.262181609869003,  sse: 19.262181609869003 - center[0].shape: torch.Size([768]), device: cuda:0: 100%|█| 15\n",
      "kmeans_init 12: 10, 158 - sse_min: 18.611309073865414,  sse: 18.611309073865414 - center[0].shape: torch.Size([768]), device: cuda:0: 100%|█| 1\n",
      "kmeans_init 12: 11, 158 - sse_min: 18.02750589698553,  sse: 18.02750589698553 - center[0].shape: torch.Size([768]), device: cuda:0: 100%|█| 158\n"
     ]
    },
    {
     "name": "stdout",
     "output_type": "stream",
     "text": [
      "(12, 768)\n",
      "best_k:2\n",
      "best_clusters:[0 0 0 0 0 0 0 0 0 0 0 0 0 0 0 0 0 0 0 0 0 0 0 0 0 1 0 1 1 0 0 0 0 0 0 0 0\n",
      " 0 0 0 0 0 0 0 0 0 0 0 0 0 0 0 0 0 0 0 0 0 0 0 0 0 0 0 0 0 0 0 0 1 0 1 1 1\n",
      " 1 0 0 0 0 0 0 0 0 0 0 0 0 0 0 0 0 0 0 0 0 0 0 0 0 0 0 0 0 0 0 0 0 0 0 0 0\n",
      " 0 0 0 0 0 0 0 0 0 0 0 0 0 0 0 0 0 0 0 0 0 0 0 0 0 0 0 0 0 0 0 0 0 0 0 0 0\n",
      " 0 0 0 0 0 0 0 0 0 0]\n",
      "best_centers:(Length: 2)\n",
      "best_avg_sc:0.5306694211282322\n",
      "best_center_index:[46, 69]\n",
      "[77, 100]\n",
      "190 194\n",
      "(4, 768)\n",
      "2\n",
      "In the process of initializing the center\n"
     ]
    },
    {
     "name": "stderr",
     "output_type": "stream",
     "text": [
      "kmeans_init 2: 0, 4 - sse_min: 0.14968657493591309,  sse: 0.14968657493591309 - center[0].shape: torch.Size([768]), device: cuda:0: 100%|█| 4/4\n",
      "kmeans_init 2: 1, 4 - sse_min: 0.06064360588788986,  sse: 0.06064360588788986 - center[0].shape: torch.Size([768]), device: cuda:0: 100%|█| 4/4"
     ]
    },
    {
     "name": "stdout",
     "output_type": "stream",
     "text": [
      "(2, 768)\n",
      "best_k:2\n",
      "best_clusters:None\n",
      "best_centers is None, cannot determine its length.\n",
      "best_avg_sc:-1\n",
      "best_center_index:None\n",
      "final_index：[22, 77, 100, 0]\n",
      "save_frames:/mnt/ceph/develop/jiawei/lora_dataset/speech_data/B站//test_19/test_19-features-result-cuda/0.jpg\n",
      "save_frames:/mnt/ceph/develop/jiawei/lora_dataset/speech_data/B站//test_19/test_19-features-result-cuda/22.jpg\n"
     ]
    },
    {
     "name": "stderr",
     "output_type": "stream",
     "text": [
      "\n"
     ]
    },
    {
     "name": "stdout",
     "output_type": "stream",
     "text": [
      "save_frames:/mnt/ceph/develop/jiawei/lora_dataset/speech_data/B站//test_19/test_19-features-result-cuda/77.jpg\n",
      "save_frames:/mnt/ceph/develop/jiawei/lora_dataset/speech_data/B站//test_19/test_19-features-result-cuda/100.jpg\n",
      "scenes_path:/mnt/ceph/develop/jiawei/lora_dataset/speech_data/B站//test_2/test_2.mp4.scenes.txt\n",
      "features_path:/mnt/ceph/develop/jiawei/lora_dataset/speech_data/B站//test_2/keyframe-features/features.pkl\n",
      "video_path:/mnt/ceph/develop/jiawei/lora_dataset/speech_data/B站//test_2/test_2.mp4\n",
      "save_path:/mnt/ceph/develop/jiawei/lora_dataset/speech_data/B站//test_2/\n",
      "folder_path:test_2-features-result-cuda\n",
      "0 62\n",
      "\n",
      "['0', '62']\n",
      "63 262\n",
      "\n",
      "['63', '262']\n",
      "(262, 768)\n",
      "0 62\n",
      "(62, 768)\n",
      "7\n",
      "In the process of initializing the center\n"
     ]
    },
    {
     "name": "stderr",
     "output_type": "stream",
     "text": [
      "kmeans_init 7: 0, 62 - sse_min: 29.113075256347656,  sse: 29.113075256347656 - center[0].shape: torch.Size([768]), device: cuda:0: 100%|█| 62/6\n",
      "kmeans_init 7: 1, 62 - sse_min: 9.57316130399704,  sse: 9.57316130399704 - center[0].shape: torch.Size([768]), device: cuda:0: 100%|█| 62/62 [0\n",
      "kmeans_init 7: 2, 62 - sse_min: 8.98518374748528,  sse: 8.98518374748528 - center[0].shape: torch.Size([768]), device: cuda:0: 100%|█| 62/62 [0\n",
      "kmeans_init 7: 3, 62 - sse_min: 8.166016848757863,  sse: 8.166016848757863 - center[0].shape: torch.Size([768]), device: cuda:0: 100%|█| 62/62 \n",
      "kmeans_init 7: 4, 62 - sse_min: 7.567607434466481,  sse: 7.567607434466481 - center[0].shape: torch.Size([768]), device: cuda:0: 100%|█| 62/62 \n",
      "kmeans_init 7: 5, 62 - sse_min: 7.059855790808797,  sse: 7.059855790808797 - center[0].shape: torch.Size([768]), device: cuda:0: 100%|█| 62/62 \n",
      "kmeans_init 7: 6, 62 - sse_min: 6.602000327780843,  sse: 6.602000327780843 - center[0].shape: torch.Size([768]), device: cuda:0: 100%|█| 62/62 \n"
     ]
    },
    {
     "name": "stdout",
     "output_type": "stream",
     "text": [
      "(7, 768)\n",
      "best_k:2\n",
      "best_clusters:[1 1 1 0 0 0 0 0 0 0 0 0 0 1 0 0 0 0 0 0 0 0 0 0 1 0 0 0 0 0 0 0 0 0 0 1 0\n",
      " 0 0 0 0 0 0 0 0 0 1 0 0 0 0 0 0 0 0 0 0 1 0 0 0 0]\n",
      "best_centers:(Length: 2)\n",
      "best_avg_sc:0.6506200686405663\n",
      "best_center_index:[6, 13]\n",
      "13 0.99868226 6\n",
      "[6]\n",
      "63 262\n",
      "(199, 768)\n",
      "14\n",
      "In the process of initializing the center\n"
     ]
    },
    {
     "name": "stderr",
     "output_type": "stream",
     "text": [
      "kmeans_init 14: 0, 199 - sse_min: 49.91594314575195,  sse: 49.91594314575195 - center[0].shape: torch.Size([768]), device: cuda:0: 100%|█| 199/\n",
      "kmeans_init 14: 1, 199 - sse_min: 45.92742156982422,  sse: 45.92742156982422 - center[0].shape: torch.Size([768]), device: cuda:0: 100%|█| 199/\n",
      "kmeans_init 14: 2, 199 - sse_min: 35.466737270355225,  sse: 35.466737270355225 - center[0].shape: torch.Size([768]), device: cuda:0: 100%|█| 19\n",
      "kmeans_init 14: 3, 199 - sse_min: 33.182047843933105,  sse: 33.182047843933105 - center[0].shape: torch.Size([768]), device: cuda:0: 100%|█| 19\n",
      "kmeans_init 14: 4, 199 - sse_min: 31.389577090740204,  sse: 31.389577090740204 - center[0].shape: torch.Size([768]), device: cuda:0: 100%|█| 19\n",
      "kmeans_init 14: 5, 199 - sse_min: 30.011599004268646,  sse: 30.011599004268646 - center[0].shape: torch.Size([768]), device: cuda:0: 100%|█| 19\n",
      "kmeans_init 14: 6, 199 - sse_min: 29.34880417585373,  sse: 29.34880417585373 - center[0].shape: torch.Size([768]), device: cuda:0: 100%|█| 199/\n",
      "kmeans_init 14: 7, 199 - sse_min: 28.386546313762665,  sse: 28.386546313762665 - center[0].shape: torch.Size([768]), device: cuda:0: 100%|█| 19\n",
      "kmeans_init 14: 8, 199 - sse_min: 27.558760464191437,  sse: 27.558760464191437 - center[0].shape: torch.Size([768]), device: cuda:0: 100%|█| 19\n",
      "kmeans_init 14: 9, 199 - sse_min: 26.805868804454803,  sse: 26.805868804454803 - center[0].shape: torch.Size([768]), device: cuda:0: 100%|█| 19\n",
      "kmeans_init 14: 10, 199 - sse_min: 26.100467264652252,  sse: 26.100467264652252 - center[0].shape: torch.Size([768]), device: cuda:0: 100%|█| 1\n",
      "kmeans_init 14: 11, 199 - sse_min: 25.46496158838272,  sse: 25.46496158838272 - center[0].shape: torch.Size([768]), device: cuda:0: 100%|█| 199\n",
      "kmeans_init 14: 12, 199 - sse_min: 24.848547041416168,  sse: 24.848547041416168 - center[0].shape: torch.Size([768]), device: cuda:0: 100%|█| 1\n",
      "kmeans_init 14: 13, 199 - sse_min: 24.24973291158676,  sse: 24.24973291158676 - center[0].shape: torch.Size([768]), device: cuda:0: 100%|█| 199\n"
     ]
    },
    {
     "name": "stdout",
     "output_type": "stream",
     "text": [
      "(14, 768)\n",
      "best_k:2\n",
      "best_clusters:[0 0 0 0 0 1 0 0 0 0 0 0 0 0 0 0 1 0 0 0 0 0 0 0 0 0 0 1 0 0 0 0 0 0 0 0 0\n",
      " 0 1 0 0 0 0 0 0 0 0 0 0 1 1 0 0 0 0 0 0 0 0 0 0 1 0 0 0 0 0 0 0 0 0 0 1 0\n",
      " 0 0 0 0 0 0 0 0 0 1 0 0 0 0 0 0 0 0 0 0 1 0 0 0 0 0 0 0 0 0 0 1 0 0 0 0 0\n",
      " 0 0 0 0 0 1 0 0 1 1 1 1 1 1 1 1 1 1 1 1 1 1 1 1 1 1 1 1 1 1 1 1 1 1 1 1 1\n",
      " 1 1 1 1 1 1 1 1 1 1 0 0 0 0 0 0 0 0 1 0 0 0 0 0 0 0 0 0 0 1 0 0 0 0 0 0 0\n",
      " 0 0 0 1 0 0 0 0 0 0 0 0 0 0]\n",
      "best_centers:(Length: 2)\n",
      "best_avg_sc:0.5183267471412478\n",
      "best_center_index:[198, 83]\n",
      "146 0.9460502 261\n",
      "[261]\n",
      "final_index：[6, 261]\n",
      "save_frames:/mnt/ceph/develop/jiawei/lora_dataset/speech_data/B站//test_2/test_2-features-result-cuda/6.jpg\n",
      "save_frames:/mnt/ceph/develop/jiawei/lora_dataset/speech_data/B站//test_2/test_2-features-result-cuda/261.jpg\n",
      "scenes_path:/mnt/ceph/develop/jiawei/lora_dataset/speech_data/B站//test_20/test_20.mp4.scenes.txt\n",
      "features_path:/mnt/ceph/develop/jiawei/lora_dataset/speech_data/B站//test_20/keyframe-features/features.pkl\n",
      "video_path:/mnt/ceph/develop/jiawei/lora_dataset/speech_data/B站//test_20/test_20.mp4\n",
      "save_path:/mnt/ceph/develop/jiawei/lora_dataset/speech_data/B站//test_20/\n",
      "folder_path:test_20-features-result-cuda\n",
      "0 95\n",
      "\n",
      "['0', '95']\n",
      "96 133\n",
      "\n",
      "['96', '133']\n",
      "134 170\n",
      "\n",
      "['134', '170']\n",
      "171 199\n",
      "\n",
      "['171', '199']\n",
      "200 232\n",
      "\n",
      "['200', '232']\n",
      "233 275\n",
      "\n",
      "['233', '275']\n",
      "276 280\n",
      "\n",
      "['276', '280']\n",
      "(280, 768)\n",
      "0 95\n",
      "(95, 768)\n",
      "9\n",
      "In the process of initializing the center\n"
     ]
    },
    {
     "name": "stderr",
     "output_type": "stream",
     "text": [
      "kmeans_init 9: 0, 95 - sse_min: 23.52206802368164,  sse: 23.52206802368164 - center[0].shape: torch.Size([768]), device: cuda:0: 100%|█| 95/95 \n",
      "kmeans_init 9: 1, 95 - sse_min: 13.095027208328247,  sse: 13.095027208328247 - center[0].shape: torch.Size([768]), device: cuda:0: 100%|█| 95/9\n",
      "kmeans_init 9: 2, 95 - sse_min: 6.74419367313385,  sse: 6.74419367313385 - center[0].shape: torch.Size([768]), device: cuda:0: 100%|█| 95/95 [0\n",
      "kmeans_init 9: 3, 95 - sse_min: 3.510084182024002,  sse: 3.510084182024002 - center[0].shape: torch.Size([768]), device: cuda:0: 100%|█| 95/95 \n",
      "kmeans_init 9: 4, 95 - sse_min: 3.0452451780438423,  sse: 3.0452451780438423 - center[0].shape: torch.Size([768]), device: cuda:0: 100%|█| 95/9\n",
      "kmeans_init 9: 5, 95 - sse_min: 2.4623663499951363,  sse: 2.4623663499951363 - center[0].shape: torch.Size([768]), device: cuda:0: 100%|█| 95/9\n",
      "kmeans_init 9: 6, 95 - sse_min: 1.9075268879532814,  sse: 1.9075268879532814 - center[0].shape: torch.Size([768]), device: cuda:0: 100%|█| 95/9\n",
      "kmeans_init 9: 7, 95 - sse_min: 1.677721194922924,  sse: 1.677721194922924 - center[0].shape: torch.Size([768]), device: cuda:0: 100%|█| 95/95 \n",
      "kmeans_init 9: 8, 95 - sse_min: 1.4642448797821999,  sse: 1.4642448797821999 - center[0].shape: torch.Size([768]), device: cuda:0: 100%|█| 95/9\n"
     ]
    },
    {
     "name": "stdout",
     "output_type": "stream",
     "text": [
      "(9, 768)\n",
      "best_k:5\n",
      "best_clusters:[3 3 3 4 4 4 1 1 1 1 1 1 1 3 1 1 1 1 1 1 1 1 1 1 3 1 1 1 1 1 1 1 1 1 1 3 1\n",
      " 1 1 0 0 0 0 0 0 0 3 0 0 0 0 0 0 0 0 0 0 3 0 0 0 0 0 0 0 0 0 0 3 0 0 0 0 0\n",
      " 0 0 0 0 0 3 2 2 2 2 2 2 2 2 2 2 3 2 2 2 2]\n",
      "best_centers:(Length: 5)\n",
      "best_avg_sc:0.8224881136677386\n",
      "best_center_index:[53, 17, 85, 24, 4]\n",
      "17 0.9984192 53\n",
      "85 0.9967657 53\n",
      "24 0.99853283 53\n",
      "4 0.9985423 53\n",
      "[53]\n",
      "96 133\n",
      "(37, 768)\n",
      "6\n",
      "In the process of initializing the center\n"
     ]
    },
    {
     "name": "stderr",
     "output_type": "stream",
     "text": [
      "kmeans_init 6: 0, 37 - sse_min: 5.17854118347168,  sse: 5.17854118347168 - center[0].shape: torch.Size([768]), device: cuda:0: 100%|█| 37/37 [0\n",
      "kmeans_init 6: 1, 37 - sse_min: 1.4473177343606949,  sse: 1.4473177343606949 - center[0].shape: torch.Size([768]), device: cuda:0: 100%|█| 37/3\n",
      "kmeans_init 6: 2, 37 - sse_min: 1.373228857992217,  sse: 1.373228857992217 - center[0].shape: torch.Size([768]), device: cuda:0: 100%|█| 37/37 \n",
      "kmeans_init 6: 3, 37 - sse_min: 0.4939281072001904,  sse: 0.4939281072001904 - center[0].shape: torch.Size([768]), device: cuda:0: 100%|█| 37/3\n",
      "kmeans_init 6: 4, 37 - sse_min: 0.3727600525598973,  sse: 0.3727600525598973 - center[0].shape: torch.Size([768]), device: cuda:0: 100%|█| 37/3\n",
      "kmeans_init 6: 5, 37 - sse_min: 0.2555035788100213,  sse: 0.2555035788100213 - center[0].shape: torch.Size([768]), device: cuda:0: 100%|█| 37/3"
     ]
    },
    {
     "name": "stdout",
     "output_type": "stream",
     "text": [
      "(6, 768)\n",
      "best_k:3\n",
      "best_clusters:[1 1 1 1 1 2 1 1 1 1 1 1 1 1 1 0 2 2 0 0 0 0 0 0 0 0 0 0 2 0 0 0 0 0 0 0 0]\n",
      "best_centers:(Length: 3)\n",
      "best_avg_sc:0.9211643471117841\n",
      "best_center_index:[25, 7, 17]\n"
     ]
    },
    {
     "name": "stderr",
     "output_type": "stream",
     "text": [
      "\n"
     ]
    },
    {
     "name": "stdout",
     "output_type": "stream",
     "text": [
      "113 0.9999896 121\n",
      "[103, 121]\n",
      "134 170\n",
      "(36, 768)\n",
      "6\n",
      "In the process of initializing the center\n"
     ]
    },
    {
     "name": "stderr",
     "output_type": "stream",
     "text": [
      "kmeans_init 6: 0, 36 - sse_min: 6.061506271362305,  sse: 6.061506271362305 - center[0].shape: torch.Size([768]), device: cuda:0: 100%|█| 36/36 \n",
      "kmeans_init 6: 1, 36 - sse_min: 1.478691205382347,  sse: 1.478691205382347 - center[0].shape: torch.Size([768]), device: cuda:0: 100%|█| 36/36 \n",
      "kmeans_init 6: 2, 36 - sse_min: 1.4062085943296552,  sse: 1.4062085943296552 - center[0].shape: torch.Size([768]), device: cuda:0: 100%|█| 36/3\n",
      "kmeans_init 6: 3, 36 - sse_min: 0.2765759276226163,  sse: 0.2765759276226163 - center[0].shape: torch.Size([768]), device: cuda:0: 100%|█| 36/3\n",
      "kmeans_init 6: 4, 36 - sse_min: 0.18042995128780603,  sse: 0.18042995128780603 - center[0].shape: torch.Size([768]), device: cuda:0: 100%|█| 36\n",
      "kmeans_init 6: 5, 36 - sse_min: 0.11916879983618855,  sse: 0.11916879983618855 - center[0].shape: torch.Size([768]), device: cuda:0: 100%|█| 36"
     ]
    },
    {
     "name": "stdout",
     "output_type": "stream",
     "text": [
      "(6, 768)\n",
      "best_k:3\n",
      "best_clusters:[1 2 1 1 1 1 1 1 1 1 1 1 2 1 1 0 0 0 0 0 0 0 0 2 0 0 0 0 0 0 0 0 0 0 2 0]\n",
      "best_centers:(Length: 3)\n",
      "best_avg_sc:0.9595817599489767\n",
      "best_center_index:[26, 11, 12]\n"
     ]
    },
    {
     "name": "stderr",
     "output_type": "stream",
     "text": [
      "\n"
     ]
    },
    {
     "name": "stdout",
     "output_type": "stream",
     "text": [
      "145 0.999983 160\n",
      "146 0.99999374 160\n",
      "[160]\n",
      "171 199\n",
      "(28, 768)\n",
      "5\n",
      "In the process of initializing the center\n"
     ]
    },
    {
     "name": "stderr",
     "output_type": "stream",
     "text": [
      "kmeans_init 5: 0, 28 - sse_min: 3.035388946533203,  sse: 3.035388946533203 - center[0].shape: torch.Size([768]), device: cuda:0: 100%|█| 28/28 \n",
      "kmeans_init 5: 1, 28 - sse_min: 2.968731583096087,  sse: 2.968731583096087 - center[0].shape: torch.Size([768]), device: cuda:0: 100%|█| 28/28 \n",
      "kmeans_init 5: 2, 28 - sse_min: 0.7096383632160723,  sse: 0.7096383632160723 - center[0].shape: torch.Size([768]), device: cuda:0: 100%|█| 28/2\n",
      "kmeans_init 5: 3, 28 - sse_min: 0.1251103230752051,  sse: 0.1251103230752051 - center[0].shape: torch.Size([768]), device: cuda:0: 100%|█| 28/2\n",
      "kmeans_init 5: 4, 28 - sse_min: 0.07756637642160058,  sse: 0.07756637642160058 - center[0].shape: torch.Size([768]), device: cuda:0: 100%|█| 28"
     ]
    },
    {
     "name": "stdout",
     "output_type": "stream",
     "text": [
      "(5, 768)\n",
      "best_k:3\n",
      "best_clusters:[0 0 0 0 0 0 0 0 2 0 0 0 0 0 0 0 0 0 0 2 0 0 0 0 0 1 1 1]\n",
      "best_centers:(Length: 3)\n",
      "best_avg_sc:0.9762086051626004\n",
      "best_center_index:[20, 25, 8]\n"
     ]
    },
    {
     "name": "stderr",
     "output_type": "stream",
     "text": [
      "\n"
     ]
    },
    {
     "name": "stdout",
     "output_type": "stream",
     "text": [
      "196 0.9999999 191\n",
      "179 0.9999917 191\n",
      "[191]\n",
      "200 232\n",
      "(32, 768)\n",
      "5\n",
      "In the process of initializing the center\n"
     ]
    },
    {
     "name": "stderr",
     "output_type": "stream",
     "text": [
      "kmeans_init 5: 0, 32 - sse_min: 22.90401840209961,  sse: 22.90401840209961 - center[0].shape: torch.Size([768]), device: cuda:0: 100%|█| 32/32 \n",
      "kmeans_init 5: 1, 32 - sse_min: 2.5580902099609375,  sse: 2.5580902099609375 - center[0].shape: torch.Size([768]), device: cuda:0: 100%|█| 32/3\n",
      "100%|████████████████████████████████████████████████████████████████████████████████████████████████████████| 32/32 [00:00<00:00, 1954.39it/s]\n",
      "100%|████████████████████████████████████████████████████████████████████████████████████████████████████████| 32/32 [00:00<00:00, 1704.61it/s]\n",
      "100%|████████████████████████████████████████████████████████████████████████████████████████████████████████| 32/32 [00:00<00:00, 1537.92it/s]"
     ]
    },
    {
     "name": "stdout",
     "output_type": "stream",
     "text": [
      "(5, 768)\n",
      "best_k:2\n",
      "best_clusters:[1 0 0 0 0 0 0 0 0 0 0 0 0 0 0 0 0 0 0 0 0 0 0 0 0 0 0 0 0 0 0 0]\n",
      "best_centers:(Length: 2)\n",
      "best_avg_sc:0.8421510819647908\n",
      "best_center_index:[11, 0]\n"
     ]
    },
    {
     "name": "stderr",
     "output_type": "stream",
     "text": [
      "\n"
     ]
    },
    {
     "name": "stdout",
     "output_type": "stream",
     "text": [
      "200 0.9999932 211\n",
      "[211]\n",
      "233 275\n",
      "(42, 768)\n",
      "6\n",
      "In the process of initializing the center\n"
     ]
    },
    {
     "name": "stderr",
     "output_type": "stream",
     "text": [
      "kmeans_init 6: 0, 42 - sse_min: 6.478546142578125,  sse: 6.478546142578125 - center[0].shape: torch.Size([768]), device: cuda:0: 100%|█| 42/42 \n",
      "kmeans_init 6: 1, 42 - sse_min: 3.795011520385742,  sse: 3.795011520385742 - center[0].shape: torch.Size([768]), device: cuda:0: 100%|█| 42/42 \n",
      "kmeans_init 6: 2, 42 - sse_min: 3.5321617126464844,  sse: 3.5321617126464844 - center[0].shape: torch.Size([768]), device: cuda:0: 100%|█| 42/4\n",
      "kmeans_init 6: 3, 42 - sse_min: 2.820791721343994,  sse: 2.820791721343994 - center[0].shape: torch.Size([768]), device: cuda:0: 100%|█| 42/42 \n",
      "kmeans_init 6: 4, 42 - sse_min: 2.2611182034015656,  sse: 2.2611182034015656 - center[0].shape: torch.Size([768]), device: cuda:0: 100%|█| 42/4\n",
      "kmeans_init 6: 5, 42 - sse_min: 1.9724764227867126,  sse: 1.9724764227867126 - center[0].shape: torch.Size([768]), device: cuda:0: 100%|█| 42/4"
     ]
    },
    {
     "name": "stdout",
     "output_type": "stream",
     "text": [
      "(6, 768)\n",
      "best_k:2\n",
      "best_clusters:[0 0 0 1 0 0 0 0 0 0 0 0 0 0 1 0 0 0 0 0 0 0 0 0 0 1 0 0 0 0 0 0 0 0 0 0 1\n",
      " 0 0 0 0 0]\n",
      "best_centers:(Length: 2)\n",
      "best_avg_sc:0.4330930365983952\n",
      "best_center_index:[19, 14]\n"
     ]
    },
    {
     "name": "stderr",
     "output_type": "stream",
     "text": [
      "\n"
     ]
    },
    {
     "name": "stdout",
     "output_type": "stream",
     "text": [
      "247 0.9999986 252\n",
      "[252]\n",
      "276 280\n",
      "(4, 768)\n",
      "2\n",
      "In the process of initializing the center\n"
     ]
    },
    {
     "name": "stderr",
     "output_type": "stream",
     "text": [
      "kmeans_init 2: 0, 4 - sse_min: 1.1532623767852783,  sse: 1.1532623767852783 - center[0].shape: torch.Size([768]), device: cuda:0: 100%|█| 4/4 [\n",
      "kmeans_init 2: 1, 4 - sse_min: 0.994399830698967,  sse: 0.994399830698967 - center[0].shape: torch.Size([768]), device: cuda:0: 100%|█| 4/4 [00"
     ]
    },
    {
     "name": "stdout",
     "output_type": "stream",
     "text": [
      "(2, 768)\n",
      "best_k:2\n",
      "best_clusters:None\n",
      "best_centers is None, cannot determine its length.\n",
      "best_avg_sc:-1\n",
      "best_center_index:None\n",
      "final_index：[53, 103, 121, 160, 191, 211, 252, 0]\n",
      "save_frames:/mnt/ceph/develop/jiawei/lora_dataset/speech_data/B站//test_20/test_20-features-result-cuda/0.jpg\n",
      "save_frames:/mnt/ceph/develop/jiawei/lora_dataset/speech_data/B站//test_20/test_20-features-result-cuda/53.jpg\n"
     ]
    },
    {
     "name": "stderr",
     "output_type": "stream",
     "text": [
      "\n"
     ]
    },
    {
     "name": "stdout",
     "output_type": "stream",
     "text": [
      "save_frames:/mnt/ceph/develop/jiawei/lora_dataset/speech_data/B站//test_20/test_20-features-result-cuda/103.jpg\n",
      "save_frames:/mnt/ceph/develop/jiawei/lora_dataset/speech_data/B站//test_20/test_20-features-result-cuda/121.jpg\n",
      "save_frames:/mnt/ceph/develop/jiawei/lora_dataset/speech_data/B站//test_20/test_20-features-result-cuda/160.jpg\n",
      "save_frames:/mnt/ceph/develop/jiawei/lora_dataset/speech_data/B站//test_20/test_20-features-result-cuda/191.jpg\n",
      "save_frames:/mnt/ceph/develop/jiawei/lora_dataset/speech_data/B站//test_20/test_20-features-result-cuda/211.jpg\n",
      "save_frames:/mnt/ceph/develop/jiawei/lora_dataset/speech_data/B站//test_20/test_20-features-result-cuda/252.jpg\n",
      "scenes_path:/mnt/ceph/develop/jiawei/lora_dataset/speech_data/B站//test_21/test_21.mp4.scenes.txt\n",
      "features_path:/mnt/ceph/develop/jiawei/lora_dataset/speech_data/B站//test_21/keyframe-features/features.pkl\n",
      "video_path:/mnt/ceph/develop/jiawei/lora_dataset/speech_data/B站//test_21/test_21.mp4\n",
      "save_path:/mnt/ceph/develop/jiawei/lora_dataset/speech_data/B站//test_21/\n",
      "folder_path:test_21-features-result-cuda\n",
      "0 106\n",
      "\n",
      "['0', '106']\n",
      "107 206\n",
      "\n",
      "['107', '206']\n",
      "(206, 768)\n",
      "0 106\n",
      "(106, 768)\n",
      "10\n",
      "In the process of initializing the center\n"
     ]
    },
    {
     "name": "stderr",
     "output_type": "stream",
     "text": [
      "kmeans_init 10: 0, 106 - sse_min: 56.55255126953125,  sse: 56.55255126953125 - center[0].shape: torch.Size([768]), device: cuda:0: 100%|█| 106/\n",
      "kmeans_init 10: 1, 106 - sse_min: 26.93583393096924,  sse: 26.93583393096924 - center[0].shape: torch.Size([768]), device: cuda:0: 100%|█| 106/\n",
      "kmeans_init 10: 2, 106 - sse_min: 25.683722019195557,  sse: 25.683722019195557 - center[0].shape: torch.Size([768]), device: cuda:0: 100%|█| 10\n",
      "kmeans_init 10: 3, 106 - sse_min: 21.10882806777954,  sse: 21.10882806777954 - center[0].shape: torch.Size([768]), device: cuda:0: 100%|█| 106/\n",
      "kmeans_init 10: 4, 106 - sse_min: 18.996373504400253,  sse: 18.996373504400253 - center[0].shape: torch.Size([768]), device: cuda:0: 100%|█| 10\n",
      "kmeans_init 10: 5, 106 - sse_min: 17.277676433324814,  sse: 17.277676433324814 - center[0].shape: torch.Size([768]), device: cuda:0: 100%|█| 10\n",
      "kmeans_init 10: 6, 106 - sse_min: 15.649404972791672,  sse: 15.649404972791672 - center[0].shape: torch.Size([768]), device: cuda:0: 100%|█| 10\n",
      "kmeans_init 10: 7, 106 - sse_min: 14.59448629617691,  sse: 14.59448629617691 - center[0].shape: torch.Size([768]), device: cuda:0: 100%|█| 106/\n",
      "kmeans_init 10: 8, 106 - sse_min: 13.744115173816681,  sse: 13.744115173816681 - center[0].shape: torch.Size([768]), device: cuda:0: 100%|█| 10\n",
      "kmeans_init 10: 9, 106 - sse_min: 12.978450238704681,  sse: 12.978450238704681 - center[0].shape: torch.Size([768]), device: cuda:0: 100%|█| 10\n"
     ]
    },
    {
     "name": "stdout",
     "output_type": "stream",
     "text": [
      "(10, 768)\n",
      "best_k:4\n",
      "best_clusters:[1 1 1 2 2 2 2 2 2 0 0 0 0 1 0 0 0 0 0 0 0 0 0 0 1 0 0 0 0 0 0 0 0 0 0 1 0\n",
      " 0 0 0 0 0 0 0 0 0 1 0 0 0 0 0 0 0 0 0 0 1 0 0 0 0 3 3 3 3 3 0 1 0 0 0 0 0\n",
      " 0 0 0 0 0 1 0 0 0 0 0 0 0 0 0 0 1 0 0 0 0 0 0 0 0 0 0 1 0 0 0 0]\n",
      "best_centers:(Length: 4)\n",
      "best_avg_sc:0.5095318831716751\n",
      "best_center_index:[54, 57, 6, 65]\n",
      "57 0.9943565 54\n",
      "6 0.9886652 54\n",
      "65 0.99057996 54\n",
      "[54]\n",
      "107 206\n",
      "(99, 768)\n",
      "9\n",
      "In the process of initializing the center\n"
     ]
    },
    {
     "name": "stderr",
     "output_type": "stream",
     "text": [
      "kmeans_init 9: 0, 99 - sse_min: 45.40369415283203,  sse: 45.40369415283203 - center[0].shape: torch.Size([768]), device: cuda:0: 100%|█| 99/99 \n",
      "kmeans_init 9: 1, 99 - sse_min: 20.047837138175964,  sse: 20.047837138175964 - center[0].shape: torch.Size([768]), device: cuda:0: 100%|█| 99/9\n",
      "kmeans_init 9: 2, 99 - sse_min: 19.74180326424539,  sse: 19.74180326424539 - center[0].shape: torch.Size([768]), device: cuda:0: 100%|█| 99/99 \n",
      "kmeans_init 9: 3, 99 - sse_min: 17.29514274559915,  sse: 17.29514274559915 - center[0].shape: torch.Size([768]), device: cuda:0: 100%|█| 99/99 \n",
      "kmeans_init 9: 4, 99 - sse_min: 15.606327628716826,  sse: 15.606327628716826 - center[0].shape: torch.Size([768]), device: cuda:0: 100%|█| 99/9\n",
      "kmeans_init 9: 5, 99 - sse_min: 14.196824168786407,  sse: 14.196824168786407 - center[0].shape: torch.Size([768]), device: cuda:0: 100%|█| 99/9\n",
      "kmeans_init 9: 6, 99 - sse_min: 13.299105381593108,  sse: 13.299105381593108 - center[0].shape: torch.Size([768]), device: cuda:0: 100%|█| 99/9\n",
      "kmeans_init 9: 7, 99 - sse_min: 12.52357361279428,  sse: 12.52357361279428 - center[0].shape: torch.Size([768]), device: cuda:0: 100%|█| 99/99 \n",
      "kmeans_init 9: 8, 99 - sse_min: 11.939247345551848,  sse: 11.939247345551848 - center[0].shape: torch.Size([768]), device: cuda:0: 100%|█| 99/9\n"
     ]
    },
    {
     "name": "stdout",
     "output_type": "stream",
     "text": [
      "(9, 768)\n",
      "best_k:2\n",
      "best_clusters:[1 1 1 1 1 0 0 1 1 1 1 1 1 0 0 0 0 0 0 0 0 0 0 0 0 0 0 0 0 0 0 0 0 0 0 0 0\n",
      " 0 0 0 0 0 0 0 0 0 0 0 0 0 0 0 0 0 0 0 0 0 0 0 0 0 0 0 0 0 0 0 0 0 0 0 0 0\n",
      " 0 0 0 0 0 0 0 0 0 0 0 0 0 0 0 0 0 0 0 0 0 0 0 0 0]\n",
      "best_centers:(Length: 2)\n",
      "best_avg_sc:0.5102002789617717\n",
      "best_center_index:[34, 8]\n",
      "115 0.9796309 141\n",
      "[141]\n",
      "final_index：[54, 141]\n",
      "save_frames:/mnt/ceph/develop/jiawei/lora_dataset/speech_data/B站//test_21/test_21-features-result-cuda/54.jpg\n",
      "save_frames:/mnt/ceph/develop/jiawei/lora_dataset/speech_data/B站//test_21/test_21-features-result-cuda/141.jpg\n",
      "scenes_path:/mnt/ceph/develop/jiawei/lora_dataset/speech_data/B站//test_22/test_22.mp4.scenes.txt\n",
      "features_path:/mnt/ceph/develop/jiawei/lora_dataset/speech_data/B站//test_22/keyframe-features/features.pkl\n",
      "video_path:/mnt/ceph/develop/jiawei/lora_dataset/speech_data/B站//test_22/test_22.mp4\n",
      "save_path:/mnt/ceph/develop/jiawei/lora_dataset/speech_data/B站//test_22/\n",
      "folder_path:test_22-features-result-cuda\n",
      "0 81\n",
      "\n",
      "['0', '81']\n",
      "82 167\n",
      "\n",
      "['82', '167']\n",
      "168 196\n",
      "\n",
      "['168', '196']\n",
      "197 238\n",
      "\n",
      "['197', '238']\n",
      "239 293\n",
      "\n",
      "['239', '293']\n",
      "294 344\n",
      "\n",
      "['294', '344']\n",
      "345 487\n",
      "\n",
      "['345', '487']\n",
      "488 523\n",
      "\n",
      "['488', '523']\n",
      "(523, 768)\n",
      "0 81\n",
      "(81, 768)\n",
      "9\n",
      "In the process of initializing the center\n"
     ]
    },
    {
     "name": "stderr",
     "output_type": "stream",
     "text": [
      "kmeans_init 9: 0, 81 - sse_min: 53.04851531982422,  sse: 53.04851531982422 - center[0].shape: torch.Size([768]), device: cuda:0: 100%|█| 81/81 \n",
      "kmeans_init 9: 1, 81 - sse_min: 19.741200670599937,  sse: 19.741200670599937 - center[0].shape: torch.Size([768]), device: cuda:0: 100%|█| 81/8\n",
      "kmeans_init 9: 2, 81 - sse_min: 19.628124106675386,  sse: 19.628124106675386 - center[0].shape: torch.Size([768]), device: cuda:0: 100%|█| 81/8\n",
      "kmeans_init 9: 3, 81 - sse_min: 14.349949706345797,  sse: 14.349949706345797 - center[0].shape: torch.Size([768]), device: cuda:0: 100%|█| 81/8\n",
      "kmeans_init 9: 4, 81 - sse_min: 12.254001844674349,  sse: 12.254001844674349 - center[0].shape: torch.Size([768]), device: cuda:0: 100%|█| 81/8\n",
      "kmeans_init 9: 5, 81 - sse_min: 10.990279663354158,  sse: 10.990279663354158 - center[0].shape: torch.Size([768]), device: cuda:0: 100%|█| 81/8\n",
      "kmeans_init 9: 6, 81 - sse_min: 9.815454173833132,  sse: 9.815454173833132 - center[0].shape: torch.Size([768]), device: cuda:0: 100%|█| 81/81 \n",
      "kmeans_init 9: 7, 81 - sse_min: 8.995201874524355,  sse: 8.995201874524355 - center[0].shape: torch.Size([768]), device: cuda:0: 100%|█| 81/81 \n",
      "kmeans_init 9: 8, 81 - sse_min: 8.281020689755678,  sse: 8.281020689755678 - center[0].shape: torch.Size([768]), device: cuda:0: 100%|█| 81/81 \n"
     ]
    },
    {
     "name": "stdout",
     "output_type": "stream",
     "text": [
      "(9, 768)\n",
      "best_k:4\n",
      "best_clusters:[1 1 1 2 2 2 2 2 2 2 2 2 2 1 2 2 2 2 2 2 2 0 0 0 1 0 0 0 0 0 3 3 3 0 0 1 0\n",
      " 0 0 0 0 0 0 0 0 0 1 0 0 0 0 0 0 0 0 0 0 1 0 0 0 0 0 0 0 0 0 0 1 0 0 0 0 0\n",
      " 0 0 3 3 3 1 3]\n",
      "best_centers:(Length: 4)\n",
      "best_avg_sc:0.6072625344940668\n",
      "best_center_index:[45, 79, 12, 78]\n",
      "79 0.9999999 45\n",
      "12 0.9999999 45\n",
      "78 0.9999999 45\n",
      "[45]\n",
      "82 167\n",
      "(85, 768)\n",
      "9\n",
      "In the process of initializing the center\n"
     ]
    },
    {
     "name": "stderr",
     "output_type": "stream",
     "text": [
      "kmeans_init 9: 0, 85 - sse_min: 50.96000289916992,  sse: 50.96000289916992 - center[0].shape: torch.Size([768]), device: cuda:0: 100%|█| 85/85 \n",
      "kmeans_init 9: 1, 85 - sse_min: 32.37859511375427,  sse: 32.37859511375427 - center[0].shape: torch.Size([768]), device: cuda:0: 100%|█| 85/85 \n",
      "kmeans_init 9: 2, 85 - sse_min: 26.41729760169983,  sse: 26.41729760169983 - center[0].shape: torch.Size([768]), device: cuda:0: 100%|█| 85/85 \n",
      "kmeans_init 9: 3, 85 - sse_min: 21.17420196533203,  sse: 21.17420196533203 - center[0].shape: torch.Size([768]), device: cuda:0: 100%|█| 85/85 \n",
      "kmeans_init 9: 4, 85 - sse_min: 16.95618455670774,  sse: 16.95618455670774 - center[0].shape: torch.Size([768]), device: cuda:0: 100%|█| 85/85 \n",
      "kmeans_init 9: 5, 85 - sse_min: 14.684347560629249,  sse: 14.684347560629249 - center[0].shape: torch.Size([768]), device: cuda:0: 100%|█| 85/8\n",
      "kmeans_init 9: 6, 85 - sse_min: 12.39022677205503,  sse: 12.39022677205503 - center[0].shape: torch.Size([768]), device: cuda:0: 100%|█| 85/85 \n",
      "kmeans_init 9: 7, 85 - sse_min: 10.795821776613593,  sse: 10.795821776613593 - center[0].shape: torch.Size([768]), device: cuda:0: 100%|█| 85/8\n",
      "kmeans_init 9: 8, 85 - sse_min: 10.10354264639318,  sse: 10.10354264639318 - center[0].shape: torch.Size([768]), device: cuda:0: 100%|█| 85/85 \n"
     ]
    },
    {
     "name": "stdout",
     "output_type": "stream",
     "text": [
      "(9, 768)\n",
      "best_k:3\n",
      "best_clusters:[0 0 0 0 0 0 0 0 1 0 0 0 0 0 0 0 0 0 0 1 0 0 0 0 0 0 0 0 0 0 1 1 0 0 0 0 0\n",
      " 0 0 0 0 0 1 0 0 0 0 0 0 0 0 0 0 1 0 0 0 0 0 0 0 2 2 2 1 2 2 2 2 2 2 2 2 0\n",
      " 0 1 0 0 0 0 0 0 0 0 0]\n",
      "best_centers:(Length: 3)\n",
      "best_avg_sc:0.5434578476992877\n",
      "best_center_index:[9, 53, 66]\n",
      "148 0.99449617 135\n",
      "[91, 135]\n",
      "168 196\n",
      "(28, 768)\n",
      "5\n",
      "In the process of initializing the center\n"
     ]
    },
    {
     "name": "stderr",
     "output_type": "stream",
     "text": [
      "kmeans_init 5: 0, 28 - sse_min: 18.36345100402832,  sse: 18.36345100402832 - center[0].shape: torch.Size([768]), device: cuda:0: 100%|█| 28/28 \n",
      "kmeans_init 5: 1, 28 - sse_min: 3.544648742303252,  sse: 3.544648742303252 - center[0].shape: torch.Size([768]), device: cuda:0: 100%|█| 28/28 \n",
      "kmeans_init 5: 2, 28 - sse_min: 3.5414850781671703,  sse: 3.5414850781671703 - center[0].shape: torch.Size([768]), device: cuda:0: 100%|█| 28/2\n",
      "kmeans_init 5: 3, 28 - sse_min: 2.597070492338389,  sse: 2.597070492338389 - center[0].shape: torch.Size([768]), device: cuda:0: 100%|█| 28/28 \n",
      "kmeans_init 5: 4, 28 - sse_min: 1.9431476811878383,  sse: 1.9431476811878383 - center[0].shape: torch.Size([768]), device: cuda:0: 100%|█| 28/2\n"
     ]
    },
    {
     "name": "stdout",
     "output_type": "stream",
     "text": [
      "(5, 768)\n",
      "best_k:2\n",
      "best_clusters:[1 0 0 0 0 0 0 0 0 0 0 1 0 0 0 0 0 0 0 0 0 0 1 0 0 0 0 0]\n",
      "best_centers:(Length: 2)\n",
      "best_avg_sc:0.7923560771202525\n",
      "best_center_index:[9, 11]\n",
      "179 0.9942184 177\n",
      "[177]\n",
      "197 238\n",
      "(41, 768)\n",
      "6\n",
      "In the process of initializing the center\n"
     ]
    },
    {
     "name": "stderr",
     "output_type": "stream",
     "text": [
      "kmeans_init 6: 0, 41 - sse_min: 14.331077575683594,  sse: 14.331077575683594 - center[0].shape: torch.Size([768]), device: cuda:0: 100%|█| 41/4\n",
      "100%|████████████████████████████████████████████████████████████████████████████████████████████████████████| 41/41 [00:00<00:00, 2293.47it/s]\n",
      "100%|████████████████████████████████████████████████████████████████████████████████████████████████████████| 41/41 [00:00<00:00, 1932.45it/s]\n",
      "100%|████████████████████████████████████████████████████████████████████████████████████████████████████████| 41/41 [00:00<00:00, 1680.46it/s]\n",
      "100%|████████████████████████████████████████████████████████████████████████████████████████████████████████| 41/41 [00:00<00:00, 1499.35it/s]\n",
      "100%|████████████████████████████████████████████████████████████████████████████████████████████████████████| 41/41 [00:00<00:00, 1356.10it/s]\n"
     ]
    },
    {
     "name": "stdout",
     "output_type": "stream",
     "text": [
      "(6, 768)\n",
      "best_k:2\n",
      "best_clusters:[0 0 0 0 1 0 0 0 0 0 0 0 0 0 0 1 0 0 0 0 0 0 0 0 0 0 1 1 0 0 0 0 0 0 0 0 0\n",
      " 0 1 0 0]\n",
      "best_centers:(Length: 2)\n",
      "best_avg_sc:0.5929630109031255\n",
      "best_center_index:[0, 15]\n",
      "[197, 212]\n",
      "239 293\n",
      "(54, 768)\n",
      "7\n",
      "In the process of initializing the center\n"
     ]
    },
    {
     "name": "stderr",
     "output_type": "stream",
     "text": [
      "kmeans_init 7: 0, 54 - sse_min: 22.794925689697266,  sse: 22.794925689697266 - center[0].shape: torch.Size([768]), device: cuda:0: 100%|█| 54/5\n",
      "kmeans_init 7: 1, 54 - sse_min: 20.800174951553345,  sse: 20.800174951553345 - center[0].shape: torch.Size([768]), device: cuda:0: 100%|█| 54/5\n",
      "kmeans_init 7: 2, 54 - sse_min: 9.962978601455688,  sse: 9.962978601455688 - center[0].shape: torch.Size([768]), device: cuda:0: 100%|█| 54/54 \n",
      "kmeans_init 7: 3, 54 - sse_min: 6.382875072769821,  sse: 6.382875072769821 - center[0].shape: torch.Size([768]), device: cuda:0: 100%|█| 54/54 \n",
      "kmeans_init 7: 4, 54 - sse_min: 6.175623524002731,  sse: 6.175623524002731 - center[0].shape: torch.Size([768]), device: cuda:0: 100%|█| 54/54 \n",
      "kmeans_init 7: 5, 54 - sse_min: 5.348061251454055,  sse: 5.348061251454055 - center[0].shape: torch.Size([768]), device: cuda:0: 100%|█| 54/54 \n",
      "kmeans_init 7: 6, 54 - sse_min: 4.928780305199325,  sse: 4.928780305199325 - center[0].shape: torch.Size([768]), device: cuda:0: 100%|█| 54/54 \n"
     ]
    },
    {
     "name": "stdout",
     "output_type": "stream",
     "text": [
      "(7, 768)\n",
      "best_k:3\n",
      "best_clusters:[0 0 0 0 0 0 0 2 0 0 0 0 0 0 0 0 0 0 2 0 0 0 0 0 0 0 0 0 0 2 0 0 0 0 1 1 1\n",
      " 1 1 1 2 1 1 1 1 1 1 1 1 1 1 2 1 1]\n",
      "best_centers:(Length: 3)\n",
      "best_avg_sc:0.7759020185508357\n",
      "best_center_index:[24, 47, 40]\n",
      "286 0.9845362 263\n",
      "279 0.98031604 263\n",
      "[263]\n",
      "294 344\n",
      "(50, 768)\n",
      "7\n",
      "In the process of initializing the center\n"
     ]
    },
    {
     "name": "stderr",
     "output_type": "stream",
     "text": [
      "kmeans_init 7: 0, 50 - sse_min: 16.32602310180664,  sse: 16.32602310180664 - center[0].shape: torch.Size([768]), device: cuda:0: 100%|█| 50/50 \n",
      "kmeans_init 7: 1, 50 - sse_min: 15.308006286621094,  sse: 15.308006286621094 - center[0].shape: torch.Size([768]), device: cuda:0: 100%|█| 50/5\n",
      "kmeans_init 7: 2, 50 - sse_min: 11.257122993469238,  sse: 11.257122993469238 - center[0].shape: torch.Size([768]), device: cuda:0: 100%|█| 50/5\n",
      "kmeans_init 7: 3, 50 - sse_min: 7.6473885318264365,  sse: 7.6473885318264365 - center[0].shape: torch.Size([768]), device: cuda:0: 100%|█| 50/5\n",
      "kmeans_init 7: 4, 50 - sse_min: 6.341021402738988,  sse: 6.341021402738988 - center[0].shape: torch.Size([768]), device: cuda:0: 100%|█| 50/50 \n",
      "kmeans_init 7: 5, 50 - sse_min: 5.672690554521978,  sse: 5.672690554521978 - center[0].shape: torch.Size([768]), device: cuda:0: 100%|█| 50/50 \n",
      "kmeans_init 7: 6, 50 - sse_min: 5.140698148868978,  sse: 5.140698148868978 - center[0].shape: torch.Size([768]), device: cuda:0: 100%|█| 50/50 \n"
     ]
    },
    {
     "name": "stdout",
     "output_type": "stream",
     "text": [
      "(7, 768)\n",
      "best_k:4\n",
      "best_clusters:[0 0 0 0 0 0 0 2 0 0 0 0 0 0 0 0 0 0 2 0 0 0 0 0 0 0 0 0 0 2 0 0 0 0 0 0 0\n",
      " 0 0 3 2 2 3 1 1 1 1 1 1 1]\n",
      "best_centers:(Length: 4)\n",
      "best_avg_sc:0.7574008951564289\n",
      "best_center_index:[13, 45, 41, 39]\n",
      "339 0.96914303 307\n",
      "335 0.98370963 307\n",
      "333 0.9845108 307\n",
      "[307]\n",
      "345 487\n",
      "(142, 768)\n",
      "11\n",
      "In the process of initializing the center\n"
     ]
    },
    {
     "name": "stderr",
     "output_type": "stream",
     "text": [
      "kmeans_init 11: 0, 142 - sse_min: 52.10529327392578,  sse: 52.10529327392578 - center[0].shape: torch.Size([768]), device: cuda:0: 100%|█| 142/\n",
      "kmeans_init 11: 1, 142 - sse_min: 48.26160645484924,  sse: 48.26160645484924 - center[0].shape: torch.Size([768]), device: cuda:0: 100%|█| 142/\n",
      "kmeans_init 11: 2, 142 - sse_min: 27.454971626400948,  sse: 27.454971626400948 - center[0].shape: torch.Size([768]), device: cuda:0: 100%|█| 14\n",
      "kmeans_init 11: 3, 142 - sse_min: 14.876852348446846,  sse: 14.876852348446846 - center[0].shape: torch.Size([768]), device: cuda:0: 100%|█| 14\n",
      "kmeans_init 11: 4, 142 - sse_min: 14.222329095005989,  sse: 14.222329095005989 - center[0].shape: torch.Size([768]), device: cuda:0: 100%|█| 14\n",
      "kmeans_init 11: 5, 142 - sse_min: 13.193388417363167,  sse: 13.193388417363167 - center[0].shape: torch.Size([768]), device: cuda:0: 100%|█| 14\n",
      "kmeans_init 11: 6, 142 - sse_min: 12.334461435675621,  sse: 12.334461435675621 - center[0].shape: torch.Size([768]), device: cuda:0: 100%|█| 14\n",
      "kmeans_init 11: 7, 142 - sse_min: 11.63555346429348,  sse: 11.63555346429348 - center[0].shape: torch.Size([768]), device: cuda:0: 100%|█| 142/\n",
      "kmeans_init 11: 8, 142 - sse_min: 10.981608256697655,  sse: 10.981608256697655 - center[0].shape: torch.Size([768]), device: cuda:0: 100%|█| 14\n",
      "kmeans_init 11: 9, 142 - sse_min: 10.328288778662682,  sse: 10.328288778662682 - center[0].shape: torch.Size([768]), device: cuda:0: 100%|█| 14\n",
      "kmeans_init 11: 10, 142 - sse_min: 9.801619246602058,  sse: 9.801619246602058 - center[0].shape: torch.Size([768]), device: cuda:0: 100%|█| 142\n"
     ]
    },
    {
     "name": "stdout",
     "output_type": "stream",
     "text": [
      "(11, 768)\n",
      "best_k:4\n",
      "best_clusters:[0 1 0 0 0 0 0 0 0 0 0 0 1 0 0 0 0 0 0 0 0 0 0 1 0 0 0 0 0 0 0 0 0 0 1 0 0\n",
      " 0 0 0 0 0 0 0 0 1 0 0 0 0 0 0 0 0 0 0 1 0 0 0 0 0 0 0 0 0 0 1 0 0 0 0 0 0\n",
      " 0 0 0 0 1 0 0 0 0 0 0 0 3 2 2 1 2 2 2 2 2 2 2 2 2 2 1 1 2 2 2 2 2 2 2 2 2\n",
      " 2 1 2 2 2 2 2 2 2 2 2 2 1 2 2 2 1 1 1 1 1 1 1 1 1 1 1 1 1 1 1]\n",
      "best_centers:(Length: 4)\n",
      "best_avg_sc:0.716395684923431\n",
      "best_center_index:[62, 123, 103, 86]\n",
      "468 0.96433926 407\n",
      "448 0.95367324 407\n",
      "431 0.9916285 407\n",
      "[407]\n",
      "488 523\n",
      "(35, 768)\n",
      "5\n",
      "In the process of initializing the center\n"
     ]
    },
    {
     "name": "stderr",
     "output_type": "stream",
     "text": [
      "kmeans_init 5: 0, 35 - sse_min: 14.22441291809082,  sse: 14.22441291809082 - center[0].shape: torch.Size([768]), device: cuda:0: 100%|█| 35/35 \n",
      "kmeans_init 5: 1, 35 - sse_min: 14.208726465702057,  sse: 14.208726465702057 - center[0].shape: torch.Size([768]), device: cuda:0: 100%|█| 35/3\n",
      "kmeans_init 5: 2, 35 - sse_min: 2.4928970765322447,  sse: 2.4928970765322447 - center[0].shape: torch.Size([768]), device: cuda:0: 100%|█| 35/3\n",
      "kmeans_init 5: 3, 35 - sse_min: 1.6225923877209425,  sse: 1.6225923877209425 - center[0].shape: torch.Size([768]), device: cuda:0: 100%|█| 35/3\n",
      "kmeans_init 5: 4, 35 - sse_min: 1.1725972276180983,  sse: 1.1725972276180983 - center[0].shape: torch.Size([768]), device: cuda:0: 100%|█| 35/3"
     ]
    },
    {
     "name": "stdout",
     "output_type": "stream",
     "text": [
      "(5, 768)\n",
      "best_k:2\n",
      "best_clusters:[0 0 0 0 0 0 0 0 0 0 0 0 0 0 0 1 1 1 1 1 1 1 1 1 0 1 1 1 1 1 1 1 1 1 1]\n",
      "best_centers:(Length: 2)\n",
      "best_avg_sc:0.88683310583085\n",
      "best_center_index:[4, 23]\n"
     ]
    },
    {
     "name": "stderr",
     "output_type": "stream",
     "text": [
      "\n"
     ]
    },
    {
     "name": "stdout",
     "output_type": "stream",
     "text": [
      "[492, 511]\n",
      "final_index：[45, 91, 135, 177, 197, 212, 263, 307, 407, 492, 511]\n",
      "save_frames:/mnt/ceph/develop/jiawei/lora_dataset/speech_data/B站//test_22/test_22-features-result-cuda/45.jpg\n",
      "save_frames:/mnt/ceph/develop/jiawei/lora_dataset/speech_data/B站//test_22/test_22-features-result-cuda/91.jpg\n",
      "save_frames:/mnt/ceph/develop/jiawei/lora_dataset/speech_data/B站//test_22/test_22-features-result-cuda/135.jpg\n",
      "save_frames:/mnt/ceph/develop/jiawei/lora_dataset/speech_data/B站//test_22/test_22-features-result-cuda/177.jpg\n",
      "save_frames:/mnt/ceph/develop/jiawei/lora_dataset/speech_data/B站//test_22/test_22-features-result-cuda/197.jpg\n",
      "save_frames:/mnt/ceph/develop/jiawei/lora_dataset/speech_data/B站//test_22/test_22-features-result-cuda/212.jpg\n",
      "save_frames:/mnt/ceph/develop/jiawei/lora_dataset/speech_data/B站//test_22/test_22-features-result-cuda/263.jpg\n",
      "save_frames:/mnt/ceph/develop/jiawei/lora_dataset/speech_data/B站//test_22/test_22-features-result-cuda/307.jpg\n",
      "save_frames:/mnt/ceph/develop/jiawei/lora_dataset/speech_data/B站//test_22/test_22-features-result-cuda/407.jpg\n",
      "save_frames:/mnt/ceph/develop/jiawei/lora_dataset/speech_data/B站//test_22/test_22-features-result-cuda/492.jpg\n",
      "save_frames:/mnt/ceph/develop/jiawei/lora_dataset/speech_data/B站//test_22/test_22-features-result-cuda/511.jpg\n",
      "scenes_path:/mnt/ceph/develop/jiawei/lora_dataset/speech_data/B站//test_23/test_23.mp4.scenes.txt\n",
      "features_path:/mnt/ceph/develop/jiawei/lora_dataset/speech_data/B站//test_23/keyframe-features/features.pkl\n",
      "video_path:/mnt/ceph/develop/jiawei/lora_dataset/speech_data/B站//test_23/test_23.mp4\n",
      "save_path:/mnt/ceph/develop/jiawei/lora_dataset/speech_data/B站//test_23/\n",
      "folder_path:test_23-features-result-cuda\n",
      "0 276\n",
      "\n",
      "['0', '276']\n",
      "(276, 768)\n",
      "0 276\n",
      "(276, 768)\n",
      "16\n",
      "In the process of initializing the center\n"
     ]
    },
    {
     "name": "stderr",
     "output_type": "stream",
     "text": [
      "kmeans_init 16: 0, 276 - sse_min: 216.45599365234375,  sse: 216.45599365234375 - center[0].shape: torch.Size([768]), device: cuda:0: 100%|█| 27\n",
      "kmeans_init 16: 1, 276 - sse_min: 48.77799439430237,  sse: 48.77799439430237 - center[0].shape: torch.Size([768]), device: cuda:0: 100%|█| 276/\n",
      "kmeans_init 16: 2, 276 - sse_min: 45.58155846595764,  sse: 45.58155846595764 - center[0].shape: torch.Size([768]), device: cuda:0: 100%|█| 276/\n",
      "kmeans_init 16: 3, 276 - sse_min: 43.152570486068726,  sse: 43.152570486068726 - center[0].shape: torch.Size([768]), device: cuda:0: 100%|█| 27\n",
      "kmeans_init 16: 4, 276 - sse_min: 41.3515202999115,  sse: 41.3515202999115 - center[0].shape: torch.Size([768]), device: cuda:0: 100%|█| 276/27\n",
      "kmeans_init 16: 5, 276 - sse_min: 40.55666673183441,  sse: 40.55666673183441 - center[0].shape: torch.Size([768]), device: cuda:0: 100%|█| 276/\n",
      "kmeans_init 16: 6, 276 - sse_min: 39.35148751735687,  sse: 39.35148751735687 - center[0].shape: torch.Size([768]), device: cuda:0: 100%|█| 276/\n",
      "kmeans_init 16: 7, 276 - sse_min: 38.40299737453461,  sse: 38.40299737453461 - center[0].shape: torch.Size([768]), device: cuda:0: 100%|█| 276/\n",
      "kmeans_init 16: 8, 276 - sse_min: 37.592156767845154,  sse: 37.592156767845154 - center[0].shape: torch.Size([768]), device: cuda:0: 100%|█| 27\n",
      "kmeans_init 16: 9, 276 - sse_min: 36.787375807762146,  sse: 36.787375807762146 - center[0].shape: torch.Size([768]), device: cuda:0: 100%|█| 27\n",
      "kmeans_init 16: 10, 276 - sse_min: 36.015278935432434,  sse: 36.015278935432434 - center[0].shape: torch.Size([768]), device: cuda:0: 100%|█| 2\n",
      "kmeans_init 16: 11, 276 - sse_min: 35.45806872844696,  sse: 35.45806872844696 - center[0].shape: torch.Size([768]), device: cuda:0: 100%|█| 276\n",
      "kmeans_init 16: 12, 276 - sse_min: 34.90601861476898,  sse: 34.90601861476898 - center[0].shape: torch.Size([768]), device: cuda:0: 100%|█| 276\n",
      "kmeans_init 16: 13, 276 - sse_min: 34.39612638950348,  sse: 34.39612638950348 - center[0].shape: torch.Size([768]), device: cuda:0: 100%|█| 276\n",
      "100%|███████████████████████████████████████████████████████████████████████████████████████████████████████| 276/276 [00:00<00:00, 608.95it/s]\n",
      "100%|███████████████████████████████████████████████████████████████████████████████████████████████████████| 276/276 [00:00<00:00, 580.37it/s]\n"
     ]
    },
    {
     "name": "stdout",
     "output_type": "stream",
     "text": [
      "(16, 768)\n",
      "best_k:2\n",
      "best_clusters:[1 1 0 0 0 0 0 0 0 0 0 0 0 0 0 0 0 0 0 0 0 0 0 0 0 0 0 0 0 0 0 0 0 0 0 0 0\n",
      " 0 0 0 0 0 0 0 0 0 0 0 0 0 0 0 0 0 0 0 0 0 0 0 0 0 0 0 0 0 0 0 0 0 0 0 0 0\n",
      " 0 0 0 0 0 0 0 0 0 0 0 0 0 0 0 0 0 0 0 0 0 0 0 0 0 0 0 0 0 0 0 0 0 0 0 0 0\n",
      " 0 1 0 0 0 0 0 0 0 0 0 0 0 0 0 0 0 0 0 0 0 0 0 0 0 0 0 0 0 0 0 0 0 0 0 0 0\n",
      " 0 0 0 0 0 0 0 0 0 0 0 0 0 0 0 0 0 0 0 0 0 0 0 0 0 0 0 0 0 0 0 0 0 0 0 0 0\n",
      " 0 0 0 0 0 0 0 0 0 0 0 0 0 0 1 0 0 0 0 0 0 0 0 0 0 0 0 0 0 0 0 0 0 0 0 0 0\n",
      " 0 0 0 0 0 0 0 0 0 0 0 0 0 0 0 0 0 0 0 0 0 0 0 0 0 0 0 0 0 0 0 0 0 0 0 0 0\n",
      " 0 0 0 0 0 0 0 0 0 0 0 0 0 0 0 0 0]\n",
      "best_centers:(Length: 2)\n",
      "best_avg_sc:0.6795173018719957\n",
      "best_center_index:[27, 1]\n",
      "[1, 27]\n",
      "final_index：[1, 27]\n",
      "save_frames:/mnt/ceph/develop/jiawei/lora_dataset/speech_data/B站//test_23/test_23-features-result-cuda/1.jpg\n",
      "save_frames:/mnt/ceph/develop/jiawei/lora_dataset/speech_data/B站//test_23/test_23-features-result-cuda/27.jpg\n",
      "scenes_path:/mnt/ceph/develop/jiawei/lora_dataset/speech_data/B站//test_24/test_24.mp4.scenes.txt\n",
      "features_path:/mnt/ceph/develop/jiawei/lora_dataset/speech_data/B站//test_24/keyframe-features/features.pkl\n",
      "video_path:/mnt/ceph/develop/jiawei/lora_dataset/speech_data/B站//test_24/test_24.mp4\n",
      "save_path:/mnt/ceph/develop/jiawei/lora_dataset/speech_data/B站//test_24/\n",
      "folder_path:test_24-features-result-cuda\n",
      "0 84\n",
      "\n",
      "['0', '84']\n",
      "85 104\n",
      "\n",
      "['85', '104']\n",
      "105 205\n",
      "\n",
      "['105', '205']\n",
      "206 267\n",
      "\n",
      "['206', '267']\n",
      "(267, 768)\n",
      "0 84\n",
      "(84, 768)\n",
      "9\n",
      "In the process of initializing the center\n"
     ]
    },
    {
     "name": "stderr",
     "output_type": "stream",
     "text": [
      "kmeans_init 9: 0, 84 - sse_min: 37.87156677246094,  sse: 37.87156677246094 - center[0].shape: torch.Size([768]), device: cuda:0: 100%|█| 84/84 \n",
      "kmeans_init 9: 1, 84 - sse_min: 14.190873622894287,  sse: 14.190873622894287 - center[0].shape: torch.Size([768]), device: cuda:0: 100%|█| 84/8\n",
      "kmeans_init 9: 2, 84 - sse_min: 12.647783175110817,  sse: 12.647783175110817 - center[0].shape: torch.Size([768]), device: cuda:0: 100%|█| 84/8\n",
      "kmeans_init 9: 3, 84 - sse_min: 11.448277369141579,  sse: 11.448277369141579 - center[0].shape: torch.Size([768]), device: cuda:0: 100%|█| 84/8\n",
      "kmeans_init 9: 4, 84 - sse_min: 10.285682335495949,  sse: 10.285682335495949 - center[0].shape: torch.Size([768]), device: cuda:0: 100%|█| 84/8\n",
      "kmeans_init 9: 5, 84 - sse_min: 9.549273148179054,  sse: 9.549273148179054 - center[0].shape: torch.Size([768]), device: cuda:0: 100%|█| 84/84 \n",
      "kmeans_init 9: 6, 84 - sse_min: 8.94756831228733,  sse: 8.94756831228733 - center[0].shape: torch.Size([768]), device: cuda:0: 100%|█| 84/84 [0\n",
      "100%|████████████████████████████████████████████████████████████████████████████████████████████████████████| 84/84 [00:00<00:00, 1051.46it/s]\n",
      "100%|█████████████████████████████████████████████████████████████████████████████████████████████████████████| 84/84 [00:00<00:00, 969.13it/s]\n"
     ]
    },
    {
     "name": "stdout",
     "output_type": "stream",
     "text": [
      "(9, 768)\n",
      "best_k:2\n",
      "best_clusters:[0 0 0 0 0 0 1 0 0 0 0 0 0 0 0 0 0 0 0 0 0 0 0 0 0 0 0 0 0 0 0 0 0 0 0 0 0\n",
      " 0 0 0 0 0 0 0 0 0 0 0 0 0 0 0 0 0 0 0 0 0 0 0 0 0 0 0 0 0 0 0 0 0 0 0 0 0\n",
      " 0 0 0 0 0 0 0 0 0 0]\n",
      "best_centers:(Length: 2)\n",
      "best_avg_sc:0.6661484427716167\n",
      "best_center_index:[38, 6]\n",
      "[6, 38]\n",
      "85 104\n",
      "(19, 768)\n",
      "4\n",
      "In the process of initializing the center\n"
     ]
    },
    {
     "name": "stderr",
     "output_type": "stream",
     "text": [
      "kmeans_init 4: 0, 19 - sse_min: 3.7309048175811768,  sse: 3.7309048175811768 - center[0].shape: torch.Size([768]), device: cuda:0: 100%|█| 19/1\n",
      "kmeans_init 4: 1, 19 - sse_min: 2.941520571708679,  sse: 2.941520571708679 - center[0].shape: torch.Size([768]), device: cuda:0: 100%|█| 19/19 \n",
      "kmeans_init 4: 2, 19 - sse_min: 2.2257611602544785,  sse: 2.2257611602544785 - center[0].shape: torch.Size([768]), device: cuda:0: 100%|█| 19/1\n",
      "kmeans_init 4: 3, 19 - sse_min: 1.7610165625810623,  sse: 1.7610165625810623 - center[0].shape: torch.Size([768]), device: cuda:0: 100%|█| 19/1\n"
     ]
    },
    {
     "name": "stdout",
     "output_type": "stream",
     "text": [
      "(4, 768)\n",
      "best_k:2\n",
      "best_clusters:[0 0 0 0 0 1 0 0 0 0 0 0 0 0 0 0 1 0 0]\n",
      "best_centers:(Length: 2)\n",
      "best_avg_sc:0.6242635238952173\n",
      "best_center_index:[11, 5]\n",
      "90 0.9985218 96\n",
      "[96]\n",
      "105 205\n",
      "(100, 768)\n",
      "10\n",
      "In the process of initializing the center\n"
     ]
    },
    {
     "name": "stderr",
     "output_type": "stream",
     "text": [
      "kmeans_init 10: 0, 100 - sse_min: 29.605792999267578,  sse: 29.605792999267578 - center[0].shape: torch.Size([768]), device: cuda:0: 100%|█| 10\n",
      "kmeans_init 10: 1, 100 - sse_min: 20.614574432373047,  sse: 20.614574432373047 - center[0].shape: torch.Size([768]), device: cuda:0: 100%|█| 10\n",
      "kmeans_init 10: 2, 100 - sse_min: 14.787864804267883,  sse: 14.787864804267883 - center[0].shape: torch.Size([768]), device: cuda:0: 100%|█| 10\n",
      "kmeans_init 10: 3, 100 - sse_min: 13.284503102302551,  sse: 13.284503102302551 - center[0].shape: torch.Size([768]), device: cuda:0: 100%|█| 10\n",
      "kmeans_init 10: 4, 100 - sse_min: 12.608102649450302,  sse: 12.608102649450302 - center[0].shape: torch.Size([768]), device: cuda:0: 100%|█| 10\n",
      "kmeans_init 10: 5, 100 - sse_min: 11.826085142791271,  sse: 11.826085142791271 - center[0].shape: torch.Size([768]), device: cuda:0: 100%|█| 10\n",
      "kmeans_init 10: 6, 100 - sse_min: 11.053490333259106,  sse: 11.053490333259106 - center[0].shape: torch.Size([768]), device: cuda:0: 100%|█| 10\n",
      "kmeans_init 10: 7, 100 - sse_min: 10.392372839152813,  sse: 10.392372839152813 - center[0].shape: torch.Size([768]), device: cuda:0: 100%|█| 10\n",
      "kmeans_init 10: 8, 100 - sse_min: 9.82062792032957,  sse: 9.82062792032957 - center[0].shape: torch.Size([768]), device: cuda:0: 100%|█| 100/10\n",
      "kmeans_init 10: 9, 100 - sse_min: 9.319380454719067,  sse: 9.319380454719067 - center[0].shape: torch.Size([768]), device: cuda:0: 100%|█| 100/\n"
     ]
    },
    {
     "name": "stdout",
     "output_type": "stream",
     "text": [
      "(10, 768)\n",
      "best_k:2\n",
      "best_clusters:[0 0 0 0 0 0 0 1 1 0 0 0 0 0 0 0 0 0 0 1 0 0 0 0 0 0 0 0 0 0 1 0 0 0 0 0 0\n",
      " 0 0 0 0 1 0 0 0 0 0 0 0 0 0 0 1 0 0 0 0 0 0 0 0 0 0 1 0 0 0 0 0 0 0 0 0 0\n",
      " 1 0 0 0 0 0 0 0 1 1 1 1 1 1 1 1 1 1 1 1 1 1 1 1 1 1]\n",
      "best_centers:(Length: 2)\n",
      "best_avg_sc:0.5506593876323838\n",
      "best_center_index:[27, 63]\n",
      "168 0.9432246 132\n",
      "[132]\n",
      "206 267\n",
      "(61, 768)\n",
      "7\n",
      "In the process of initializing the center\n"
     ]
    },
    {
     "name": "stderr",
     "output_type": "stream",
     "text": [
      "kmeans_init 7: 0, 61 - sse_min: 18.69743537902832,  sse: 18.69743537902832 - center[0].shape: torch.Size([768]), device: cuda:0: 100%|█| 61/61 \n",
      "kmeans_init 7: 1, 61 - sse_min: 16.399739265441895,  sse: 16.399739265441895 - center[0].shape: torch.Size([768]), device: cuda:0: 100%|█| 61/6\n",
      "kmeans_init 7: 2, 61 - sse_min: 14.146609663963318,  sse: 14.146609663963318 - center[0].shape: torch.Size([768]), device: cuda:0: 100%|█| 61/6\n",
      "kmeans_init 7: 3, 61 - sse_min: 12.537723064422607,  sse: 12.537723064422607 - center[0].shape: torch.Size([768]), device: cuda:0: 100%|█| 61/6\n",
      "kmeans_init 7: 4, 61 - sse_min: 11.062836050987244,  sse: 11.062836050987244 - center[0].shape: torch.Size([768]), device: cuda:0: 100%|█| 61/6\n",
      "kmeans_init 7: 5, 61 - sse_min: 10.536484748125076,  sse: 10.536484748125076 - center[0].shape: torch.Size([768]), device: cuda:0: 100%|█| 61/6\n",
      "kmeans_init 7: 6, 61 - sse_min: 9.26649060845375,  sse: 9.26649060845375 - center[0].shape: torch.Size([768]), device: cuda:0: 100%|█| 61/61 [0\n"
     ]
    },
    {
     "name": "stdout",
     "output_type": "stream",
     "text": [
      "(7, 768)\n",
      "best_k:2\n",
      "best_clusters:[0 0 0 0 0 0 0 0 0 0 0 0 0 0 0 0 0 0 0 0 0 0 0 0 0 0 0 0 0 0 0 0 0 0 0 0 0\n",
      " 0 0 0 0 0 0 0 0 1 0 0 0 0 0 0 1 0 0 0 0 0 1 0 0]\n",
      "best_centers:(Length: 2)\n",
      "best_avg_sc:0.6194307056152888\n",
      "best_center_index:[18, 52]\n",
      "258 0.9965308 224\n",
      "[224]\n",
      "final_index：[6, 38, 96, 132, 224]\n",
      "save_frames:/mnt/ceph/develop/jiawei/lora_dataset/speech_data/B站//test_24/test_24-features-result-cuda/6.jpg\n",
      "save_frames:/mnt/ceph/develop/jiawei/lora_dataset/speech_data/B站//test_24/test_24-features-result-cuda/38.jpg\n",
      "save_frames:/mnt/ceph/develop/jiawei/lora_dataset/speech_data/B站//test_24/test_24-features-result-cuda/96.jpg\n",
      "save_frames:/mnt/ceph/develop/jiawei/lora_dataset/speech_data/B站//test_24/test_24-features-result-cuda/132.jpg\n",
      "save_frames:/mnt/ceph/develop/jiawei/lora_dataset/speech_data/B站//test_24/test_24-features-result-cuda/224.jpg\n",
      "scenes_path:/mnt/ceph/develop/jiawei/lora_dataset/speech_data/B站//test_25/test_25.mp4.scenes.txt\n",
      "features_path:/mnt/ceph/develop/jiawei/lora_dataset/speech_data/B站//test_25/keyframe-features/features.pkl\n",
      "video_path:/mnt/ceph/develop/jiawei/lora_dataset/speech_data/B站//test_25/test_25.mp4\n",
      "save_path:/mnt/ceph/develop/jiawei/lora_dataset/speech_data/B站//test_25/\n",
      "folder_path:test_25-features-result-cuda\n",
      "0 143\n",
      "\n",
      "['0', '143']\n",
      "144 323\n",
      "\n",
      "['144', '323']\n",
      "(323, 768)\n",
      "0 143\n",
      "(143, 768)\n",
      "11\n",
      "In the process of initializing the center\n"
     ]
    },
    {
     "name": "stderr",
     "output_type": "stream",
     "text": [
      "kmeans_init 11: 0, 143 - sse_min: 52.61516571044922,  sse: 52.61516571044922 - center[0].shape: torch.Size([768]), device: cuda:0: 100%|█| 143/\n",
      "kmeans_init 11: 1, 143 - sse_min: 29.563199996948242,  sse: 29.563199996948242 - center[0].shape: torch.Size([768]), device: cuda:0: 100%|█| 14\n",
      "kmeans_init 11: 2, 143 - sse_min: 25.84406542778015,  sse: 25.84406542778015 - center[0].shape: torch.Size([768]), device: cuda:0: 100%|█| 143/\n",
      "kmeans_init 11: 3, 143 - sse_min: 23.424733996391296,  sse: 23.424733996391296 - center[0].shape: torch.Size([768]), device: cuda:0: 100%|█| 14\n",
      "kmeans_init 11: 4, 143 - sse_min: 21.286385893821716,  sse: 21.286385893821716 - center[0].shape: torch.Size([768]), device: cuda:0: 100%|█| 14\n",
      "kmeans_init 11: 5, 143 - sse_min: 19.941117882728577,  sse: 19.941117882728577 - center[0].shape: torch.Size([768]), device: cuda:0: 100%|█| 14\n",
      "kmeans_init 11: 6, 143 - sse_min: 18.807321548461914,  sse: 18.807321548461914 - center[0].shape: torch.Size([768]), device: cuda:0: 100%|█| 14\n",
      "kmeans_init 11: 7, 143 - sse_min: 17.825738787651062,  sse: 17.825738787651062 - center[0].shape: torch.Size([768]), device: cuda:0: 100%|█| 14\n",
      "kmeans_init 11: 8, 143 - sse_min: 17.015955299139023,  sse: 17.015955299139023 - center[0].shape: torch.Size([768]), device: cuda:0: 100%|█| 14\n",
      "kmeans_init 11: 9, 143 - sse_min: 16.295517534017563,  sse: 16.295517534017563 - center[0].shape: torch.Size([768]), device: cuda:0: 100%|█| 14\n",
      "kmeans_init 11: 10, 143 - sse_min: 15.643012970685959,  sse: 15.643012970685959 - center[0].shape: torch.Size([768]), device: cuda:0: 100%|█| 1\n"
     ]
    },
    {
     "name": "stdout",
     "output_type": "stream",
     "text": [
      "(11, 768)\n",
      "best_k:4\n",
      "best_clusters:[1 1 1 1 1 1 1 1 1 1 1 1 1 1 1 1 1 1 1 1 1 1 1 1 1 1 1 1 1 1 1 1 1 1 1 1 1\n",
      " 1 1 1 1 1 1 1 1 1 1 1 1 1 1 1 3 3 2 3 0 1 0 0 0 0 0 2 2 2 2 2 1 0 0 0 0 0\n",
      " 0 0 0 0 0 1 0 0 0 0 0 0 0 0 0 0 1 0 0 0 0 0 0 0 0 0 0 1 0 0 0 0 0 0 0 0 0\n",
      " 0 1 1 0 0 0 0 0 0 0 0 0 0 1 0 0 0 0 0 0 0 0 0 0 1 0 0 0 0 0 2 2]\n",
      "best_centers:(Length: 4)\n",
      "best_avg_sc:0.5707735087796656\n",
      "best_center_index:[91, 9, 64, 53]\n",
      "9 0.9941917 91\n",
      "64 0.99293214 91\n",
      "53 0.97647506 91\n",
      "[91]\n",
      "144 323\n",
      "(179, 768)\n",
      "13\n",
      "In the process of initializing the center\n"
     ]
    },
    {
     "name": "stderr",
     "output_type": "stream",
     "text": [
      "kmeans_init 13: 0, 179 - sse_min: 106.39203643798828,  sse: 106.39203643798828 - center[0].shape: torch.Size([768]), device: cuda:0: 100%|█| 17\n",
      "kmeans_init 13: 1, 179 - sse_min: 57.557756185531616,  sse: 57.557756185531616 - center[0].shape: torch.Size([768]), device: cuda:0: 100%|█| 17\n",
      "kmeans_init 13: 2, 179 - sse_min: 31.59350299835205,  sse: 31.59350299835205 - center[0].shape: torch.Size([768]), device: cuda:0: 100%|█| 179/\n",
      "kmeans_init 13: 3, 179 - sse_min: 27.121740341186523,  sse: 27.121740341186523 - center[0].shape: torch.Size([768]), device: cuda:0: 100%|█| 17\n",
      "100%|██████████████████████████████████████████████████████████████████████████████████████████████████████| 179/179 [00:00<00:00, 1394.59it/s]\n",
      "100%|██████████████████████████████████████████████████████████████████████████████████████████████████████| 179/179 [00:00<00:00, 1250.49it/s]\n",
      "100%|██████████████████████████████████████████████████████████████████████████████████████████████████████| 179/179 [00:00<00:00, 1114.46it/s]\n",
      "100%|██████████████████████████████████████████████████████████████████████████████████████████████████████| 179/179 [00:00<00:00, 1019.11it/s]\n",
      "100%|███████████████████████████████████████████████████████████████████████████████████████████████████████| 179/179 [00:00<00:00, 933.68it/s]\n",
      "100%|███████████████████████████████████████████████████████████████████████████████████████████████████████| 179/179 [00:00<00:00, 864.86it/s]\n",
      "100%|███████████████████████████████████████████████████████████████████████████████████████████████████████| 179/179 [00:00<00:00, 805.55it/s]\n",
      "100%|███████████████████████████████████████████████████████████████████████████████████████████████████████| 179/179 [00:00<00:00, 751.38it/s]\n",
      "100%|███████████████████████████████████████████████████████████████████████████████████████████████████████| 179/179 [00:00<00:00, 710.52it/s]\n"
     ]
    },
    {
     "name": "stdout",
     "output_type": "stream",
     "text": [
      "(13, 768)\n",
      "best_k:3\n",
      "best_clusters:[2 2 0 1 1 1 1 1 1 1 1 1 1 0 1 1 1 1 1 1 1 1 1 1 0 1 1 1 1 1 1 1 1 1 1 0 1\n",
      " 1 1 1 1 1 1 1 1 1 0 1 1 1 1 1 1 1 1 1 1 0 1 1 1 1 1 1 1 1 1 2 0 2 2 2 1 1\n",
      " 1 1 1 1 1 0 0 1 1 1 1 1 1 1 1 1 1 0 1 1 1 1 1 1 1 1 1 1 0 1 1 1 0 0 0 0 0\n",
      " 0 0 0 0 0 0 0 0 0 0 0 0 0 0 0 0 0 0 0 0 0 0 0 0 0 0 0 0 0 0 0 0 0 0 0 0 0\n",
      " 0 0 0 0 0 0 0 0 0 0 0 0 0 0 0 0 0 0 0 0 0 0 0 0 0 0 0 0 0 0 0]\n",
      "best_centers:(Length: 3)\n",
      "best_avg_sc:0.5975695809816851\n",
      "best_center_index:[144, 78, 0]\n",
      "[144, 222, 288]\n",
      "final_index：[91, 144, 222, 288]\n",
      "save_frames:/mnt/ceph/develop/jiawei/lora_dataset/speech_data/B站//test_25/test_25-features-result-cuda/91.jpg\n",
      "save_frames:/mnt/ceph/develop/jiawei/lora_dataset/speech_data/B站//test_25/test_25-features-result-cuda/144.jpg\n",
      "save_frames:/mnt/ceph/develop/jiawei/lora_dataset/speech_data/B站//test_25/test_25-features-result-cuda/222.jpg\n",
      "save_frames:/mnt/ceph/develop/jiawei/lora_dataset/speech_data/B站//test_25/test_25-features-result-cuda/288.jpg\n",
      "scenes_path:/mnt/ceph/develop/jiawei/lora_dataset/speech_data/B站//test_26/test_26.mp4.scenes.txt\n",
      "features_path:/mnt/ceph/develop/jiawei/lora_dataset/speech_data/B站//test_26/keyframe-features/features.pkl\n",
      "video_path:/mnt/ceph/develop/jiawei/lora_dataset/speech_data/B站//test_26/test_26.mp4\n",
      "save_path:/mnt/ceph/develop/jiawei/lora_dataset/speech_data/B站//test_26/\n",
      "folder_path:test_26-features-result-cuda\n",
      "0 283\n",
      "\n",
      "['0', '283']\n",
      "284 303\n",
      "\n",
      "['284', '303']\n",
      "(303, 768)\n",
      "0 283\n",
      "(283, 768)\n",
      "16\n",
      "In the process of initializing the center\n"
     ]
    },
    {
     "name": "stderr",
     "output_type": "stream",
     "text": [
      "kmeans_init 16: 0, 283 - sse_min: 156.19544982910156,  sse: 156.19544982910156 - center[0].shape: torch.Size([768]), device: cuda:0: 100%|█| 28\n",
      "kmeans_init 16: 1, 283 - sse_min: 92.28657722473145,  sse: 92.28657722473145 - center[0].shape: torch.Size([768]), device: cuda:0: 100%|█| 283/\n",
      "kmeans_init 16: 2, 283 - sse_min: 76.1152925491333,  sse: 76.1152925491333 - center[0].shape: torch.Size([768]), device: cuda:0: 100%|█| 283/28\n",
      "kmeans_init 16: 3, 283 - sse_min: 72.08300399780273,  sse: 72.08300399780273 - center[0].shape: torch.Size([768]), device: cuda:0: 100%|█| 283/\n",
      "kmeans_init 16: 4, 283 - sse_min: 65.92946243286133,  sse: 65.92946243286133 - center[0].shape: torch.Size([768]), device: cuda:0: 100%|█| 283/\n",
      "kmeans_init 16: 5, 283 - sse_min: 62.06648921966553,  sse: 62.06648921966553 - center[0].shape: torch.Size([768]), device: cuda:0: 100%|█| 283/\n",
      "kmeans_init 16: 6, 283 - sse_min: 58.41775369644165,  sse: 58.41775369644165 - center[0].shape: torch.Size([768]), device: cuda:0: 100%|█| 283/\n",
      "kmeans_init 16: 7, 283 - sse_min: 56.04411697387695,  sse: 56.04411697387695 - center[0].shape: torch.Size([768]), device: cuda:0: 100%|█| 283/\n",
      "kmeans_init 16: 8, 283 - sse_min: 53.96775507926941,  sse: 53.96775507926941 - center[0].shape: torch.Size([768]), device: cuda:0: 100%|█| 283/\n",
      "kmeans_init 16: 9, 283 - sse_min: 52.098804235458374,  sse: 52.098804235458374 - center[0].shape: torch.Size([768]), device: cuda:0: 100%|█| 28\n",
      "kmeans_init 16: 10, 283 - sse_min: 50.554805517196655,  sse: 50.554805517196655 - center[0].shape: torch.Size([768]), device: cuda:0: 100%|█| 2\n",
      "kmeans_init 16: 11, 283 - sse_min: 49.17603039741516,  sse: 49.17603039741516 - center[0].shape: torch.Size([768]), device: cuda:0: 100%|█| 283\n",
      "kmeans_init 16: 12, 283 - sse_min: 47.82826018333435,  sse: 47.82826018333435 - center[0].shape: torch.Size([768]), device: cuda:0: 100%|█| 283\n",
      "kmeans_init 16: 13, 283 - sse_min: 46.50232458114624,  sse: 46.50232458114624 - center[0].shape: torch.Size([768]), device: cuda:0: 100%|█| 283\n",
      "kmeans_init 16: 14, 283 - sse_min: 45.78626299649477,  sse: 45.78626299649477 - center[0].shape: torch.Size([768]), device: cuda:0: 100%|█| 283\n",
      "kmeans_init 16: 15, 283 - sse_min: 44.56188065558672,  sse: 44.56188065558672 - center[0].shape: torch.Size([768]), device: cuda:0: 100%|█| 283\n"
     ]
    },
    {
     "name": "stdout",
     "output_type": "stream",
     "text": [
      "(16, 768)\n",
      "best_k:4\n",
      "best_clusters:[1 1 1 1 1 1 1 1 1 1 1 1 1 1 1 1 1 1 1 1 1 1 1 3 1 3 3 3 3 2 2 2 2 2 2 1 3\n",
      " 3 0 0 0 0 0 0 0 0 1 0 0 0 0 0 0 0 0 0 0 1 0 0 0 0 0 0 0 0 0 0 1 0 0 0 0 0\n",
      " 0 0 0 0 0 1 0 0 0 0 2 0 0 0 0 0 1 0 0 0 0 0 0 0 0 0 0 1 0 0 0 0 0 0 0 0 0\n",
      " 0 1 1 0 0 0 0 0 0 0 0 0 0 1 0 0 0 0 0 0 0 0 0 0 1 0 0 0 0 0 3 3 3 0 0 1 0\n",
      " 0 0 0 0 0 0 0 0 0 1 0 0 0 0 0 0 0 0 0 0 1 0 0 0 0 0 0 0 0 0 0 1 0 0 0 0 0\n",
      " 0 0 0 0 0 1 0 0 0 0 0 0 0 0 0 2 1 0 0 0 0 0 0 0 0 0 0 1 0 0 0 0 0 0 0 0 0\n",
      " 0 1 1 0 0 0 1 1 1 1 1 1 1 1 1 1 1 1 1 1 1 1 1 1 1 1 1 1 1 1 1 1 1 1 1 1 1\n",
      " 1 1 1 1 1 1 1 1 1 1 1 1 1 1 1 1 1 1 1 1 1 1 1 1]\n",
      "best_centers:(Length: 4)\n",
      "best_avg_sc:0.41076900529687044\n",
      "best_center_index:[53, 243, 33, 26]\n",
      "33 0.9656647 53\n",
      "26 0.9562165 53\n",
      "[53, 243]\n",
      "284 303\n",
      "(19, 768)\n",
      "4\n",
      "In the process of initializing the center\n"
     ]
    },
    {
     "name": "stderr",
     "output_type": "stream",
     "text": [
      "kmeans_init 4: 0, 19 - sse_min: 4.526647090911865,  sse: 4.526647090911865 - center[0].shape: torch.Size([768]), device: cuda:0: 100%|█| 19/19 \n",
      "kmeans_init 4: 1, 19 - sse_min: 3.48502779006958,  sse: 3.48502779006958 - center[0].shape: torch.Size([768]), device: cuda:0: 100%|█| 19/19 [0\n",
      "kmeans_init 4: 2, 19 - sse_min: 3.082604616880417,  sse: 3.082604616880417 - center[0].shape: torch.Size([768]), device: cuda:0: 100%|█| 19/19 \n",
      "kmeans_init 4: 3, 19 - sse_min: 2.5372102558612823,  sse: 2.5372102558612823 - center[0].shape: torch.Size([768]), device: cuda:0: 100%|█| 19/1"
     ]
    },
    {
     "name": "stdout",
     "output_type": "stream",
     "text": [
      "(4, 768)\n",
      "best_k:2\n",
      "best_clusters:[0 0 0 0 0 0 0 0 1 0 0 0 0 0 0 0 0 0 0]\n",
      "best_centers:(Length: 2)\n",
      "best_avg_sc:0.48793179748087523\n",
      "best_center_index:[10, 8]\n"
     ]
    },
    {
     "name": "stderr",
     "output_type": "stream",
     "text": [
      "\n"
     ]
    },
    {
     "name": "stdout",
     "output_type": "stream",
     "text": [
      "292 0.9947623 294\n",
      "[294]\n",
      "final_index：[53, 243, 294]\n",
      "save_frames:/mnt/ceph/develop/jiawei/lora_dataset/speech_data/B站//test_26/test_26-features-result-cuda/53.jpg\n",
      "save_frames:/mnt/ceph/develop/jiawei/lora_dataset/speech_data/B站//test_26/test_26-features-result-cuda/243.jpg\n",
      "save_frames:/mnt/ceph/develop/jiawei/lora_dataset/speech_data/B站//test_26/test_26-features-result-cuda/294.jpg\n",
      "scenes_path:/mnt/ceph/develop/jiawei/lora_dataset/speech_data/B站//test_27/test_27.mp4.scenes.txt\n",
      "features_path:/mnt/ceph/develop/jiawei/lora_dataset/speech_data/B站//test_27/keyframe-features/features.pkl\n",
      "video_path:/mnt/ceph/develop/jiawei/lora_dataset/speech_data/B站//test_27/test_27.mp4\n",
      "save_path:/mnt/ceph/develop/jiawei/lora_dataset/speech_data/B站//test_27/\n",
      "folder_path:test_27-features-result-cuda\n",
      "0 382\n",
      "\n",
      "['0', '382']\n",
      "(382, 768)\n",
      "0 382\n",
      "(382, 768)\n",
      "19\n",
      "In the process of initializing the center\n"
     ]
    },
    {
     "name": "stderr",
     "output_type": "stream",
     "text": [
      "kmeans_init 19: 0, 382 - sse_min: 190.41009521484375,  sse: 190.41009521484375 - center[0].shape: torch.Size([768]), device: cuda:0: 100%|█| 38\n",
      "kmeans_init 19: 1, 382 - sse_min: 136.48508071899414,  sse: 136.48508071899414 - center[0].shape: torch.Size([768]), device: cuda:0: 100%|█| 38\n",
      "kmeans_init 19: 2, 382 - sse_min: 101.11586093902588,  sse: 101.11586093902588 - center[0].shape: torch.Size([768]), device: cuda:0: 100%|█| 38\n",
      "kmeans_init 19: 3, 382 - sse_min: 78.50524044036865,  sse: 78.50524044036865 - center[0].shape: torch.Size([768]), device: cuda:0: 100%|█| 382/\n",
      "kmeans_init 19: 4, 382 - sse_min: 76.22399950027466,  sse: 76.22399950027466 - center[0].shape: torch.Size([768]), device: cuda:0: 100%|█| 382/\n",
      "kmeans_init 19: 5, 382 - sse_min: 63.53399133682251,  sse: 63.53399133682251 - center[0].shape: torch.Size([768]), device: cuda:0: 100%|█| 382/\n",
      "kmeans_init 19: 6, 382 - sse_min: 60.36751842498779,  sse: 60.36751842498779 - center[0].shape: torch.Size([768]), device: cuda:0: 100%|█| 382/\n",
      "kmeans_init 19: 7, 382 - sse_min: 57.666797161102295,  sse: 57.666797161102295 - center[0].shape: torch.Size([768]), device: cuda:0: 100%|█| 38\n",
      "kmeans_init 19: 8, 382 - sse_min: 55.80675268173218,  sse: 55.80675268173218 - center[0].shape: torch.Size([768]), device: cuda:0: 100%|█| 382/\n",
      "kmeans_init 19: 9, 382 - sse_min: 54.52187669277191,  sse: 54.52187669277191 - center[0].shape: torch.Size([768]), device: cuda:0: 100%|█| 382/\n",
      "kmeans_init 19: 10, 382 - sse_min: 53.18856430053711,  sse: 53.18856430053711 - center[0].shape: torch.Size([768]), device: cuda:0: 100%|█| 382\n",
      "kmeans_init 19: 11, 382 - sse_min: 51.91387701034546,  sse: 51.91387701034546 - center[0].shape: torch.Size([768]), device: cuda:0: 100%|█| 382\n",
      "kmeans_init 19: 12, 382 - sse_min: 50.83326697349548,  sse: 50.83326697349548 - center[0].shape: torch.Size([768]), device: cuda:0: 100%|█| 382\n",
      "kmeans_init 19: 13, 382 - sse_min: 49.832819640636444,  sse: 49.832819640636444 - center[0].shape: torch.Size([768]), device: cuda:0: 100%|█| 3\n",
      "kmeans_init 19: 14, 382 - sse_min: 48.860707461833954,  sse: 48.860707461833954 - center[0].shape: torch.Size([768]), device: cuda:0: 100%|█| 3\n",
      "kmeans_init 19: 15, 382 - sse_min: 47.92089694738388,  sse: 47.92089694738388 - center[0].shape: torch.Size([768]), device: cuda:0: 100%|█| 382\n",
      "kmeans_init 19: 16, 382 - sse_min: 46.98570853471756,  sse: 46.98570853471756 - center[0].shape: torch.Size([768]), device: cuda:0: 100%|█| 382\n",
      "kmeans_init 19: 17, 382 - sse_min: 46.07790195941925,  sse: 46.07790195941925 - center[0].shape: torch.Size([768]), device: cuda:0: 100%|█| 382\n",
      "kmeans_init 19: 18, 382 - sse_min: 45.1741304397583,  sse: 45.1741304397583 - center[0].shape: torch.Size([768]), device: cuda:0: 100%|█| 382/3\n"
     ]
    },
    {
     "name": "stdout",
     "output_type": "stream",
     "text": [
      "(19, 768)\n",
      "best_k:5\n",
      "best_clusters:[3 3 3 0 0 0 0 0 0 0 0 0 0 4 0 0 0 0 0 0 0 0 0 0 4 0 0 0 0 0 0 0 0 0 0 4 0\n",
      " 0 0 0 0 0 0 0 0 0 4 0 0 0 0 0 0 0 0 0 0 4 0 0 0 0 0 0 0 0 0 0 4 0 0 0 0 0\n",
      " 0 0 0 0 0 4 0 0 0 0 3 3 3 3 3 3 4 3 3 3 3 3 3 3 3 3 3 4 3 3 3 3 3 3 3 3 3\n",
      " 3 3 4 3 3 3 3 3 1 1 1 1 1 4 1 1 1 1 1 1 1 1 1 1 4 1 1 1 1 1 1 1 1 1 1 4 1\n",
      " 1 1 1 1 1 1 1 1 1 4 1 1 1 1 1 1 1 1 1 1 4 1 1 1 1 1 1 1 1 1 1 4 1 1 1 1 1\n",
      " 1 1 1 1 1 4 1 1 1 1 1 1 1 1 1 1 4 1 1 3 3 3 2 2 2 2 2 4 2 2 2 2 2 2 2 2 2\n",
      " 2 3 4 2 2 2 2 2 2 2 2 2 2 4 2 2 2 2 2 2 2 2 2 2 4 2 2 2 2 2 2 2 2 2 2 4 2\n",
      " 2 2 2 2 2 2 2 2 2 4 2 2 2 2 2 2 2 2 2 2 4 2 2 2 2 2 2 2 2 2 2 4 2 2 2 2 2\n",
      " 2 2 2 2 2 4 2 2 2 2 2 3 3 3 3 3 4 3 3 4 3 4 4 4 4 4 4 4 4 4 4 3 4 4 4 4 4\n",
      " 4 4 4 4 4 3 4 4 4 4 4 4 4 4 4 4 3 4 4 4 4 4 4 4 4 4 4 3 4 3 3 3 0 0 0 0 0\n",
      " 0 3 0 0 0 0 0 0 0 0 0 0]\n",
      "best_centers:(Length: 5)\n",
      "best_avg_sc:0.5289473831820053\n",
      "best_center_index:[67, 170, 270, 107, 343]\n",
      "170 0.9598594 67\n",
      "270 0.9680047 67\n",
      "107 0.9856778 67\n",
      "343 0.9769858 67\n",
      "[67]\n",
      "final_index：[67]\n",
      "save_frames:/mnt/ceph/develop/jiawei/lora_dataset/speech_data/B站//test_27/test_27-features-result-cuda/67.jpg\n",
      "scenes_path:/mnt/ceph/develop/jiawei/lora_dataset/speech_data/B站//test_28/test_28.mp4.scenes.txt\n",
      "features_path:/mnt/ceph/develop/jiawei/lora_dataset/speech_data/B站//test_28/keyframe-features/features.pkl\n",
      "video_path:/mnt/ceph/develop/jiawei/lora_dataset/speech_data/B站//test_28/test_28.mp4\n",
      "save_path:/mnt/ceph/develop/jiawei/lora_dataset/speech_data/B站//test_28/\n",
      "folder_path:test_28-features-result-cuda\n",
      "0 223\n",
      "\n",
      "['0', '223']\n",
      "224 277\n",
      "\n",
      "['224', '277']\n",
      "278 278\n",
      "\n",
      "['278', '278']\n",
      "(278, 768)\n",
      "0 223\n",
      "(223, 768)\n",
      "14\n",
      "In the process of initializing the center\n"
     ]
    },
    {
     "name": "stderr",
     "output_type": "stream",
     "text": [
      "kmeans_init 14: 0, 223 - sse_min: 139.00936889648438,  sse: 139.00936889648438 - center[0].shape: torch.Size([768]), device: cuda:0: 100%|█| 22\n",
      "kmeans_init 14: 1, 223 - sse_min: 72.43391036987305,  sse: 72.43391036987305 - center[0].shape: torch.Size([768]), device: cuda:0: 100%|█| 223/\n",
      "kmeans_init 14: 2, 223 - sse_min: 65.46611189842224,  sse: 65.46611189842224 - center[0].shape: torch.Size([768]), device: cuda:0: 100%|█| 223/\n",
      "kmeans_init 14: 3, 223 - sse_min: 57.81607365608215,  sse: 57.81607365608215 - center[0].shape: torch.Size([768]), device: cuda:0: 100%|█| 223/\n",
      "kmeans_init 14: 4, 223 - sse_min: 52.44429612159729,  sse: 52.44429612159729 - center[0].shape: torch.Size([768]), device: cuda:0: 100%|█| 223/\n",
      "kmeans_init 14: 5, 223 - sse_min: 49.613187074661255,  sse: 49.613187074661255 - center[0].shape: torch.Size([768]), device: cuda:0: 100%|█| 22\n",
      "kmeans_init 14: 6, 223 - sse_min: 48.44321250915527,  sse: 48.44321250915527 - center[0].shape: torch.Size([768]), device: cuda:0: 100%|█| 223/\n",
      "kmeans_init 14: 7, 223 - sse_min: 46.6570200920105,  sse: 46.6570200920105 - center[0].shape: torch.Size([768]), device: cuda:0: 100%|█| 223/22\n",
      "kmeans_init 14: 8, 223 - sse_min: 45.044400453567505,  sse: 45.044400453567505 - center[0].shape: torch.Size([768]), device: cuda:0: 100%|█| 22\n",
      "kmeans_init 14: 9, 223 - sse_min: 43.66747319698334,  sse: 43.66747319698334 - center[0].shape: torch.Size([768]), device: cuda:0: 100%|█| 223/\n",
      "100%|███████████████████████████████████████████████████████████████████████████████████████████████████████| 223/223 [00:00<00:00, 797.36it/s]\n",
      "100%|███████████████████████████████████████████████████████████████████████████████████████████████████████| 223/223 [00:00<00:00, 742.36it/s]\n",
      "100%|███████████████████████████████████████████████████████████████████████████████████████████████████████| 223/223 [00:00<00:00, 693.86it/s]\n",
      "100%|███████████████████████████████████████████████████████████████████████████████████████████████████████| 223/223 [00:00<00:00, 654.54it/s]\n"
     ]
    },
    {
     "name": "stdout",
     "output_type": "stream",
     "text": [
      "(14, 768)\n",
      "best_k:2\n",
      "best_clusters:[1 1 1 0 0 0 0 0 0 0 0 0 0 1 0 0 0 0 0 0 0 0 0 0 1 0 0 0 0 0 0 0 0 0 0 1 0\n",
      " 0 0 0 0 0 0 0 0 0 1 0 0 0 0 0 0 0 0 0 0 1 0 0 0 0 0 0 0 0 0 0 1 0 0 0 0 0\n",
      " 0 0 0 0 0 1 0 0 0 0 0 0 0 0 0 0 1 0 0 0 0 0 0 0 0 0 0 1 0 0 0 0 0 0 0 0 0\n",
      " 0 1 1 0 0 0 0 0 0 0 0 0 0 1 0 0 0 0 0 0 0 0 0 0 1 0 0 0 0 0 0 0 0 0 0 1 0\n",
      " 0 0 0 0 0 0 0 0 0 1 0 0 0 0 0 0 0 0 0 0 1 0 0 0 0 0 0 0 0 0 0 1 0 0 0 0 0\n",
      " 0 0 0 0 0 1 0 0 0 0 0 0 0 0 1 1 1 1 1 1 1 1 1 1 1 1 1 1 1 1 1 1 1 1 1 1 1\n",
      " 1]\n",
      "best_centers:(Length: 2)\n",
      "best_avg_sc:0.4443865332236311\n",
      "best_center_index:[187, 202]\n",
      "[187, 202]\n",
      "224 277\n",
      "(53, 768)\n",
      "7\n",
      "In the process of initializing the center\n"
     ]
    },
    {
     "name": "stderr",
     "output_type": "stream",
     "text": [
      "kmeans_init 7: 0, 53 - sse_min: 16.075897216796875,  sse: 16.075897216796875 - center[0].shape: torch.Size([768]), device: cuda:0: 100%|█| 53/5\n",
      "kmeans_init 7: 1, 53 - sse_min: 12.35767126083374,  sse: 12.35767126083374 - center[0].shape: torch.Size([768]), device: cuda:0: 100%|█| 53/53 \n",
      "kmeans_init 7: 2, 53 - sse_min: 10.354077816009521,  sse: 10.354077816009521 - center[0].shape: torch.Size([768]), device: cuda:0: 100%|█| 53/5\n",
      "kmeans_init 7: 3, 53 - sse_min: 9.819800674915314,  sse: 9.819800674915314 - center[0].shape: torch.Size([768]), device: cuda:0: 100%|█| 53/53 \n",
      "kmeans_init 7: 4, 53 - sse_min: 8.542717397212982,  sse: 8.542717397212982 - center[0].shape: torch.Size([768]), device: cuda:0: 100%|█| 53/53 \n",
      "kmeans_init 7: 5, 53 - sse_min: 7.479250490665436,  sse: 7.479250490665436 - center[0].shape: torch.Size([768]), device: cuda:0: 100%|█| 53/53 \n",
      "kmeans_init 7: 6, 53 - sse_min: 6.732205927371979,  sse: 6.732205927371979 - center[0].shape: torch.Size([768]), device: cuda:0: 100%|█| 53/53 \n"
     ]
    },
    {
     "name": "stdout",
     "output_type": "stream",
     "text": [
      "(7, 768)\n",
      "best_k:5\n",
      "best_clusters:[2 2 2 2 2 2 2 2 2 2 3 2 2 2 2 0 0 0 0 0 0 3 0 0 0 0 0 0 0 0 0 0 3 0 0 0 1\n",
      " 1 1 1 1 1 1 3 1 4 4 4 4 4 4 4 3]\n",
      "best_centers:(Length: 5)\n",
      "best_avg_sc:0.38650692307349654\n",
      "best_center_index:[24, 40, 5, 32, 50]\n",
      "274 0.9851051 248\n",
      "[229, 248, 256, 264]\n",
      "278 278\n",
      "(0, 768)\n",
      "0\n",
      "In the process of initializing the center\n",
      "(0,)\n",
      "best_k:0\n",
      "best_clusters:None\n",
      "best_centers is None, cannot determine its length.\n",
      "best_avg_sc:-1\n",
      "best_center_index:None\n",
      "final_index：[187, 202, 229, 248, 256, 264, 0]\n",
      "save_frames:/mnt/ceph/develop/jiawei/lora_dataset/speech_data/B站//test_28/test_28-features-result-cuda/0.jpg\n",
      "save_frames:/mnt/ceph/develop/jiawei/lora_dataset/speech_data/B站//test_28/test_28-features-result-cuda/187.jpg\n",
      "save_frames:/mnt/ceph/develop/jiawei/lora_dataset/speech_data/B站//test_28/test_28-features-result-cuda/202.jpg\n",
      "save_frames:/mnt/ceph/develop/jiawei/lora_dataset/speech_data/B站//test_28/test_28-features-result-cuda/229.jpg\n",
      "save_frames:/mnt/ceph/develop/jiawei/lora_dataset/speech_data/B站//test_28/test_28-features-result-cuda/248.jpg\n",
      "save_frames:/mnt/ceph/develop/jiawei/lora_dataset/speech_data/B站//test_28/test_28-features-result-cuda/256.jpg\n",
      "save_frames:/mnt/ceph/develop/jiawei/lora_dataset/speech_data/B站//test_28/test_28-features-result-cuda/264.jpg\n",
      "scenes_path:/mnt/ceph/develop/jiawei/lora_dataset/speech_data/B站//test_29/test_29.mp4.scenes.txt\n",
      "features_path:/mnt/ceph/develop/jiawei/lora_dataset/speech_data/B站//test_29/keyframe-features/features.pkl\n",
      "video_path:/mnt/ceph/develop/jiawei/lora_dataset/speech_data/B站//test_29/test_29.mp4\n",
      "save_path:/mnt/ceph/develop/jiawei/lora_dataset/speech_data/B站//test_29/\n",
      "folder_path:test_29-features-result-cuda\n",
      "0 46\n",
      "\n",
      "['0', '46']\n",
      "47 68\n",
      "\n",
      "['47', '68']\n",
      "69 90\n",
      "\n",
      "['69', '90']\n",
      "91 157\n",
      "\n",
      "['91', '157']\n",
      "158 180\n",
      "\n",
      "['158', '180']\n",
      "181 203\n",
      "\n",
      "['181', '203']\n",
      "204 226\n",
      "\n",
      "['204', '226']\n",
      "(226, 768)\n",
      "0 46\n",
      "(46, 768)\n",
      "6\n",
      "In the process of initializing the center\n"
     ]
    },
    {
     "name": "stderr",
     "output_type": "stream",
     "text": [
      "kmeans_init 6: 0, 46 - sse_min: 26.810020446777344,  sse: 26.810020446777344 - center[0].shape: torch.Size([768]), device: cuda:0: 100%|█| 46/4\n",
      "kmeans_init 6: 1, 46 - sse_min: 5.330862645059824,  sse: 5.330862645059824 - center[0].shape: torch.Size([768]), device: cuda:0: 100%|█| 46/46 \n",
      "kmeans_init 6: 2, 46 - sse_min: 5.307911838172004,  sse: 5.307911838172004 - center[0].shape: torch.Size([768]), device: cuda:0: 100%|█| 46/46 \n",
      "kmeans_init 6: 3, 46 - sse_min: 2.188953961012885,  sse: 2.188953961012885 - center[0].shape: torch.Size([768]), device: cuda:0: 100%|█| 46/46 \n",
      "kmeans_init 6: 4, 46 - sse_min: 1.2332345943432301,  sse: 1.2332345943432301 - center[0].shape: torch.Size([768]), device: cuda:0: 100%|█| 46/4\n",
      "kmeans_init 6: 5, 46 - sse_min: 0.49597915611229837,  sse: 0.49597915611229837 - center[0].shape: torch.Size([768]), device: cuda:0: 100%|█| 46\n"
     ]
    },
    {
     "name": "stdout",
     "output_type": "stream",
     "text": [
      "(6, 768)\n",
      "best_k:5\n",
      "best_clusters:[1 1 1 2 2 2 2 2 2 2 2 2 2 1 2 2 4 4 4 4 4 4 4 4 1 0 0 0 0 0 0 0 0 0 0 1 0\n",
      " 0 0 0 0 3 3 3 3 3]\n",
      "best_centers:(Length: 5)\n",
      "best_avg_sc:0.8635147366921307\n",
      "best_center_index:[30, 24, 9, 43, 16]\n",
      "24 0.99999994 30\n",
      "9 0.99999994 30\n",
      "43 0.99999994 30\n",
      "16 1.0 30\n",
      "[30]\n",
      "47 68\n",
      "(21, 768)\n",
      "4\n",
      "In the process of initializing the center\n"
     ]
    },
    {
     "name": "stderr",
     "output_type": "stream",
     "text": [
      "kmeans_init 4: 0, 21 - sse_min: 1.5353765487670898,  sse: 1.5353765487670898 - center[0].shape: torch.Size([768]), device: cuda:0: 100%|█| 21/2\n",
      "kmeans_init 4: 1, 21 - sse_min: 1.5299429800361395,  sse: 1.5299429800361395 - center[0].shape: torch.Size([768]), device: cuda:0: 100%|█| 21/2\n",
      "kmeans_init 4: 2, 21 - sse_min: 0.6762925032526255,  sse: 0.6762925032526255 - center[0].shape: torch.Size([768]), device: cuda:0: 100%|█| 21/2\n",
      "kmeans_init 4: 3, 21 - sse_min: 0.029936304315924644,  sse: 0.029936304315924644 - center[0].shape: torch.Size([768]), device: cuda:0: 100%|█| \n"
     ]
    },
    {
     "name": "stdout",
     "output_type": "stream",
     "text": [
      "(4, 768)\n",
      "best_k:3\n",
      "best_clusters:[0 0 0 0 0 0 0 0 0 0 2 0 0 0 0 0 0 0 1 1 1]\n",
      "best_centers:(Length: 3)\n",
      "best_avg_sc:0.9454322167918696\n",
      "best_center_index:[0, 18, 10]\n",
      "65 0.9999997 47\n",
      "57 0.9999998 47\n",
      "[47]\n",
      "69 90\n",
      "(21, 768)\n",
      "4\n",
      "In the process of initializing the center\n"
     ]
    },
    {
     "name": "stderr",
     "output_type": "stream",
     "text": [
      "kmeans_init 4: 0, 21 - sse_min: 0.6990147829055786,  sse: 0.6990147829055786 - center[0].shape: torch.Size([768]), device: cuda:0: 100%|█| 21/2\n",
      "kmeans_init 4: 1, 21 - sse_min: 0.6863264763960615,  sse: 0.6863264763960615 - center[0].shape: torch.Size([768]), device: cuda:0: 100%|█| 21/2\n",
      "kmeans_init 4: 2, 21 - sse_min: 0.03094058169517666,  sse: 0.03094058169517666 - center[0].shape: torch.Size([768]), device: cuda:0: 100%|█| 21\n",
      "kmeans_init 4: 3, 21 - sse_min: 0.028378550545312464,  sse: 0.028378550545312464 - center[0].shape: torch.Size([768]), device: cuda:0: 100%|█| \n"
     ]
    },
    {
     "name": "stdout",
     "output_type": "stream",
     "text": [
      "(4, 768)\n",
      "best_k:2\n",
      "best_clusters:[0 0 0 0 0 0 0 0 0 0 1 0 0 0 0 0 0 0 0 0 0]\n",
      "best_centers:(Length: 2)\n",
      "best_avg_sc:0.9495247256675823\n",
      "best_center_index:[1, 10]\n",
      "79 1.0 70\n",
      "[70]\n",
      "91 157\n",
      "(66, 768)\n",
      "8\n",
      "In the process of initializing the center\n"
     ]
    },
    {
     "name": "stderr",
     "output_type": "stream",
     "text": [
      "kmeans_init 8: 0, 66 - sse_min: 18.77743148803711,  sse: 18.77743148803711 - center[0].shape: torch.Size([768]), device: cuda:0: 100%|█| 66/66 \n",
      "kmeans_init 8: 1, 66 - sse_min: 13.06286346167326,  sse: 13.06286346167326 - center[0].shape: torch.Size([768]), device: cuda:0: 100%|█| 66/66 \n",
      "kmeans_init 8: 2, 66 - sse_min: 0.12177687883377075,  sse: 0.12177687883377075 - center[0].shape: torch.Size([768]), device: cuda:0: 100%|█| 66\n",
      "kmeans_init 8: 3, 66 - sse_min: 0.11636440828442574,  sse: 0.11636440828442574 - center[0].shape: torch.Size([768]), device: cuda:0: 100%|█| 66\n",
      "kmeans_init 8: 4, 66 - sse_min: 0.10700273024849594,  sse: 0.10700273024849594 - center[0].shape: torch.Size([768]), device: cuda:0: 100%|█| 66\n",
      "kmeans_init 8: 5, 66 - sse_min: 0.10099114547483623,  sse: 0.10099114547483623 - center[0].shape: torch.Size([768]), device: cuda:0: 100%|█| 66\n",
      "kmeans_init 8: 6, 66 - sse_min: 0.0973980666603893,  sse: 0.0973980666603893 - center[0].shape: torch.Size([768]), device: cuda:0: 100%|█| 66/6\n",
      "kmeans_init 8: 7, 66 - sse_min: 0.09419176611118019,  sse: 0.09419176611118019 - center[0].shape: torch.Size([768]), device: cuda:0: 100%|█| 66\n"
     ]
    },
    {
     "name": "stdout",
     "output_type": "stream",
     "text": [
      "(8, 768)\n",
      "best_k:3\n",
      "best_clusters:[2 2 2 2 2 2 2 2 2 2 1 2 2 2 2 2 2 2 2 2 2 1 1 2 2 2 0 0 0 0 0 0 0 1 0 0 0\n",
      " 0 0 0 0 0 0 0 1 0 0 0 0 0 0 1 1 1 1 1 1 1 1 1 1 1 1 1 1 1]\n",
      "best_centers:(Length: 3)\n",
      "best_avg_sc:0.9937787913646048\n",
      "best_center_index:[26, 51, 0]\n",
      "142 0.99807185 117\n",
      "91 0.9982049 117\n",
      "[117]\n",
      "158 180\n",
      "(22, 768)\n",
      "4\n",
      "In the process of initializing the center\n"
     ]
    },
    {
     "name": "stderr",
     "output_type": "stream",
     "text": [
      "kmeans_init 4: 0, 22 - sse_min: 7.863317966461182,  sse: 7.863317966461182 - center[0].shape: torch.Size([768]), device: cuda:0: 100%|█| 22/22 \n",
      "kmeans_init 4: 1, 22 - sse_min: 0.10854438319802284,  sse: 0.10854438319802284 - center[0].shape: torch.Size([768]), device: cuda:0: 100%|█| 22\n",
      "kmeans_init 4: 2, 22 - sse_min: 0.1058759787119925,  sse: 0.1058759787119925 - center[0].shape: torch.Size([768]), device: cuda:0: 100%|█| 22/2\n",
      "kmeans_init 4: 3, 22 - sse_min: 0.07396867440547794,  sse: 0.07396867440547794 - center[0].shape: torch.Size([768]), device: cuda:0: 100%|█| 22\n"
     ]
    },
    {
     "name": "stdout",
     "output_type": "stream",
     "text": [
      "(4, 768)\n",
      "best_k:2\n",
      "best_clusters:[1 1 1 1 1 1 1 1 1 0 0 0 0 1 0 0 0 0 0 0 0 0]\n",
      "best_centers:(Length: 2)\n",
      "best_avg_sc:0.9899747409316251\n",
      "best_center_index:[16, 1]\n",
      "159 1.0000001 174\n",
      "[174]\n",
      "181 203\n",
      "(22, 768)\n",
      "4\n",
      "In the process of initializing the center\n"
     ]
    },
    {
     "name": "stderr",
     "output_type": "stream",
     "text": [
      "kmeans_init 4: 0, 22 - sse_min: 4.660667419433594,  sse: 4.660667419433594 - center[0].shape: torch.Size([768]), device: cuda:0: 100%|█| 22/22 \n",
      "kmeans_init 4: 1, 22 - sse_min: 1.3192146345973015,  sse: 1.3192146345973015 - center[0].shape: torch.Size([768]), device: cuda:0: 100%|█| 22/2\n",
      "kmeans_init 4: 2, 22 - sse_min: 1.3162917918525636,  sse: 1.3162917918525636 - center[0].shape: torch.Size([768]), device: cuda:0: 100%|█| 22/2\n",
      "kmeans_init 4: 3, 22 - sse_min: 0.03671472589485347,  sse: 0.03671472589485347 - center[0].shape: torch.Size([768]), device: cuda:0: 100%|█| 22\n"
     ]
    },
    {
     "name": "stdout",
     "output_type": "stream",
     "text": [
      "(4, 768)\n",
      "best_k:3\n",
      "best_clusters:[1 2 1 1 1 1 1 1 1 1 0 0 2 0 0 0 0 0 0 0 0 0]\n",
      "best_centers:(Length: 3)\n",
      "best_avg_sc:0.9932106053773674\n",
      "best_center_index:[15, 3, 1]\n",
      "184 0.9999998 196\n",
      "182 0.9999998 196\n",
      "[196]\n",
      "204 226\n",
      "(22, 768)\n",
      "4\n",
      "In the process of initializing the center\n"
     ]
    },
    {
     "name": "stderr",
     "output_type": "stream",
     "text": [
      "kmeans_init 4: 0, 22 - sse_min: 12.998976707458496,  sse: 12.998976707458496 - center[0].shape: torch.Size([768]), device: cuda:0: 100%|█| 22/2\n",
      "kmeans_init 4: 1, 22 - sse_min: 2.744938604766503,  sse: 2.744938604766503 - center[0].shape: torch.Size([768]), device: cuda:0: 100%|█| 22/22 \n",
      "kmeans_init 4: 2, 22 - sse_min: 0.028807481052353978,  sse: 0.028807481052353978 - center[0].shape: torch.Size([768]), device: cuda:0: 100%|█| \n",
      "100%|████████████████████████████████████████████████████████████████████████████████████████████████████████| 22/22 [00:00<00:00, 2096.29it/s]\n"
     ]
    },
    {
     "name": "stdout",
     "output_type": "stream",
     "text": [
      "(4, 768)\n",
      "best_k:3\n",
      "best_clusters:[2 0 0 0 0 0 0 0 0 0 0 2 1 1 1 1 1 1 1 1 1 1]\n",
      "best_centers:(Length: 3)\n",
      "best_avg_sc:0.9943512917063443\n",
      "best_center_index:[1, 15, 0]\n",
      "219 1.0 205\n",
      "204 1.0 205\n",
      "[205]\n",
      "final_index：[30, 47, 70, 117, 174, 196, 205]\n",
      "save_frames:/mnt/ceph/develop/jiawei/lora_dataset/speech_data/B站//test_29/test_29-features-result-cuda/30.jpg\n",
      "save_frames:/mnt/ceph/develop/jiawei/lora_dataset/speech_data/B站//test_29/test_29-features-result-cuda/47.jpg\n",
      "save_frames:/mnt/ceph/develop/jiawei/lora_dataset/speech_data/B站//test_29/test_29-features-result-cuda/70.jpg\n",
      "save_frames:/mnt/ceph/develop/jiawei/lora_dataset/speech_data/B站//test_29/test_29-features-result-cuda/117.jpg\n",
      "save_frames:/mnt/ceph/develop/jiawei/lora_dataset/speech_data/B站//test_29/test_29-features-result-cuda/174.jpg\n",
      "save_frames:/mnt/ceph/develop/jiawei/lora_dataset/speech_data/B站//test_29/test_29-features-result-cuda/196.jpg\n",
      "save_frames:/mnt/ceph/develop/jiawei/lora_dataset/speech_data/B站//test_29/test_29-features-result-cuda/205.jpg\n",
      "scenes_path:/mnt/ceph/develop/jiawei/lora_dataset/speech_data/B站//test_3/test_3.mp4.scenes.txt\n",
      "features_path:/mnt/ceph/develop/jiawei/lora_dataset/speech_data/B站//test_3/keyframe-features/features.pkl\n",
      "video_path:/mnt/ceph/develop/jiawei/lora_dataset/speech_data/B站//test_3/test_3.mp4\n",
      "save_path:/mnt/ceph/develop/jiawei/lora_dataset/speech_data/B站//test_3/\n",
      "folder_path:test_3-features-result-cuda\n",
      "0 91\n",
      "\n",
      "['0', '91']\n",
      "92 163\n",
      "\n",
      "['92', '163']\n",
      "164 251\n",
      "\n",
      "['164', '251']\n",
      "252 314\n",
      "\n",
      "['252', '314']\n",
      "(314, 768)\n",
      "0 91\n",
      "(91, 768)\n",
      "9\n",
      "In the process of initializing the center\n"
     ]
    },
    {
     "name": "stderr",
     "output_type": "stream",
     "text": [
      "kmeans_init 9: 0, 91 - sse_min: 24.9626407623291,  sse: 24.9626407623291 - center[0].shape: torch.Size([768]), device: cuda:0: 100%|█| 91/91 [0\n",
      "kmeans_init 9: 1, 91 - sse_min: 16.777576684951782,  sse: 16.777576684951782 - center[0].shape: torch.Size([768]), device: cuda:0: 100%|█| 91/9\n",
      "kmeans_init 9: 2, 91 - sse_min: 14.441091537475586,  sse: 14.441091537475586 - center[0].shape: torch.Size([768]), device: cuda:0: 100%|█| 91/9\n",
      "kmeans_init 9: 3, 91 - sse_min: 12.488510608673096,  sse: 12.488510608673096 - center[0].shape: torch.Size([768]), device: cuda:0: 100%|█| 91/9\n",
      "kmeans_init 9: 4, 91 - sse_min: 11.886177688837051,  sse: 11.886177688837051 - center[0].shape: torch.Size([768]), device: cuda:0: 100%|█| 91/9\n",
      "kmeans_init 9: 5, 91 - sse_min: 11.013837605714798,  sse: 11.013837605714798 - center[0].shape: torch.Size([768]), device: cuda:0: 100%|█| 91/9\n",
      "kmeans_init 9: 6, 91 - sse_min: 10.314684361219406,  sse: 10.314684361219406 - center[0].shape: torch.Size([768]), device: cuda:0: 100%|█| 91/9\n",
      "kmeans_init 9: 7, 91 - sse_min: 9.634009689092636,  sse: 9.634009689092636 - center[0].shape: torch.Size([768]), device: cuda:0: 100%|█| 91/91 \n",
      "kmeans_init 9: 8, 91 - sse_min: 9.095347672700882,  sse: 9.095347672700882 - center[0].shape: torch.Size([768]), device: cuda:0: 100%|█| 91/91 \n"
     ]
    },
    {
     "name": "stdout",
     "output_type": "stream",
     "text": [
      "(9, 768)\n",
      "best_k:3\n",
      "best_clusters:[2 2 2 0 0 0 0 0 0 0 0 0 0 2 0 0 0 0 0 0 0 0 0 0 2 0 0 0 0 0 0 0 0 0 0 2 0\n",
      " 0 0 0 0 0 0 0 0 0 2 0 0 0 0 0 0 0 0 0 0 2 0 0 0 0 0 0 0 0 0 0 2 0 0 0 1 1\n",
      " 1 1 1 1 1 2 1 1 1 1 1 1 1 1 1 1 2]\n",
      "best_centers:(Length: 3)\n",
      "best_avg_sc:0.38436454390903524\n",
      "best_center_index:[32, 83, 35]\n",
      "83 0.99527395 32\n",
      "35 0.99826604 32\n",
      "[32]\n",
      "92 163\n",
      "(71, 768)\n",
      "8\n",
      "In the process of initializing the center\n"
     ]
    },
    {
     "name": "stderr",
     "output_type": "stream",
     "text": [
      "kmeans_init 8: 0, 71 - sse_min: 13.308638572692871,  sse: 13.308638572692871 - center[0].shape: torch.Size([768]), device: cuda:0: 100%|█| 71/7\n",
      "kmeans_init 8: 1, 71 - sse_min: 11.365725040435791,  sse: 11.365725040435791 - center[0].shape: torch.Size([768]), device: cuda:0: 100%|█| 71/7\n",
      "kmeans_init 8: 2, 71 - sse_min: 9.932600617408752,  sse: 9.932600617408752 - center[0].shape: torch.Size([768]), device: cuda:0: 100%|█| 71/71 \n",
      "kmeans_init 8: 3, 71 - sse_min: 8.85025441646576,  sse: 8.85025441646576 - center[0].shape: torch.Size([768]), device: cuda:0: 100%|█| 71/71 [0\n",
      "kmeans_init 8: 4, 71 - sse_min: 8.332692861557007,  sse: 8.332692861557007 - center[0].shape: torch.Size([768]), device: cuda:0: 100%|█| 71/71 \n",
      "kmeans_init 8: 5, 71 - sse_min: 7.775241561233997,  sse: 7.775241561233997 - center[0].shape: torch.Size([768]), device: cuda:0: 100%|█| 71/71 \n",
      "kmeans_init 8: 6, 71 - sse_min: 7.206757254898548,  sse: 7.206757254898548 - center[0].shape: torch.Size([768]), device: cuda:0: 100%|█| 71/71 \n",
      "kmeans_init 8: 7, 71 - sse_min: 6.812256343662739,  sse: 6.812256343662739 - center[0].shape: torch.Size([768]), device: cuda:0: 100%|█| 71/71 \n"
     ]
    },
    {
     "name": "stdout",
     "output_type": "stream",
     "text": [
      "(8, 768)\n",
      "best_k:2\n",
      "best_clusters:[0 0 0 0 0 0 0 0 0 1 0 0 0 0 0 0 0 0 0 0 1 1 0 0 0 0 0 0 0 0 0 0 1 0 0 0 0\n",
      " 0 0 0 0 0 0 1 0 0 0 0 0 0 0 0 0 0 1 0 0 0 0 0 0 0 0 0 0 1 0 0 0 0 0]\n",
      "best_centers:(Length: 2)\n",
      "best_avg_sc:0.40509007499146243\n",
      "best_center_index:[48, 43]\n",
      "135 0.9930133 140\n",
      "[140]\n",
      "164 251\n",
      "(87, 768)\n",
      "9\n",
      "In the process of initializing the center\n"
     ]
    },
    {
     "name": "stderr",
     "output_type": "stream",
     "text": [
      "kmeans_init 9: 0, 87 - sse_min: 24.148229598999023,  sse: 24.148229598999023 - center[0].shape: torch.Size([768]), device: cuda:0: 100%|█| 87/8\n",
      "kmeans_init 9: 1, 87 - sse_min: 13.34145736694336,  sse: 13.34145736694336 - center[0].shape: torch.Size([768]), device: cuda:0: 100%|█| 87/87 \n",
      "kmeans_init 9: 2, 87 - sse_min: 11.678803443908691,  sse: 11.678803443908691 - center[0].shape: torch.Size([768]), device: cuda:0: 100%|█| 87/8\n",
      "kmeans_init 9: 3, 87 - sse_min: 10.330300092697144,  sse: 10.330300092697144 - center[0].shape: torch.Size([768]), device: cuda:0: 100%|█| 87/8\n",
      "kmeans_init 9: 4, 87 - sse_min: 10.189992539584637,  sse: 10.189992539584637 - center[0].shape: torch.Size([768]), device: cuda:0: 100%|█| 87/8\n",
      "kmeans_init 9: 5, 87 - sse_min: 9.583118610084057,  sse: 9.583118610084057 - center[0].shape: torch.Size([768]), device: cuda:0: 100%|█| 87/87 \n",
      "kmeans_init 9: 6, 87 - sse_min: 8.983273647725582,  sse: 8.983273647725582 - center[0].shape: torch.Size([768]), device: cuda:0: 100%|█| 87/87 \n",
      "kmeans_init 9: 7, 87 - sse_min: 8.481820426881313,  sse: 8.481820426881313 - center[0].shape: torch.Size([768]), device: cuda:0: 100%|█| 87/87 \n",
      "kmeans_init 9: 8, 87 - sse_min: 8.01609655469656,  sse: 8.01609655469656 - center[0].shape: torch.Size([768]), device: cuda:0: 100%|█| 87/87 [0\n"
     ]
    },
    {
     "name": "stdout",
     "output_type": "stream",
     "text": [
      "(9, 768)\n",
      "best_k:2\n",
      "best_clusters:[1 1 1 1 0 1 0 0 0 0 0 0 0 0 0 0 0 0 0 0 0 0 0 0 0 0 0 0 0 0 0 0 0 0 0 0 0\n",
      " 0 0 0 0 0 0 0 0 0 0 0 0 0 0 0 0 0 0 0 0 0 0 0 0 0 0 0 0 0 0 0 0 0 0 0 0 0\n",
      " 0 0 0 0 0 0 0 0 0 0 0 0 0]\n",
      "best_centers:(Length: 2)\n",
      "best_avg_sc:0.3842966387497726\n",
      "best_center_index:[24, 2]\n",
      "166 0.98609585 188\n",
      "[188]\n",
      "252 314\n",
      "(62, 768)\n",
      "7\n",
      "In the process of initializing the center\n"
     ]
    },
    {
     "name": "stderr",
     "output_type": "stream",
     "text": [
      "kmeans_init 7: 0, 62 - sse_min: 12.193944931030273,  sse: 12.193944931030273 - center[0].shape: torch.Size([768]), device: cuda:0: 100%|█| 62/6\n",
      "kmeans_init 7: 1, 62 - sse_min: 9.903024196624756,  sse: 9.903024196624756 - center[0].shape: torch.Size([768]), device: cuda:0: 100%|█| 62/62 \n",
      "kmeans_init 7: 2, 62 - sse_min: 8.780485987663269,  sse: 8.780485987663269 - center[0].shape: torch.Size([768]), device: cuda:0: 100%|█| 62/62 \n",
      "kmeans_init 7: 3, 62 - sse_min: 7.796524345874786,  sse: 7.796524345874786 - center[0].shape: torch.Size([768]), device: cuda:0: 100%|█| 62/62 \n",
      "kmeans_init 7: 4, 62 - sse_min: 7.059742361307144,  sse: 7.059742361307144 - center[0].shape: torch.Size([768]), device: cuda:0: 100%|█| 62/62 \n",
      "kmeans_init 7: 5, 62 - sse_min: 6.3704098761081696,  sse: 6.3704098761081696 - center[0].shape: torch.Size([768]), device: cuda:0: 100%|█| 62/6\n",
      "kmeans_init 7: 6, 62 - sse_min: 5.727221697568893,  sse: 5.727221697568893 - center[0].shape: torch.Size([768]), device: cuda:0: 100%|█| 62/62 \n"
     ]
    },
    {
     "name": "stdout",
     "output_type": "stream",
     "text": [
      "(7, 768)\n",
      "best_k:3\n",
      "best_clusters:[0 0 0 0 0 0 0 0 0 0 0 0 0 0 0 0 0 0 0 0 0 0 0 0 0 0 0 0 0 0 0 0 0 0 0 0 0\n",
      " 0 0 0 0 0 0 0 0 0 0 0 0 0 0 0 0 2 2 2 2 1 1 1 1 1]\n",
      "best_centers:(Length: 3)\n",
      "best_avg_sc:0.4274220081573146\n",
      "best_center_index:[12, 60, 55]\n",
      "312 0.9912776 264\n",
      "307 0.9884158 264\n",
      "[264]\n",
      "final_index：[32, 140, 188, 264]\n",
      "save_frames:/mnt/ceph/develop/jiawei/lora_dataset/speech_data/B站//test_3/test_3-features-result-cuda/32.jpg\n",
      "save_frames:/mnt/ceph/develop/jiawei/lora_dataset/speech_data/B站//test_3/test_3-features-result-cuda/140.jpg\n",
      "save_frames:/mnt/ceph/develop/jiawei/lora_dataset/speech_data/B站//test_3/test_3-features-result-cuda/188.jpg\n",
      "save_frames:/mnt/ceph/develop/jiawei/lora_dataset/speech_data/B站//test_3/test_3-features-result-cuda/264.jpg\n",
      "scenes_path:/mnt/ceph/develop/jiawei/lora_dataset/speech_data/B站//test_4/test_4.mp4.scenes.txt\n",
      "features_path:/mnt/ceph/develop/jiawei/lora_dataset/speech_data/B站//test_4/keyframe-features/features.pkl\n",
      "video_path:/mnt/ceph/develop/jiawei/lora_dataset/speech_data/B站//test_4/test_4.mp4\n",
      "save_path:/mnt/ceph/develop/jiawei/lora_dataset/speech_data/B站//test_4/\n",
      "folder_path:test_4-features-result-cuda\n",
      "0 78\n",
      "\n",
      "['0', '78']\n",
      "79 162\n",
      "\n",
      "['79', '162']\n",
      "163 277\n",
      "\n",
      "['163', '277']\n",
      "(277, 768)\n",
      "0 78\n",
      "(78, 768)\n",
      "8\n",
      "In the process of initializing the center\n"
     ]
    },
    {
     "name": "stderr",
     "output_type": "stream",
     "text": [
      "kmeans_init 8: 0, 78 - sse_min: 25.499874114990234,  sse: 25.499874114990234 - center[0].shape: torch.Size([768]), device: cuda:0: 100%|█| 78/7\n",
      "kmeans_init 8: 1, 78 - sse_min: 13.568498611450195,  sse: 13.568498611450195 - center[0].shape: torch.Size([768]), device: cuda:0: 100%|█| 78/7\n",
      "kmeans_init 8: 2, 78 - sse_min: 12.910778045654297,  sse: 12.910778045654297 - center[0].shape: torch.Size([768]), device: cuda:0: 100%|█| 78/7\n",
      "kmeans_init 8: 3, 78 - sse_min: 10.996371150016785,  sse: 10.996371150016785 - center[0].shape: torch.Size([768]), device: cuda:0: 100%|█| 78/7\n",
      "kmeans_init 8: 4, 78 - sse_min: 9.988568544387817,  sse: 9.988568544387817 - center[0].shape: torch.Size([768]), device: cuda:0: 100%|█| 78/78 \n",
      "kmeans_init 8: 5, 78 - sse_min: 8.98655690997839,  sse: 8.98655690997839 - center[0].shape: torch.Size([768]), device: cuda:0: 100%|█| 78/78 [0\n",
      "kmeans_init 8: 6, 78 - sse_min: 8.19639327377081,  sse: 8.19639327377081 - center[0].shape: torch.Size([768]), device: cuda:0: 100%|█| 78/78 [0\n",
      "kmeans_init 8: 7, 78 - sse_min: 7.6128925904631615,  sse: 7.6128925904631615 - center[0].shape: torch.Size([768]), device: cuda:0: 100%|█| 78/7\n"
     ]
    },
    {
     "name": "stdout",
     "output_type": "stream",
     "text": [
      "(8, 768)\n",
      "best_k:5\n",
      "best_clusters:[1 1 1 0 0 0 0 0 0 0 0 0 0 1 0 0 0 0 0 0 0 0 0 0 1 0 0 0 0 0 0 0 0 0 0 1 0\n",
      " 0 0 0 0 0 0 0 0 0 1 0 0 0 0 0 0 0 0 0 0 1 0 0 0 0 0 0 0 0 2 2 1 2 2 4 4 4\n",
      " 3 3 3 3]\n",
      "best_centers:(Length: 5)\n",
      "best_avg_sc:0.5078790733724301\n",
      "best_center_index:[32, 35, 67, 76, 72]\n",
      "35 0.9994744 32\n",
      "67 0.9804913 32\n",
      "72 0.9833702 32\n",
      "[32, 76]\n",
      "79 162\n",
      "(83, 768)\n",
      "9\n",
      "In the process of initializing the center\n"
     ]
    },
    {
     "name": "stderr",
     "output_type": "stream",
     "text": [
      "kmeans_init 9: 0, 83 - sse_min: 33.51698303222656,  sse: 33.51698303222656 - center[0].shape: torch.Size([768]), device: cuda:0: 100%|█| 83/83 \n",
      "kmeans_init 9: 1, 83 - sse_min: 16.71912455558777,  sse: 16.71912455558777 - center[0].shape: torch.Size([768]), device: cuda:0: 100%|█| 83/83 \n",
      "kmeans_init 9: 2, 83 - sse_min: 16.30016971565783,  sse: 16.30016971565783 - center[0].shape: torch.Size([768]), device: cuda:0: 100%|█| 83/83 \n",
      "kmeans_init 9: 3, 83 - sse_min: 13.597849139943719,  sse: 13.597849139943719 - center[0].shape: torch.Size([768]), device: cuda:0: 100%|█| 83/8\n",
      "kmeans_init 9: 4, 83 - sse_min: 11.085575887933373,  sse: 11.085575887933373 - center[0].shape: torch.Size([768]), device: cuda:0: 100%|█| 83/8\n",
      "kmeans_init 9: 5, 83 - sse_min: 10.299235502257943,  sse: 10.299235502257943 - center[0].shape: torch.Size([768]), device: cuda:0: 100%|█| 83/8\n",
      "kmeans_init 9: 6, 83 - sse_min: 9.709354439750314,  sse: 9.709354439750314 - center[0].shape: torch.Size([768]), device: cuda:0: 100%|█| 83/83 \n",
      "kmeans_init 9: 7, 83 - sse_min: 9.142051497474313,  sse: 9.142051497474313 - center[0].shape: torch.Size([768]), device: cuda:0: 100%|█| 83/83 \n",
      "kmeans_init 9: 8, 83 - sse_min: 8.662041464820504,  sse: 8.662041464820504 - center[0].shape: torch.Size([768]), device: cuda:0: 100%|█| 83/83 \n"
     ]
    },
    {
     "name": "stdout",
     "output_type": "stream",
     "text": [
      "(9, 768)\n",
      "best_k:2\n",
      "best_clusters:[0 0 0 0 0 0 0 0 0 0 0 0 0 0 0 0 0 0 0 0 0 0 0 0 0 0 0 0 0 0 0 0 0 0 0 0 0\n",
      " 0 0 0 0 0 0 0 0 0 0 0 0 0 0 0 0 0 0 0 0 1 1 0 0 0 0 0 0 0 0 0 0 0 0 0 0 0\n",
      " 0 0 0 0 0 0 0 0 0]\n",
      "best_centers:(Length: 2)\n",
      "best_avg_sc:0.6189869217521727\n",
      "best_center_index:[41, 57]\n",
      "136 0.99851793 120\n",
      "[120]\n",
      "163 277\n",
      "(114, 768)\n",
      "10\n",
      "In the process of initializing the center\n"
     ]
    },
    {
     "name": "stderr",
     "output_type": "stream",
     "text": [
      "kmeans_init 10: 0, 114 - sse_min: 45.83525085449219,  sse: 45.83525085449219 - center[0].shape: torch.Size([768]), device: cuda:0: 100%|█| 114/\n",
      "kmeans_init 10: 1, 114 - sse_min: 26.066096305847168,  sse: 26.066096305847168 - center[0].shape: torch.Size([768]), device: cuda:0: 100%|█| 11\n",
      "kmeans_init 10: 2, 114 - sse_min: 25.093173444271088,  sse: 25.093173444271088 - center[0].shape: torch.Size([768]), device: cuda:0: 100%|█| 11\n",
      "kmeans_init 10: 3, 114 - sse_min: 20.6507448554039,  sse: 20.6507448554039 - center[0].shape: torch.Size([768]), device: cuda:0: 100%|█| 114/11\n",
      "kmeans_init 10: 4, 114 - sse_min: 17.681268990039825,  sse: 17.681268990039825 - center[0].shape: torch.Size([768]), device: cuda:0: 100%|█| 11\n",
      "kmeans_init 10: 5, 114 - sse_min: 15.9905464053154,  sse: 15.9905464053154 - center[0].shape: torch.Size([768]), device: cuda:0: 100%|█| 114/11\n",
      "kmeans_init 10: 6, 114 - sse_min: 14.995875179767609,  sse: 14.995875179767609 - center[0].shape: torch.Size([768]), device: cuda:0: 100%|█| 11\n",
      "kmeans_init 10: 7, 114 - sse_min: 14.208580255508423,  sse: 14.208580255508423 - center[0].shape: torch.Size([768]), device: cuda:0: 100%|█| 11\n",
      "kmeans_init 10: 8, 114 - sse_min: 13.603907823562622,  sse: 13.603907823562622 - center[0].shape: torch.Size([768]), device: cuda:0: 100%|█| 11\n",
      "kmeans_init 10: 9, 114 - sse_min: 13.002743929624557,  sse: 13.002743929624557 - center[0].shape: torch.Size([768]), device: cuda:0: 100%|█| 11\n"
     ]
    },
    {
     "name": "stdout",
     "output_type": "stream",
     "text": [
      "(10, 768)\n",
      "best_k:2\n",
      "best_clusters:[0 0 0 0 0 0 0 0 0 0 0 0 0 0 0 0 0 0 0 0 0 0 0 0 0 0 0 0 0 0 1 1 1 1 1 0 0\n",
      " 0 0 0 0 0 0 0 0 0 0 0 0 0 0 0 0 0 0 0 0 0 0 0 0 0 0 0 0 0 0 0 0 0 0 0 0 0\n",
      " 0 0 0 0 0 0 0 0 0 0 0 0 0 0 0 0 0 0 0 0 0 0 0 0 0 0 0 0 0 0 0 0 0 0 0 0 0\n",
      " 0 0 0]\n",
      "best_centers:(Length: 2)\n",
      "best_avg_sc:0.5525946844504827\n",
      "best_center_index:[44, 31]\n",
      "194 0.97294503 207\n",
      "[207]\n",
      "final_index：[32, 76, 120, 207]\n",
      "save_frames:/mnt/ceph/develop/jiawei/lora_dataset/speech_data/B站//test_4/test_4-features-result-cuda/32.jpg\n",
      "save_frames:/mnt/ceph/develop/jiawei/lora_dataset/speech_data/B站//test_4/test_4-features-result-cuda/76.jpg\n",
      "save_frames:/mnt/ceph/develop/jiawei/lora_dataset/speech_data/B站//test_4/test_4-features-result-cuda/120.jpg\n",
      "save_frames:/mnt/ceph/develop/jiawei/lora_dataset/speech_data/B站//test_4/test_4-features-result-cuda/207.jpg\n",
      "scenes_path:/mnt/ceph/develop/jiawei/lora_dataset/speech_data/B站//test_5/test_5.mp4.scenes.txt\n",
      "features_path:/mnt/ceph/develop/jiawei/lora_dataset/speech_data/B站//test_5/keyframe-features/features.pkl\n",
      "video_path:/mnt/ceph/develop/jiawei/lora_dataset/speech_data/B站//test_5/test_5.mp4\n",
      "save_path:/mnt/ceph/develop/jiawei/lora_dataset/speech_data/B站//test_5/\n",
      "folder_path:test_5-features-result-cuda\n",
      "0 66\n",
      "\n",
      "['0', '66']\n",
      "67 123\n",
      "\n",
      "['67', '123']\n",
      "124 189\n",
      "\n",
      "['124', '189']\n",
      "190 235\n",
      "\n",
      "['190', '235']\n",
      "(235, 768)\n",
      "0 66\n",
      "(66, 768)\n",
      "8\n",
      "In the process of initializing the center\n"
     ]
    },
    {
     "name": "stderr",
     "output_type": "stream",
     "text": [
      "kmeans_init 8: 0, 66 - sse_min: 19.48369026184082,  sse: 19.48369026184082 - center[0].shape: torch.Size([768]), device: cuda:0: 100%|█| 66/66 \n",
      "kmeans_init 8: 1, 66 - sse_min: 11.98253083229065,  sse: 11.98253083229065 - center[0].shape: torch.Size([768]), device: cuda:0: 100%|█| 66/66 \n",
      "kmeans_init 8: 2, 66 - sse_min: 8.816838026046753,  sse: 8.816838026046753 - center[0].shape: torch.Size([768]), device: cuda:0: 100%|█| 66/66 \n",
      "kmeans_init 8: 3, 66 - sse_min: 8.224744640290737,  sse: 8.224744640290737 - center[0].shape: torch.Size([768]), device: cuda:0: 100%|█| 66/66 \n",
      "kmeans_init 8: 4, 66 - sse_min: 7.5463056191802025,  sse: 7.5463056191802025 - center[0].shape: torch.Size([768]), device: cuda:0: 100%|█| 66/6\n",
      "kmeans_init 8: 5, 66 - sse_min: 6.893480859696865,  sse: 6.893480859696865 - center[0].shape: torch.Size([768]), device: cuda:0: 100%|█| 66/66 \n",
      "kmeans_init 8: 6, 66 - sse_min: 6.384549163281918,  sse: 6.384549163281918 - center[0].shape: torch.Size([768]), device: cuda:0: 100%|█| 66/66 \n",
      "kmeans_init 8: 7, 66 - sse_min: 5.938555859029293,  sse: 5.938555859029293 - center[0].shape: torch.Size([768]), device: cuda:0: 100%|█| 66/66 \n"
     ]
    },
    {
     "name": "stdout",
     "output_type": "stream",
     "text": [
      "(8, 768)\n",
      "best_k:3\n",
      "best_clusters:[2 2 2 1 1 1 1 1 1 1 1 1 1 2 1 1 1 1 1 1 1 1 1 1 2 1 1 1 0 0 0 0 0 0 0 2 0\n",
      " 0 0 0 0 0 0 0 0 0 2 0 0 0 0 0 0 0 0 0 0 2 0 0 0 0 0 0 0 0]\n",
      "best_centers:(Length: 3)\n",
      "best_avg_sc:0.4344037872559708\n",
      "best_center_index:[51, 12, 35]\n",
      "12 0.94204783 51\n",
      "35 0.94166756 51\n",
      "[51]\n",
      "67 123\n",
      "(56, 768)\n",
      "7\n",
      "In the process of initializing the center\n"
     ]
    },
    {
     "name": "stderr",
     "output_type": "stream",
     "text": [
      "kmeans_init 7: 0, 56 - sse_min: 11.147294998168945,  sse: 11.147294998168945 - center[0].shape: torch.Size([768]), device: cuda:0: 100%|█| 56/5\n",
      "kmeans_init 7: 1, 56 - sse_min: 10.521774888038635,  sse: 10.521774888038635 - center[0].shape: torch.Size([768]), device: cuda:0: 100%|█| 56/5\n",
      "kmeans_init 7: 2, 56 - sse_min: 6.97468364238739,  sse: 6.97468364238739 - center[0].shape: torch.Size([768]), device: cuda:0: 100%|█| 56/56 [0\n",
      "kmeans_init 7: 3, 56 - sse_min: 5.915070682764053,  sse: 5.915070682764053 - center[0].shape: torch.Size([768]), device: cuda:0: 100%|█| 56/56 \n",
      "kmeans_init 7: 4, 56 - sse_min: 5.340695314109325,  sse: 5.340695314109325 - center[0].shape: torch.Size([768]), device: cuda:0: 100%|█| 56/56 \n",
      "kmeans_init 7: 5, 56 - sse_min: 4.947008274495602,  sse: 4.947008274495602 - center[0].shape: torch.Size([768]), device: cuda:0: 100%|█| 56/56 \n",
      "kmeans_init 7: 6, 56 - sse_min: 4.576646231114864,  sse: 4.576646231114864 - center[0].shape: torch.Size([768]), device: cuda:0: 100%|█| 56/56 \n"
     ]
    },
    {
     "name": "stdout",
     "output_type": "stream",
     "text": [
      "(7, 768)\n",
      "best_k:3\n",
      "best_clusters:[0 2 0 0 0 0 0 0 0 0 0 0 2 0 0 0 0 0 0 0 0 0 0 2 0 0 0 0 0 0 0 0 0 1 2 1 1\n",
      " 1 1 1 1 1 1 1 1 2 2 1 1 1 1 1 1 1 1 1]\n",
      "best_centers:(Length: 3)\n",
      "best_avg_sc:0.5096904359148187\n",
      "best_center_index:[16, 41, 12]\n",
      "108 0.98338175 83\n",
      "79 0.99411756 83\n",
      "[83]\n",
      "124 189\n",
      "(65, 768)\n",
      "8\n",
      "In the process of initializing the center\n"
     ]
    },
    {
     "name": "stderr",
     "output_type": "stream",
     "text": [
      "kmeans_init 8: 0, 65 - sse_min: 15.59805679321289,  sse: 15.59805679321289 - center[0].shape: torch.Size([768]), device: cuda:0: 100%|█| 65/65 \n",
      "kmeans_init 8: 1, 65 - sse_min: 11.110605239868164,  sse: 11.110605239868164 - center[0].shape: torch.Size([768]), device: cuda:0: 100%|█| 65/6\n",
      "100%|████████████████████████████████████████████████████████████████████████████████████████████████████████| 65/65 [00:00<00:00, 1932.20it/s]\n",
      "100%|████████████████████████████████████████████████████████████████████████████████████████████████████████| 65/65 [00:00<00:00, 1654.71it/s]\n",
      "100%|████████████████████████████████████████████████████████████████████████████████████████████████████████| 65/65 [00:00<00:00, 1447.86it/s]\n",
      "100%|████████████████████████████████████████████████████████████████████████████████████████████████████████| 65/65 [00:00<00:00, 1291.11it/s]\n",
      "100%|████████████████████████████████████████████████████████████████████████████████████████████████████████| 65/65 [00:00<00:00, 1177.50it/s]\n",
      "100%|████████████████████████████████████████████████████████████████████████████████████████████████████████| 65/65 [00:00<00:00, 1082.68it/s]\n"
     ]
    },
    {
     "name": "stdout",
     "output_type": "stream",
     "text": [
      "(8, 768)\n",
      "best_k:7\n",
      "best_clusters:[1 0 0 0 0 0 0 0 0 0 0 1 0 0 0 0 0 0 0 0 0 0 1 0 0 0 0 0 1 1 1 1 1 1 5 1 1\n",
      " 1 1 6 6 6 6 6 6 5 6 2 2 2 2 2 2 2 2 4 5 4 4 4 4 3 3 3 3]\n",
      "best_centers:(Length: 7)\n",
      "best_avg_sc:0.41105063311307255\n",
      "best_center_index:[12, 22, 49, 62, 58, 34, 43]\n",
      "146 0.99120945 136\n",
      "173 0.97031766 136\n",
      "182 0.9772631 136\n",
      "158 0.9701311 136\n",
      "167 0.9694958 136\n",
      "[136, 186]\n",
      "190 235\n",
      "(45, 768)\n",
      "6\n",
      "In the process of initializing the center\n"
     ]
    },
    {
     "name": "stderr",
     "output_type": "stream",
     "text": [
      "kmeans_init 6: 0, 45 - sse_min: 12.839306831359863,  sse: 12.839306831359863 - center[0].shape: torch.Size([768]), device: cuda:0: 100%|█| 45/4\n",
      "kmeans_init 6: 1, 45 - sse_min: 6.868031978607178,  sse: 6.868031978607178 - center[0].shape: torch.Size([768]), device: cuda:0: 100%|█| 45/45 \n",
      "kmeans_init 6: 2, 45 - sse_min: 6.287349075078964,  sse: 6.287349075078964 - center[0].shape: torch.Size([768]), device: cuda:0: 100%|█| 45/45 \n",
      "kmeans_init 6: 3, 45 - sse_min: 5.2467220723629,  sse: 5.2467220723629 - center[0].shape: torch.Size([768]), device: cuda:0: 100%|█| 45/45 [00:\n",
      "kmeans_init 6: 4, 45 - sse_min: 4.337172359228134,  sse: 4.337172359228134 - center[0].shape: torch.Size([768]), device: cuda:0: 100%|█| 45/45 \n",
      "kmeans_init 6: 5, 45 - sse_min: 3.90542961191386,  sse: 3.90542961191386 - center[0].shape: torch.Size([768]), device: cuda:0: 100%|█| 45/45 [0"
     ]
    },
    {
     "name": "stdout",
     "output_type": "stream",
     "text": [
      "(6, 768)\n",
      "best_k:3\n",
      "best_clusters:[1 2 1 1 1 1 1 1 0 0 0 0 2 0 0 0 0 0 0 0 0 0 0 2 0 0 0 0 0 0 0 0 0 0 2 0 0\n",
      " 0 0 0 0 0 0 0 0]\n",
      "best_centers:(Length: 3)\n",
      "best_avg_sc:0.4968339522235616\n",
      "best_center_index:[18, 4, 23]\n"
     ]
    },
    {
     "name": "stderr",
     "output_type": "stream",
     "text": [
      "\n"
     ]
    },
    {
     "name": "stdout",
     "output_type": "stream",
     "text": [
      "194 0.9909301 208\n",
      "213 0.9776031 208\n",
      "[208]\n",
      "final_index：[51, 83, 136, 186, 208]\n",
      "save_frames:/mnt/ceph/develop/jiawei/lora_dataset/speech_data/B站//test_5/test_5-features-result-cuda/51.jpg\n",
      "save_frames:/mnt/ceph/develop/jiawei/lora_dataset/speech_data/B站//test_5/test_5-features-result-cuda/83.jpg\n",
      "save_frames:/mnt/ceph/develop/jiawei/lora_dataset/speech_data/B站//test_5/test_5-features-result-cuda/136.jpg\n",
      "save_frames:/mnt/ceph/develop/jiawei/lora_dataset/speech_data/B站//test_5/test_5-features-result-cuda/186.jpg\n",
      "save_frames:/mnt/ceph/develop/jiawei/lora_dataset/speech_data/B站//test_5/test_5-features-result-cuda/208.jpg\n",
      "scenes_path:/mnt/ceph/develop/jiawei/lora_dataset/speech_data/B站//test_6/test_6.mp4.scenes.txt\n",
      "features_path:/mnt/ceph/develop/jiawei/lora_dataset/speech_data/B站//test_6/keyframe-features/features.pkl\n",
      "video_path:/mnt/ceph/develop/jiawei/lora_dataset/speech_data/B站//test_6/test_6.mp4\n",
      "save_path:/mnt/ceph/develop/jiawei/lora_dataset/speech_data/B站//test_6/\n",
      "folder_path:test_6-features-result-cuda\n",
      "0 514\n",
      "\n",
      "['0', '514']\n",
      "515 579\n",
      "\n",
      "['515', '579']\n",
      "(579, 768)\n",
      "0 514\n",
      "(514, 768)\n",
      "22\n",
      "In the process of initializing the center\n"
     ]
    },
    {
     "name": "stderr",
     "output_type": "stream",
     "text": [
      "kmeans_init 22: 0, 514 - sse_min: 244.29751586914062,  sse: 244.29751586914062 - center[0].shape: torch.Size([768]), device: cuda:0: 100%|█| 51\n",
      "kmeans_init 22: 1, 514 - sse_min: 136.62157225608826,  sse: 136.62157225608826 - center[0].shape: torch.Size([768]), device: cuda:0: 100%|█| 51\n",
      "kmeans_init 22: 2, 514 - sse_min: 104.61634993553162,  sse: 104.61634993553162 - center[0].shape: torch.Size([768]), device: cuda:0: 100%|█| 51\n",
      "kmeans_init 22: 3, 514 - sse_min: 99.29039406776428,  sse: 99.29039406776428 - center[0].shape: torch.Size([768]), device: cuda:0: 100%|█| 514/\n",
      "kmeans_init 22: 4, 514 - sse_min: 94.6848349571228,  sse: 94.6848349571228 - center[0].shape: torch.Size([768]), device: cuda:0: 100%|█| 514/51\n",
      "kmeans_init 22: 5, 514 - sse_min: 90.39911127090454,  sse: 90.39911127090454 - center[0].shape: torch.Size([768]), device: cuda:0: 100%|█| 514/\n",
      "kmeans_init 22: 6, 514 - sse_min: 88.44411396980286,  sse: 88.44411396980286 - center[0].shape: torch.Size([768]), device: cuda:0: 100%|█| 514/\n",
      "kmeans_init 22: 7, 514 - sse_min: 84.88711619377136,  sse: 84.88711619377136 - center[0].shape: torch.Size([768]), device: cuda:0: 100%|█| 514/\n",
      "kmeans_init 22: 8, 514 - sse_min: 81.77575242519379,  sse: 81.77575242519379 - center[0].shape: torch.Size([768]), device: cuda:0: 100%|█| 514/\n",
      "kmeans_init 22: 9, 514 - sse_min: 78.87924087047577,  sse: 78.87924087047577 - center[0].shape: torch.Size([768]), device: cuda:0: 100%|█| 514/\n",
      "kmeans_init 22: 10, 514 - sse_min: 76.19748818874359,  sse: 76.19748818874359 - center[0].shape: torch.Size([768]), device: cuda:0: 100%|█| 514\n",
      "kmeans_init 22: 11, 514 - sse_min: 73.59602153301239,  sse: 73.59602153301239 - center[0].shape: torch.Size([768]), device: cuda:0: 100%|█| 514\n",
      "kmeans_init 22: 12, 514 - sse_min: 71.38350737094879,  sse: 71.38350737094879 - center[0].shape: torch.Size([768]), device: cuda:0: 100%|█| 514\n",
      "kmeans_init 22: 13, 514 - sse_min: 69.41621816158295,  sse: 69.41621816158295 - center[0].shape: torch.Size([768]), device: cuda:0: 100%|█| 514\n",
      "kmeans_init 22: 14, 514 - sse_min: 67.64691579341888,  sse: 67.64691579341888 - center[0].shape: torch.Size([768]), device: cuda:0: 100%|█| 514\n",
      "kmeans_init 22: 15, 514 - sse_min: 65.92473638057709,  sse: 65.92473638057709 - center[0].shape: torch.Size([768]), device: cuda:0: 100%|█| 514\n",
      "kmeans_init 22: 16, 514 - sse_min: 64.31843411922455,  sse: 64.31843411922455 - center[0].shape: torch.Size([768]), device: cuda:0: 100%|█| 514\n",
      "kmeans_init 22: 17, 514 - sse_min: 62.74817645549774,  sse: 62.74817645549774 - center[0].shape: torch.Size([768]), device: cuda:0: 100%|█| 514\n",
      "kmeans_init 22: 18, 514 - sse_min: 61.28917336463928,  sse: 61.28917336463928 - center[0].shape: torch.Size([768]), device: cuda:0: 100%|█| 514\n",
      "kmeans_init 22: 19, 514 - sse_min: 59.851465463638306,  sse: 59.851465463638306 - center[0].shape: torch.Size([768]), device: cuda:0: 100%|█| 5\n",
      "kmeans_init 22: 20, 514 - sse_min: 58.57253444194794,  sse: 58.57253444194794 - center[0].shape: torch.Size([768]), device: cuda:0: 100%|█| 514\n",
      "kmeans_init 22: 21, 514 - sse_min: 57.34152162075043,  sse: 57.34152162075043 - center[0].shape: torch.Size([768]), device: cuda:0: 100%|█| 514\n"
     ]
    },
    {
     "name": "stdout",
     "output_type": "stream",
     "text": [
      "(22, 768)\n",
      "best_k:2\n",
      "best_clusters:[0 0 0 0 0 0 0 0 0 0 0 0 0 0 0 0 0 0 0 0 0 0 0 0 0 0 0 0 0 0 0 0 0 0 0 0 0\n",
      " 0 0 0 0 0 0 0 0 0 0 0 0 0 0 0 0 0 0 0 0 0 0 0 0 0 0 0 0 0 0 0 0 0 0 0 0 0\n",
      " 0 0 0 0 0 0 0 0 0 0 0 0 0 0 0 0 0 0 0 0 0 0 0 0 0 0 0 0 0 0 0 0 0 0 0 0 0\n",
      " 0 0 0 0 0 0 0 0 0 0 0 0 0 0 0 0 0 0 0 0 0 0 0 0 0 0 0 0 0 0 0 0 0 0 0 0 0\n",
      " 0 0 0 0 0 0 0 0 0 0 0 0 0 0 0 0 0 0 0 0 0 0 0 0 0 0 0 0 0 0 0 0 0 0 0 0 0\n",
      " 0 0 0 0 0 0 0 0 0 0 0 0 0 0 0 0 0 0 0 0 0 0 0 0 0 0 0 0 0 0 0 0 0 0 0 0 0\n",
      " 0 0 0 0 0 0 0 0 0 0 0 0 0 0 0 0 0 0 0 0 0 0 0 0 0 0 0 0 0 0 0 0 0 0 0 0 0\n",
      " 0 0 0 0 0 0 0 0 0 0 0 0 0 0 0 0 0 0 0 0 0 0 0 0 0 0 0 0 0 0 0 0 0 0 0 0 0\n",
      " 0 0 0 0 0 0 0 0 0 0 0 0 0 0 0 0 0 0 0 0 0 0 0 0 0 0 0 0 0 0 0 0 0 0 0 0 0\n",
      " 0 0 0 0 0 0 0 0 0 0 0 0 0 0 0 0 0 0 0 0 0 0 0 0 0 0 0 0 0 0 0 0 0 0 0 0 0\n",
      " 0 0 0 0 0 0 0 0 0 0 0 0 0 0 0 0 0 0 0 0 0 0 0 0 0 0 0 0 0 0 0 0 0 0 0 0 0\n",
      " 0 0 0 0 0 0 0 0 0 0 0 0 0 0 0 0 0 0 0 0 0 0 0 0 0 0 0 0 0 0 0 0 0 0 0 0 0\n",
      " 0 0 0 0 0 0 0 0 0 0 0 0 0 0 0 0 0 0 1 1 1 1 1 1 0 1 1 0 0 0 0 0 0 0 0 0 0\n",
      " 0 0 0 0 0 0 0 0 0 0 0 0 0 0 0 0 0 0 0 0 0 0 0 0 0 0 0 0 0 0 0 0 0]\n",
      "best_centers:(Length: 2)\n",
      "best_avg_sc:0.3778539052718228\n",
      "best_center_index:[490, 466]\n",
      "466 0.9970529 490\n",
      "[490]\n",
      "515 579\n",
      "(64, 768)\n",
      "8\n",
      "In the process of initializing the center\n"
     ]
    },
    {
     "name": "stderr",
     "output_type": "stream",
     "text": [
      "kmeans_init 8: 0, 64 - sse_min: 18.417451858520508,  sse: 18.417451858520508 - center[0].shape: torch.Size([768]), device: cuda:0: 100%|█| 64/6\n",
      "kmeans_init 8: 1, 64 - sse_min: 13.68096375465393,  sse: 13.68096375465393 - center[0].shape: torch.Size([768]), device: cuda:0: 100%|█| 64/64 \n",
      "kmeans_init 8: 2, 64 - sse_min: 10.185436010360718,  sse: 10.185436010360718 - center[0].shape: torch.Size([768]), device: cuda:0: 100%|█| 64/6\n",
      "kmeans_init 8: 3, 64 - sse_min: 9.741547703742981,  sse: 9.741547703742981 - center[0].shape: torch.Size([768]), device: cuda:0: 100%|█| 64/64 \n",
      "kmeans_init 8: 4, 64 - sse_min: 8.36949634552002,  sse: 8.36949634552002 - center[0].shape: torch.Size([768]), device: cuda:0: 100%|█| 64/64 [0\n",
      "kmeans_init 8: 5, 64 - sse_min: 6.9987881779670715,  sse: 6.9987881779670715 - center[0].shape: torch.Size([768]), device: cuda:0: 100%|█| 64/6\n",
      "kmeans_init 8: 6, 64 - sse_min: 6.404596209526062,  sse: 6.404596209526062 - center[0].shape: torch.Size([768]), device: cuda:0: 100%|█| 64/64 \n",
      "kmeans_init 8: 7, 64 - sse_min: 5.831537524238229,  sse: 5.831537524238229 - center[0].shape: torch.Size([768]), device: cuda:0: 100%|█| 64/64 \n"
     ]
    },
    {
     "name": "stdout",
     "output_type": "stream",
     "text": [
      "(8, 768)\n",
      "best_k:7\n",
      "best_clusters:[2 2 2 2 2 2 2 2 6 2 2 2 2 2 2 2 2 2 6 6 3 6 4 4 4 4 4 4 1 1 1 3 1 1 1 1 1\n",
      " 1 1 1 1 1 3 1 1 1 1 1 2 2 0 0 0 3 0 0 0 0 0 0 0 0 5 5]\n",
      "best_centers:(Length: 7)\n",
      "best_avg_sc:0.5468261941875229\n",
      "best_center_index:[52, 34, 6, 31, 25, 63, 19]\n",
      "549 0.9820622 567\n",
      "546 0.9781998 567\n",
      "540 0.96936667 567\n",
      "578 0.97846967 567\n",
      "534 0.962465 567\n",
      "[521, 567]\n",
      "final_index：[490, 521, 567]\n",
      "save_frames:/mnt/ceph/develop/jiawei/lora_dataset/speech_data/B站//test_6/test_6-features-result-cuda/490.jpg\n",
      "save_frames:/mnt/ceph/develop/jiawei/lora_dataset/speech_data/B站//test_6/test_6-features-result-cuda/521.jpg\n",
      "save_frames:/mnt/ceph/develop/jiawei/lora_dataset/speech_data/B站//test_6/test_6-features-result-cuda/567.jpg\n",
      "scenes_path:/mnt/ceph/develop/jiawei/lora_dataset/speech_data/B站//test_7/test_7.mp4.scenes.txt\n",
      "features_path:/mnt/ceph/develop/jiawei/lora_dataset/speech_data/B站//test_7/keyframe-features/features.pkl\n",
      "video_path:/mnt/ceph/develop/jiawei/lora_dataset/speech_data/B站//test_7/test_7.mp4\n",
      "save_path:/mnt/ceph/develop/jiawei/lora_dataset/speech_data/B站//test_7/\n",
      "folder_path:test_7-features-result-cuda\n",
      "0 10\n",
      "\n",
      "['0', '10']\n",
      "13 296\n",
      "\n",
      "['13', '296']\n",
      "(294, 768)\n",
      "0 10\n",
      "(10, 768)\n",
      "3\n",
      "In the process of initializing the center\n"
     ]
    },
    {
     "name": "stderr",
     "output_type": "stream",
     "text": [
      "kmeans_init 3: 0, 10 - sse_min: 5.784419059753418,  sse: 5.784419059753418 - center[0].shape: torch.Size([768]), device: cuda:0: 100%|█| 10/10 \n",
      "kmeans_init 3: 1, 10 - sse_min: 0.8502568900585175,  sse: 0.8502568900585175 - center[0].shape: torch.Size([768]), device: cuda:0: 100%|█| 10/1\n",
      "100%|████████████████████████████████████████████████████████████████████████████████████████████████████████| 10/10 [00:00<00:00, 2185.44it/s]\n"
     ]
    },
    {
     "name": "stdout",
     "output_type": "stream",
     "text": [
      "(3, 768)\n",
      "best_k:2\n",
      "best_clusters:[1 1 0 0 0 0 0 0 0 0]\n",
      "best_centers:(Length: 2)\n",
      "best_avg_sc:0.837011867810223\n",
      "best_center_index:[7, 1]\n",
      "[7]\n",
      "13 296\n",
      "(281, 768)\n",
      "16\n",
      "In the process of initializing the center\n"
     ]
    },
    {
     "name": "stderr",
     "output_type": "stream",
     "text": [
      "kmeans_init 16: 0, 281 - sse_min: 51.13789749145508,  sse: 51.13789749145508 - center[0].shape: torch.Size([768]), device: cuda:0: 100%|█| 281/\n",
      "kmeans_init 16: 1, 281 - sse_min: 45.85215139389038,  sse: 45.85215139389038 - center[0].shape: torch.Size([768]), device: cuda:0: 100%|█| 281/\n",
      "kmeans_init 16: 2, 281 - sse_min: 41.75858497619629,  sse: 41.75858497619629 - center[0].shape: torch.Size([768]), device: cuda:0: 100%|█| 281/\n",
      "kmeans_init 16: 3, 281 - sse_min: 39.12397384643555,  sse: 39.12397384643555 - center[0].shape: torch.Size([768]), device: cuda:0: 100%|█| 281/\n",
      "kmeans_init 16: 4, 281 - sse_min: 37.15795826911926,  sse: 37.15795826911926 - center[0].shape: torch.Size([768]), device: cuda:0: 100%|█| 281/\n",
      "kmeans_init 16: 5, 281 - sse_min: 35.959112882614136,  sse: 35.959112882614136 - center[0].shape: torch.Size([768]), device: cuda:0: 100%|█| 28\n",
      "kmeans_init 16: 6, 281 - sse_min: 35.032824754714966,  sse: 35.032824754714966 - center[0].shape: torch.Size([768]), device: cuda:0: 100%|█| 28\n",
      "kmeans_init 16: 7, 281 - sse_min: 34.18696045875549,  sse: 34.18696045875549 - center[0].shape: torch.Size([768]), device: cuda:0: 100%|█| 281/\n",
      "kmeans_init 16: 8, 281 - sse_min: 33.39499360322952,  sse: 33.39499360322952 - center[0].shape: torch.Size([768]), device: cuda:0: 100%|█| 281/\n",
      "kmeans_init 16: 9, 281 - sse_min: 32.607878267765045,  sse: 32.607878267765045 - center[0].shape: torch.Size([768]), device: cuda:0: 100%|█| 28\n",
      "kmeans_init 16: 10, 281 - sse_min: 31.979150116443634,  sse: 31.979150116443634 - center[0].shape: torch.Size([768]), device: cuda:0: 100%|█| 2\n",
      "kmeans_init 16: 11, 281 - sse_min: 31.28115850687027,  sse: 31.28115850687027 - center[0].shape: torch.Size([768]), device: cuda:0: 100%|█| 281\n",
      "kmeans_init 16: 12, 281 - sse_min: 30.66519182920456,  sse: 30.66519182920456 - center[0].shape: torch.Size([768]), device: cuda:0: 100%|█| 281\n",
      "kmeans_init 16: 13, 281 - sse_min: 30.066552698612213,  sse: 30.066552698612213 - center[0].shape: torch.Size([768]), device: cuda:0: 100%|█| 2\n",
      "kmeans_init 16: 14, 281 - sse_min: 29.5106138586998,  sse: 29.5106138586998 - center[0].shape: torch.Size([768]), device: cuda:0: 100%|█| 281/2\n",
      "kmeans_init 16: 15, 281 - sse_min: 29.0268492102623,  sse: 29.0268492102623 - center[0].shape: torch.Size([768]), device: cuda:0: 100%|█| 281/2\n"
     ]
    },
    {
     "name": "stdout",
     "output_type": "stream",
     "text": [
      "(16, 768)\n",
      "best_k:2\n",
      "best_clusters:[0 0 0 0 0 0 0 0 0 0 0 0 0 0 0 0 0 0 0 0 0 0 0 0 0 0 0 0 0 0 0 0 0 0 0 0 0\n",
      " 0 0 0 0 0 0 0 0 0 0 0 0 0 0 0 0 0 0 0 0 0 0 0 0 0 0 0 0 0 0 0 0 0 0 0 0 0\n",
      " 0 0 0 0 0 0 0 0 0 0 0 0 0 0 0 0 0 0 0 0 0 0 0 1 0 0 0 0 0 0 0 0 0 0 0 0 0\n",
      " 0 0 0 0 0 0 0 0 0 0 0 0 0 0 0 0 0 0 0 0 0 0 0 0 0 0 0 0 0 0 0 0 0 0 0 0 0\n",
      " 0 0 0 0 0 0 0 0 0 0 0 0 0 0 0 0 0 0 0 0 0 0 0 0 0 0 0 0 0 0 0 0 0 0 0 0 0\n",
      " 0 0 0 0 0 0 0 0 0 0 0 0 0 0 0 0 0 0 0 1 0 0 0 0 0 0 0 0 0 0 1 0 0 0 0 0 0\n",
      " 0 0 0 0 1 0 0 0 0 0 0 0 0 0 0 1 0 0 0 0 0 0 0 0 0 0 1 0 0 0 0 0 0 0 0 0 0\n",
      " 1 0 0 0 0 0 0 0 0 0 0 1 0 0 0 0 0 0 0 0 0 0]\n",
      "best_centers:(Length: 2)\n",
      "best_avg_sc:0.5023813238763999\n",
      "best_center_index:[5, 237]\n",
      "[18, 250]\n",
      "final_index：[7, 18, 250]\n",
      "save_frames:/mnt/ceph/develop/jiawei/lora_dataset/speech_data/B站//test_7/test_7-features-result-cuda/7.jpg\n",
      "save_frames:/mnt/ceph/develop/jiawei/lora_dataset/speech_data/B站//test_7/test_7-features-result-cuda/18.jpg\n",
      "save_frames:/mnt/ceph/develop/jiawei/lora_dataset/speech_data/B站//test_7/test_7-features-result-cuda/250.jpg\n",
      "scenes_path:/mnt/ceph/develop/jiawei/lora_dataset/speech_data/B站//test_8/test_8.mp4.scenes.txt\n",
      "features_path:/mnt/ceph/develop/jiawei/lora_dataset/speech_data/B站//test_8/keyframe-features/features.pkl\n",
      "video_path:/mnt/ceph/develop/jiawei/lora_dataset/speech_data/B站//test_8/test_8.mp4\n",
      "save_path:/mnt/ceph/develop/jiawei/lora_dataset/speech_data/B站//test_8/\n",
      "folder_path:test_8-features-result-cuda\n",
      "0 64\n",
      "\n",
      "['0', '64']\n",
      "65 246\n",
      "\n",
      "['65', '246']\n",
      "247 247\n",
      "\n",
      "['247', '247']\n",
      "(247, 768)\n",
      "0 64\n",
      "(64, 768)\n",
      "8\n",
      "In the process of initializing the center\n"
     ]
    },
    {
     "name": "stderr",
     "output_type": "stream",
     "text": [
      "kmeans_init 8: 0, 64 - sse_min: 18.451335906982422,  sse: 18.451335906982422 - center[0].shape: torch.Size([768]), device: cuda:0: 100%|█| 64/6\n",
      "kmeans_init 8: 1, 64 - sse_min: 11.166235208511353,  sse: 11.166235208511353 - center[0].shape: torch.Size([768]), device: cuda:0: 100%|█| 64/6\n",
      "kmeans_init 8: 2, 64 - sse_min: 9.882439374923706,  sse: 9.882439374923706 - center[0].shape: torch.Size([768]), device: cuda:0: 100%|█| 64/64 \n",
      "kmeans_init 8: 3, 64 - sse_min: 9.0122549533844,  sse: 9.0122549533844 - center[0].shape: torch.Size([768]), device: cuda:0: 100%|█| 64/64 [00:\n",
      "kmeans_init 8: 4, 64 - sse_min: 8.226072199642658,  sse: 8.226072199642658 - center[0].shape: torch.Size([768]), device: cuda:0: 100%|█| 64/64 \n",
      "kmeans_init 8: 5, 64 - sse_min: 7.583563931286335,  sse: 7.583563931286335 - center[0].shape: torch.Size([768]), device: cuda:0: 100%|█| 64/64 \n",
      "kmeans_init 8: 6, 64 - sse_min: 7.053505428135395,  sse: 7.053505428135395 - center[0].shape: torch.Size([768]), device: cuda:0: 100%|█| 64/64 \n",
      "kmeans_init 8: 7, 64 - sse_min: 6.619364328682423,  sse: 6.619364328682423 - center[0].shape: torch.Size([768]), device: cuda:0: 100%|█| 64/64 \n"
     ]
    },
    {
     "name": "stdout",
     "output_type": "stream",
     "text": [
      "(8, 768)\n",
      "best_k:3\n",
      "best_clusters:[1 1 1 2 2 2 0 0 0 0 0 0 0 1 0 0 0 0 0 0 0 0 0 0 1 0 0 0 0 0 0 0 0 0 0 1 0\n",
      " 0 0 0 0 0 0 0 0 0 1 0 0 0 0 0 0 0 0 0 0 1 0 0 0 0 0 0]\n",
      "best_centers:(Length: 3)\n",
      "best_avg_sc:0.3486467984534798\n",
      "best_center_index:[30, 2, 5]\n",
      "2 0.9862406 30\n",
      "5 0.98948485 30\n",
      "[30]\n",
      "65 246\n",
      "(181, 768)\n",
      "13\n",
      "In the process of initializing the center\n"
     ]
    },
    {
     "name": "stderr",
     "output_type": "stream",
     "text": [
      "kmeans_init 13: 0, 181 - sse_min: 44.212074279785156,  sse: 44.212074279785156 - center[0].shape: torch.Size([768]), device: cuda:0: 100%|█| 18\n",
      "kmeans_init 13: 1, 181 - sse_min: 38.13691711425781,  sse: 38.13691711425781 - center[0].shape: torch.Size([768]), device: cuda:0: 100%|█| 181/\n",
      "kmeans_init 13: 2, 181 - sse_min: 32.35089874267578,  sse: 32.35089874267578 - center[0].shape: torch.Size([768]), device: cuda:0: 100%|█| 181/\n",
      "kmeans_init 13: 3, 181 - sse_min: 29.15636396408081,  sse: 29.15636396408081 - center[0].shape: torch.Size([768]), device: cuda:0: 100%|█| 181/\n",
      "kmeans_init 13: 4, 181 - sse_min: 26.756568908691406,  sse: 26.756568908691406 - center[0].shape: torch.Size([768]), device: cuda:0: 100%|█| 18\n",
      "kmeans_init 13: 5, 181 - sse_min: 25.25841784477234,  sse: 25.25841784477234 - center[0].shape: torch.Size([768]), device: cuda:0: 100%|█| 181/\n",
      "kmeans_init 13: 6, 181 - sse_min: 24.414128839969635,  sse: 24.414128839969635 - center[0].shape: torch.Size([768]), device: cuda:0: 100%|█| 18\n",
      "kmeans_init 13: 7, 181 - sse_min: 23.34648984670639,  sse: 23.34648984670639 - center[0].shape: torch.Size([768]), device: cuda:0: 100%|█| 181/\n",
      "kmeans_init 13: 8, 181 - sse_min: 22.318649470806122,  sse: 22.318649470806122 - center[0].shape: torch.Size([768]), device: cuda:0: 100%|█| 18\n",
      "kmeans_init 13: 9, 181 - sse_min: 21.276367604732513,  sse: 21.276367604732513 - center[0].shape: torch.Size([768]), device: cuda:0: 100%|█| 18\n",
      "kmeans_init 13: 10, 181 - sse_min: 20.46561759710312,  sse: 20.46561759710312 - center[0].shape: torch.Size([768]), device: cuda:0: 100%|█| 181\n",
      "kmeans_init 13: 11, 181 - sse_min: 19.71676927804947,  sse: 19.71676927804947 - center[0].shape: torch.Size([768]), device: cuda:0: 100%|█| 181\n",
      "kmeans_init 13: 12, 181 - sse_min: 19.026524424552917,  sse: 19.026524424552917 - center[0].shape: torch.Size([768]), device: cuda:0: 100%|█| 1\n"
     ]
    },
    {
     "name": "stdout",
     "output_type": "stream",
     "text": [
      "(13, 768)\n",
      "best_k:2\n",
      "best_clusters:[0 0 0 0 0 0 0 0 0 0 0 0 0 0 0 0 0 0 0 0 0 0 0 0 0 0 0 0 0 0 0 0 0 0 0 0 0\n",
      " 0 0 0 0 0 0 0 0 0 0 0 0 0 0 0 0 0 0 0 0 0 0 0 0 0 0 0 0 0 0 0 0 0 0 0 0 0\n",
      " 0 0 0 0 0 0 0 0 0 0 0 0 0 0 0 0 0 0 0 0 0 0 0 0 0 1 0 0 0 0 0 0 0 0 0 0 0\n",
      " 0 0 0 0 0 0 0 0 0 0 0 0 0 0 0 0 0 0 0 0 0 0 0 0 0 0 0 0 0 0 0 0 0 0 0 0 0\n",
      " 0 0 0 0 0 0 0 0 0 0 0 0 0 0 0 0 0 0 0 0 0 0 0 0 0 0 0 0 0 0 0 0 0]\n",
      "best_centers:(Length: 2)\n",
      "best_avg_sc:0.670533971867333\n",
      "best_center_index:[96, 99]\n",
      "164 0.9975157 161\n",
      "[161]\n",
      "247 247\n",
      "(0, 768)\n",
      "0\n",
      "In the process of initializing the center\n",
      "(0,)\n",
      "best_k:0\n",
      "best_clusters:None\n",
      "best_centers is None, cannot determine its length.\n",
      "best_avg_sc:-1\n",
      "best_center_index:None\n",
      "final_index：[30, 161, 0]\n",
      "save_frames:/mnt/ceph/develop/jiawei/lora_dataset/speech_data/B站//test_8/test_8-features-result-cuda/0.jpg\n",
      "save_frames:/mnt/ceph/develop/jiawei/lora_dataset/speech_data/B站//test_8/test_8-features-result-cuda/30.jpg\n",
      "save_frames:/mnt/ceph/develop/jiawei/lora_dataset/speech_data/B站//test_8/test_8-features-result-cuda/161.jpg\n",
      "scenes_path:/mnt/ceph/develop/jiawei/lora_dataset/speech_data/B站//test_9/test_9.mp4.scenes.txt\n",
      "features_path:/mnt/ceph/develop/jiawei/lora_dataset/speech_data/B站//test_9/keyframe-features/features.pkl\n",
      "video_path:/mnt/ceph/develop/jiawei/lora_dataset/speech_data/B站//test_9/test_9.mp4\n",
      "save_path:/mnt/ceph/develop/jiawei/lora_dataset/speech_data/B站//test_9/\n",
      "folder_path:test_9-features-result-cuda\n",
      "0 8\n",
      "\n",
      "['0', '8']\n",
      "9 279\n",
      "\n",
      "['9', '279']\n",
      "(279, 768)\n",
      "0 8\n",
      "(8, 768)\n",
      "2\n",
      "In the process of initializing the center\n"
     ]
    },
    {
     "name": "stderr",
     "output_type": "stream",
     "text": [
      "kmeans_init 2: 0, 8 - sse_min: 4.989898681640625,  sse: 4.989898681640625 - center[0].shape: torch.Size([768]), device: cuda:0: 100%|█| 8/8 [00\n",
      "kmeans_init 2: 1, 8 - sse_min: 1.050680011510849,  sse: 1.050680011510849 - center[0].shape: torch.Size([768]), device: cuda:0: 100%|█| 8/8 [00"
     ]
    },
    {
     "name": "stdout",
     "output_type": "stream",
     "text": [
      "(2, 768)\n",
      "best_k:2\n",
      "best_clusters:None\n",
      "best_centers is None, cannot determine its length.\n",
      "best_avg_sc:-1\n",
      "best_center_index:None\n",
      "final_index：[0]\n"
     ]
    },
    {
     "name": "stderr",
     "output_type": "stream",
     "text": [
      "\n"
     ]
    },
    {
     "name": "stdout",
     "output_type": "stream",
     "text": [
      "save_frames:/mnt/ceph/develop/jiawei/lora_dataset/speech_data/B站//test_9/test_9-features-result-cuda/0.jpg\n"
     ]
    }
   ],
   "source": [
    "import os\n",
    "\n",
    "root_path = '/mnt/ceph/develop/jiawei/lora_dataset/speech_data/B站/'\n",
    "for root, dirs, files in os.walk(root_path):\n",
    "    # 如果你只想获取下一层的子目录，可以在这里筛选\n",
    "    if root == root_path:\n",
    "        # root_dir 下的直接子目录就是 dirs 中的项\n",
    "        for dir in dirs:\n",
    "            k_means_keyframe(root_path,dir)\n",
    "    "
   ]
  },
  {
   "cell_type": "code",
   "execution_count": null,
   "id": "579a4c94-9b9a-4bf8-bc66-f7d0bd243b08",
   "metadata": {},
   "outputs": [],
   "source": []
  },
  {
   "cell_type": "code",
   "execution_count": null,
   "id": "903a5311-0b24-4d7b-9689-76d0502c2e34",
   "metadata": {},
   "outputs": [],
   "source": []
  },
  {
   "cell_type": "code",
   "execution_count": null,
   "id": "aef82979-1793-445d-b7ce-d8d9083b2817",
   "metadata": {},
   "outputs": [],
   "source": []
  },
  {
   "cell_type": "code",
   "execution_count": null,
   "id": "818655e1-540e-4ef4-b621-06efeba40222",
   "metadata": {},
   "outputs": [],
   "source": []
  }
 ],
 "metadata": {
  "kernelspec": {
   "display_name": "Python 3 (ipykernel)",
   "language": "python",
   "name": "python3"
  },
  "language_info": {
   "codemirror_mode": {
    "name": "ipython",
    "version": 3
   },
   "file_extension": ".py",
   "mimetype": "text/x-python",
   "name": "python",
   "nbconvert_exporter": "python",
   "pygments_lexer": "ipython3",
   "version": "3.10.14"
  }
 },
 "nbformat": 4,
 "nbformat_minor": 5
}
