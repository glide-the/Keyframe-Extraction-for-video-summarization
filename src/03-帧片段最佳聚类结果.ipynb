{
 "cells": [
  {
   "cell_type": "code",
   "execution_count": 1,
   "id": "8112c2fc-295a-40c1-805b-423a7934041e",
   "metadata": {},
   "outputs": [],
   "source": [
    "import sys\n",
    "sys.path.append('/mnt/ceph/develop/jiawei/lora_dataset/Keyframe-Extraction-for-video-summarization/src')\n",
    "\n",
    "from extraction.Keyframe_extraction import scen_keyframe_extraction"
   ]
  },
  {
   "cell_type": "code",
   "execution_count": 2,
   "id": "4fe780dc-4d19-4635-9969-7bea7a1cfb87",
   "metadata": {},
   "outputs": [],
   "source": [
    "def k_means_keyframe(root_path,video_source):\n",
    "    scenes_path=f'{root_path}/{video_source}/{video_source}.mp4.scenes.txt'\n",
    "    features_path=f'{root_path}/{video_source}/keyframe-features/features.pkl'\n",
    "    video_path=f'{root_path}/{video_source}/{video_source}.mp4'\n",
    "    save_path = f'{root_path}/{video_source}/'\n",
    "    folder_path=f'{video_source}-features-result-cuda'\n",
    "    print(f\"scenes_path:{scenes_path}\")\n",
    "    print(f\"features_path:{features_path}\")\n",
    "    print(f\"video_path:{video_path}\")\n",
    "    print(f\"save_path:{save_path}\")\n",
    "    print(f\"folder_path:{folder_path}\") \n",
    "    \n",
    "    \n",
    "    scen_keyframe_extraction(scenes_path=scenes_path,\n",
    "                            features_path=features_path,\n",
    "                            video_path=video_path,\n",
    "                            save_path=save_path,\n",
    "                            folder_path=folder_path)\n"
   ]
  },
  {
   "cell_type": "code",
   "execution_count": 4,
   "id": "cc949269-ed5c-458a-976f-e6b028c35d29",
   "metadata": {},
   "outputs": [
    {
     "name": "stdout",
     "output_type": "stream",
     "text": [
      "scenes_path:/mnt/ceph/develop/jiawei/lora_dataset/speech_data/B站//test1/test1.mp4.scenes.txt\n",
      "features_path:/mnt/ceph/develop/jiawei/lora_dataset/speech_data/B站//test1/keyframe-features/features.pkl\n",
      "video_path:/mnt/ceph/develop/jiawei/lora_dataset/speech_data/B站//test1/test1.mp4\n",
      "save_path:/mnt/ceph/develop/jiawei/lora_dataset/speech_data/B站//test1/\n",
      "folder_path:test1-features-result-cuda\n",
      "0 315\n",
      "\n",
      "['0', '315']\n",
      "(314, 768)\n",
      "0 315\n",
      "(314, 768)\n",
      "17\n",
      "In the process of initializing the center\n"
     ]
    },
    {
     "name": "stderr",
     "output_type": "stream",
     "text": [
      "kmeans_init 17: 0, 314 - sse_min: 69.41563415527344,  sse: 69.41563415527344 - center[0].shape: torch.Size([768]), device: cuda:0: 100%|██████████████████| 314/314 [00:01<00:00, 294.19it/s]\n",
      "kmeans_init 17: 1, 314 - sse_min: 47.587780237197876,  sse: 47.587780237197876 - center[0].shape: torch.Size([768]), device: cuda:0: 100%|███████████████| 314/314 [00:00<00:00, 1406.74it/s]\n",
      "kmeans_init 17: 2, 314 - sse_min: 45.56177735328674,  sse: 45.56177735328674 - center[0].shape: torch.Size([768]), device: cuda:0: 100%|█████████████████| 314/314 [00:00<00:00, 1870.24it/s]\n",
      "kmeans_init 17: 3, 314 - sse_min: 43.543757915496826,  sse: 43.543757915496826 - center[0].shape: torch.Size([768]), device: cuda:0: 100%|████████████████| 314/314 [00:01<00:00, 167.42it/s]\n",
      "kmeans_init 17: 4, 314 - sse_min: 41.89354395866394,  sse: 41.89354395866394 - center[0].shape: torch.Size([768]), device: cuda:0: 100%|███████████████████| 314/314 [00:08<00:00, 37.75it/s]\n",
      "kmeans_init 17: 5, 314 - sse_min: 40.33209729194641,  sse: 40.33209729194641 - center[0].shape: torch.Size([768]), device: cuda:0: 100%|███████████████████| 314/314 [00:04<00:00, 74.77it/s]\n",
      "kmeans_init 17: 6, 314 - sse_min: 38.84044432640076,  sse: 38.84044432640076 - center[0].shape: torch.Size([768]), device: cuda:0: 100%|█████████████████| 314/314 [00:00<00:00, 1099.97it/s]\n",
      "kmeans_init 17: 7, 314 - sse_min: 37.84646652638912,  sse: 37.84646652638912 - center[0].shape: torch.Size([768]), device: cuda:0: 100%|███████████████████| 314/314 [00:10<00:00, 31.04it/s]\n",
      "kmeans_init 17: 8, 314 - sse_min: 37.027381882071495,  sse: 37.027381882071495 - center[0].shape: torch.Size([768]), device: cuda:0: 100%|█████████████████| 314/314 [00:03<00:00, 81.05it/s]\n",
      "kmeans_init 17: 9, 314 - sse_min: 36.22541283071041,  sse: 36.22541283071041 - center[0].shape: torch.Size([768]), device: cuda:0: 100%|███████████████████| 314/314 [00:06<00:00, 49.69it/s]\n",
      "kmeans_init 17: 10, 314 - sse_min: 35.50478957593441,  sse: 35.50478957593441 - center[0].shape: torch.Size([768]), device: cuda:0: 100%|██████████████████| 314/314 [00:08<00:00, 38.29it/s]\n",
      "kmeans_init 17: 11, 314 - sse_min: 34.82310472428799,  sse: 34.82310472428799 - center[0].shape: torch.Size([768]), device: cuda:0: 100%|██████████████████| 314/314 [00:09<00:00, 34.01it/s]\n",
      "kmeans_init 17: 12, 314 - sse_min: 34.25347600877285,  sse: 34.25347600877285 - center[0].shape: torch.Size([768]), device: cuda:0: 100%|██████████████████| 314/314 [00:05<00:00, 62.62it/s]\n",
      "kmeans_init 17: 13, 314 - sse_min: 33.701411589980125,  sse: 33.701411589980125 - center[0].shape: torch.Size([768]), device: cuda:0: 100%|████████████████| 314/314 [00:14<00:00, 22.24it/s]\n",
      "kmeans_init 17: 14, 314 - sse_min: 33.17567743360996,  sse: 33.17567743360996 - center[0].shape: torch.Size([768]), device: cuda:0: 100%|█████████████████| 314/314 [00:01<00:00, 194.18it/s]\n",
      "kmeans_init 17: 15, 314 - sse_min: 32.65440268814564,  sse: 32.65440268814564 - center[0].shape: torch.Size([768]), device: cuda:0: 100%|██████████████████| 314/314 [00:13<00:00, 23.73it/s]\n",
      "kmeans_init 17: 16, 314 - sse_min: 32.14038057625294,  sse: 32.14038057625294 - center[0].shape: torch.Size([768]), device: cuda:0: 100%|██████████████████| 314/314 [00:14<00:00, 22.09it/s]\n"
     ]
    },
    {
     "name": "stdout",
     "output_type": "stream",
     "text": [
      "(17, 768)\n",
      "best_k:2\n",
      "best_clusters:[0 0 0 0 0 0 0 0 0 0 0 0 0 0 0 0 0 0 0 0 0 0 0 0 0 0 0 0 0 0 0 0 0 0 0 0 0\n",
      " 0 0 0 0 0 0 0 0 0 0 0 0 0 0 0 0 0 0 0 0 0 0 0 0 0 0 0 0 0 0 0 0 0 0 0 0 0\n",
      " 0 0 0 0 0 0 0 0 0 0 0 0 0 0 0 0 0 0 0 0 0 0 0 0 0 0 0 0 0 0 0 0 0 0 0 0 0\n",
      " 0 0 0 0 0 0 0 0 0 0 0 0 0 0 0 0 0 0 0 0 0 0 0 0 0 0 0 0 0 0 0 0 0 0 0 0 0\n",
      " 0 0 0 0 0 0 0 0 0 0 0 0 0 0 0 0 0 0 0 0 0 0 0 0 0 0 0 0 0 0 0 0 0 0 0 0 0\n",
      " 0 0 0 0 0 0 0 0 0 0 0 0 0 0 0 0 0 0 0 0 0 0 0 0 0 0 0 0 0 0 0 0 1 1 1 1 1\n",
      " 1 0 0 1 1 1 1 1 1 1 1 1 1 0 1 1 1 1 0 0 0 0 0 0 0 0 0 0 0 0 0 0 0 0 0 0 0\n",
      " 0 0 0 0 0 0 0 0 0 0 0 0 0 0 0 0 0 0 0 0 0 0 0 0 0 0 0 0 0 0 0 0 0 0 0 0 0\n",
      " 0 0 0 0 0 0 0 0 0 0 0 0 0 0 0 0 0 0]\n",
      "best_centers:(Length: 2)\n",
      "best_avg_sc:0.31451194078718603\n",
      "best_center_index:[122, 227]\n",
      "227 0.9908503 122\n",
      "[122]\n",
      "final_index：[122]\n",
      "scenes_path:/mnt/ceph/develop/jiawei/lora_dataset/speech_data/B站//test2/test2.mp4.scenes.txt\n",
      "features_path:/mnt/ceph/develop/jiawei/lora_dataset/speech_data/B站//test2/keyframe-features/features.pkl\n",
      "video_path:/mnt/ceph/develop/jiawei/lora_dataset/speech_data/B站//test2/test2.mp4\n",
      "save_path:/mnt/ceph/develop/jiawei/lora_dataset/speech_data/B站//test2/\n",
      "folder_path:test2-features-result-cuda\n",
      "0 81\n",
      "\n",
      "['0', '81']\n",
      "82 167\n",
      "\n",
      "['82', '167']\n",
      "168 196\n",
      "\n",
      "['168', '196']\n",
      "197 238\n",
      "\n",
      "['197', '238']\n",
      "239 293\n",
      "\n",
      "['239', '293']\n",
      "294 344\n",
      "\n",
      "['294', '344']\n",
      "345 487\n",
      "\n",
      "['345', '487']\n",
      "488 523\n",
      "\n",
      "['488', '523']\n",
      "(523, 768)\n",
      "0 81\n",
      "(81, 768)\n",
      "9\n",
      "In the process of initializing the center\n"
     ]
    },
    {
     "name": "stderr",
     "output_type": "stream",
     "text": [
      "kmeans_init 9: 0, 81 - sse_min: 53.05634307861328,  sse: 53.05634307861328 - center[0].shape: torch.Size([768]), device: cuda:0: 100%|██████████████████████| 81/81 [00:00<00:00, 201.22it/s]\n",
      "kmeans_init 9: 1, 81 - sse_min: 19.74156491458416,  sse: 19.74156491458416 - center[0].shape: torch.Size([768]), device: cuda:0: 100%|███████████████████████| 81/81 [00:00<00:00, 81.89it/s]\n",
      "kmeans_init 9: 2, 81 - sse_min: 19.624953866936266,  sse: 19.624953866936266 - center[0].shape: torch.Size([768]), device: cuda:0: 100%|█████████████████████| 81/81 [00:01<00:00, 59.24it/s]\n",
      "kmeans_init 9: 3, 81 - sse_min: 14.352284551598132,  sse: 14.352284551598132 - center[0].shape: torch.Size([768]), device: cuda:0: 100%|█████████████████████| 81/81 [00:01<00:00, 47.76it/s]\n",
      "kmeans_init 9: 4, 81 - sse_min: 12.254086137749255,  sse: 12.254086137749255 - center[0].shape: torch.Size([768]), device: cuda:0: 100%|███████████████████| 81/81 [00:00<00:00, 1423.91it/s]\n",
      "kmeans_init 9: 5, 81 - sse_min: 10.989166141487658,  sse: 10.989166141487658 - center[0].shape: torch.Size([768]), device: cuda:0: 100%|███████████████████| 81/81 [00:00<00:00, 1276.87it/s]\n",
      "kmeans_init 9: 6, 81 - sse_min: 9.815150500275195,  sse: 9.815150500275195 - center[0].shape: torch.Size([768]), device: cuda:0: 100%|█████████████████████| 81/81 [00:00<00:00, 1156.05it/s]\n",
      "kmeans_init 9: 7, 81 - sse_min: 8.997194410301745,  sse: 8.997194410301745 - center[0].shape: torch.Size([768]), device: cuda:0: 100%|█████████████████████| 81/81 [00:00<00:00, 1059.60it/s]\n",
      "kmeans_init 9: 8, 81 - sse_min: 8.281766534782946,  sse: 8.281766534782946 - center[0].shape: torch.Size([768]), device: cuda:0: 100%|██████████████████████| 81/81 [00:00<00:00, 964.56it/s]\n"
     ]
    },
    {
     "name": "stdout",
     "output_type": "stream",
     "text": [
      "(9, 768)\n",
      "best_k:4\n",
      "best_clusters:[1 1 1 2 2 2 2 2 2 2 2 2 2 1 2 2 2 2 2 2 2 0 0 0 1 0 0 0 0 0 3 3 3 0 0 1 0\n",
      " 0 0 0 0 0 0 0 0 0 1 0 0 0 0 0 0 0 0 0 0 1 0 0 0 0 0 0 0 0 0 0 1 0 0 0 0 0\n",
      " 0 0 3 3 3 1 3]\n",
      "best_centers:(Length: 4)\n",
      "best_avg_sc:0.6072727619105259\n",
      "best_center_index:[45, 79, 12, 78]\n",
      "79 0.9999999 45\n",
      "12 0.9999999 45\n",
      "78 0.9999999 45\n",
      "[45]\n",
      "82 167\n",
      "(85, 768)\n",
      "9\n",
      "In the process of initializing the center\n"
     ]
    },
    {
     "name": "stderr",
     "output_type": "stream",
     "text": [
      "kmeans_init 9: 0, 85 - sse_min: 50.934356689453125,  sse: 50.934356689453125 - center[0].shape: torch.Size([768]), device: cuda:0: 100%|███████████████████| 85/85 [00:00<00:00, 3456.86it/s]\n",
      "kmeans_init 9: 1, 85 - sse_min: 32.36224710941315,  sse: 32.36224710941315 - center[0].shape: torch.Size([768]), device: cuda:0: 100%|█████████████████████| 85/85 [00:00<00:00, 2249.61it/s]\n",
      "kmeans_init 9: 2, 85 - sse_min: 26.40609896183014,  sse: 26.40609896183014 - center[0].shape: torch.Size([768]), device: cuda:0: 100%|█████████████████████| 85/85 [00:00<00:00, 1886.47it/s]\n",
      "kmeans_init 9: 3, 85 - sse_min: 21.171720147132874,  sse: 21.171720147132874 - center[0].shape: torch.Size([768]), device: cuda:0: 100%|███████████████████| 85/85 [00:00<00:00, 1612.55it/s]\n",
      "kmeans_init 9: 4, 85 - sse_min: 16.956423630937934,  sse: 16.956423630937934 - center[0].shape: torch.Size([768]), device: cuda:0: 100%|███████████████████| 85/85 [00:00<00:00, 1416.31it/s]\n",
      "kmeans_init 9: 5, 85 - sse_min: 14.687606206163764,  sse: 14.687606206163764 - center[0].shape: torch.Size([768]), device: cuda:0: 100%|███████████████████| 85/85 [00:00<00:00, 1267.23it/s]\n",
      "kmeans_init 9: 6, 85 - sse_min: 12.398336162790656,  sse: 12.398336162790656 - center[0].shape: torch.Size([768]), device: cuda:0: 100%|███████████████████| 85/85 [00:00<00:00, 1148.92it/s]\n",
      "kmeans_init 9: 7, 85 - sse_min: 10.802615752443671,  sse: 10.802615752443671 - center[0].shape: torch.Size([768]), device: cuda:0: 100%|███████████████████| 85/85 [00:00<00:00, 1049.04it/s]\n",
      "kmeans_init 9: 8, 85 - sse_min: 10.109136691316962,  sse: 10.109136691316962 - center[0].shape: torch.Size([768]), device: cuda:0: 100%|████████████████████| 85/85 [00:00<00:00, 970.67it/s]\n"
     ]
    },
    {
     "name": "stdout",
     "output_type": "stream",
     "text": [
      "(9, 768)\n",
      "best_k:3\n",
      "best_clusters:[0 0 0 0 0 0 0 0 1 0 0 0 0 0 0 0 0 0 0 1 0 0 0 0 0 0 0 0 0 0 1 1 0 0 0 0 0\n",
      " 0 0 0 0 0 1 0 0 0 0 0 0 0 0 0 0 1 0 0 0 0 0 0 0 2 2 2 1 2 2 2 2 2 2 2 2 0\n",
      " 0 1 0 0 0 0 0 0 0 0 0]\n",
      "best_centers:(Length: 3)\n",
      "best_avg_sc:0.543353745593435\n",
      "best_center_index:[9, 31, 66]\n",
      "[91, 113, 148]\n",
      "168 196\n",
      "(28, 768)\n",
      "5\n",
      "In the process of initializing the center\n"
     ]
    },
    {
     "name": "stderr",
     "output_type": "stream",
     "text": [
      "kmeans_init 5: 0, 28 - sse_min: 18.36478614807129,  sse: 18.36478614807129 - center[0].shape: torch.Size([768]), device: cuda:0: 100%|█████████████████████| 28/28 [00:00<00:00, 3060.50it/s]\n",
      "kmeans_init 5: 1, 28 - sse_min: 3.5425837906077504,  sse: 3.5425837906077504 - center[0].shape: torch.Size([768]), device: cuda:0: 100%|███████████████████| 28/28 [00:00<00:00, 2115.66it/s]\n",
      "100%|██████████████████████████████████████████████████████████████████████████████████████████████████████████████████████████████████████████████████████| 28/28 [00:00<00:00, 1946.28it/s]\n",
      "100%|██████████████████████████████████████████████████████████████████████████████████████████████████████████████████████████████████████████████████████| 28/28 [00:00<00:00, 1701.44it/s]\n",
      "100%|██████████████████████████████████████████████████████████████████████████████████████████████████████████████████████████████████████████████████████| 28/28 [00:00<00:00, 1547.18it/s]\n"
     ]
    },
    {
     "name": "stdout",
     "output_type": "stream",
     "text": [
      "(5, 768)\n",
      "best_k:2\n",
      "best_clusters:[1 0 0 0 0 0 0 0 0 0 0 1 0 0 0 0 0 0 0 0 0 0 1 0 0 0 0 0]\n",
      "best_centers:(Length: 2)\n",
      "best_avg_sc:0.7922752650909963\n",
      "best_center_index:[9, 11]\n",
      "179 0.9942184 177\n",
      "[177]\n",
      "197 238\n",
      "(41, 768)\n",
      "6\n",
      "In the process of initializing the center\n"
     ]
    },
    {
     "name": "stderr",
     "output_type": "stream",
     "text": [
      "kmeans_init 6: 0, 41 - sse_min: 14.325273513793945,  sse: 14.325273513793945 - center[0].shape: torch.Size([768]), device: cuda:0: 100%|███████████████████| 41/41 [00:00<00:00, 3229.17it/s]\n",
      "100%|██████████████████████████████████████████████████████████████████████████████████████████████████████████████████████████████████████████████████████| 41/41 [00:00<00:00, 2260.13it/s]\n",
      "100%|██████████████████████████████████████████████████████████████████████████████████████████████████████████████████████████████████████████████████████| 41/41 [00:00<00:00, 1914.87it/s]\n",
      "100%|██████████████████████████████████████████████████████████████████████████████████████████████████████████████████████████████████████████████████████| 41/41 [00:00<00:00, 1672.24it/s]\n",
      "100%|██████████████████████████████████████████████████████████████████████████████████████████████████████████████████████████████████████████████████████| 41/41 [00:00<00:00, 1486.69it/s]\n",
      "100%|██████████████████████████████████████████████████████████████████████████████████████████████████████████████████████████████████████████████████████| 41/41 [00:00<00:00, 1353.42it/s]\n"
     ]
    },
    {
     "name": "stdout",
     "output_type": "stream",
     "text": [
      "(6, 768)\n",
      "best_k:2\n",
      "best_clusters:[0 0 0 0 1 0 0 0 0 0 0 0 0 0 0 1 0 0 0 0 0 0 0 0 0 0 1 1 0 0 0 0 0 0 0 0 0\n",
      " 0 1 0 0]\n",
      "best_centers:(Length: 2)\n",
      "best_avg_sc:0.5929896603222206\n",
      "best_center_index:[0, 15]\n",
      "[197, 212]\n",
      "239 293\n",
      "(54, 768)\n",
      "7\n",
      "In the process of initializing the center\n"
     ]
    },
    {
     "name": "stderr",
     "output_type": "stream",
     "text": [
      "kmeans_init 7: 0, 54 - sse_min: 22.793827056884766,  sse: 22.793827056884766 - center[0].shape: torch.Size([768]), device: cuda:0: 100%|███████████████████| 54/54 [00:00<00:00, 3317.50it/s]\n",
      "kmeans_init 7: 1, 54 - sse_min: 20.804296493530273,  sse: 20.804296493530273 - center[0].shape: torch.Size([768]), device: cuda:0: 100%|███████████████████| 54/54 [00:00<00:00, 2208.30it/s]\n",
      "kmeans_init 7: 2, 54 - sse_min: 9.961671590805054,  sse: 9.961671590805054 - center[0].shape: torch.Size([768]), device: cuda:0: 100%|█████████████████████| 54/54 [00:00<00:00, 1893.01it/s]\n",
      "kmeans_init 7: 3, 54 - sse_min: 6.381668818183243,  sse: 6.381668818183243 - center[0].shape: torch.Size([768]), device: cuda:0: 100%|█████████████████████| 54/54 [00:00<00:00, 1636.93it/s]\n",
      "kmeans_init 7: 4, 54 - sse_min: 6.1758130909875035,  sse: 6.1758130909875035 - center[0].shape: torch.Size([768]), device: cuda:0: 100%|███████████████████| 54/54 [00:00<00:00, 1427.79it/s]\n",
      "kmeans_init 7: 5, 54 - sse_min: 5.346682501025498,  sse: 5.346682501025498 - center[0].shape: torch.Size([768]), device: cuda:0: 100%|█████████████████████| 54/54 [00:00<00:00, 1301.96it/s]\n",
      "kmeans_init 7: 6, 54 - sse_min: 4.926055324263871,  sse: 4.926055324263871 - center[0].shape: torch.Size([768]), device: cuda:0: 100%|█████████████████████| 54/54 [00:00<00:00, 1187.22it/s]\n"
     ]
    },
    {
     "name": "stdout",
     "output_type": "stream",
     "text": [
      "(7, 768)\n",
      "best_k:3\n",
      "best_clusters:[0 0 0 0 0 0 0 2 0 0 0 0 0 0 0 0 0 0 2 0 0 0 0 0 0 0 0 0 0 2 0 0 0 0 1 1 1\n",
      " 1 1 1 2 1 1 1 1 1 1 1 1 1 1 2 1 1]\n",
      "best_centers:(Length: 3)\n",
      "best_avg_sc:0.7759347724507413\n",
      "best_center_index:[9, 47, 51]\n",
      "286 0.9927011 248\n",
      "290 0.98615885 248\n",
      "[248]\n",
      "294 344\n",
      "(50, 768)\n",
      "7\n",
      "In the process of initializing the center\n"
     ]
    },
    {
     "name": "stderr",
     "output_type": "stream",
     "text": [
      "kmeans_init 7: 0, 50 - sse_min: 16.337352752685547,  sse: 16.337352752685547 - center[0].shape: torch.Size([768]), device: cuda:0: 100%|███████████████████| 50/50 [00:00<00:00, 3219.60it/s]\n",
      "kmeans_init 7: 1, 50 - sse_min: 15.315810203552246,  sse: 15.315810203552246 - center[0].shape: torch.Size([768]), device: cuda:0: 100%|███████████████████| 50/50 [00:00<00:00, 2182.87it/s]\n",
      "kmeans_init 7: 2, 50 - sse_min: 11.262433767318726,  sse: 11.262433767318726 - center[0].shape: torch.Size([768]), device: cuda:0: 100%|███████████████████| 50/50 [00:00<00:00, 1869.55it/s]\n",
      "kmeans_init 7: 3, 50 - sse_min: 7.651859601959586,  sse: 7.651859601959586 - center[0].shape: torch.Size([768]), device: cuda:0: 100%|█████████████████████| 50/50 [00:00<00:00, 1619.82it/s]\n",
      "kmeans_init 7: 4, 50 - sse_min: 6.345417818054557,  sse: 6.345417818054557 - center[0].shape: torch.Size([768]), device: cuda:0: 100%|█████████████████████| 50/50 [00:00<00:00, 1433.78it/s]\n",
      "kmeans_init 7: 5, 50 - sse_min: 5.676431765779853,  sse: 5.676431765779853 - center[0].shape: torch.Size([768]), device: cuda:0: 100%|█████████████████████| 50/50 [00:00<00:00, 1296.64it/s]\n",
      "kmeans_init 7: 6, 50 - sse_min: 5.143075605854392,  sse: 5.143075605854392 - center[0].shape: torch.Size([768]), device: cuda:0: 100%|█████████████████████| 50/50 [00:00<00:00, 1189.79it/s]\n"
     ]
    },
    {
     "name": "stdout",
     "output_type": "stream",
     "text": [
      "(7, 768)\n",
      "best_k:4\n",
      "best_clusters:[0 0 0 0 0 0 0 2 0 0 0 0 0 0 0 0 0 0 2 0 0 0 0 0 0 0 0 0 0 2 0 0 0 0 0 0 0\n",
      " 0 0 3 2 2 3 1 1 1 1 1 1 1]\n",
      "best_centers:(Length: 4)\n",
      "best_avg_sc:0.7573340301505561\n",
      "best_center_index:[13, 45, 41, 39]\n",
      "339 0.96914303 307\n",
      "335 0.98370963 307\n",
      "333 0.9845108 307\n",
      "[307]\n",
      "345 487\n",
      "(142, 768)\n",
      "11\n",
      "In the process of initializing the center\n"
     ]
    },
    {
     "name": "stderr",
     "output_type": "stream",
     "text": [
      "kmeans_init 11: 0, 142 - sse_min: 52.095787048339844,  sse: 52.095787048339844 - center[0].shape: torch.Size([768]), device: cuda:0: 100%|███████████████| 142/142 [00:00<00:00, 3640.93it/s]\n",
      "kmeans_init 11: 1, 142 - sse_min: 48.24959659576416,  sse: 48.24959659576416 - center[0].shape: torch.Size([768]), device: cuda:0: 100%|█████████████████| 142/142 [00:00<00:00, 2288.62it/s]\n",
      "kmeans_init 11: 2, 142 - sse_min: 27.439500719308853,  sse: 27.439500719308853 - center[0].shape: torch.Size([768]), device: cuda:0: 100%|███████████████| 142/142 [00:00<00:00, 1909.91it/s]\n",
      "kmeans_init 11: 3, 142 - sse_min: 14.868305116891861,  sse: 14.868305116891861 - center[0].shape: torch.Size([768]), device: cuda:0: 100%|███████████████| 142/142 [00:00<00:00, 1628.62it/s]\n",
      "kmeans_init 11: 4, 142 - sse_min: 14.214232236146927,  sse: 14.214232236146927 - center[0].shape: torch.Size([768]), device: cuda:0: 100%|███████████████| 142/142 [00:00<00:00, 1414.74it/s]\n",
      "kmeans_init 11: 5, 142 - sse_min: 13.185057014226913,  sse: 13.185057014226913 - center[0].shape: torch.Size([768]), device: cuda:0: 100%|███████████████| 142/142 [00:00<00:00, 1257.93it/s]\n",
      "kmeans_init 11: 6, 142 - sse_min: 12.32837462425232,  sse: 12.32837462425232 - center[0].shape: torch.Size([768]), device: cuda:0: 100%|█████████████████| 142/142 [00:00<00:00, 1111.91it/s]\n",
      "kmeans_init 11: 7, 142 - sse_min: 11.629466474056244,  sse: 11.629466474056244 - center[0].shape: torch.Size([768]), device: cuda:0: 100%|███████████████| 142/142 [00:00<00:00, 1025.76it/s]\n",
      "kmeans_init 11: 8, 142 - sse_min: 10.975555837154388,  sse: 10.975555837154388 - center[0].shape: torch.Size([768]), device: cuda:0: 100%|████████████████| 142/142 [00:00<00:00, 945.19it/s]\n",
      "kmeans_init 11: 9, 142 - sse_min: 10.323297679424286,  sse: 10.323297679424286 - center[0].shape: torch.Size([768]), device: cuda:0: 100%|████████████████| 142/142 [00:00<00:00, 877.58it/s]\n",
      "kmeans_init 11: 10, 142 - sse_min: 9.79571783542633,  sse: 9.79571783542633 - center[0].shape: torch.Size([768]), device: cuda:0: 100%|███████████████████| 142/142 [00:00<00:00, 817.44it/s]\n"
     ]
    },
    {
     "name": "stdout",
     "output_type": "stream",
     "text": [
      "(11, 768)\n",
      "best_k:4\n",
      "best_clusters:[0 1 0 0 0 0 0 0 0 0 0 0 1 0 0 0 0 0 0 0 0 0 0 1 0 0 0 0 0 0 0 0 0 0 1 0 0\n",
      " 0 0 0 0 0 0 0 0 1 0 0 0 0 0 0 0 0 0 0 1 0 0 0 0 0 0 0 0 0 0 1 0 0 0 0 0 0\n",
      " 0 0 0 0 1 0 0 0 0 0 0 0 3 2 2 1 2 2 2 2 2 2 2 2 2 2 1 1 2 2 2 2 2 2 2 2 2\n",
      " 2 1 2 2 2 2 2 2 2 2 2 2 1 2 2 2 1 1 1 1 1 1 1 1 1 1 1 1 1 1 1]\n",
      "best_centers:(Length: 4)\n",
      "best_avg_sc:0.7164006498618052\n",
      "best_center_index:[62, 131, 103, 86]\n",
      "476 0.9645824 407\n",
      "448 0.95367324 407\n",
      "431 0.9916285 407\n",
      "[407]\n",
      "488 523\n",
      "(35, 768)\n",
      "5\n",
      "In the process of initializing the center\n"
     ]
    },
    {
     "name": "stderr",
     "output_type": "stream",
     "text": [
      "kmeans_init 5: 0, 35 - sse_min: 14.225439071655273,  sse: 14.225439071655273 - center[0].shape: torch.Size([768]), device: cuda:0: 100%|███████████████████| 35/35 [00:00<00:00, 3186.54it/s]\n",
      "kmeans_init 5: 1, 35 - sse_min: 14.213634170591831,  sse: 14.213634170591831 - center[0].shape: torch.Size([768]), device: cuda:0: 100%|███████████████████| 35/35 [00:00<00:00, 2116.53it/s]\n",
      "kmeans_init 5: 2, 35 - sse_min: 2.494511716067791,  sse: 2.494511716067791 - center[0].shape: torch.Size([768]), device: cuda:0: 100%|█████████████████████| 35/35 [00:00<00:00, 1827.06it/s]\n",
      "kmeans_init 5: 3, 35 - sse_min: 1.6228068247437477,  sse: 1.6228068247437477 - center[0].shape: torch.Size([768]), device: cuda:0: 100%|███████████████████| 35/35 [00:00<00:00, 1594.22it/s]\n",
      "kmeans_init 5: 4, 35 - sse_min: 1.1715255305171013,  sse: 1.1715255305171013 - center[0].shape: torch.Size([768]), device: cuda:0: 100%|███████████████████| 35/35 [00:00<00:00, 1431.66it/s]"
     ]
    },
    {
     "name": "stdout",
     "output_type": "stream",
     "text": [
      "(5, 768)\n",
      "best_k:2\n",
      "best_clusters:[0 0 0 0 0 0 0 0 0 0 0 0 0 0 0 1 1 1 1 1 1 1 1 1 0 1 1 1 1 1 1 1 1 1 1]\n",
      "best_centers:(Length: 2)\n",
      "best_avg_sc:0.8867894648686249\n",
      "best_center_index:[8, 25]\n"
     ]
    },
    {
     "name": "stderr",
     "output_type": "stream",
     "text": [
      "\n"
     ]
    },
    {
     "name": "stdout",
     "output_type": "stream",
     "text": [
      "513 0.97004026 496\n",
      "[496]\n",
      "final_index：[45, 91, 113, 148, 177, 197, 212, 248, 307, 407, 496]\n"
     ]
    }
   ],
   "source": [
    "import os\n",
    "\n",
    "root_path = '/mnt/ceph/develop/jiawei/lora_dataset/speech_data/B站/'\n",
    "for root, dirs, files in os.walk(root_path):\n",
    "    # 如果你只想获取下一层的子目录，可以在这里筛选\n",
    "    if root == root_path:\n",
    "        # root_dir 下的直接子目录就是 dirs 中的项\n",
    "        for dir in dirs:\n",
    "            k_means_keyframe(root_path,dir)\n",
    "    "
   ]
  },
  {
   "cell_type": "code",
   "execution_count": null,
   "id": "579a4c94-9b9a-4bf8-bc66-f7d0bd243b08",
   "metadata": {},
   "outputs": [],
   "source": []
  },
  {
   "cell_type": "code",
   "execution_count": null,
   "id": "903a5311-0b24-4d7b-9689-76d0502c2e34",
   "metadata": {},
   "outputs": [],
   "source": []
  },
  {
   "cell_type": "code",
   "execution_count": null,
   "id": "aef82979-1793-445d-b7ce-d8d9083b2817",
   "metadata": {},
   "outputs": [],
   "source": []
  },
  {
   "cell_type": "code",
   "execution_count": null,
   "id": "818655e1-540e-4ef4-b621-06efeba40222",
   "metadata": {},
   "outputs": [],
   "source": []
  }
 ],
 "metadata": {
  "kernelspec": {
   "display_name": "Python 3 (ipykernel)",
   "language": "python",
   "name": "python3"
  },
  "language_info": {
   "codemirror_mode": {
    "name": "ipython",
    "version": 3
   },
   "file_extension": ".py",
   "mimetype": "text/x-python",
   "name": "python",
   "nbconvert_exporter": "python",
   "pygments_lexer": "ipython3",
   "version": "3.10.14"
  }
 },
 "nbformat": 4,
 "nbformat_minor": 5
}
