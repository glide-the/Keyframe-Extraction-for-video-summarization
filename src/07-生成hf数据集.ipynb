{
 "cells": [
  {
   "cell_type": "code",
   "execution_count": 17,
   "id": "a9446291-5dd7-408b-8a2d-a888c4bb7df2",
   "metadata": {},
   "outputs": [],
   "source": [
    "import shutil\n",
    "import os\n",
    "\n",
    "def check_output_folder(output_folder):\n",
    "    if not os.path.isdir(output_folder):\n",
    "        print('warning: the folder{} is not exist'.format(output_folder))\n",
    "        # create srt_folder\n",
    "        os.makedirs(output_folder)\n",
    "        print('create folder', output_folder)\n",
    "\n",
    "def load_file_by_extension(file_dir, extension):\n",
    "    L = []\n",
    "    for root, dirs, files in os.walk(file_dir):\n",
    "        for file in files:\n",
    "            if os.path.splitext(file)[1] == f'.{extension}':  \n",
    "                L.append(file) \n",
    "        return L \n",
    "\n",
    "def video_dataset_sat_to_hf(root_path, video_source, output_dir):\n",
    "    save_path = f'{root_path}/{video_source}/' \n",
    "  \n",
    "    videos_output_dir = f'{save_path}/scene_chunks/videos'\n",
    "    labels_output_dir = f'{save_path}/scene_chunks/labels'\n",
    "    videos_files = load_file_by_extension(videos_output_dir, 'mp4')\n",
    "    labels_files = load_file_by_extension(labels_output_dir, 'txt')\n",
    "\n",
    "    print(f\"load videos_files: {len(videos_files)}\")\n",
    "\n",
    "    prompts_file = f'{output_dir}/prompts.txt'\n",
    "    videos_file = f'{output_dir}/videos.txt'\n",
    "\n",
    "    instance_videos = []\n",
    "    instance_prompts = []\n",
    "\n",
    "    for i, filename in enumerate(videos_files):\n",
    "        video_path = f'{videos_output_dir}/{filename}' \n",
    "        label_filename = os.path.splitext(filename)[0] + '.txt'\n",
    "        label_path = f'{labels_output_dir}/{label_filename}'\n",
    "\n",
    "        if os.path.exists(video_path) and os.path.exists(label_path):\n",
    "            # Copy video to output directory\n",
    "            output_video_path = f'{output_dir}/{filename}' \n",
    "            shutil.copy(video_path, output_video_path)\n",
    "            instance_videos.append(filename)\n",
    "\n",
    "            # Read and append prompt\n",
    "            with open(label_path, \"r\", encoding=\"utf-8\") as file:\n",
    "                instance_prompts.extend([line.strip() for line in file.readlines() if len(line.strip()) > 0])\n",
    "\n",
    "    # Write instance_videos to videos_file\n",
    "    with open(videos_file, \"w\", encoding=\"utf-8\") as vf:\n",
    "        for video in instance_videos:\n",
    "            vf.write(video + '\\n')\n",
    "\n",
    "    # Write instance_prompts to prompts_file\n",
    "    with open(prompts_file, \"w\", encoding=\"utf-8\") as pf:\n",
    "        for prompt in instance_prompts:\n",
    "            pf.write(prompt + '\\n')\n",
    "\n",
    "    print(f\"Copied {len(instance_videos)} videos and saved corresponding prompts.\")\n"
   ]
  },
  {
   "cell_type": "code",
   "execution_count": 18,
   "id": "db1bacf7-4ab1-408a-98c0-39ed2cf03542",
   "metadata": {
    "scrolled": true
   },
   "outputs": [
    {
     "name": "stdout",
     "output_type": "stream",
     "text": [
      "load videos_files: 78\n",
      "Copied 28 videos and saved corresponding prompts.\n"
     ]
    }
   ],
   "source": [
    "\n",
    " \n",
    "dir_put = '/mnt/ceph/develop/jiawei/lora_dataset/hf_cogvideo_lora_dataset'\n",
    "root_path = '/mnt/ceph/develop/jiawei/lora_dataset/speech_data/B站/'\n",
    "check_output_folder(dir_put)\n",
    "video_dataset_sat_to_hf(root_path, 'test_1',dir_put )"
   ]
  },
  {
   "cell_type": "code",
   "execution_count": null,
   "id": "d40bde67-c72c-4a90-b373-32dae1636f03",
   "metadata": {},
   "outputs": [],
   "source": []
  },
  {
   "cell_type": "code",
   "execution_count": null,
   "id": "92a13a27-9861-4868-bccf-13802e35c58b",
   "metadata": {},
   "outputs": [],
   "source": []
  }
 ],
 "metadata": {
  "kernelspec": {
   "display_name": "Python 3 (ipykernel)",
   "language": "python",
   "name": "python3"
  },
  "language_info": {
   "codemirror_mode": {
    "name": "ipython",
    "version": 3
   },
   "file_extension": ".py",
   "mimetype": "text/x-python",
   "name": "python",
   "nbconvert_exporter": "python",
   "pygments_lexer": "ipython3",
   "version": "3.10.14"
  }
 },
 "nbformat": 4,
 "nbformat_minor": 5
}
