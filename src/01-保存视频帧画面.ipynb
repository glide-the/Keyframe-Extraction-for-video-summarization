{
 "cells": [
  {
   "cell_type": "code",
   "execution_count": 2,
   "id": "1b323ea5-219d-4103-83d6-81f9eb7f9c14",
   "metadata": {},
   "outputs": [],
   "source": [
    "import sys\n",
    "sys.path.append('/media/gpt4-pdf-chatbot-langchain/Keyframe-Extraction-for-video-summarization/src')\n",
    "\n",
    "from scripts.save_keyframe import save_frames\n"
   ]
  },
  {
   "cell_type": "code",
   "execution_count": 34,
   "id": "e0ab0199-9da0-4735-aa5f-08a781ab6562",
   "metadata": {},
   "outputs": [
    {
     "name": "stdout",
     "output_type": "stream",
     "text": [
      "[(0, 208)]\n"
     ]
    }
   ],
   "source": [
    "# 打开文件并读取内容\n",
    "with open('/media/checkpoint/speech_data/抖音作品/ieDRHjmD/ieDRHjmD.mp4.scenes.txt', 'r') as file:\n",
    "    lines = file.readlines()\n",
    "\n",
    "# 初始化一个空的Python数组\n",
    "result = []\n",
    "\n",
    "# 循环遍历文件中的每一行\n",
    "for line in lines:\n",
    "    # 分割每行的内容，并将其转换为整数\n",
    "    start, end = map(int, line.split())\n",
    "    \n",
    "    # 创建一个包含开始帧和结束帧的元组，并添加到结果数组中\n",
    "    result.append((start, end))\n",
    "\n",
    "# 打印结果数组\n",
    "print(result)\n"
   ]
  },
  {
   "cell_type": "code",
   "execution_count": 35,
   "id": "5ac0d74f-465d-44fc-984e-d209c0be9c3a",
   "metadata": {},
   "outputs": [],
   "source": [
    "keyframe_indexes = [item[0] for item in result]\n",
    "video_path='/media/checkpoint/speech_data/抖音作品/ieDRHjmD/ieDRHjmD.mp4'\n",
    "save_path = '/media/checkpoint/speech_data/抖音作品/ieDRHjmD/'\n",
    "folder_name='keyframe'\n",
    "save_frames(keyframe_indexes=keyframe_indexes,video_path=video_path,save_path=save_path,folder_name=folder_name)"
   ]
  },
  {
   "cell_type": "code",
   "execution_count": 36,
   "id": "d901d09e-5c25-485a-a1c0-94c0422cde42",
   "metadata": {},
   "outputs": [],
   "source": [
    "\n",
    "## 保存所有帧\n",
    "\n",
    "keyframe_all_indexes = []\n",
    "\n",
    "for start, end in result:\n",
    "    keyframe_all_indexes.extend(range(start, end + 1))\n",
    "\n",
    "\n",
    "\n",
    "folder_name='keyframe-features'\n",
    "save_frames(keyframe_indexes=keyframe_all_indexes,video_path=video_path,save_path=save_path,folder_name=folder_name)"
   ]
  },
  {
   "cell_type": "code",
   "execution_count": null,
   "id": "0c73477b-4f7f-4eeb-b8be-0a492d3103dd",
   "metadata": {},
   "outputs": [],
   "source": []
  }
 ],
 "metadata": {
  "kernelspec": {
   "display_name": "Python 3 (ipykernel)",
   "language": "python",
   "name": "python3"
  },
  "language_info": {
   "codemirror_mode": {
    "name": "ipython",
    "version": 3
   },
   "file_extension": ".py",
   "mimetype": "text/x-python",
   "name": "python",
   "nbconvert_exporter": "python",
   "pygments_lexer": "ipython3",
   "version": "3.9.17"
  }
 },
 "nbformat": 4,
 "nbformat_minor": 5
}
