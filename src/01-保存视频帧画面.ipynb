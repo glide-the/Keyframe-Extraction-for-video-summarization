{
 "cells": [
  {
   "cell_type": "code",
   "execution_count": 2,
   "id": "1b323ea5-219d-4103-83d6-81f9eb7f9c14",
   "metadata": {},
   "outputs": [],
   "source": [
    "import sys\n",
    "sys.path.append('/mnt/ceph/develop/jiawei/lora_dataset/Keyframe-Extraction-for-video-summarization/src')\n",
    "\n",
    "from scripts.save_keyframe import save_frames\n"
   ]
  },
  {
   "cell_type": "code",
   "execution_count": 3,
   "id": "e0ab0199-9da0-4735-aa5f-08a781ab6562",
   "metadata": {},
   "outputs": [],
   "source": [
    "\n",
    "def import_save_keyframe(scenes_file, video_path, save_path):\n",
    "    # 打开文件并读取内容\n",
    "    with open(scenes_file, 'r') as file:\n",
    "        lines = file.readlines()\n",
    "    \n",
    "    # 初始化一个空的Python数组\n",
    "    result = []\n",
    "    \n",
    "    # 循环遍历文件中的每一行\n",
    "    for line in lines:\n",
    "        # 分割每行的内容，并将其转换为整数\n",
    "        start, end = map(int, line.split())\n",
    "        \n",
    "        # 创建一个包含开始帧和结束帧的元组，并添加到结果数组中\n",
    "        result.append((start, end))\n",
    "    \n",
    "    # 打印结果数组\n",
    "    print(result)\n",
    "    keyframe_indexes = [item[0] for item in result]\n",
    "    folder_name='keyframe'\n",
    "    save_frames(keyframe_indexes=keyframe_indexes,video_path=video_path,save_path=save_path,folder_name=folder_name)\n",
    "\n",
    "\n",
    "    ## 保存所有帧\n",
    "    keyframe_all_indexes = []\n",
    "    \n",
    "    for start, end in result:\n",
    "        keyframe_all_indexes.extend(range(start, end + 1))\n",
    "    \n",
    "    \n",
    "    \n",
    "    folder_name='keyframe-features'\n",
    "    save_frames(keyframe_indexes=keyframe_all_indexes,video_path=video_path,save_path=save_path,folder_name=folder_name)"
   ]
  },
  {
   "cell_type": "code",
   "execution_count": 4,
   "id": "bb8de787-5bf5-4e1c-9bbb-4303285cff34",
   "metadata": {
    "scrolled": true
   },
   "outputs": [
    {
     "name": "stdout",
     "output_type": "stream",
     "text": [
      "[(0, 65), (66, 133), (134, 197), (198, 270), (271, 346), (347, 410), (411, 472), (473, 520), (521, 591), (592, 722), (723, 757), (758, 992), (993, 1175), (1176, 1334), (1335, 1365), (1366, 1690), (1691, 1696), (1697, 1758), (1759, 1959), (1960, 2053), (2054, 2183), (2184, 2389), (2390, 2567), (2568, 2686), (2687, 2865), (2866, 2915), (2916, 3098), (3099, 3106), (3107, 3226), (3227, 3351), (3352, 3364), (3365, 3482), (3483, 3576), (3577, 3684), (3685, 3782), (3783, 3894), (3895, 4010), (4011, 4021), (4022, 4104), (4105, 4151), (4152, 4225), (4226, 4284), (4285, 4294), (4295, 4419), (4420, 4425), (4426, 4566), (4567, 4653), (4654, 4714), (4715, 4772), (4773, 4827), (4828, 4883), (4884, 4930), (4931, 4970), (4971, 5009), (5010, 5052), (5053, 5093), (5094, 5226), (5227, 5294), (5295, 5377)]\n",
      "[(0, 315)]\n",
      "[(0, 8), (10, 298)]\n",
      "[(0, 59), (60, 112), (113, 165), (166, 219), (220, 388)]\n",
      "[(0, 57), (58, 115), (116, 178), (179, 240)]\n",
      "[(0, 93), (94, 161), (162, 168)]\n",
      "[(0, 89), (90, 226)]\n",
      "[(0, 8), (10, 107), (108, 172), (173, 230), (231, 351), (352, 409), (410, 461), (462, 528), (529, 586), (587, 711), (712, 719)]\n",
      "[(0, 283)]\n",
      "[(0, 54), (55, 106), (107, 224), (225, 311)]\n",
      "[(0, 30), (31, 189), (190, 194)]\n",
      "[(0, 62), (63, 262)]\n",
      "[(0, 95), (96, 133), (134, 170), (171, 199), (200, 232), (233, 275), (276, 280)]\n",
      "[(0, 106), (107, 206)]\n",
      "[(0, 81), (82, 167), (168, 196), (197, 238), (239, 293), (294, 344), (345, 487), (488, 523)]\n",
      "[(0, 276)]\n",
      "[(0, 84), (85, 104), (105, 205), (206, 267)]\n",
      "[(0, 143), (144, 323)]\n",
      "[(0, 283), (284, 303)]\n",
      "[(0, 382)]\n",
      "[(0, 223), (224, 277), (278, 278)]\n",
      "[(0, 46), (47, 68), (69, 90), (91, 157), (158, 180), (181, 203), (204, 226)]\n",
      "[(0, 91), (92, 163), (164, 251), (252, 314)]\n",
      "[(0, 78), (79, 162), (163, 277)]\n",
      "[(0, 66), (67, 123), (124, 189), (190, 235)]\n",
      "[(0, 514), (515, 579)]\n",
      "[(0, 10), (13, 296)]\n",
      "[(0, 64), (65, 246), (247, 247)]\n",
      "[(0, 8), (9, 279)]\n"
     ]
    }
   ],
   "source": [
    "import os\n",
    "\n",
    "root_path = '/mnt/ceph/develop/jiawei/lora_dataset/speech_data/B站/'\n",
    "for root, dirs, files in os.walk(root_path):\n",
    "    # 如果你只想获取下一层的子目录，可以在这里筛选\n",
    "    if root == root_path:\n",
    "        # root_dir 下的直接子目录就是 dirs 中的项\n",
    "        for dir in dirs:\n",
    "            scenes_file=f'{root_path}/{dir}/{dir}.mp4.scenes.txt'\n",
    "            save_path=f'{root_path}/{dir}'\n",
    "            video_path=f'{root_path}/{dir}/{dir}.mp4'\n",
    "                        \n",
    "            import_save_keyframe(scenes_file,video_path, save_path)\n",
    "    "
   ]
  },
  {
   "cell_type": "code",
   "execution_count": null,
   "id": "fd4d16ac-b4a9-4c74-86a4-d9b536c2815e",
   "metadata": {},
   "outputs": [],
   "source": []
  },
  {
   "cell_type": "code",
   "execution_count": null,
   "id": "9617ae1a-d077-40cb-8a24-1fc5b0015303",
   "metadata": {},
   "outputs": [],
   "source": []
  }
 ],
 "metadata": {
  "kernelspec": {
   "display_name": "Python 3 (ipykernel)",
   "language": "python",
   "name": "python3"
  },
  "language_info": {
   "codemirror_mode": {
    "name": "ipython",
    "version": 3
   },
   "file_extension": ".py",
   "mimetype": "text/x-python",
   "name": "python",
   "nbconvert_exporter": "python",
   "pygments_lexer": "ipython3",
   "version": "3.10.14"
  }
 },
 "nbformat": 4,
 "nbformat_minor": 5
}
