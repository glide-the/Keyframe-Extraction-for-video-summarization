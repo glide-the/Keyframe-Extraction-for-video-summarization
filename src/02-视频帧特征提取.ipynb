{
 "cells": [
  {
   "cell_type": "code",
   "execution_count": 1,
   "id": "57ffa71c-27ab-4cc1-b075-134c365576b1",
   "metadata": {
    "scrolled": true
   },
   "outputs": [
    {
     "name": "stderr",
     "output_type": "stream",
     "text": [
      "2024-09-06 16:04:07,646 - modelscope - INFO - PyTorch version 2.0.1 Found.\n",
      "2024-09-06 16:04:07,654 - modelscope - INFO - TensorFlow version 2.10.0 Found.\n",
      "2024-09-06 16:04:07,654 - modelscope - INFO - Loading ast index from /root/.cache/modelscope/ast_indexer\n",
      "2024-09-06 16:04:07,655 - modelscope - INFO - No valid ast index found from /root/.cache/modelscope/ast_indexer, generating ast index from prebuilt!\n",
      "2024-09-06 16:04:08,232 - modelscope - INFO - Loading done! Current index file version is 1.9.0, with md5 3ae4a87b5b825f0b5b0b7ccf0da4baad and a total number of 921 components indexed\n",
      "2024-09-06 16:04:08,442 - modelscope - INFO - Use user-specified model revision: v1.0.1\n"
     ]
    }
   ],
   "source": [
    "from modelscope.hub.snapshot_download import snapshot_download\n",
    "\n",
    "model_dir = snapshot_download('damo/multi-modal_clip-vit-large-patch14_336_zh',\n",
    "                              cache_dir='/mnt/ceph/develop/jiawei/lora_dataset/checkpoint/multi-modal_clip-vit-large-patch14_336_zh',\n",
    "                              revision='v1.0.1')"
   ]
  },
  {
   "cell_type": "code",
   "execution_count": 4,
   "id": "96e01e5e-2885-4f32-94fa-f64cb3d7da7a",
   "metadata": {
    "scrolled": true
   },
   "outputs": [
    {
     "name": "stdout",
     "output_type": "stream",
     "text": [
      "Looking in indexes: https://pypi.tuna.tsinghua.edu.cn/simple\n",
      "Collecting torch==2.0.1\n",
      "  Downloading https://pypi.tuna.tsinghua.edu.cn/packages/8c/4d/17e07377c9c3d1a0c4eb3fde1c7c16b5a0ce6133ddbabc08ceef6b7f2645/torch-2.0.1-cp310-cp310-manylinux1_x86_64.whl (619.9 MB)\n",
      "\u001b[2K     \u001b[38;2;114;156;31m━━━━━━━━━━━━━━━━━━━━━━━━━━━━━━━━━━━━━━━\u001b[0m \u001b[32m619.9/619.9 MB\u001b[0m \u001b[31m3.5 MB/s\u001b[0m eta \u001b[36m0:00:00\u001b[0mm eta \u001b[36m0:00:01\u001b[0m[36m0:00:05\u001b[0m\n",
      "\u001b[?25hCollecting filelock (from torch==2.0.1)\n",
      "  Using cached https://pypi.tuna.tsinghua.edu.cn/packages/ae/f0/48285f0262fe47103a4a45972ed2f9b93e4c80b8fd609fa98da78b2a5706/filelock-3.15.4-py3-none-any.whl (16 kB)\n",
      "Requirement already satisfied: typing-extensions in /mnt/ceph/develop/jiawei/conda_env/keyframe_extra/lib/python3.10/site-packages (from torch==2.0.1) (4.12.2)\n",
      "Collecting sympy (from torch==2.0.1)\n",
      "  Using cached https://pypi.tuna.tsinghua.edu.cn/packages/c1/f9/6845bf8fca0eaf847da21c5d5bc6cd92797364662824a11d3f836423a1a5/sympy-1.13.2-py3-none-any.whl (6.2 MB)\n",
      "Collecting networkx (from torch==2.0.1)\n",
      "  Using cached https://pypi.tuna.tsinghua.edu.cn/packages/38/e9/5f72929373e1a0e8d142a130f3f97e6ff920070f87f91c4e13e40e0fba5a/networkx-3.3-py3-none-any.whl (1.7 MB)\n",
      "Requirement already satisfied: jinja2 in /mnt/ceph/develop/jiawei/conda_env/keyframe_extra/lib/python3.10/site-packages (from torch==2.0.1) (3.1.4)\n",
      "Collecting nvidia-cuda-nvrtc-cu11==11.7.99 (from torch==2.0.1)\n",
      "  Using cached https://pypi.tuna.tsinghua.edu.cn/packages/ef/25/922c5996aada6611b79b53985af7999fc629aee1d5d001b6a22431e18fec/nvidia_cuda_nvrtc_cu11-11.7.99-2-py3-none-manylinux1_x86_64.whl (21.0 MB)\n",
      "Collecting nvidia-cuda-runtime-cu11==11.7.99 (from torch==2.0.1)\n",
      "  Using cached https://pypi.tuna.tsinghua.edu.cn/packages/36/92/89cf558b514125d2ebd8344dd2f0533404b416486ff681d5434a5832a019/nvidia_cuda_runtime_cu11-11.7.99-py3-none-manylinux1_x86_64.whl (849 kB)\n",
      "Collecting nvidia-cuda-cupti-cu11==11.7.101 (from torch==2.0.1)\n",
      "  Downloading https://pypi.tuna.tsinghua.edu.cn/packages/e6/9d/dd0cdcd800e642e3c82ee3b5987c751afd4f3fb9cc2752517f42c3bc6e49/nvidia_cuda_cupti_cu11-11.7.101-py3-none-manylinux1_x86_64.whl (11.8 MB)\n",
      "\u001b[2K     \u001b[38;2;114;156;31m━━━━━━━━━━━━━━━━━━━━━━━━━━━━━━━━━━━━━━━━\u001b[0m \u001b[32m11.8/11.8 MB\u001b[0m \u001b[31m3.9 MB/s\u001b[0m eta \u001b[36m0:00:00\u001b[0m MB/s\u001b[0m eta \u001b[36m0:00:01\u001b[0m:01\u001b[0m\n",
      "\u001b[?25hCollecting nvidia-cudnn-cu11==8.5.0.96 (from torch==2.0.1)\n",
      "  Using cached https://pypi.tuna.tsinghua.edu.cn/packages/dc/30/66d4347d6e864334da5bb1c7571305e501dcb11b9155971421bb7bb5315f/nvidia_cudnn_cu11-8.5.0.96-2-py3-none-manylinux1_x86_64.whl (557.1 MB)\n",
      "Collecting nvidia-cublas-cu11==11.10.3.66 (from torch==2.0.1)\n",
      "  Using cached https://pypi.tuna.tsinghua.edu.cn/packages/ce/41/fdeb62b5437996e841d83d7d2714ca75b886547ee8017ee2fe6ea409d983/nvidia_cublas_cu11-11.10.3.66-py3-none-manylinux1_x86_64.whl (317.1 MB)\n",
      "Collecting nvidia-cufft-cu11==10.9.0.58 (from torch==2.0.1)\n",
      "  Downloading https://pypi.tuna.tsinghua.edu.cn/packages/64/c8/133717b43182ba063803e983e7680a94826a9f4ff5734af0ca315803f1b3/nvidia_cufft_cu11-10.9.0.58-py3-none-manylinux2014_x86_64.whl (168.4 MB)\n",
      "\u001b[2K     \u001b[38;2;114;156;31m━━━━━━━━━━━━━━━━━━━━━━━━━━━━━━━━━━━━━━━\u001b[0m \u001b[32m168.4/168.4 MB\u001b[0m \u001b[31m3.8 MB/s\u001b[0m eta \u001b[36m0:00:00\u001b[0mm eta \u001b[36m0:00:01\u001b[0m[36m0:00:02\u001b[0m\n",
      "\u001b[?25hCollecting nvidia-curand-cu11==10.2.10.91 (from torch==2.0.1)\n",
      "  Downloading https://pypi.tuna.tsinghua.edu.cn/packages/8f/11/af78d54b2420e64a4dd19e704f5bb69dcb5a6a3138b4465d6a48cdf59a21/nvidia_curand_cu11-10.2.10.91-py3-none-manylinux1_x86_64.whl (54.6 MB)\n",
      "\u001b[2K     \u001b[38;2;114;156;31m━━━━━━━━━━━━━━━━━━━━━━━━━━━━━━━━━━━━━━━━\u001b[0m \u001b[32m54.6/54.6 MB\u001b[0m \u001b[31m3.7 MB/s\u001b[0m eta \u001b[36m0:00:00\u001b[0mm eta \u001b[36m0:00:01\u001b[0m[36m0:00:01\u001b[0m\n",
      "\u001b[?25hCollecting nvidia-cusolver-cu11==11.4.0.1 (from torch==2.0.1)\n",
      "  Downloading https://pypi.tuna.tsinghua.edu.cn/packages/3e/77/66149e3153b19312fb782ea367f3f950123b93916a45538b573fe373570a/nvidia_cusolver_cu11-11.4.0.1-2-py3-none-manylinux1_x86_64.whl (102.6 MB)\n",
      "\u001b[2K     \u001b[38;2;114;156;31m━━━━━━━━━━━━━━━━━━━━━━━━━━━━━━━━━━━━━━━\u001b[0m \u001b[32m102.6/102.6 MB\u001b[0m \u001b[31m4.3 MB/s\u001b[0m eta \u001b[36m0:00:00\u001b[0mm eta \u001b[36m0:00:01\u001b[0m[36m0:00:01\u001b[0m\n",
      "\u001b[?25hCollecting nvidia-cusparse-cu11==11.7.4.91 (from torch==2.0.1)\n",
      "  Downloading https://pypi.tuna.tsinghua.edu.cn/packages/ea/6f/6d032cc1bb7db88a989ddce3f4968419a7edeafda362847f42f614b1f845/nvidia_cusparse_cu11-11.7.4.91-py3-none-manylinux1_x86_64.whl (173.2 MB)\n",
      "\u001b[2K     \u001b[38;2;114;156;31m━━━━━━━━━━━━━━━━━━━━━━━━━━━━━━━━━━━━━━━\u001b[0m \u001b[32m173.2/173.2 MB\u001b[0m \u001b[31m3.9 MB/s\u001b[0m eta \u001b[36m0:00:00\u001b[0mm eta \u001b[36m0:00:01\u001b[0m[36m0:00:02\u001b[0m\n",
      "\u001b[?25hCollecting nvidia-nccl-cu11==2.14.3 (from torch==2.0.1)\n",
      "  Downloading https://pypi.tuna.tsinghua.edu.cn/packages/55/92/914cdb650b6a5d1478f83148597a25e90ea37d739bd563c5096b0e8a5f43/nvidia_nccl_cu11-2.14.3-py3-none-manylinux1_x86_64.whl (177.1 MB)\n",
      "\u001b[2K     \u001b[38;2;114;156;31m━━━━━━━━━━━━━━━━━━━━━━━━━━━━━━━━━━━━━━━\u001b[0m \u001b[32m177.1/177.1 MB\u001b[0m \u001b[31m3.9 MB/s\u001b[0m eta \u001b[36m0:00:00\u001b[0mm eta \u001b[36m0:00:01\u001b[0m[36m0:00:02\u001b[0m\n",
      "\u001b[?25hCollecting nvidia-nvtx-cu11==11.7.91 (from torch==2.0.1)\n",
      "  Downloading https://pypi.tuna.tsinghua.edu.cn/packages/23/d5/09493ff0e64fd77523afbbb075108f27a13790479efe86b9ffb4587671b5/nvidia_nvtx_cu11-11.7.91-py3-none-manylinux1_x86_64.whl (98 kB)\n",
      "Collecting triton==2.0.0 (from torch==2.0.1)\n",
      "  Downloading https://pypi.tuna.tsinghua.edu.cn/packages/ca/31/ff6be541195daf77aa5c72303b2354661a69e717967d44d91eb4f3fdce32/triton-2.0.0-1-cp310-cp310-manylinux2014_x86_64.manylinux_2_17_x86_64.whl (63.3 MB)\n",
      "\u001b[2K     \u001b[38;2;114;156;31m━━━━━━━━━━━━━━━━━━━━━━━━━━━━━━━━━━━━━━━━\u001b[0m \u001b[32m63.3/63.3 MB\u001b[0m \u001b[31m4.6 MB/s\u001b[0m eta \u001b[36m0:00:00\u001b[0mm eta \u001b[36m0:00:01\u001b[0m[36m0:00:01\u001b[0m\n",
      "\u001b[?25hRequirement already satisfied: setuptools in /mnt/ceph/develop/jiawei/conda_env/keyframe_extra/lib/python3.10/site-packages (from nvidia-cublas-cu11==11.10.3.66->torch==2.0.1) (72.1.0)\n",
      "Requirement already satisfied: wheel in /mnt/ceph/develop/jiawei/conda_env/keyframe_extra/lib/python3.10/site-packages (from nvidia-cublas-cu11==11.10.3.66->torch==2.0.1) (0.43.0)\n",
      "Collecting cmake (from triton==2.0.0->torch==2.0.1)\n",
      "  Using cached https://pypi.tuna.tsinghua.edu.cn/packages/69/70/242937601f9ff9e6df4c0587b5a7702be4dbfd33420b409d80e2bccc276a/cmake-3.30.2-py3-none-manylinux_2_17_x86_64.manylinux2014_x86_64.whl (26.9 MB)\n",
      "Collecting lit (from triton==2.0.0->torch==2.0.1)\n",
      "  Downloading https://pypi.tuna.tsinghua.edu.cn/packages/96/06/b36f150fa7c5bcc96a31a4d19a20fddbd1d965b6f02510b57a3bb8d4b930/lit-18.1.8-py3-none-any.whl (96 kB)\n",
      "Requirement already satisfied: MarkupSafe>=2.0 in /mnt/ceph/develop/jiawei/conda_env/keyframe_extra/lib/python3.10/site-packages (from jinja2->torch==2.0.1) (2.1.5)\n",
      "Collecting mpmath<1.4,>=1.1.0 (from sympy->torch==2.0.1)\n",
      "  Using cached https://pypi.tuna.tsinghua.edu.cn/packages/43/e3/7d92a15f894aa0c9c4b49b8ee9ac9850d6e63b03c9c32c0367a13ae62209/mpmath-1.3.0-py3-none-any.whl (536 kB)\n",
      "Installing collected packages: mpmath, lit, sympy, nvidia-nvtx-cu11, nvidia-nccl-cu11, nvidia-cusparse-cu11, nvidia-curand-cu11, nvidia-cufft-cu11, nvidia-cuda-runtime-cu11, nvidia-cuda-nvrtc-cu11, nvidia-cuda-cupti-cu11, nvidia-cublas-cu11, networkx, filelock, cmake, nvidia-cusolver-cu11, nvidia-cudnn-cu11, triton, torch\n",
      "Successfully installed cmake-3.30.2 filelock-3.15.4 lit-18.1.8 mpmath-1.3.0 networkx-3.3 nvidia-cublas-cu11-11.10.3.66 nvidia-cuda-cupti-cu11-11.7.101 nvidia-cuda-nvrtc-cu11-11.7.99 nvidia-cuda-runtime-cu11-11.7.99 nvidia-cudnn-cu11-8.5.0.96 nvidia-cufft-cu11-10.9.0.58 nvidia-curand-cu11-10.2.10.91 nvidia-cusolver-cu11-11.4.0.1 nvidia-cusparse-cu11-11.7.4.91 nvidia-nccl-cu11-2.14.3 nvidia-nvtx-cu11-11.7.91 sympy-1.13.2 torch-2.0.1 triton-2.0.0\n",
      "\u001b[33mWARNING: Running pip as the 'root' user can result in broken permissions and conflicting behaviour with the system package manager, possibly rendering your system unusable.It is recommended to use a virtual environment instead: https://pip.pypa.io/warnings/venv. Use the --root-user-action option if you know what you are doing and want to suppress this warning.\u001b[0m\u001b[33m\n",
      "\u001b[0m"
     ]
    }
   ],
   "source": [
    "! pip install \"torch==2.0.1\""
   ]
  },
  {
   "cell_type": "code",
   "execution_count": 5,
   "id": "25f09544-4c5a-4f50-acd9-899d2a8e9618",
   "metadata": {
    "scrolled": true
   },
   "outputs": [
    {
     "name": "stdout",
     "output_type": "stream",
     "text": [
      "Looking in indexes: https://pypi.tuna.tsinghua.edu.cn/simple\n",
      "Collecting fairseq\n",
      "  Using cached https://pypi.tuna.tsinghua.edu.cn/packages/30/36/db42846570f479ac859be3b48d8b47f2ae9b0b9c77487a512f2f2ecbcb6b/fairseq-0.12.2.tar.gz (9.6 MB)\n",
      "  Installing build dependencies ... \u001b[?25ldone\n",
      "\u001b[?25h  Getting requirements to build wheel ... \u001b[?25ldone\n",
      "\u001b[?25h  Installing backend dependencies ... \u001b[?25ldone\n",
      "\u001b[?25h  Preparing metadata (pyproject.toml) ... \u001b[?25ldone\n",
      "\u001b[?25hRequirement already satisfied: cffi in /mnt/ceph/develop/jiawei/conda_env/keyframe_extra/lib/python3.10/site-packages (from fairseq) (1.15.1)\n",
      "Requirement already satisfied: cython in /mnt/ceph/develop/jiawei/conda_env/keyframe_extra/lib/python3.10/site-packages (from fairseq) (3.0.2)\n",
      "Collecting hydra-core<1.1,>=1.0.7 (from fairseq)\n",
      "  Using cached https://pypi.tuna.tsinghua.edu.cn/packages/5f/2a/9c698daa12ed6e09e7629e6908528f043fa9de8a441c56cc13608d765fb2/hydra_core-1.0.7-py3-none-any.whl (123 kB)\n",
      "Collecting omegaconf<2.1 (from fairseq)\n",
      "  Using cached https://pypi.tuna.tsinghua.edu.cn/packages/d0/eb/9d63ce09dd8aa85767c65668d5414958ea29648a0eec80a4a7d311ec2684/omegaconf-2.0.6-py3-none-any.whl (36 kB)\n",
      "\u001b[33mWARNING: Ignoring version 2.0.6 of omegaconf since it has invalid metadata:\n",
      "Requested omegaconf<2.1 from https://pypi.tuna.tsinghua.edu.cn/packages/d0/eb/9d63ce09dd8aa85767c65668d5414958ea29648a0eec80a4a7d311ec2684/omegaconf-2.0.6-py3-none-any.whl (from fairseq) has invalid metadata: .* suffix can only be used with `==` or `!=` operators\n",
      "    PyYAML (>=5.1.*)\n",
      "            ~~~~~~^\n",
      "Please use pip<24.1 if you need to use this version.\u001b[0m\u001b[33m\n",
      "\u001b[0m  Using cached https://pypi.tuna.tsinghua.edu.cn/packages/e5/f6/043b6d255dd6fbf2025110cea35b87f4c5100a181681d8eab496269f0d5b/omegaconf-2.0.5-py3-none-any.whl (36 kB)\n",
      "\u001b[33mWARNING: Ignoring version 2.0.5 of omegaconf since it has invalid metadata:\n",
      "Requested omegaconf<2.1 from https://pypi.tuna.tsinghua.edu.cn/packages/e5/f6/043b6d255dd6fbf2025110cea35b87f4c5100a181681d8eab496269f0d5b/omegaconf-2.0.5-py3-none-any.whl (from fairseq) has invalid metadata: .* suffix can only be used with `==` or `!=` operators\n",
      "    PyYAML (>=5.1.*)\n",
      "            ~~~~~~^\n",
      "Please use pip<24.1 if you need to use this version.\u001b[0m\u001b[33m\n",
      "\u001b[0m  Using cached https://pypi.tuna.tsinghua.edu.cn/packages/92/b1/4f3023143436f12c98bab53f0b3db617bd18a7d223627d5030e13a7b4fc2/omegaconf-2.0.4-py3-none-any.whl (36 kB)\n",
      "\u001b[33mWARNING: Ignoring version 2.0.4 of omegaconf since it has invalid metadata:\n",
      "Requested omegaconf<2.1 from https://pypi.tuna.tsinghua.edu.cn/packages/92/b1/4f3023143436f12c98bab53f0b3db617bd18a7d223627d5030e13a7b4fc2/omegaconf-2.0.4-py3-none-any.whl (from fairseq) has invalid metadata: .* suffix can only be used with `==` or `!=` operators\n",
      "    PyYAML (>=5.1.*)\n",
      "            ~~~~~~^\n",
      "Please use pip<24.1 if you need to use this version.\u001b[0m\u001b[33m\n",
      "\u001b[0m  Using cached https://pypi.tuna.tsinghua.edu.cn/packages/29/08/a88210c2c1aa0a3f65f05d8a6c98939ccb84b6fb982aa6567dec4e6773f9/omegaconf-2.0.3-py3-none-any.whl (36 kB)\n",
      "\u001b[33mWARNING: Ignoring version 2.0.3 of omegaconf since it has invalid metadata:\n",
      "Requested omegaconf<2.1 from https://pypi.tuna.tsinghua.edu.cn/packages/29/08/a88210c2c1aa0a3f65f05d8a6c98939ccb84b6fb982aa6567dec4e6773f9/omegaconf-2.0.3-py3-none-any.whl (from fairseq) has invalid metadata: .* suffix can only be used with `==` or `!=` operators\n",
      "    PyYAML (>=5.1.*)\n",
      "            ~~~~~~^\n",
      "Please use pip<24.1 if you need to use this version.\u001b[0m\u001b[33m\n",
      "\u001b[0m  Using cached https://pypi.tuna.tsinghua.edu.cn/packages/72/fe/f8d162aa059fb4f327fd75144dd69aa7e8acbb6d8d37013e4638c8490e0b/omegaconf-2.0.2-py3-none-any.whl (36 kB)\n",
      "\u001b[33mWARNING: Ignoring version 2.0.2 of omegaconf since it has invalid metadata:\n",
      "Requested omegaconf<2.1 from https://pypi.tuna.tsinghua.edu.cn/packages/72/fe/f8d162aa059fb4f327fd75144dd69aa7e8acbb6d8d37013e4638c8490e0b/omegaconf-2.0.2-py3-none-any.whl (from fairseq) has invalid metadata: .* suffix can only be used with `==` or `!=` operators\n",
      "    PyYAML (>=5.1.*)\n",
      "            ~~~~~~^\n",
      "Please use pip<24.1 if you need to use this version.\u001b[0m\u001b[33m\n",
      "\u001b[0m  Using cached https://pypi.tuna.tsinghua.edu.cn/packages/86/ec/605805e60abdb025b06664d107335031bb8ebdc52e0a90bdbad6a7130279/omegaconf-2.0.1-py3-none-any.whl (36 kB)\n",
      "\u001b[33mWARNING: Ignoring version 2.0.1 of omegaconf since it has invalid metadata:\n",
      "Requested omegaconf<2.1 from https://pypi.tuna.tsinghua.edu.cn/packages/86/ec/605805e60abdb025b06664d107335031bb8ebdc52e0a90bdbad6a7130279/omegaconf-2.0.1-py3-none-any.whl (from fairseq) has invalid metadata: .* suffix can only be used with `==` or `!=` operators\n",
      "    PyYAML (>=5.1.*)\n",
      "            ~~~~~~^\n",
      "Please use pip<24.1 if you need to use this version.\u001b[0m\u001b[33m\n",
      "\u001b[0m  Using cached https://pypi.tuna.tsinghua.edu.cn/packages/3d/95/ebd73361f9c6e94bd0f3b19ffe31c24e833834c022f1c0328ac71b2d6c90/omegaconf-2.0.0-py3-none-any.whl (33 kB)\n",
      "Requirement already satisfied: regex in /mnt/ceph/develop/jiawei/conda_env/keyframe_extra/lib/python3.10/site-packages (from fairseq) (2023.8.8)\n",
      "Requirement already satisfied: sacrebleu>=1.4.12 in /mnt/ceph/develop/jiawei/conda_env/keyframe_extra/lib/python3.10/site-packages (from fairseq) (2.3.1)\n",
      "Requirement already satisfied: torch in /mnt/ceph/develop/jiawei/conda_env/keyframe_extra/lib/python3.10/site-packages (from fairseq) (2.0.1)\n",
      "Requirement already satisfied: tqdm in /mnt/ceph/develop/jiawei/conda_env/keyframe_extra/lib/python3.10/site-packages (from fairseq) (4.66.1)\n",
      "Requirement already satisfied: bitarray in /mnt/ceph/develop/jiawei/conda_env/keyframe_extra/lib/python3.10/site-packages (from fairseq) (2.8.1)\n",
      "Requirement already satisfied: torchaudio>=0.8.0 in /mnt/ceph/develop/jiawei/conda_env/keyframe_extra/lib/python3.10/site-packages (from fairseq) (2.0.2)\n",
      "Requirement already satisfied: numpy in /mnt/ceph/develop/jiawei/conda_env/keyframe_extra/lib/python3.10/site-packages (from fairseq) (1.24.4)\n",
      "  Using cached https://pypi.tuna.tsinghua.edu.cn/packages/d0/eb/9d63ce09dd8aa85767c65668d5414958ea29648a0eec80a4a7d311ec2684/omegaconf-2.0.6-py3-none-any.whl (36 kB)\n",
      "\u001b[33mWARNING: Ignoring version 2.0.6 of omegaconf since it has invalid metadata:\n",
      "Requested omegaconf<2.1 from https://pypi.tuna.tsinghua.edu.cn/packages/d0/eb/9d63ce09dd8aa85767c65668d5414958ea29648a0eec80a4a7d311ec2684/omegaconf-2.0.6-py3-none-any.whl (from fairseq) has invalid metadata: .* suffix can only be used with `==` or `!=` operators\n",
      "    PyYAML (>=5.1.*)\n",
      "            ~~~~~~^\n",
      "Please use pip<24.1 if you need to use this version.\u001b[0m\u001b[33m\n",
      "\u001b[0m  Using cached https://pypi.tuna.tsinghua.edu.cn/packages/e5/f6/043b6d255dd6fbf2025110cea35b87f4c5100a181681d8eab496269f0d5b/omegaconf-2.0.5-py3-none-any.whl (36 kB)\n",
      "\u001b[33mWARNING: Ignoring version 2.0.5 of omegaconf since it has invalid metadata:\n",
      "Requested omegaconf<2.1 from https://pypi.tuna.tsinghua.edu.cn/packages/e5/f6/043b6d255dd6fbf2025110cea35b87f4c5100a181681d8eab496269f0d5b/omegaconf-2.0.5-py3-none-any.whl (from fairseq) has invalid metadata: .* suffix can only be used with `==` or `!=` operators\n",
      "    PyYAML (>=5.1.*)\n",
      "            ~~~~~~^\n",
      "Please use pip<24.1 if you need to use this version.\u001b[0m\u001b[33m\n",
      "\u001b[0mINFO: pip is looking at multiple versions of hydra-core to determine which version is compatible with other requirements. This could take a while.\n",
      "Collecting fairseq\n",
      "  Using cached https://pypi.tuna.tsinghua.edu.cn/packages/d7/0f/b7043b451a97eb9b4cfb1b1e23e567b947d9d7bca542403228bd53b435fe/fairseq-0.12.1.tar.gz (9.6 MB)\n",
      "  Installing build dependencies ... \u001b[?25ldone\n",
      "\u001b[?25h  Getting requirements to build wheel ... \u001b[?25lerror\n",
      "  \u001b[1;31merror\u001b[0m: \u001b[1msubprocess-exited-with-error\u001b[0m\n",
      "  \n",
      "  \u001b[31m×\u001b[0m \u001b[32mGetting requirements to build wheel\u001b[0m did not run successfully.\n",
      "  \u001b[31m│\u001b[0m exit code: \u001b[1;36m1\u001b[0m\n",
      "  \u001b[31m╰─>\u001b[0m \u001b[31m[16 lines of output]\u001b[0m\n",
      "  \u001b[31m   \u001b[0m Traceback (most recent call last):\n",
      "  \u001b[31m   \u001b[0m   File \"/mnt/ceph/develop/jiawei/conda_env/keyframe_extra/lib/python3.10/site-packages/pip/_vendor/pyproject_hooks/_in_process/_in_process.py\", line 353, in <module>\n",
      "  \u001b[31m   \u001b[0m     main()\n",
      "  \u001b[31m   \u001b[0m   File \"/mnt/ceph/develop/jiawei/conda_env/keyframe_extra/lib/python3.10/site-packages/pip/_vendor/pyproject_hooks/_in_process/_in_process.py\", line 335, in main\n",
      "  \u001b[31m   \u001b[0m     json_out['return_val'] = hook(**hook_input['kwargs'])\n",
      "  \u001b[31m   \u001b[0m   File \"/mnt/ceph/develop/jiawei/conda_env/keyframe_extra/lib/python3.10/site-packages/pip/_vendor/pyproject_hooks/_in_process/_in_process.py\", line 118, in get_requires_for_build_wheel\n",
      "  \u001b[31m   \u001b[0m     return hook(config_settings)\n",
      "  \u001b[31m   \u001b[0m   File \"/tmp/pip-build-env-n_iczzc_/overlay/lib/python3.10/site-packages/setuptools/build_meta.py\", line 332, in get_requires_for_build_wheel\n",
      "  \u001b[31m   \u001b[0m     return self._get_build_requires(config_settings, requirements=[])\n",
      "  \u001b[31m   \u001b[0m   File \"/tmp/pip-build-env-n_iczzc_/overlay/lib/python3.10/site-packages/setuptools/build_meta.py\", line 302, in _get_build_requires\n",
      "  \u001b[31m   \u001b[0m     self.run_setup()\n",
      "  \u001b[31m   \u001b[0m   File \"/tmp/pip-build-env-n_iczzc_/overlay/lib/python3.10/site-packages/setuptools/build_meta.py\", line 318, in run_setup\n",
      "  \u001b[31m   \u001b[0m     exec(code, locals())\n",
      "  \u001b[31m   \u001b[0m   File \"<string>\", line 27, in <module>\n",
      "  \u001b[31m   \u001b[0m   File \"<string>\", line 18, in write_version_py\n",
      "  \u001b[31m   \u001b[0m FileNotFoundError: [Errno 2] No such file or directory: 'fairseq/version.txt'\n",
      "  \u001b[31m   \u001b[0m \u001b[31m[end of output]\u001b[0m\n",
      "  \n",
      "  \u001b[1;35mnote\u001b[0m: This error originates from a subprocess, and is likely not a problem with pip.\n",
      "\u001b[1;31merror\u001b[0m: \u001b[1msubprocess-exited-with-error\u001b[0m\n",
      "\n",
      "\u001b[31m×\u001b[0m \u001b[32mGetting requirements to build wheel\u001b[0m did not run successfully.\n",
      "\u001b[31m│\u001b[0m exit code: \u001b[1;36m1\u001b[0m\n",
      "\u001b[31m╰─>\u001b[0m See above for output.\n",
      "\n",
      "\u001b[1;35mnote\u001b[0m: This error originates from a subprocess, and is likely not a problem with pip.\n",
      "\u001b[?25h"
     ]
    }
   ],
   "source": [
    "!pip install fairseq==0.12.2 --no-deps"
   ]
  },
  {
   "cell_type": "code",
   "execution_count": null,
   "id": "184b6bcd-7ba8-4695-8c85-b61b0729e98b",
   "metadata": {},
   "outputs": [],
   "source": [
    "! pip install \"omegaconf==2.0.5\"  -i  https://pypi.org/simple --no-deps"
   ]
  },
  {
   "cell_type": "code",
   "execution_count": 1,
   "id": "66de15ca-27b6-4fda-a331-598326888a65",
   "metadata": {
    "scrolled": true
   },
   "outputs": [
    {
     "name": "stderr",
     "output_type": "stream",
     "text": [
      "2024-09-06 16:41:30,627 - modelscope - INFO - PyTorch version 2.0.1 Found.\n",
      "2024-09-06 16:41:30,634 - modelscope - INFO - TensorFlow version 2.10.0 Found.\n",
      "2024-09-06 16:41:30,634 - modelscope - INFO - Loading ast index from /root/.cache/modelscope/ast_indexer\n",
      "2024-09-06 16:41:32,018 - modelscope - INFO - Loading done! Current index file version is 1.9.0, with md5 3ae4a87b5b825f0b5b0b7ccf0da4baad and a total number of 921 components indexed\n",
      "/mnt/ceph/develop/jiawei/conda_env/keyframe_extra/lib/python3.10/site-packages/tqdm/auto.py:21: TqdmWarning: IProgress not found. Please update jupyter and ipywidgets. See https://ipywidgets.readthedocs.io/en/stable/user_install.html\n",
      "  from .autonotebook import tqdm as notebook_tqdm\n",
      "2024-09-06 16:41:38.828023: I tensorflow/core/platform/cpu_feature_guard.cc:193] This TensorFlow binary is optimized with oneAPI Deep Neural Network Library (oneDNN) to use the following CPU instructions in performance-critical operations:  AVX2 AVX512F AVX512_VNNI FMA\n",
      "To enable them in other operations, rebuild TensorFlow with the appropriate compiler flags.\n",
      "2024-09-06 16:41:39.019282: I tensorflow/core/util/util.cc:169] oneDNN custom operations are on. You may see slightly different numerical results due to floating-point round-off errors from different computation orders. To turn them off, set the environment variable `TF_ENABLE_ONEDNN_OPTS=0`.\n",
      "2024-09-06 16:41:39.064365: E tensorflow/stream_executor/cuda/cuda_blas.cc:2981] Unable to register cuBLAS factory: Attempting to register factory for plugin cuBLAS when one has already been registered\n",
      "2024-09-06 16:41:41.250654: W tensorflow/stream_executor/platform/default/dso_loader.cc:64] Could not load dynamic library 'libnvinfer.so.7'; dlerror: libnvinfer.so.7: cannot open shared object file: No such file or directory; LD_LIBRARY_PATH: /mnt/ceph/develop/jiawei/conda_env/keyframe_extra/lib/python3.10/site-packages/cv2/../../lib64:\n",
      "2024-09-06 16:41:41.250722: W tensorflow/stream_executor/platform/default/dso_loader.cc:64] Could not load dynamic library 'libnvinfer_plugin.so.7'; dlerror: libnvinfer_plugin.so.7: cannot open shared object file: No such file or directory; LD_LIBRARY_PATH: /mnt/ceph/develop/jiawei/conda_env/keyframe_extra/lib/python3.10/site-packages/cv2/../../lib64:\n",
      "2024-09-06 16:41:41.250729: W tensorflow/compiler/tf2tensorrt/utils/py_utils.cc:38] TF-TRT Warning: Cannot dlopen some TensorRT libraries. If you would like to use Nvidia GPU with TensorRT, please make sure the missing libraries mentioned above are installed properly.\n",
      "2024-09-06 16:41:46 | INFO | fairseq.tasks.text_to_speech | Please install tensorboardX: pip install tensorboardX\n",
      "2024-09-06 16:41:48 | INFO | torch.distributed.nn.jit.instantiator | Created a temporary directory at /tmp/tmph27yrq91\n",
      "2024-09-06 16:41:48 | INFO | torch.distributed.nn.jit.instantiator | Writing /tmp/tmph27yrq91/_remote_module_non_scriptable.py\n",
      "2024-09-06 16:41:50,703 - modelscope - INFO - initiate model from /mnt/ceph/develop/jiawei/lora_dataset/checkpoint/multi-modal_clip-vit-large-patch14_336_zh/damo/multi-modal_clip-vit-large-patch14_336_zh\n",
      "2024-09-06 16:41:50,704 - modelscope - INFO - initiate model from location /mnt/ceph/develop/jiawei/lora_dataset/checkpoint/multi-modal_clip-vit-large-patch14_336_zh/damo/multi-modal_clip-vit-large-patch14_336_zh.\n",
      "2024-09-06 16:41:50,708 - modelscope - INFO - initialize model from /mnt/ceph/develop/jiawei/lora_dataset/checkpoint/multi-modal_clip-vit-large-patch14_336_zh/damo/multi-modal_clip-vit-large-patch14_336_zh\n",
      "2024-09-06 16:41:50,711 - modelscope - INFO - Loading vision model config from /mnt/ceph/develop/jiawei/lora_dataset/checkpoint/multi-modal_clip-vit-large-patch14_336_zh/damo/multi-modal_clip-vit-large-patch14_336_zh/vision_model_config.json\n",
      "2024-09-06 16:41:50,712 - modelscope - INFO - Loading text model config from /mnt/ceph/develop/jiawei/lora_dataset/checkpoint/multi-modal_clip-vit-large-patch14_336_zh/damo/multi-modal_clip-vit-large-patch14_336_zh/text_model_config.json\n",
      "2024-09-06 16:42:10,465 - modelscope - INFO - Use GPU 0 for finetuning & inference\n",
      "2024-09-06 16:42:10,478 - modelscope - WARNING - No preprocessor field found in cfg.\n",
      "2024-09-06 16:42:10,479 - modelscope - WARNING - No val key and type key found in preprocessor domain of configuration.json file.\n",
      "2024-09-06 16:42:10,479 - modelscope - WARNING - Cannot find available config to build preprocessor at mode inference, current config: {'model_dir': '/mnt/ceph/develop/jiawei/lora_dataset/checkpoint/multi-modal_clip-vit-large-patch14_336_zh/damo/multi-modal_clip-vit-large-patch14_336_zh'}. trying to build by task and model information.\n",
      "2024-09-06 16:42:10,479 - modelscope - WARNING - No preprocessor key ('clip-multi-modal-embedding', 'multi-modal-embedding') found in PREPROCESSOR_MAP, skip building preprocessor.\n"
     ]
    }
   ],
   "source": [
    "# require modelscope>=0.3.7，目前默认已经超过，您检查一下即可\n",
    "# 按照更新镜像的方法处理或者下面的方法\n",
    "# pip install --upgrade modelscope -f https://modelscope.oss-cn-beijing.aliyuncs.com/releases/repo.html\n",
    "# 需要单独安装decord，安装方法：pip install decord\n",
    " \n",
    "import torch\n",
    "from modelscope.utils.constant import Tasks\n",
    "from modelscope.pipelines import pipeline\n",
    "from modelscope.preprocessors.image import load_image\n",
    "\n",
    "pipeline = pipeline(task=Tasks.multi_modal_embedding,\n",
    "    model='/mnt/ceph/develop/jiawei/lora_dataset/checkpoint/multi-modal_clip-vit-large-patch14_336_zh/damo/multi-modal_clip-vit-large-patch14_336_zh', model_revision='v1.0.1')"
   ]
  },
  {
   "cell_type": "code",
   "execution_count": 2,
   "id": "6c37e9bd-e04a-4b04-a881-26f3e92e5ed4",
   "metadata": {},
   "outputs": [],
   "source": [
    "import os\n",
    "\n",
    "'''\n",
    "获取输入文件夹内的所有jpg文件，并返回文件名全称列表\n",
    "'''\n",
    "def load_jpg(file_dir):\n",
    "    L = []\n",
    "    for root, dirs, files in os.walk(file_dir):\n",
    "        for file in files:\n",
    "            if os.path.splitext(file)[1] == '.jpg':\n",
    "                filename=os.path.join(root, file)\n",
    "                L.append(filename)\n",
    "        return L \n",
    "        \n",
    "def batch(iterable, size):\n",
    "    # range对象的step是size\n",
    "    for i in range(0, len(iterable), size):\n",
    "        yield iterable[i:i + size]"
   ]
  },
  {
   "cell_type": "code",
   "execution_count": 5,
   "id": "cc53525d-0ee9-4c0c-ba0a-b37a9e9c2b8e",
   "metadata": {},
   "outputs": [
    {
     "name": "stdout",
     "output_type": "stream",
     "text": [
      "获取数据，成功523\n"
     ]
    }
   ],
   "source": [
    "data_folder = '/mnt/ceph/develop/jiawei/lora_dataset/speech_data/B站/test2/keyframe-features'\n",
    "\n",
    "jpg_files=load_jpg(data_folder) \n",
    "print(\"获取数据，成功{}\".format(len(jpg_files)))\n"
   ]
  },
  {
   "cell_type": "code",
   "execution_count": 6,
   "id": "981adb8e-7b19-49c9-95cd-816c05732bf5",
   "metadata": {},
   "outputs": [
    {
     "name": "stderr",
     "output_type": "stream",
     "text": [
      "525it [00:25, 20.67it/s]                                                                                                                                                                     "
     ]
    },
    {
     "name": "stdout",
     "output_type": "stream",
     "text": [
      "(523, 768)\n",
      "(523, 768)\n"
     ]
    },
    {
     "name": "stderr",
     "output_type": "stream",
     "text": [
      "\n"
     ]
    }
   ],
   "source": [
    "import pickle\n",
    "from tqdm import tqdm  # Import the tqdm function or class\n",
    "import numpy as np\n",
    " \n",
    "#对每一个文件进行操作\n",
    "batch_len=3\n",
    "batch_list = batch(jpg_files,batch_len)\n",
    "b_unit = tqdm(enumerate(jpg_files),total=len(jpg_files))\n",
    "\n",
    "img_embedding_list = []\n",
    "\n",
    "for batch_file in batch_list:  \n",
    "    table_data=[]\n",
    "    for filename in batch_file:\n",
    "        \n",
    "        input_img = load_image(filename)\n",
    "        # 支持一张图片(PIL.Image)或多张图片(List[PIL.Image])输入，输出归一化特征向量\n",
    "        # 2D Tensor, [图片数, 特征维度]\n",
    "        img_embedding = pipeline.forward({'img': input_img})['img_embedding']\n",
    "        #torch.Size([1, 768])形状转换 torch.Size([768])\n",
    "        tensor_squeezed = img_embedding.squeeze()\n",
    "        img_embedding_list.append(tensor_squeezed)\n",
    "    # 更新进度\n",
    "    b_unit.update(batch_len) \n",
    "\n",
    "\n",
    "# 循环结束后关闭进度条\n",
    "b_unit.close()\n",
    "\n",
    "save_name = os.path.join(data_folder, f\"features.pkl\")\n",
    "# Open the file in write mode\n",
    "with open(save_name, 'wb') as file:\n",
    "    \n",
    "    features = [tensor.cpu() for tensor in img_embedding_list]\n",
    "    features_np = [tensor.numpy() for tensor in features] \n",
    "    print(np.asarray(features_np).shape)\n",
    "    pickle.dump(features_np, file)\n",
    "    file.close\n",
    " \n",
    "\n",
    "\n",
    "# Read inference data from local\n",
    "with open(save_name, 'rb') as file:\n",
    "    features = pickle.load(file)\n",
    "\n",
    "\n",
    "features = np.asarray(features)\n",
    "\n",
    "print(features.shape)\n",
    "  \n"
   ]
  },
  {
   "cell_type": "code",
   "execution_count": null,
   "id": "8bc3d049-3e3b-42b1-b8a1-eff74d5022da",
   "metadata": {},
   "outputs": [],
   "source": []
  }
 ],
 "metadata": {
  "kernelspec": {
   "display_name": "Python 3 (ipykernel)",
   "language": "python",
   "name": "python3"
  },
  "language_info": {
   "codemirror_mode": {
    "name": "ipython",
    "version": 3
   },
   "file_extension": ".py",
   "mimetype": "text/x-python",
   "name": "python",
   "nbconvert_exporter": "python",
   "pygments_lexer": "ipython3",
   "version": "3.10.14"
  }
 },
 "nbformat": 4,
 "nbformat_minor": 5
}
