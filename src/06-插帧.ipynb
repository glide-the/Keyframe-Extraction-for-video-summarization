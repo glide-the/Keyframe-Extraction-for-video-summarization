{
 "cells": [
  {
   "cell_type": "code",
   "execution_count": null,
   "id": "56d3080c-607b-4051-8678-6a66a95229f0",
   "metadata": {},
   "outputs": [],
   "source": []
  },
  {
   "cell_type": "code",
   "execution_count": 15,
   "id": "1a78b984-a829-4450-a64d-f111695a04e3",
   "metadata": {
    "scrolled": true
   },
   "outputs": [
    {
     "name": "stdout",
     "output_type": "stream",
     "text": [
      "Looking in indexes: https://pypi.tuna.tsinghua.edu.cn/simple\n",
      "Requirement already satisfied: moviepy==1.0.3 in /mnt/ceph/develop/jiawei/conda_env/keyframe_extra/lib/python3.10/site-packages (1.0.3)\n",
      "Requirement already satisfied: scikit-video>=1.1.11 in /mnt/ceph/develop/jiawei/conda_env/keyframe_extra/lib/python3.10/site-packages (1.1.11)\n",
      "Requirement already satisfied: numpy==1.26.0 in /mnt/ceph/develop/jiawei/conda_env/keyframe_extra/lib/python3.10/site-packages (1.26.0)\n",
      "Requirement already satisfied: opencv-python>=4.10.0.84 in /mnt/ceph/develop/jiawei/conda_env/keyframe_extra/lib/python3.10/site-packages (4.10.0.84)\n",
      "Requirement already satisfied: diffusers>=0.30.1 in /mnt/ceph/develop/jiawei/conda_env/keyframe_extra/lib/python3.10/site-packages (0.30.2)\n",
      "Requirement already satisfied: decorator<5.0,>=4.0.2 in /mnt/ceph/develop/jiawei/conda_env/keyframe_extra/lib/python3.10/site-packages (from moviepy==1.0.3) (4.4.2)\n",
      "Requirement already satisfied: proglog<=1.0.0 in /mnt/ceph/develop/jiawei/conda_env/keyframe_extra/lib/python3.10/site-packages (from moviepy==1.0.3) (0.1.10)\n",
      "Requirement already satisfied: requests<3.0,>=2.8.1 in /mnt/ceph/develop/jiawei/conda_env/keyframe_extra/lib/python3.10/site-packages (from moviepy==1.0.3) (2.31.0)\n",
      "Requirement already satisfied: tqdm<5.0,>=4.11.2 in /mnt/ceph/develop/jiawei/conda_env/keyframe_extra/lib/python3.10/site-packages (from moviepy==1.0.3) (4.66.1)\n",
      "Requirement already satisfied: imageio<3.0,>=2.5 in /mnt/ceph/develop/jiawei/conda_env/keyframe_extra/lib/python3.10/site-packages (from moviepy==1.0.3) (2.35.1)\n",
      "Requirement already satisfied: imageio-ffmpeg>=0.2.0 in /mnt/ceph/develop/jiawei/conda_env/keyframe_extra/lib/python3.10/site-packages (from moviepy==1.0.3) (0.5.1)\n",
      "Requirement already satisfied: pillow in /mnt/ceph/develop/jiawei/conda_env/keyframe_extra/lib/python3.10/site-packages (from scikit-video>=1.1.11) (10.1.0)\n",
      "Requirement already satisfied: scipy in /mnt/ceph/develop/jiawei/conda_env/keyframe_extra/lib/python3.10/site-packages (from scikit-video>=1.1.11) (1.11.2)\n",
      "Requirement already satisfied: importlib-metadata in /mnt/ceph/develop/jiawei/conda_env/keyframe_extra/lib/python3.10/site-packages (from diffusers>=0.30.1) (6.8.0)\n",
      "Requirement already satisfied: filelock in /mnt/ceph/develop/jiawei/conda_env/keyframe_extra/lib/python3.10/site-packages (from diffusers>=0.30.1) (3.12.3)\n",
      "Requirement already satisfied: huggingface-hub>=0.23.2 in /mnt/ceph/develop/jiawei/conda_env/keyframe_extra/lib/python3.10/site-packages (from diffusers>=0.30.1) (0.24.6)\n",
      "Requirement already satisfied: regex!=2019.12.17 in /mnt/ceph/develop/jiawei/conda_env/keyframe_extra/lib/python3.10/site-packages (from diffusers>=0.30.1) (2023.8.8)\n",
      "Requirement already satisfied: safetensors>=0.3.1 in /mnt/ceph/develop/jiawei/conda_env/keyframe_extra/lib/python3.10/site-packages (from diffusers>=0.30.1) (0.4.5)\n",
      "Requirement already satisfied: fsspec>=2023.5.0 in /mnt/ceph/develop/jiawei/conda_env/keyframe_extra/lib/python3.10/site-packages (from huggingface-hub>=0.23.2->diffusers>=0.30.1) (2023.9.0)\n",
      "Requirement already satisfied: packaging>=20.9 in /mnt/ceph/develop/jiawei/conda_env/keyframe_extra/lib/python3.10/site-packages (from huggingface-hub>=0.23.2->diffusers>=0.30.1) (23.1)\n",
      "Requirement already satisfied: pyyaml>=5.1 in /mnt/ceph/develop/jiawei/conda_env/keyframe_extra/lib/python3.10/site-packages (from huggingface-hub>=0.23.2->diffusers>=0.30.1) (6.0.1)\n",
      "Requirement already satisfied: typing-extensions>=3.7.4.3 in /mnt/ceph/develop/jiawei/conda_env/keyframe_extra/lib/python3.10/site-packages (from huggingface-hub>=0.23.2->diffusers>=0.30.1) (4.7.1)\n",
      "Requirement already satisfied: setuptools in /mnt/ceph/develop/jiawei/conda_env/keyframe_extra/lib/python3.10/site-packages (from imageio-ffmpeg>=0.2.0->moviepy==1.0.3) (72.1.0)\n",
      "Requirement already satisfied: charset-normalizer<4,>=2 in /mnt/ceph/develop/jiawei/conda_env/keyframe_extra/lib/python3.10/site-packages (from requests<3.0,>=2.8.1->moviepy==1.0.3) (3.2.0)\n",
      "Requirement already satisfied: idna<4,>=2.5 in /mnt/ceph/develop/jiawei/conda_env/keyframe_extra/lib/python3.10/site-packages (from requests<3.0,>=2.8.1->moviepy==1.0.3) (3.4)\n",
      "Requirement already satisfied: urllib3<3,>=1.21.1 in /mnt/ceph/develop/jiawei/conda_env/keyframe_extra/lib/python3.10/site-packages (from requests<3.0,>=2.8.1->moviepy==1.0.3) (1.26.16)\n",
      "Requirement already satisfied: certifi>=2017.4.17 in /mnt/ceph/develop/jiawei/conda_env/keyframe_extra/lib/python3.10/site-packages (from requests<3.0,>=2.8.1->moviepy==1.0.3) (2023.7.22)\n",
      "Requirement already satisfied: zipp>=0.5 in /mnt/ceph/develop/jiawei/conda_env/keyframe_extra/lib/python3.10/site-packages (from importlib-metadata->diffusers>=0.30.1) (3.16.2)\n",
      "\u001b[33mDEPRECATION: omegaconf 2.0.5 has a non-standard dependency specifier PyYAML>=5.1.*. pip 24.1 will enforce this behaviour change. A possible replacement is to upgrade to a newer version of omegaconf or contact the author to suggest that they release a version with a conforming dependency specifiers. Discussion can be found at https://github.com/pypa/pip/issues/12063\u001b[0m\u001b[33m\n",
      "\u001b[0m\u001b[33mWARNING: Running pip as the 'root' user can result in broken permissions and conflicting behaviour with the system package manager. It is recommended to use a virtual environment instead: https://pip.pypa.io/warnings/venv\u001b[0m\u001b[33m\n",
      "\u001b[0m\n",
      "\u001b[1m[\u001b[0m\u001b[34;49mnotice\u001b[0m\u001b[1;39;49m]\u001b[0m\u001b[39;49m A new release of pip is available: \u001b[0m\u001b[31;49m24.0\u001b[0m\u001b[39;49m -> \u001b[0m\u001b[32;49m24.2\u001b[0m\n",
      "\u001b[1m[\u001b[0m\u001b[34;49mnotice\u001b[0m\u001b[1;39;49m]\u001b[0m\u001b[39;49m To update, run: \u001b[0m\u001b[32;49mpip install --upgrade pip\u001b[0m\n"
     ]
    }
   ],
   "source": [
    "!pip install moviepy==1.0.3 \"scikit-video>=1.1.11\" numpy==1.26.0 'opencv-python>=4.10.0.84' 'diffusers>=0.30.1'\n",
    "\n",
    "# 需要重启"
   ]
  },
  {
   "cell_type": "code",
   "execution_count": 1,
   "id": "ed7100f8-59d3-40ce-b1f3-73cbfe4c1078",
   "metadata": {
    "scrolled": true
   },
   "outputs": [
    {
     "name": "stderr",
     "output_type": "stream",
     "text": [
      "/mnt/ceph/develop/jiawei/conda_env/keyframe_extra/lib/python3.10/site-packages/tqdm/auto.py:21: TqdmWarning: IProgress not found. Please update jupyter and ipywidgets. See https://ipywidgets.readthedocs.io/en/stable/user_install.html\n",
      "  from .autonotebook import tqdm as notebook_tqdm\n"
     ]
    }
   ],
   "source": [
    "import sys\n",
    "sys.path.append('/mnt/ceph/develop/jiawei/lora_dataset/Keyframe-Extraction-for-video-summarization/src')\n",
    "\n",
    "from rife_model import load_rife_model, rife_inference_with_latents\n",
    "from huggingface_hub import hf_hub_download, snapshot_download"
   ]
  },
  {
   "cell_type": "code",
   "execution_count": 2,
   "id": "35c4b790-cf1f-4a3c-add8-2efe4df5a4af",
   "metadata": {
    "scrolled": true
   },
   "outputs": [
    {
     "name": "stderr",
     "output_type": "stream",
     "text": [
      "Fetching 2 files: 100%|████████████████████████████████████████████████████████████████████████████████| 2/2 [00:00<00:00, 251.45it/s]\n"
     ]
    },
    {
     "data": {
      "text/plain": [
       "'/mnt/ceph/develop/jiawei/lora_dataset/Keyframe-Extraction-for-video-summarization/src/model_rife'"
      ]
     },
     "execution_count": 2,
     "metadata": {},
     "output_type": "execute_result"
    }
   ],
   "source": [
    "snapshot_download(repo_id=\"AlexWortega/RIFE\", local_dir=\"model_rife\")\n"
   ]
  },
  {
   "cell_type": "markdown",
   "id": "678b1fa1-5d87-4341-a899-8a4dcf3f68fd",
   "metadata": {},
   "source": [
    "### 读取视频帧，做一倍插针"
   ]
  },
  {
   "cell_type": "code",
   "execution_count": 3,
   "id": "de69e1e8-db5c-4695-bdb0-6e5473d4cf66",
   "metadata": {},
   "outputs": [
    {
     "name": "stderr",
     "output_type": "stream",
     "text": [
      "/mnt/ceph/develop/jiawei/conda_env/keyframe_extra/lib/python3.10/site-packages/torch/__init__.py:614: UserWarning: torch.set_default_tensor_type() is deprecated as of PyTorch 2.1, please use torch.set_default_dtype() and torch.set_default_device() as alternatives. (Triggered internally at ../torch/csrc/tensor/python_tensor.cpp:451.)\n",
      "  _C._set_default_tensor_type(t)\n"
     ]
    }
   ],
   "source": [
    "import torch\n",
    "torch.set_grad_enabled(False)\n",
    "if torch.cuda.is_available():\n",
    "    torch.backends.cudnn.enabled = True\n",
    "    torch.backends.cudnn.benchmark = True\n",
    "    torch.set_default_tensor_type(torch.cuda.HalfTensor)\n",
    "\n",
    "frame_interpolation_model = load_rife_model(\"model_rife\")\n",
    "\n",
    "frame_interpolation_model.device()\n"
   ]
  },
  {
   "cell_type": "code",
   "execution_count": 4,
   "id": "d624da2d-9de0-4c6f-be7b-61995da6f805",
   "metadata": {},
   "outputs": [],
   "source": [
    "video_path = '/mnt/ceph/develop/jiawei/lora_dataset/speech_data/B站/test_1/cogvideo_00106.mp4'"
   ]
  },
  {
   "cell_type": "code",
   "execution_count": 5,
   "id": "5b001927-a0b8-439c-b703-3a03fe7b3418",
   "metadata": {
    "scrolled": true
   },
   "outputs": [
    {
     "data": {
      "text/plain": [
       "torch.float16"
      ]
     },
     "execution_count": 5,
     "metadata": {},
     "output_type": "execute_result"
    }
   ],
   "source": [
    "import cv2\n",
    "import numpy as np\n",
    "import utils\n",
    "import torch\n",
    "\n",
    "device = \"cuda\" if torch.cuda.is_available() else \"cpu\"\n",
    "video_capture = cv2.VideoCapture(video_path)\n",
    "tot_frame = int(video_capture.get(cv2.CAP_PROP_FRAME_COUNT))  # Get total frames\n",
    "pt_frame_data = []\n",
    "\n",
    "# Read each frame using VideoCapture\n",
    "while video_capture.isOpened():\n",
    "    ret, frame = video_capture.read()\n",
    "    if not ret:\n",
    "        break\n",
    "    # BGR to RGB\n",
    "    frame_rgb = frame[..., ::-1]\n",
    "    frame_rgb = frame_rgb.copy()\n",
    "    tensor = torch.from_numpy(frame_rgb).float().to(\"cpu\", non_blocking=True).float() / 255.0\n",
    "    pt_frame_data.append(\n",
    "        tensor.permute(2, 0, 1)\n",
    "    )  # to [c, h, w,]\n",
    "\n",
    "video_capture.release()  # Release the video after done\n",
    "\n",
    "pt_frame = torch.from_numpy(np.stack(pt_frame_data))\n",
    "pt_frame = pt_frame.to(device)\n",
    "pt_frame = pt_frame.unsqueeze(0)\n",
    "pt_frame.shape\n",
    "pt_frame = pt_frame.to(dtype=torch.float16)\n",
    "pt_frame.dtype"
   ]
  },
  {
   "cell_type": "code",
   "execution_count": 6,
   "id": "c7147adb-04e0-4b67-9692-920e3920aef2",
   "metadata": {
    "scrolled": true
   },
   "outputs": [
    {
     "name": "stderr",
     "output_type": "stream",
     "text": [
      "RIFE inference:   0%|                                                                                           | 0/8 [00:00<?, ?it/s]"
     ]
    },
    {
     "name": "stdout",
     "output_type": "stream",
     "text": [
      "samples dtype:torch.float16\n",
      "samples shape:torch.Size([8, 3, 480, 720])\n",
      "torch.float16\n",
      "torch.float16\n"
     ]
    },
    {
     "name": "stderr",
     "output_type": "stream",
     "text": [
      "RIFE inference:   0%|                                                                                           | 0/8 [00:02<?, ?it/s]"
     ]
    },
    {
     "name": "stdout",
     "output_type": "stream",
     "text": [
      "torch.float16\n",
      "torch.float16\n",
      "torch.float16\n",
      "torch.float16\n",
      "torch.float16\n",
      "torch.float16\n",
      "torch.float16\n",
      "torch.float16\n",
      "torch.float16\n",
      "torch.float16\n",
      "torch.float16\n",
      "torch.float16\n",
      "torch.float16\n",
      "torch.float16\n",
      "torch.float16\n",
      "torch.float16\n",
      "torch.float16\n",
      "torch.float16\n",
      "torch.float16\n",
      "torch.float16\n",
      "torch.float16\n",
      "torch.float16\n"
     ]
    },
    {
     "name": "stderr",
     "output_type": "stream",
     "text": [
      "\n"
     ]
    },
    {
     "data": {
      "text/plain": [
       "torch.Size([1, 16, 3, 480, 720])"
      ]
     },
     "execution_count": 6,
     "metadata": {},
     "output_type": "execute_result"
    }
   ],
   "source": [
    "rife_pt_frame = rife_inference_with_latents(frame_interpolation_model,pt_frame )\n",
    "rife_pt_frame.shape"
   ]
  },
  {
   "cell_type": "code",
   "execution_count": 7,
   "id": "afa4a2de-a3fd-4f6e-8323-0fc1afb2b422",
   "metadata": {},
   "outputs": [],
   "source": [
    "from diffusers.image_processor import VaeImageProcessor\n",
    "pt_image = rife_pt_frame[0]\n",
    "pt_image = torch.stack([pt_image[i] for i in range(pt_image.shape[0])])\n",
    " \n",
    "image_np = VaeImageProcessor.pt_to_numpy(pt_image)\n",
    "image_pil = VaeImageProcessor.numpy_to_pil(image_np)"
   ]
  },
  {
   "cell_type": "code",
   "execution_count": 8,
   "id": "875f19ec-5afe-4685-b499-3d6926d1b3ed",
   "metadata": {
    "scrolled": true
   },
   "outputs": [
    {
     "data": {
      "text/plain": [
       "'/mnt/ceph/develop/jiawei/lora_dataset/speech_data/B站/test_1/rife_chunk_5.mp4'"
      ]
     },
     "execution_count": 8,
     "metadata": {},
     "output_type": "execute_result"
    }
   ],
   "source": [
    "from diffusers.utils import export_to_video\n",
    "import math\n",
    "\n",
    "export_video_path =  '/mnt/ceph/develop/jiawei/lora_dataset/speech_data/B站/test_1/rife_chunk_5.mp4'\n",
    "export_to_video(image_pil, export_video_path, fps=math.ceil((len(image_pil) - 1) / 6))"
   ]
  },
  {
   "cell_type": "code",
   "execution_count": 9,
   "id": "05f51804-8871-4059-9581-feede08615cd",
   "metadata": {},
   "outputs": [],
   "source": [
    "import cv2\n",
    "import math\n",
    "\n",
    "\n",
    "def read_fps(video_path:str):\n",
    "    # 打开视频文件\n",
    "    video_capture = cv2.VideoCapture(video_path)\n",
    "    \n",
    "    # 获取视频的帧速率\n",
    "    fps = int(video_capture.get(cv2.CAP_PROP_FPS))\n",
    "     \n",
    "    # 释放视频捕获对象\n",
    "    video_capture.release()\n",
    "    \n",
    "    # 关闭视频文件\n",
    "    cv2.destroyAllWindows()\n",
    "    return fps"
   ]
  },
  {
   "cell_type": "code",
   "execution_count": 10,
   "id": "7f8588a2-8dfc-491c-9c9d-7b558446ca8d",
   "metadata": {
    "scrolled": true
   },
   "outputs": [
    {
     "data": {
      "text/plain": [
       "3"
      ]
     },
     "execution_count": 10,
     "metadata": {},
     "output_type": "execute_result"
    }
   ],
   "source": [
    "video_path=f'/mnt/ceph/develop/jiawei/lora_dataset/speech_data/B站/test_1/rife_chunk_5.mp4'\n",
    "\n",
    "fps = read_fps(video_path)\n",
    "\n",
    "fps"
   ]
  },
  {
   "cell_type": "code",
   "execution_count": null,
   "id": "2315592d-9d4f-46b5-a46d-ddb370a49915",
   "metadata": {},
   "outputs": [],
   "source": []
  }
 ],
 "metadata": {
  "kernelspec": {
   "display_name": "Python 3 (ipykernel)",
   "language": "python",
   "name": "python3"
  },
  "language_info": {
   "codemirror_mode": {
    "name": "ipython",
    "version": 3
   },
   "file_extension": ".py",
   "mimetype": "text/x-python",
   "name": "python",
   "nbconvert_exporter": "python",
   "pygments_lexer": "ipython3",
   "version": "3.10.14"
  }
 },
 "nbformat": 4,
 "nbformat_minor": 5
}
